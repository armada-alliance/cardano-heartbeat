{
 "cells": [
  {
   "cell_type": "code",
   "execution_count": 2,
   "metadata": {},
   "outputs": [],
   "source": [
    "import json\n",
    "import time\n",
    "import requests\n",
    "import math as m\n",
    "import pandas as pd\n",
    "import matplotlib.pyplot as plt\n",
    "import numpy as np\n",
    "import descartes\n",
    "import geopandas as gpd\n",
    "from shapely.geometry import Point, Polygon\n",
    "import seaborn as sns\n",
    "from sklearn.preprocessing import StandardScaler\n",
    "from sklearn.preprocessing import MinMaxScaler\n",
    "from sklearn.cluster import KMeans\n",
    "from sklearn.model_selection import train_test_split \n",
    "from sklearn.linear_model import LinearRegression\n",
    "from sklearn import metrics\n",
    "from scipy.optimize import curve_fit\n",
    "import plotly.express as px\n",
    "import chart_studio\n",
    "import chart_studio.plotly as py\n",
    "import chart_studio.tools as tls\n",
    "import folium\n",
    "import ast\n",
    "\n",
    "\n",
    "# Leave This code here and lookup at pandas documentation \n",
    "# if you need to know about chained assignments\n",
    "pd.options.mode.chained_assignment = None  # default='warn'\n",
    "\n",
    "# Because most of my data sets I have made can have up to 30+ columns and 20+ rows\n",
    "# code below will increase pandas defaults for max rows \n",
    "# and columns that you can display in a Juptyer Notebook\n",
    "pd.options.display.max_columns = 60\n",
    "pd.options.display.max_rows = 80\n"
   ]
  },
  {
   "cell_type": "code",
   "execution_count": 3,
   "metadata": {},
   "outputs": [],
   "source": [
    "data = pd.read_json('relay_data_w_meta_clean.json')\n",
    "data['live_stake_ada'] = data['live_stake']/1000000\n",
    "data['live_pledge_ada'] = data['live_pledge']/1000000\n",
    "data['live_declared_pledge_ada'] = data['declared_pledge']/1000000\n"
   ]
  },
  {
   "cell_type": "code",
   "execution_count": 5,
   "metadata": {},
   "outputs": [],
   "source": [
    "# what are the most important regions...\n"
   ]
  },
  {
   "cell_type": "code",
   "execution_count": null,
   "metadata": {},
   "outputs": [],
   "source": []
  }
 ],
 "metadata": {
  "interpreter": {
   "hash": "71a871210673e5e8ba97a6a6f585f3f24a608c94c27748339ca3a612499a60e8"
  },
  "kernelspec": {
   "display_name": "Python 3.9.7 64-bit ('base': conda)",
   "language": "python",
   "name": "python3"
  },
  "language_info": {
   "codemirror_mode": {
    "name": "ipython",
    "version": 3
   },
   "file_extension": ".py",
   "mimetype": "text/x-python",
   "name": "python",
   "nbconvert_exporter": "python",
   "pygments_lexer": "ipython3",
   "version": "3.9.7"
  },
  "orig_nbformat": 4
 },
 "nbformat": 4,
 "nbformat_minor": 2
}
