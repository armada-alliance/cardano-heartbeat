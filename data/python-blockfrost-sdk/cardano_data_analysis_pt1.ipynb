{
 "cells": [
  {
   "cell_type": "markdown",
   "metadata": {},
   "source": [
    "# Introduction to Cardano Data Analysis Notebook pt.1"
   ]
  },
  {
   "cell_type": "markdown",
   "metadata": {},
   "source": [
    "In this notebook, we will explore the Cardano blockchain but from the perspective of an SPO with the hope of bettering the community's understanding of the centralization of the blockchain and how we can solve this problem. This notebook will be part of a series of notebooks that will be used to better understand the Cardano blockchain.\n",
    "\n",
    "What will we cover in this series of notebooks?\n",
    "\n",
    "- Centralization of the blockchain's stake to small number of pools\n",
    "- Centralization of the blockchain's block production to small number of pools\n",
    "- Centralization of the blockchain's transaction production to small number of pools\n",
    "- Centralization of the blockchain's delegators to small number of pools\n",
    "- Centralization of the blockchain based on ISP's used\n",
    "- Number of Stake Pools at or near saturation\n",
    "- Centralization based on multi-pool operation\n",
    "- Centralization based on geographical location"
   ]
  },
  {
   "cell_type": "code",
   "execution_count": 122,
   "metadata": {},
   "outputs": [],
   "source": [
    "import json\n",
    "import time\n",
    "import requests\n",
    "import math as m\n",
    "import pandas as pd\n",
    "import matplotlib.pyplot as plt\n",
    "import numpy as np\n",
    "import descartes\n",
    "import geopandas as gpd\n",
    "from shapely.geometry import Point, Polygon\n",
    "import seaborn as sns\n",
    "from sklearn.preprocessing import StandardScaler\n",
    "from sklearn.preprocessing import MinMaxScaler\n",
    "from sklearn.cluster import KMeans\n",
    "from sklearn.model_selection import train_test_split \n",
    "from sklearn.linear_model import LinearRegression\n",
    "from sklearn import metrics\n",
    "from scipy.optimize import curve_fit\n",
    "import plotly.express as px\n",
    "import chart_studio\n",
    "import chart_studio.plotly as py\n",
    "import chart_studio.tools as tls\n",
    "import folium\n",
    "import ast\n",
    "\n",
    "\n",
    "# Leave This code here and lookup at pandas documentation \n",
    "# if you need to know about chained assignments\n",
    "pd.options.mode.chained_assignment = None  # default='warn'\n",
    "\n",
    "# Because most of my data sets I have made can have up to 30+ columns and 20+ rows\n",
    "# code below will increase pandas defaults for max rows \n",
    "# and columns that you can display in a Juptyer Notebook\n",
    "pd.options.display.max_columns = 60\n",
    "pd.options.display.max_rows = 80\n"
   ]
  },
  {
   "cell_type": "code",
   "execution_count": 123,
   "metadata": {},
   "outputs": [],
   "source": [
    "data = pd.read_json('relay_data_w_meta_clean.json')\n",
    "data['live_stake_ada'] = data['live_stake']/1000000\n",
    "data['live_pledge_ada'] = data['live_pledge']/1000000\n",
    "data['live_declared_pledge_ada'] = data['declared_pledge']/1000000\n",
    "\n",
    "# create df for ada staked per pool\n",
    "df_ada_staked_per_pool = data.copy()\n",
    "df_ada_staked_per_pool = df_ada_staked_per_pool.drop_duplicates(subset=['pool_id'], keep='first')\n",
    "\n",
    "# Get the number of pools per isp\n",
    "pools_per_isp = df_ada_staked_per_pool.groupby('isp').pool_id.nunique().to_frame()\n",
    "pools_per_isp.rename(columns={'pool_id': 'Number of Pools'}, inplace=True)\n",
    "\n",
    "# Get the number of ada staked per isp\n",
    "ada_per_isp = (df_ada_staked_per_pool.groupby('isp').live_stake.sum()/1000000).to_frame()\n",
    "ada_per_isp = ada_per_isp.merge(pools_per_isp, left_index=True, right_index=True)\n",
    "\n",
    "# get the amount of ada staked per isp with more than 100 mil ada staked\n",
    "# ada_per_isp_100mil = ada_per_isp[ada_per_isp['live_stake'] > 100000000]\n",
    "ada_per_isp_100mil = ada_per_isp.loc[ada_per_isp['live_stake'] > 100000000]\n",
    "ada_per_isp_100mil.sort_values(by='live_stake', ascending=False, inplace=True)\n",
    "ada_per_isp_100mil =  ada_per_isp_100mil.reset_index().replace({'isp': {'amazon.com Inc.':'amazon.com, Inc'}}).groupby('isp', sort=False).sum()\n",
    "ada_per_isp_100mil.rename(index={'': 'Unknown'}, inplace=True)\n",
    "\n",
    "# Get the top 100 isps by number of pools and stake\n",
    "num_relays_per_isp = data.groupby(['isp']).size().to_frame()\n",
    "num_relays_per_isp.rename(columns={0:'Number of Relays'}, inplace=True)\n",
    "top_100_isp = num_relays_per_isp.head(100)\n",
    "top_100_isp = top_100_isp.reset_index().replace({'isp': {'amazon.com Inc.':'amazon.com, Inc'}}).groupby('isp', sort=False).sum()\n",
    "top_100_isp.sort_values(by='Number of Relays', ascending=False, inplace=True)\n",
    "\n"
   ]
  },
  {
   "cell_type": "code",
   "execution_count": 124,
   "metadata": {},
   "outputs": [],
   "source": [
    "ada_per_pool = df_ada_staked_per_pool.groupby('pool_id').live_stake.sum().to_frame()\n",
    "ada_per_pool.rename(columns={'live_stake': 'ADA Staked'}, inplace=True)"
   ]
  },
  {
   "cell_type": "markdown",
   "metadata": {},
   "source": [
    "## Let's get started!\n",
    "\n",
    "First thing we are going to do is basically explore various data points on the cardano blockchain to get a feel for the overall block production, stake, tx fees, delegators, pledge, and other data points. We will explore simple statistics to help us describe the central tendency of the data, but we need to first describe some important outlines to use in describing the centralization vs decentralization of Cardano. \n",
    "\n",
    "If we start with IOHK's D parameter, we can see that the D parameter is a measure of the number of blocks that are produced by federated IOHK nodes vs blocks produced by independent publicly owned stake pool nodes. The formula is D = (N_blocks_per_federated_node_per_epoch) / (N_blocks_per_stake_pool_node_per_epoch). Currently D = 0, which according to this simple metric would indicate that the cardano blockchain is fully decentralized, but only when it comes to block production. Most of us in the cardano stake pool operator community are well aware this is not the case when looking at many other data metrics on cardano blockchain for example distribution of block production, stake, delegators, and more would indicate otherwise. You will see that a small percentage of pools actually control the blockchains production/security at this moment in time. "
   ]
  },
  {
   "cell_type": "code",
   "execution_count": 125,
   "metadata": {},
   "outputs": [
    {
     "data": {
      "text/html": [
       "<div>\n",
       "<style scoped>\n",
       "    .dataframe tbody tr th:only-of-type {\n",
       "        vertical-align: middle;\n",
       "    }\n",
       "\n",
       "    .dataframe tbody tr th {\n",
       "        vertical-align: top;\n",
       "    }\n",
       "\n",
       "    .dataframe thead th {\n",
       "        text-align: right;\n",
       "    }\n",
       "</style>\n",
       "<table border=\"1\" class=\"dataframe\">\n",
       "  <thead>\n",
       "    <tr style=\"text-align: right;\">\n",
       "      <th></th>\n",
       "      <th>live_stake_ada</th>\n",
       "      <th>live_pledge_ada</th>\n",
       "      <th>blocks_minted</th>\n",
       "      <th>live_delegators</th>\n",
       "    </tr>\n",
       "  </thead>\n",
       "  <tbody>\n",
       "    <tr>\n",
       "      <th>0</th>\n",
       "      <td>3.212853e+07</td>\n",
       "      <td>574564.954842</td>\n",
       "      <td>4097</td>\n",
       "      <td>3170</td>\n",
       "    </tr>\n",
       "    <tr>\n",
       "      <th>1</th>\n",
       "      <td>1.942799e+07</td>\n",
       "      <td>567027.531192</td>\n",
       "      <td>1824</td>\n",
       "      <td>170</td>\n",
       "    </tr>\n",
       "    <tr>\n",
       "      <th>2</th>\n",
       "      <td>5.672152e+05</td>\n",
       "      <td>546041.471277</td>\n",
       "      <td>80</td>\n",
       "      <td>17</td>\n",
       "    </tr>\n",
       "    <tr>\n",
       "      <th>3</th>\n",
       "      <td>1.735455e+06</td>\n",
       "      <td>207011.830413</td>\n",
       "      <td>259</td>\n",
       "      <td>724</td>\n",
       "    </tr>\n",
       "    <tr>\n",
       "      <th>5</th>\n",
       "      <td>4.000925e+03</td>\n",
       "      <td>0.000000</td>\n",
       "      <td>23</td>\n",
       "      <td>14</td>\n",
       "    </tr>\n",
       "    <tr>\n",
       "      <th>...</th>\n",
       "      <td>...</td>\n",
       "      <td>...</td>\n",
       "      <td>...</td>\n",
       "      <td>...</td>\n",
       "    </tr>\n",
       "    <tr>\n",
       "      <th>5545</th>\n",
       "      <td>9.957634e+04</td>\n",
       "      <td>357.225752</td>\n",
       "      <td>0</td>\n",
       "      <td>2</td>\n",
       "    </tr>\n",
       "    <tr>\n",
       "      <th>5547</th>\n",
       "      <td>2.008504e+02</td>\n",
       "      <td>200.850366</td>\n",
       "      <td>0</td>\n",
       "      <td>1</td>\n",
       "    </tr>\n",
       "    <tr>\n",
       "      <th>5549</th>\n",
       "      <td>1.500601e+03</td>\n",
       "      <td>1500.600798</td>\n",
       "      <td>0</td>\n",
       "      <td>1</td>\n",
       "    </tr>\n",
       "    <tr>\n",
       "      <th>5550</th>\n",
       "      <td>2.036975e+00</td>\n",
       "      <td>2.036975</td>\n",
       "      <td>0</td>\n",
       "      <td>1</td>\n",
       "    </tr>\n",
       "    <tr>\n",
       "      <th>5552</th>\n",
       "      <td>2.249723e+04</td>\n",
       "      <td>22497.233760</td>\n",
       "      <td>0</td>\n",
       "      <td>1</td>\n",
       "    </tr>\n",
       "  </tbody>\n",
       "</table>\n",
       "<p>3039 rows × 4 columns</p>\n",
       "</div>"
      ],
      "text/plain": [
       "      live_stake_ada  live_pledge_ada  blocks_minted  live_delegators\n",
       "0       3.212853e+07    574564.954842           4097             3170\n",
       "1       1.942799e+07    567027.531192           1824              170\n",
       "2       5.672152e+05    546041.471277             80               17\n",
       "3       1.735455e+06    207011.830413            259              724\n",
       "5       4.000925e+03         0.000000             23               14\n",
       "...              ...              ...            ...              ...\n",
       "5545    9.957634e+04       357.225752              0                2\n",
       "5547    2.008504e+02       200.850366              0                1\n",
       "5549    1.500601e+03      1500.600798              0                1\n",
       "5550    2.036975e+00         2.036975              0                1\n",
       "5552    2.249723e+04     22497.233760              0                1\n",
       "\n",
       "[3039 rows x 4 columns]"
      ]
     },
     "execution_count": 125,
     "metadata": {},
     "output_type": "execute_result"
    }
   ],
   "source": [
    "df2 = df_ada_staked_per_pool[['live_stake_ada', 'live_pledge_ada', 'blocks_minted', 'live_delegators']]\n",
    "df2"
   ]
  },
  {
   "cell_type": "code",
   "execution_count": 126,
   "metadata": {},
   "outputs": [
    {
     "data": {
      "text/html": [
       "<div>\n",
       "<style scoped>\n",
       "    .dataframe tbody tr th:only-of-type {\n",
       "        vertical-align: middle;\n",
       "    }\n",
       "\n",
       "    .dataframe tbody tr th {\n",
       "        vertical-align: top;\n",
       "    }\n",
       "\n",
       "    .dataframe thead th {\n",
       "        text-align: right;\n",
       "    }\n",
       "</style>\n",
       "<table border=\"1\" class=\"dataframe\">\n",
       "  <thead>\n",
       "    <tr style=\"text-align: right;\">\n",
       "      <th></th>\n",
       "      <th>live_stake_ada</th>\n",
       "      <th>live_pledge_ada</th>\n",
       "      <th>blocks_minted</th>\n",
       "      <th>live_delegators</th>\n",
       "    </tr>\n",
       "  </thead>\n",
       "  <tbody>\n",
       "    <tr>\n",
       "      <th>count</th>\n",
       "      <td>3.039000e+03</td>\n",
       "      <td>3.039000e+03</td>\n",
       "      <td>3039.000000</td>\n",
       "      <td>3039.000000</td>\n",
       "    </tr>\n",
       "    <tr>\n",
       "      <th>mean</th>\n",
       "      <td>7.359105e+06</td>\n",
       "      <td>3.658211e+05</td>\n",
       "      <td>547.306680</td>\n",
       "      <td>340.084238</td>\n",
       "    </tr>\n",
       "    <tr>\n",
       "      <th>std</th>\n",
       "      <td>1.659242e+07</td>\n",
       "      <td>3.815235e+06</td>\n",
       "      <td>1188.224215</td>\n",
       "      <td>1774.924625</td>\n",
       "    </tr>\n",
       "    <tr>\n",
       "      <th>min</th>\n",
       "      <td>0.000000e+00</td>\n",
       "      <td>0.000000e+00</td>\n",
       "      <td>0.000000</td>\n",
       "      <td>0.000000</td>\n",
       "    </tr>\n",
       "    <tr>\n",
       "      <th>25%</th>\n",
       "      <td>1.283558e+03</td>\n",
       "      <td>4.538771e+02</td>\n",
       "      <td>0.000000</td>\n",
       "      <td>2.000000</td>\n",
       "    </tr>\n",
       "    <tr>\n",
       "      <th>50%</th>\n",
       "      <td>8.250328e+04</td>\n",
       "      <td>8.247425e+03</td>\n",
       "      <td>7.000000</td>\n",
       "      <td>7.000000</td>\n",
       "    </tr>\n",
       "    <tr>\n",
       "      <th>75%</th>\n",
       "      <td>3.129024e+06</td>\n",
       "      <td>6.336995e+04</td>\n",
       "      <td>307.000000</td>\n",
       "      <td>47.500000</td>\n",
       "    </tr>\n",
       "    <tr>\n",
       "      <th>max</th>\n",
       "      <td>8.585759e+07</td>\n",
       "      <td>6.663534e+07</td>\n",
       "      <td>9441.000000</td>\n",
       "      <td>32235.000000</td>\n",
       "    </tr>\n",
       "  </tbody>\n",
       "</table>\n",
       "</div>"
      ],
      "text/plain": [
       "       live_stake_ada  live_pledge_ada  blocks_minted  live_delegators\n",
       "count    3.039000e+03     3.039000e+03    3039.000000      3039.000000\n",
       "mean     7.359105e+06     3.658211e+05     547.306680       340.084238\n",
       "std      1.659242e+07     3.815235e+06    1188.224215      1774.924625\n",
       "min      0.000000e+00     0.000000e+00       0.000000         0.000000\n",
       "25%      1.283558e+03     4.538771e+02       0.000000         2.000000\n",
       "50%      8.250328e+04     8.247425e+03       7.000000         7.000000\n",
       "75%      3.129024e+06     6.336995e+04     307.000000        47.500000\n",
       "max      8.585759e+07     6.663534e+07    9441.000000     32235.000000"
      ]
     },
     "execution_count": 126,
     "metadata": {},
     "output_type": "execute_result"
    }
   ],
   "source": [
    "stats = df2.describe()\n",
    "stats"
   ]
  },
  {
   "cell_type": "markdown",
   "metadata": {},
   "source": [
    "- **In the above output we describe the data via the use of statistical metrics namely the count(number of pools in dataset), mean, standard deviation, range, and percentiles. What is unsettling is seeing the standard deviations being so large for each category (column)**\n",
    "\n",
    "- **We can see that the standard deviation for the count is very high, meaning that there are a lot of outliers in the data. This is a sign that the data is not representative of the real world.**\n",
    "\n",
    "- **When looking specifically at the percentiles on the delegator column we see another troubling trend, we see that 75% of the pools have 48 delegators or less.**"
   ]
  },
  {
   "cell_type": "markdown",
   "metadata": {},
   "source": [
    "Let's take a look at the number of pools in the data set that are above the threshold of 48 delegators."
   ]
  },
  {
   "cell_type": "code",
   "execution_count": 127,
   "metadata": {},
   "outputs": [
    {
     "data": {
      "text/plain": [
       "14693069522.543468"
      ]
     },
     "execution_count": 127,
     "metadata": {},
     "output_type": "execute_result"
    }
   ],
   "source": [
    "pools_w_more_48_delegators = df_ada_staked_per_pool.loc[df_ada_staked_per_pool['live_delegators'] > 48]\n",
    "pools_w_more_48_delegators.live_stake_ada.sum()"
   ]
  },
  {
   "cell_type": "code",
   "execution_count": 128,
   "metadata": {},
   "outputs": [],
   "source": [
    "p = pd.Series(pools_w_more_48_delegators.pool_id)"
   ]
  },
  {
   "cell_type": "code",
   "execution_count": 129,
   "metadata": {},
   "outputs": [],
   "source": [
    "p.to_csv('pools_w_more_48_delegators.csv', index=False)"
   ]
  },
  {
   "cell_type": "markdown",
   "metadata": {},
   "source": [
    "# Let's make up some decentralization metrics\n",
    "\n",
    "- First thing I want to do is make a metric for isp's that are used in the data set. For example the large % of pools that use the ISP 'Telecom Italia' the worse this metric would affect the overall score.\n",
    "\n",
    "- Next, I want to make a metric for pledge ratio (live_stake/declared_pledge) this will give us a \"skin in the game\" metric for the data set. Pools operators that often run many pools (1pct, BNB, etc) will have a higher pledge ratio because they spread the little ada they have to open more pools instead of allowing single pool operators to get some of their delegators or stake.\n",
    "\n",
    "- The next metric will be potentially reward accounts or need some way to identify this pool runs many pools on the network under same ticker or owner. hard part is smart pools like 1pct never use the same reward account, stake address, or payment address for all of their pools so only way you can tell they run all the pools is because they say so on the website, ticker, url, or somewhere else in the onchain metadata."
   ]
  },
  {
   "cell_type": "code",
   "execution_count": 130,
   "metadata": {},
   "outputs": [
    {
     "data": {
      "text/html": [
       "<div>\n",
       "<style scoped>\n",
       "    .dataframe tbody tr th:only-of-type {\n",
       "        vertical-align: middle;\n",
       "    }\n",
       "\n",
       "    .dataframe tbody tr th {\n",
       "        vertical-align: top;\n",
       "    }\n",
       "\n",
       "    .dataframe thead th {\n",
       "        text-align: right;\n",
       "    }\n",
       "</style>\n",
       "<table border=\"1\" class=\"dataframe\">\n",
       "  <thead>\n",
       "    <tr style=\"text-align: right;\">\n",
       "      <th></th>\n",
       "      <th>pool_id</th>\n",
       "      <th>isp_ratio</th>\n",
       "    </tr>\n",
       "    <tr>\n",
       "      <th>isp</th>\n",
       "      <th></th>\n",
       "      <th></th>\n",
       "    </tr>\n",
       "  </thead>\n",
       "  <tbody>\n",
       "    <tr>\n",
       "      <th>amazon.com, Inc</th>\n",
       "      <td>594</td>\n",
       "      <td>16.150082</td>\n",
       "    </tr>\n",
       "    <tr>\n",
       "      <th>Digitalocean LLC</th>\n",
       "      <td>422</td>\n",
       "      <td>11.473627</td>\n",
       "    </tr>\n",
       "    <tr>\n",
       "      <th>Hetzner Online Gmbh</th>\n",
       "      <td>292</td>\n",
       "      <td>7.939097</td>\n",
       "    </tr>\n",
       "    <tr>\n",
       "      <th>Contabo Gmbh</th>\n",
       "      <td>266</td>\n",
       "      <td>7.232191</td>\n",
       "    </tr>\n",
       "    <tr>\n",
       "      <th>Google LLC</th>\n",
       "      <td>217</td>\n",
       "      <td>5.899946</td>\n",
       "    </tr>\n",
       "    <tr>\n",
       "      <th>...</th>\n",
       "      <td>...</td>\n",
       "      <td>...</td>\n",
       "    </tr>\n",
       "    <tr>\n",
       "      <th>Leaseweb Usa Inc.</th>\n",
       "      <td>1</td>\n",
       "      <td>0.027189</td>\n",
       "    </tr>\n",
       "    <tr>\n",
       "      <th>Leaseweb Asia Pacific Pte. Ltd.</th>\n",
       "      <td>1</td>\n",
       "      <td>0.027189</td>\n",
       "    </tr>\n",
       "    <tr>\n",
       "      <th>Launtel</th>\n",
       "      <td>1</td>\n",
       "      <td>0.027189</td>\n",
       "    </tr>\n",
       "    <tr>\n",
       "      <th>Konverto Spa</th>\n",
       "      <td>1</td>\n",
       "      <td>0.027189</td>\n",
       "    </tr>\n",
       "    <tr>\n",
       "      <th>yandex.cloud LLC</th>\n",
       "      <td>1</td>\n",
       "      <td>0.027189</td>\n",
       "    </tr>\n",
       "  </tbody>\n",
       "</table>\n",
       "<p>433 rows × 2 columns</p>\n",
       "</div>"
      ],
      "text/plain": [
       "                                 pool_id  isp_ratio\n",
       "isp                                                \n",
       "amazon.com, Inc                      594  16.150082\n",
       "Digitalocean LLC                     422  11.473627\n",
       "Hetzner Online Gmbh                  292   7.939097\n",
       "Contabo Gmbh                         266   7.232191\n",
       "Google LLC                           217   5.899946\n",
       "...                                  ...        ...\n",
       "Leaseweb Usa Inc.                      1   0.027189\n",
       "Leaseweb Asia Pacific Pte. Ltd.        1   0.027189\n",
       "Launtel                                1   0.027189\n",
       "Konverto Spa                           1   0.027189\n",
       "yandex.cloud LLC                       1   0.027189\n",
       "\n",
       "[433 rows x 2 columns]"
      ]
     },
     "execution_count": 130,
     "metadata": {},
     "output_type": "execute_result"
    }
   ],
   "source": [
    "dfx = data.groupby('isp').pool_id.nunique().to_frame().sort_values(by='pool_id', ascending=False)\n",
    "dfx = dfx.reset_index().replace({'isp': {'amazon.com Inc.':'amazon.com, Inc'}}).groupby('isp', sort=False).sum()\n",
    "dfx['isp_ratio'] = dfx['pool_id']/dfx.pool_id.sum() * 100\n",
    "dfx"
   ]
  },
  {
   "cell_type": "code",
   "execution_count": 131,
   "metadata": {},
   "outputs": [
    {
     "data": {
      "text/html": [
       "<div>\n",
       "<style scoped>\n",
       "    .dataframe tbody tr th:only-of-type {\n",
       "        vertical-align: middle;\n",
       "    }\n",
       "\n",
       "    .dataframe tbody tr th {\n",
       "        vertical-align: top;\n",
       "    }\n",
       "\n",
       "    .dataframe thead th {\n",
       "        text-align: right;\n",
       "    }\n",
       "</style>\n",
       "<table border=\"1\" class=\"dataframe\">\n",
       "  <thead>\n",
       "    <tr style=\"text-align: right;\">\n",
       "      <th></th>\n",
       "      <th>pool_id</th>\n",
       "    </tr>\n",
       "    <tr>\n",
       "      <th>reward_account</th>\n",
       "      <th></th>\n",
       "    </tr>\n",
       "  </thead>\n",
       "  <tbody>\n",
       "    <tr>\n",
       "      <th>stake1uy6yzwsxxc28lfms0qmpxvyz9a7y770rtcqx9y96m42cttqwvp4m5</th>\n",
       "      <td>33</td>\n",
       "    </tr>\n",
       "    <tr>\n",
       "      <th>stake1uxcmc9r2t7cxs0zw8qm8ztg3twvxryzghsc8eszek6kuwms23gya4</th>\n",
       "      <td>13</td>\n",
       "    </tr>\n",
       "    <tr>\n",
       "      <th>stake1uygvh4uq45uuavd7hfnmfvvg73ftddcglysquyre9yzsfvcaprtu5</th>\n",
       "      <td>8</td>\n",
       "    </tr>\n",
       "    <tr>\n",
       "      <th>stake1u9hwxtcy6xwxqf54hxfgseq54u70p492jurq7dwdxz5u8jcggs94w</th>\n",
       "      <td>5</td>\n",
       "    </tr>\n",
       "    <tr>\n",
       "      <th>stake1uxuewv5gf4uu28cpkg6vcg959uz7ra260e9u8465qq4358sruvdch</th>\n",
       "      <td>5</td>\n",
       "    </tr>\n",
       "    <tr>\n",
       "      <th>...</th>\n",
       "      <td>...</td>\n",
       "    </tr>\n",
       "    <tr>\n",
       "      <th>stake1u9d66r3lszhsu2x9jjjkyd4g4gsc75zlwdq4nmtj3ts22kcjp9g4p</th>\n",
       "      <td>1</td>\n",
       "    </tr>\n",
       "    <tr>\n",
       "      <th>stake1u9d7kktn2tak37w2dk03m3409ne8qqg0j487dv7ewp68xhgy8h5gu</th>\n",
       "      <td>1</td>\n",
       "    </tr>\n",
       "    <tr>\n",
       "      <th>stake1u9da2qzucsmmt93zhgrr6ygjjm2x3huedmtxxvgl77c5yrgjg00vz</th>\n",
       "      <td>1</td>\n",
       "    </tr>\n",
       "    <tr>\n",
       "      <th>stake1u9dacfk3amxfuh2tldj474ezpwxa3g35dwnegqte4m3xlqgsdmcen</th>\n",
       "      <td>1</td>\n",
       "    </tr>\n",
       "    <tr>\n",
       "      <th>stake1uyzzms2kyqmqlgfj0r5506nzk87my2rau43zzrul6emmzfssysd34</th>\n",
       "      <td>1</td>\n",
       "    </tr>\n",
       "  </tbody>\n",
       "</table>\n",
       "<p>2955 rows × 1 columns</p>\n",
       "</div>"
      ],
      "text/plain": [
       "                                                    pool_id\n",
       "reward_account                                             \n",
       "stake1uy6yzwsxxc28lfms0qmpxvyz9a7y770rtcqx9y96m...       33\n",
       "stake1uxcmc9r2t7cxs0zw8qm8ztg3twvxryzghsc8eszek...       13\n",
       "stake1uygvh4uq45uuavd7hfnmfvvg73ftddcglysquyre9...        8\n",
       "stake1u9hwxtcy6xwxqf54hxfgseq54u70p492jurq7dwdx...        5\n",
       "stake1uxuewv5gf4uu28cpkg6vcg959uz7ra260e9u8465q...        5\n",
       "...                                                     ...\n",
       "stake1u9d66r3lszhsu2x9jjjkyd4g4gsc75zlwdq4nmtj3...        1\n",
       "stake1u9d7kktn2tak37w2dk03m3409ne8qqg0j487dv7ew...        1\n",
       "stake1u9da2qzucsmmt93zhgrr6ygjjm2x3huedmtxxvgl7...        1\n",
       "stake1u9dacfk3amxfuh2tldj474ezpwxa3g35dwnegqte4...        1\n",
       "stake1uyzzms2kyqmqlgfj0r5506nzk87my2rau43zzrul6...        1\n",
       "\n",
       "[2955 rows x 1 columns]"
      ]
     },
     "execution_count": 131,
     "metadata": {},
     "output_type": "execute_result"
    }
   ],
   "source": [
    "df_ada_staked_per_pool.groupby('reward_account').pool_id.count().to_frame().sort_values(by='pool_id', ascending=False)"
   ]
  },
  {
   "cell_type": "code",
   "execution_count": 132,
   "metadata": {},
   "outputs": [
    {
     "data": {
      "text/html": [
       "<div>\n",
       "<style scoped>\n",
       "    .dataframe tbody tr th:only-of-type {\n",
       "        vertical-align: middle;\n",
       "    }\n",
       "\n",
       "    .dataframe tbody tr th {\n",
       "        vertical-align: top;\n",
       "    }\n",
       "\n",
       "    .dataframe thead th {\n",
       "        text-align: right;\n",
       "    }\n",
       "</style>\n",
       "<table border=\"1\" class=\"dataframe\">\n",
       "  <thead>\n",
       "    <tr style=\"text-align: right;\">\n",
       "      <th></th>\n",
       "      <th>blocks_minted</th>\n",
       "      <th>live_stake</th>\n",
       "      <th>live_size</th>\n",
       "      <th>live_saturation</th>\n",
       "      <th>live_delegators</th>\n",
       "      <th>active_stake</th>\n",
       "      <th>active_size</th>\n",
       "      <th>declared_pledge</th>\n",
       "      <th>live_pledge</th>\n",
       "      <th>margin_cost</th>\n",
       "      <th>fixed_cost</th>\n",
       "      <th>port</th>\n",
       "      <th>longitude</th>\n",
       "      <th>latitude</th>\n",
       "      <th>error</th>\n",
       "      <th>success</th>\n",
       "      <th>detail</th>\n",
       "      <th>asn</th>\n",
       "      <th>live_stake_ada</th>\n",
       "      <th>live_pledge_ada</th>\n",
       "      <th>live_declared_pledge_ada</th>\n",
       "    </tr>\n",
       "  </thead>\n",
       "  <tbody>\n",
       "    <tr>\n",
       "      <th>count</th>\n",
       "      <td>3039.000000</td>\n",
       "      <td>3.039000e+03</td>\n",
       "      <td>3.039000e+03</td>\n",
       "      <td>3039.000000</td>\n",
       "      <td>3039.000000</td>\n",
       "      <td>3.039000e+03</td>\n",
       "      <td>3.039000e+03</td>\n",
       "      <td>3.039000e+03</td>\n",
       "      <td>3.039000e+03</td>\n",
       "      <td>3039.000000</td>\n",
       "      <td>3.039000e+03</td>\n",
       "      <td>3039.000000</td>\n",
       "      <td>2993.000000</td>\n",
       "      <td>3039.000000</td>\n",
       "      <td>0.0</td>\n",
       "      <td>0.0</td>\n",
       "      <td>0.0</td>\n",
       "      <td>3039.000000</td>\n",
       "      <td>3.039000e+03</td>\n",
       "      <td>3.039000e+03</td>\n",
       "      <td>3.039000e+03</td>\n",
       "    </tr>\n",
       "    <tr>\n",
       "      <th>mean</th>\n",
       "      <td>547.306680</td>\n",
       "      <td>7.359105e+12</td>\n",
       "      <td>3.114858e-04</td>\n",
       "      <td>0.109839</td>\n",
       "      <td>340.084238</td>\n",
       "      <td>7.404574e+12</td>\n",
       "      <td>3.120753e-04</td>\n",
       "      <td>9.833187e+11</td>\n",
       "      <td>3.658211e+11</td>\n",
       "      <td>0.070357</td>\n",
       "      <td>1.012987e+09</td>\n",
       "      <td>5583.496545</td>\n",
       "      <td>-22.604905</td>\n",
       "      <td>40.063001</td>\n",
       "      <td>NaN</td>\n",
       "      <td>NaN</td>\n",
       "      <td>NaN</td>\n",
       "      <td>29789.071076</td>\n",
       "      <td>7.359105e+06</td>\n",
       "      <td>3.658211e+05</td>\n",
       "      <td>9.833187e+05</td>\n",
       "    </tr>\n",
       "    <tr>\n",
       "      <th>std</th>\n",
       "      <td>1188.224215</td>\n",
       "      <td>1.659242e+13</td>\n",
       "      <td>7.023010e-04</td>\n",
       "      <td>0.247651</td>\n",
       "      <td>1774.924625</td>\n",
       "      <td>1.663724e+13</td>\n",
       "      <td>7.011981e-04</td>\n",
       "      <td>7.314188e+12</td>\n",
       "      <td>3.815235e+12</td>\n",
       "      <td>0.211894</td>\n",
       "      <td>2.564208e+10</td>\n",
       "      <td>5602.266511</td>\n",
       "      <td>76.487819</td>\n",
       "      <td>16.898117</td>\n",
       "      <td>NaN</td>\n",
       "      <td>NaN</td>\n",
       "      <td>NaN</td>\n",
       "      <td>44968.124685</td>\n",
       "      <td>1.659242e+07</td>\n",
       "      <td>3.815235e+06</td>\n",
       "      <td>7.314188e+06</td>\n",
       "    </tr>\n",
       "    <tr>\n",
       "      <th>min</th>\n",
       "      <td>0.000000</td>\n",
       "      <td>0.000000e+00</td>\n",
       "      <td>0.000000e+00</td>\n",
       "      <td>0.000000</td>\n",
       "      <td>0.000000</td>\n",
       "      <td>0.000000e+00</td>\n",
       "      <td>0.000000e+00</td>\n",
       "      <td>0.000000e+00</td>\n",
       "      <td>0.000000e+00</td>\n",
       "      <td>0.000000</td>\n",
       "      <td>3.400000e+08</td>\n",
       "      <td>0.000000</td>\n",
       "      <td>-155.273193</td>\n",
       "      <td>-42.882740</td>\n",
       "      <td>NaN</td>\n",
       "      <td>NaN</td>\n",
       "      <td>NaN</td>\n",
       "      <td>174.000000</td>\n",
       "      <td>0.000000e+00</td>\n",
       "      <td>0.000000e+00</td>\n",
       "      <td>1.000000e-06</td>\n",
       "    </tr>\n",
       "    <tr>\n",
       "      <th>25%</th>\n",
       "      <td>0.000000</td>\n",
       "      <td>1.283558e+09</td>\n",
       "      <td>5.430000e-08</td>\n",
       "      <td>0.000019</td>\n",
       "      <td>2.000000</td>\n",
       "      <td>1.312268e+09</td>\n",
       "      <td>5.530000e-08</td>\n",
       "      <td>5.000000e+08</td>\n",
       "      <td>4.538771e+08</td>\n",
       "      <td>0.005000</td>\n",
       "      <td>3.400000e+08</td>\n",
       "      <td>3001.000000</td>\n",
       "      <td>-82.999458</td>\n",
       "      <td>37.442959</td>\n",
       "      <td>NaN</td>\n",
       "      <td>NaN</td>\n",
       "      <td>NaN</td>\n",
       "      <td>14061.000000</td>\n",
       "      <td>1.283558e+03</td>\n",
       "      <td>4.538771e+02</td>\n",
       "      <td>5.000000e+02</td>\n",
       "    </tr>\n",
       "    <tr>\n",
       "      <th>50%</th>\n",
       "      <td>7.000000</td>\n",
       "      <td>8.250328e+10</td>\n",
       "      <td>3.492100e-06</td>\n",
       "      <td>0.001231</td>\n",
       "      <td>7.000000</td>\n",
       "      <td>8.156340e+10</td>\n",
       "      <td>3.437600e-06</td>\n",
       "      <td>1.000000e+10</td>\n",
       "      <td>8.247425e+09</td>\n",
       "      <td>0.015000</td>\n",
       "      <td>3.400000e+08</td>\n",
       "      <td>6000.000000</td>\n",
       "      <td>-0.067500</td>\n",
       "      <td>41.909431</td>\n",
       "      <td>NaN</td>\n",
       "      <td>NaN</td>\n",
       "      <td>NaN</td>\n",
       "      <td>16509.000000</td>\n",
       "      <td>8.250328e+04</td>\n",
       "      <td>8.247425e+03</td>\n",
       "      <td>1.000000e+04</td>\n",
       "    </tr>\n",
       "    <tr>\n",
       "      <th>75%</th>\n",
       "      <td>307.000000</td>\n",
       "      <td>3.129024e+12</td>\n",
       "      <td>1.324399e-04</td>\n",
       "      <td>0.046702</td>\n",
       "      <td>47.500000</td>\n",
       "      <td>3.168809e+12</td>\n",
       "      <td>1.335536e-04</td>\n",
       "      <td>6.100000e+10</td>\n",
       "      <td>6.336995e+10</td>\n",
       "      <td>0.030000</td>\n",
       "      <td>3.400000e+08</td>\n",
       "      <td>6000.000000</td>\n",
       "      <td>11.076800</td>\n",
       "      <td>49.240200</td>\n",
       "      <td>NaN</td>\n",
       "      <td>NaN</td>\n",
       "      <td>NaN</td>\n",
       "      <td>24940.000000</td>\n",
       "      <td>3.129024e+06</td>\n",
       "      <td>6.336995e+04</td>\n",
       "      <td>6.100000e+04</td>\n",
       "    </tr>\n",
       "    <tr>\n",
       "      <th>max</th>\n",
       "      <td>9441.000000</td>\n",
       "      <td>8.585759e+13</td>\n",
       "      <td>3.634099e-03</td>\n",
       "      <td>1.281474</td>\n",
       "      <td>32235.000000</td>\n",
       "      <td>8.606516e+13</td>\n",
       "      <td>3.627327e-03</td>\n",
       "      <td>6.600000e+13</td>\n",
       "      <td>6.663534e+13</td>\n",
       "      <td>1.000000</td>\n",
       "      <td>9.999990e+11</td>\n",
       "      <td>64137.000000</td>\n",
       "      <td>176.844666</td>\n",
       "      <td>67.285347</td>\n",
       "      <td>NaN</td>\n",
       "      <td>NaN</td>\n",
       "      <td>NaN</td>\n",
       "      <td>398778.000000</td>\n",
       "      <td>8.585759e+07</td>\n",
       "      <td>6.663534e+07</td>\n",
       "      <td>6.600000e+07</td>\n",
       "    </tr>\n",
       "  </tbody>\n",
       "</table>\n",
       "</div>"
      ],
      "text/plain": [
       "       blocks_minted    live_stake     live_size  live_saturation  \\\n",
       "count    3039.000000  3.039000e+03  3.039000e+03      3039.000000   \n",
       "mean      547.306680  7.359105e+12  3.114858e-04         0.109839   \n",
       "std      1188.224215  1.659242e+13  7.023010e-04         0.247651   \n",
       "min         0.000000  0.000000e+00  0.000000e+00         0.000000   \n",
       "25%         0.000000  1.283558e+09  5.430000e-08         0.000019   \n",
       "50%         7.000000  8.250328e+10  3.492100e-06         0.001231   \n",
       "75%       307.000000  3.129024e+12  1.324399e-04         0.046702   \n",
       "max      9441.000000  8.585759e+13  3.634099e-03         1.281474   \n",
       "\n",
       "       live_delegators  active_stake   active_size  declared_pledge  \\\n",
       "count      3039.000000  3.039000e+03  3.039000e+03     3.039000e+03   \n",
       "mean        340.084238  7.404574e+12  3.120753e-04     9.833187e+11   \n",
       "std        1774.924625  1.663724e+13  7.011981e-04     7.314188e+12   \n",
       "min           0.000000  0.000000e+00  0.000000e+00     0.000000e+00   \n",
       "25%           2.000000  1.312268e+09  5.530000e-08     5.000000e+08   \n",
       "50%           7.000000  8.156340e+10  3.437600e-06     1.000000e+10   \n",
       "75%          47.500000  3.168809e+12  1.335536e-04     6.100000e+10   \n",
       "max       32235.000000  8.606516e+13  3.627327e-03     6.600000e+13   \n",
       "\n",
       "        live_pledge  margin_cost    fixed_cost          port    longitude  \\\n",
       "count  3.039000e+03  3039.000000  3.039000e+03   3039.000000  2993.000000   \n",
       "mean   3.658211e+11     0.070357  1.012987e+09   5583.496545   -22.604905   \n",
       "std    3.815235e+12     0.211894  2.564208e+10   5602.266511    76.487819   \n",
       "min    0.000000e+00     0.000000  3.400000e+08      0.000000  -155.273193   \n",
       "25%    4.538771e+08     0.005000  3.400000e+08   3001.000000   -82.999458   \n",
       "50%    8.247425e+09     0.015000  3.400000e+08   6000.000000    -0.067500   \n",
       "75%    6.336995e+10     0.030000  3.400000e+08   6000.000000    11.076800   \n",
       "max    6.663534e+13     1.000000  9.999990e+11  64137.000000   176.844666   \n",
       "\n",
       "          latitude  error  success  detail            asn  live_stake_ada  \\\n",
       "count  3039.000000    0.0      0.0     0.0    3039.000000    3.039000e+03   \n",
       "mean     40.063001    NaN      NaN     NaN   29789.071076    7.359105e+06   \n",
       "std      16.898117    NaN      NaN     NaN   44968.124685    1.659242e+07   \n",
       "min     -42.882740    NaN      NaN     NaN     174.000000    0.000000e+00   \n",
       "25%      37.442959    NaN      NaN     NaN   14061.000000    1.283558e+03   \n",
       "50%      41.909431    NaN      NaN     NaN   16509.000000    8.250328e+04   \n",
       "75%      49.240200    NaN      NaN     NaN   24940.000000    3.129024e+06   \n",
       "max      67.285347    NaN      NaN     NaN  398778.000000    8.585759e+07   \n",
       "\n",
       "       live_pledge_ada  live_declared_pledge_ada  \n",
       "count     3.039000e+03              3.039000e+03  \n",
       "mean      3.658211e+05              9.833187e+05  \n",
       "std       3.815235e+06              7.314188e+06  \n",
       "min       0.000000e+00              1.000000e-06  \n",
       "25%       4.538771e+02              5.000000e+02  \n",
       "50%       8.247425e+03              1.000000e+04  \n",
       "75%       6.336995e+04              6.100000e+04  \n",
       "max       6.663534e+07              6.600000e+07  "
      ]
     },
     "execution_count": 132,
     "metadata": {},
     "output_type": "execute_result"
    }
   ],
   "source": [
    "df_ada_staked_per_pool['live_declared_pledge_ada'].mask(df_ada_staked_per_pool['live_declared_pledge_ada'] == 0, 0.1, inplace=True)\n",
    "df_ada_staked_per_pool.describe()"
   ]
  },
  {
   "cell_type": "code",
   "execution_count": 133,
   "metadata": {},
   "outputs": [
    {
     "data": {
      "text/html": [
       "<div>\n",
       "<style scoped>\n",
       "    .dataframe tbody tr th:only-of-type {\n",
       "        vertical-align: middle;\n",
       "    }\n",
       "\n",
       "    .dataframe tbody tr th {\n",
       "        vertical-align: top;\n",
       "    }\n",
       "\n",
       "    .dataframe thead th {\n",
       "        text-align: right;\n",
       "    }\n",
       "</style>\n",
       "<table border=\"1\" class=\"dataframe\">\n",
       "  <thead>\n",
       "    <tr style=\"text-align: right;\">\n",
       "      <th></th>\n",
       "      <th>pool_id</th>\n",
       "    </tr>\n",
       "    <tr>\n",
       "      <th>homepage</th>\n",
       "      <th></th>\n",
       "    </tr>\n",
       "  </thead>\n",
       "  <tbody>\n",
       "    <tr>\n",
       "      <th>https://www.ankachain.com</th>\n",
       "      <td>5</td>\n",
       "    </tr>\n",
       "    <tr>\n",
       "      <th>https://307pool.com</th>\n",
       "      <td>4</td>\n",
       "    </tr>\n",
       "    <tr>\n",
       "      <th>https://cardanocanucks.com</th>\n",
       "      <td>4</td>\n",
       "    </tr>\n",
       "    <tr>\n",
       "      <th>https://elitestakepool.com</th>\n",
       "      <td>4</td>\n",
       "    </tr>\n",
       "    <tr>\n",
       "      <th>https://leaf-pool.com/</th>\n",
       "      <td>4</td>\n",
       "    </tr>\n",
       "    <tr>\n",
       "      <th>https://cardano.ich-war-hier.de</th>\n",
       "      <td>3</td>\n",
       "    </tr>\n",
       "    <tr>\n",
       "      <th>https://cardanoproxy.com</th>\n",
       "      <td>3</td>\n",
       "    </tr>\n",
       "    <tr>\n",
       "      <th>https://staker.space</th>\n",
       "      <td>3</td>\n",
       "    </tr>\n",
       "    <tr>\n",
       "      <th>https://stakepool.at</th>\n",
       "      <td>3</td>\n",
       "    </tr>\n",
       "    <tr>\n",
       "      <th>https://garden-pool.com</th>\n",
       "      <td>3</td>\n",
       "    </tr>\n",
       "    <tr>\n",
       "      <th>https://ahlnet.nu</th>\n",
       "      <td>3</td>\n",
       "    </tr>\n",
       "    <tr>\n",
       "      <th>https://staking.outofbits.com/</th>\n",
       "      <td>3</td>\n",
       "    </tr>\n",
       "    <tr>\n",
       "      <th>https://teqwyse.com</th>\n",
       "      <td>2</td>\n",
       "    </tr>\n",
       "    <tr>\n",
       "      <th>https://tap-ada.at</th>\n",
       "      <td>2</td>\n",
       "    </tr>\n",
       "    <tr>\n",
       "      <th>https://theswim.net</th>\n",
       "      <td>2</td>\n",
       "    </tr>\n",
       "    <tr>\n",
       "      <th>https://twitter.com/BradaPool</th>\n",
       "      <td>2</td>\n",
       "    </tr>\n",
       "    <tr>\n",
       "      <th>https://www.ada-swag.com</th>\n",
       "      <td>2</td>\n",
       "    </tr>\n",
       "    <tr>\n",
       "      <th>https://solia.inmanencia.org</th>\n",
       "      <td>2</td>\n",
       "    </tr>\n",
       "    <tr>\n",
       "      <th>https://twitter.com/HexadecimalPool</th>\n",
       "      <td>2</td>\n",
       "    </tr>\n",
       "    <tr>\n",
       "      <th>https://www.ada.vegas</th>\n",
       "      <td>2</td>\n",
       "    </tr>\n",
       "    <tr>\n",
       "      <th>https://www.angelstakepool.net</th>\n",
       "      <td>2</td>\n",
       "    </tr>\n",
       "    <tr>\n",
       "      <th>https://growpools.io</th>\n",
       "      <td>2</td>\n",
       "    </tr>\n",
       "    <tr>\n",
       "      <th>https://www.hermes-stakepool.com</th>\n",
       "      <td>2</td>\n",
       "    </tr>\n",
       "    <tr>\n",
       "      <th>https://ispool.live/</th>\n",
       "      <td>2</td>\n",
       "    </tr>\n",
       "    <tr>\n",
       "      <th>https://www.sharpstakepool.com/</th>\n",
       "      <td>2</td>\n",
       "    </tr>\n",
       "    <tr>\n",
       "      <th>https://dekrom.dev</th>\n",
       "      <td>2</td>\n",
       "    </tr>\n",
       "    <tr>\n",
       "      <th>https://cryptobounty.org</th>\n",
       "      <td>2</td>\n",
       "    </tr>\n",
       "    <tr>\n",
       "      <th>https://cheapstaking.com</th>\n",
       "      <td>2</td>\n",
       "    </tr>\n",
       "    <tr>\n",
       "      <th>https://cardanians.io</th>\n",
       "      <td>2</td>\n",
       "    </tr>\n",
       "    <tr>\n",
       "      <th>https://carbonarapool.wixsite.com/carbonara</th>\n",
       "      <td>2</td>\n",
       "    </tr>\n",
       "    <tr>\n",
       "      <th>https://bluecheesestakehouse.com</th>\n",
       "      <td>2</td>\n",
       "    </tr>\n",
       "    <tr>\n",
       "      <th>https://bekindstakepools.online</th>\n",
       "      <td>2</td>\n",
       "    </tr>\n",
       "    <tr>\n",
       "      <th>https://babbageblockchain.com</th>\n",
       "      <td>2</td>\n",
       "    </tr>\n",
       "    <tr>\n",
       "      <th>https://twitter.com/Muggy_Pool</th>\n",
       "      <td>2</td>\n",
       "    </tr>\n",
       "    <tr>\n",
       "      <th>https://twitter.com/repsistance</th>\n",
       "      <td>1</td>\n",
       "    </tr>\n",
       "    <tr>\n",
       "      <th>https://www.microstakepool.com</th>\n",
       "      <td>1</td>\n",
       "    </tr>\n",
       "    <tr>\n",
       "      <th>https://www.stakeandeggs.io/</th>\n",
       "      <td>1</td>\n",
       "    </tr>\n",
       "    <tr>\n",
       "      <th>https://octaluso.dyndns.org</th>\n",
       "      <td>1</td>\n",
       "    </tr>\n",
       "    <tr>\n",
       "      <th>https://stakenuts.com/</th>\n",
       "      <td>1</td>\n",
       "    </tr>\n",
       "    <tr>\n",
       "      <th>https://riotpools.com</th>\n",
       "      <td>1</td>\n",
       "    </tr>\n",
       "    <tr>\n",
       "      <th>https://pooltool.io/about</th>\n",
       "      <td>1</td>\n",
       "    </tr>\n",
       "    <tr>\n",
       "      <th>https://kopipool.com</th>\n",
       "      <td>1</td>\n",
       "    </tr>\n",
       "    <tr>\n",
       "      <th>https://k8s-pool.subnet.dev</th>\n",
       "      <td>1</td>\n",
       "    </tr>\n",
       "    <tr>\n",
       "      <th>https://gamerpool.net</th>\n",
       "      <td>1</td>\n",
       "    </tr>\n",
       "    <tr>\n",
       "      <th>https://dolcapool.eu</th>\n",
       "      <td>1</td>\n",
       "    </tr>\n",
       "    <tr>\n",
       "      <th>https://crypto2099.io</th>\n",
       "      <td>1</td>\n",
       "    </tr>\n",
       "    <tr>\n",
       "      <th>https://zenithpool.io</th>\n",
       "      <td>1</td>\n",
       "    </tr>\n",
       "  </tbody>\n",
       "</table>\n",
       "</div>"
      ],
      "text/plain": [
       "                                             pool_id\n",
       "homepage                                            \n",
       "https://www.ankachain.com                          5\n",
       "https://307pool.com                                4\n",
       "https://cardanocanucks.com                         4\n",
       "https://elitestakepool.com                         4\n",
       "https://leaf-pool.com/                             4\n",
       "https://cardano.ich-war-hier.de                    3\n",
       "https://cardanoproxy.com                           3\n",
       "https://staker.space                               3\n",
       "https://stakepool.at                               3\n",
       "https://garden-pool.com                            3\n",
       "https://ahlnet.nu                                  3\n",
       "https://staking.outofbits.com/                     3\n",
       "https://teqwyse.com                                2\n",
       "https://tap-ada.at                                 2\n",
       "https://theswim.net                                2\n",
       "https://twitter.com/BradaPool                      2\n",
       "https://www.ada-swag.com                           2\n",
       "https://solia.inmanencia.org                       2\n",
       "https://twitter.com/HexadecimalPool                2\n",
       "https://www.ada.vegas                              2\n",
       "https://www.angelstakepool.net                     2\n",
       "https://growpools.io                               2\n",
       "https://www.hermes-stakepool.com                   2\n",
       "https://ispool.live/                               2\n",
       "https://www.sharpstakepool.com/                    2\n",
       "https://dekrom.dev                                 2\n",
       "https://cryptobounty.org                           2\n",
       "https://cheapstaking.com                           2\n",
       "https://cardanians.io                              2\n",
       "https://carbonarapool.wixsite.com/carbonara        2\n",
       "https://bluecheesestakehouse.com                   2\n",
       "https://bekindstakepools.online                    2\n",
       "https://babbageblockchain.com                      2\n",
       "https://twitter.com/Muggy_Pool                     2\n",
       "https://twitter.com/repsistance                    1\n",
       "https://www.microstakepool.com                     1\n",
       "https://www.stakeandeggs.io/                       1\n",
       "https://octaluso.dyndns.org                        1\n",
       "https://stakenuts.com/                             1\n",
       "https://riotpools.com                              1\n",
       "https://pooltool.io/about                          1\n",
       "https://kopipool.com                               1\n",
       "https://k8s-pool.subnet.dev                        1\n",
       "https://gamerpool.net                              1\n",
       "https://dolcapool.eu                               1\n",
       "https://crypto2099.io                              1\n",
       "https://zenithpool.io                              1"
      ]
     },
     "execution_count": 133,
     "metadata": {},
     "output_type": "execute_result"
    }
   ],
   "source": [
    "first_100_pools = data.head(100)\n",
    "first_100_pools.groupby('homepage').pool_id.count().to_frame().sort_values(by='pool_id', ascending=False)"
   ]
  },
  {
   "cell_type": "code",
   "execution_count": 134,
   "metadata": {},
   "outputs": [
    {
     "data": {
      "text/html": [
       "<div>\n",
       "<style scoped>\n",
       "    .dataframe tbody tr th:only-of-type {\n",
       "        vertical-align: middle;\n",
       "    }\n",
       "\n",
       "    .dataframe tbody tr th {\n",
       "        vertical-align: top;\n",
       "    }\n",
       "\n",
       "    .dataframe thead th {\n",
       "        text-align: right;\n",
       "    }\n",
       "</style>\n",
       "<table border=\"1\" class=\"dataframe\">\n",
       "  <thead>\n",
       "    <tr style=\"text-align: right;\">\n",
       "      <th></th>\n",
       "      <th>pool_id</th>\n",
       "      <th>multipool_ratio</th>\n",
       "    </tr>\n",
       "    <tr>\n",
       "      <th>homepage</th>\n",
       "      <th></th>\n",
       "      <th></th>\n",
       "    </tr>\n",
       "  </thead>\n",
       "  <tbody>\n",
       "    <tr>\n",
       "      <th>https://www.binance.com</th>\n",
       "      <td>62</td>\n",
       "      <td>2.448657</td>\n",
       "    </tr>\n",
       "    <tr>\n",
       "      <th>https://iohk.io</th>\n",
       "      <td>34</td>\n",
       "      <td>1.342812</td>\n",
       "    </tr>\n",
       "    <tr>\n",
       "      <th>https://www.1percentpool.eu</th>\n",
       "      <td>28</td>\n",
       "      <td>1.105845</td>\n",
       "    </tr>\n",
       "    <tr>\n",
       "      <th>https://memepools.io/</th>\n",
       "      <td>27</td>\n",
       "      <td>1.066351</td>\n",
       "    </tr>\n",
       "    <tr>\n",
       "      <th>https://emurgo.io/</th>\n",
       "      <td>17</td>\n",
       "      <td>0.671406</td>\n",
       "    </tr>\n",
       "    <tr>\n",
       "      <th>...</th>\n",
       "      <td>...</td>\n",
       "      <td>...</td>\n",
       "    </tr>\n",
       "    <tr>\n",
       "      <th>https://dodopool.io/</th>\n",
       "      <td>1</td>\n",
       "      <td>0.039494</td>\n",
       "    </tr>\n",
       "    <tr>\n",
       "      <th>https://docstakepool.carrd.co</th>\n",
       "      <td>1</td>\n",
       "      <td>0.039494</td>\n",
       "    </tr>\n",
       "    <tr>\n",
       "      <th>https://dochdoch.gitlab.io/add/</th>\n",
       "      <td>1</td>\n",
       "      <td>0.039494</td>\n",
       "    </tr>\n",
       "    <tr>\n",
       "      <th>https://dlinodes.com</th>\n",
       "      <td>1</td>\n",
       "      <td>0.039494</td>\n",
       "    </tr>\n",
       "    <tr>\n",
       "      <th>www.simpleblox.com</th>\n",
       "      <td>1</td>\n",
       "      <td>0.039494</td>\n",
       "    </tr>\n",
       "  </tbody>\n",
       "</table>\n",
       "<p>2030 rows × 2 columns</p>\n",
       "</div>"
      ],
      "text/plain": [
       "                                 pool_id  multipool_ratio\n",
       "homepage                                                 \n",
       "https://www.binance.com               62         2.448657\n",
       "https://iohk.io                       34         1.342812\n",
       "https://www.1percentpool.eu           28         1.105845\n",
       "https://memepools.io/                 27         1.066351\n",
       "https://emurgo.io/                    17         0.671406\n",
       "...                                  ...              ...\n",
       "https://dodopool.io/                   1         0.039494\n",
       "https://docstakepool.carrd.co          1         0.039494\n",
       "https://dochdoch.gitlab.io/add/        1         0.039494\n",
       "https://dlinodes.com                   1         0.039494\n",
       "www.simpleblox.com                     1         0.039494\n",
       "\n",
       "[2030 rows x 2 columns]"
      ]
     },
     "execution_count": 134,
     "metadata": {},
     "output_type": "execute_result"
    }
   ],
   "source": [
    "dfy = data.groupby('homepage').pool_id.nunique().to_frame().sort_values(by='pool_id', ascending=False)\n",
    "dfy['multipool_ratio'] = dfy['pool_id']/dfy.pool_id.sum() * 100\n",
    "dfy"
   ]
  },
  {
   "cell_type": "code",
   "execution_count": 135,
   "metadata": {},
   "outputs": [
    {
     "data": {
      "text/html": [
       "<div>\n",
       "<style scoped>\n",
       "    .dataframe tbody tr th:only-of-type {\n",
       "        vertical-align: middle;\n",
       "    }\n",
       "\n",
       "    .dataframe tbody tr th {\n",
       "        vertical-align: top;\n",
       "    }\n",
       "\n",
       "    .dataframe thead th {\n",
       "        text-align: right;\n",
       "    }\n",
       "</style>\n",
       "<table border=\"1\" class=\"dataframe\">\n",
       "  <thead>\n",
       "    <tr style=\"text-align: right;\">\n",
       "      <th></th>\n",
       "      <th>pool_id</th>\n",
       "      <th>hex</th>\n",
       "      <th>vrf_key</th>\n",
       "      <th>blocks_minted</th>\n",
       "      <th>live_stake</th>\n",
       "      <th>live_size</th>\n",
       "      <th>live_saturation</th>\n",
       "      <th>live_delegators</th>\n",
       "      <th>active_stake</th>\n",
       "      <th>active_size</th>\n",
       "      <th>declared_pledge</th>\n",
       "      <th>live_pledge</th>\n",
       "      <th>margin_cost</th>\n",
       "      <th>fixed_cost</th>\n",
       "      <th>reward_account</th>\n",
       "      <th>owners</th>\n",
       "      <th>registration</th>\n",
       "      <th>retirement</th>\n",
       "      <th>ip_host</th>\n",
       "      <th>port</th>\n",
       "      <th>url</th>\n",
       "      <th>hash</th>\n",
       "      <th>ticker</th>\n",
       "      <th>name</th>\n",
       "      <th>description</th>\n",
       "      <th>homepage</th>\n",
       "      <th>resolved_ip</th>\n",
       "      <th>longitude</th>\n",
       "      <th>latitude</th>\n",
       "      <th>zip</th>\n",
       "      <th>region_name</th>\n",
       "      <th>region_code</th>\n",
       "      <th>connection</th>\n",
       "      <th>city</th>\n",
       "      <th>country_name</th>\n",
       "      <th>country_code</th>\n",
       "      <th>error</th>\n",
       "      <th>success</th>\n",
       "      <th>detail</th>\n",
       "      <th>isp</th>\n",
       "      <th>asn</th>\n",
       "      <th>live_stake_ada</th>\n",
       "      <th>live_pledge_ada</th>\n",
       "      <th>live_declared_pledge_ada</th>\n",
       "      <th>pledge_ratio</th>\n",
       "    </tr>\n",
       "  </thead>\n",
       "  <tbody>\n",
       "    <tr>\n",
       "      <th>0</th>\n",
       "      <td>pool1z5uqdk7dzdxaae5633fqfcu2eqzy3a3rgtuvy087f...</td>\n",
       "      <td>153806dbcd134ddee69a8c5204e38ac80448f62342f8c2...</td>\n",
       "      <td>0220a5d08adbfe9554b52d7b2993be5892ac3ff340e674...</td>\n",
       "      <td>4097</td>\n",
       "      <td>32128532235090</td>\n",
       "      <td>1.359849e-03</td>\n",
       "      <td>4.795368e-01</td>\n",
       "      <td>3170</td>\n",
       "      <td>32462689016256</td>\n",
       "      <td>1.368182e-03</td>\n",
       "      <td>100000000000</td>\n",
       "      <td>574564954842</td>\n",
       "      <td>0.009</td>\n",
       "      <td>340000000</td>\n",
       "      <td>stake1uy89kzrdlpaz5rzu8x95r4qnlpqhd3f8mf09edjp...</td>\n",
       "      <td>['stake1uy89kzrdlpaz5rzu8x95r4qnlpqhd3f8mf09ed...</td>\n",
       "      <td>['841cca81da918feb9fa7257a34630eac95794be712ed...</td>\n",
       "      <td>[]</td>\n",
       "      <td>54.220.20.40</td>\n",
       "      <td>3002</td>\n",
       "      <td>https://raw.githubusercontent.com/Octalus/card...</td>\n",
       "      <td>ca7d12decf886e31f5226b5946c62edc81a7e40af95ce7...</td>\n",
       "      <td>OCTAS</td>\n",
       "      <td>OctasPool</td>\n",
       "      <td>Octa's Performance Pool</td>\n",
       "      <td>https://octaluso.dyndns.org</td>\n",
       "      <td>54.220.20.40</td>\n",
       "      <td>-6.243330</td>\n",
       "      <td>53.353889</td>\n",
       "      <td>None</td>\n",
       "      <td>Leinster</td>\n",
       "      <td>L</td>\n",
       "      <td>{'asn': 16509, 'isp': 'amazon.com, Inc'}</td>\n",
       "      <td>Dublin</td>\n",
       "      <td>Ireland</td>\n",
       "      <td>IE</td>\n",
       "      <td>NaN</td>\n",
       "      <td>NaN</td>\n",
       "      <td>NaN</td>\n",
       "      <td>amazon.com, Inc</td>\n",
       "      <td>16509</td>\n",
       "      <td>3.212853e+07</td>\n",
       "      <td>574564.954842</td>\n",
       "      <td>100000.0</td>\n",
       "      <td>321.285322</td>\n",
       "    </tr>\n",
       "    <tr>\n",
       "      <th>1</th>\n",
       "      <td>pool1pu5jlj4q9w9jlxeu370a3c9myx47md5j5m2str0na...</td>\n",
       "      <td>0f292fcaa02b8b2f9b3c8f9fd8e0bb21abedb692a6d505...</td>\n",
       "      <td>b512cc7c1a8ba689c2d8fd27adfdbac2049a3f8f95c8b8...</td>\n",
       "      <td>1824</td>\n",
       "      <td>19427988062303</td>\n",
       "      <td>8.222951e-04</td>\n",
       "      <td>2.899739e-01</td>\n",
       "      <td>170</td>\n",
       "      <td>19414895397699</td>\n",
       "      <td>8.182658e-04</td>\n",
       "      <td>510000000000</td>\n",
       "      <td>567027531192</td>\n",
       "      <td>0.049</td>\n",
       "      <td>340000000</td>\n",
       "      <td>stake1u98nnlkvkk23vtvf9273uq7cph5ww6u2yq2389ps...</td>\n",
       "      <td>['stake1u98nnlkvkk23vtvf9273uq7cph5ww6u2yq2389...</td>\n",
       "      <td>['a96c79773b7506211eb56bf94886a2face17657d1009...</td>\n",
       "      <td>[]</td>\n",
       "      <td>relays.mainnet.stakenuts.com</td>\n",
       "      <td>3001</td>\n",
       "      <td>https://stakenuts.com/mainnet.json</td>\n",
       "      <td>47c0c68cb57f4a5b4a87bad896fc274678e7aea98e200f...</td>\n",
       "      <td>NUTS</td>\n",
       "      <td>StakeNuts</td>\n",
       "      <td>StakeNuts.com</td>\n",
       "      <td>https://stakenuts.com/</td>\n",
       "      <td>198.13.62.211</td>\n",
       "      <td>139.746155</td>\n",
       "      <td>35.583511</td>\n",
       "      <td>143-0006</td>\n",
       "      <td>Kanagawa</td>\n",
       "      <td>14</td>\n",
       "      <td>{'asn': 20473, 'isp': 'The Constant Company LLC'}</td>\n",
       "      <td>Kawasaki</td>\n",
       "      <td>Japan</td>\n",
       "      <td>JP</td>\n",
       "      <td>NaN</td>\n",
       "      <td>NaN</td>\n",
       "      <td>NaN</td>\n",
       "      <td>The Constant Company LLC</td>\n",
       "      <td>20473</td>\n",
       "      <td>1.942799e+07</td>\n",
       "      <td>567027.531192</td>\n",
       "      <td>510000.0</td>\n",
       "      <td>38.094094</td>\n",
       "    </tr>\n",
       "    <tr>\n",
       "      <th>2</th>\n",
       "      <td>pool1c8k78ny3xvsfgenhf4yzvpzwgzxmz0t0um0h2xnn2...</td>\n",
       "      <td>c1ede3cc9133209466774d4826044e408db13d6fe6df75...</td>\n",
       "      <td>b8ba5f7dcbf17e95781e325114da46def1fa908435a27d...</td>\n",
       "      <td>80</td>\n",
       "      <td>567215180144</td>\n",
       "      <td>2.400750e-05</td>\n",
       "      <td>8.466013e-03</td>\n",
       "      <td>17</td>\n",
       "      <td>555030759623</td>\n",
       "      <td>2.339250e-05</td>\n",
       "      <td>50100000000</td>\n",
       "      <td>546041471277</td>\n",
       "      <td>0.000</td>\n",
       "      <td>340000000</td>\n",
       "      <td>stake1uyx0ut5wc5nmu0tacjc9pyyahdyq5ujghwljkdxr...</td>\n",
       "      <td>['stake1uyx0ut5wc5nmu0tacjc9pyyahdyq5ujghwljkd...</td>\n",
       "      <td>['37f5682e2622c821175bab9d5637b7321ecacc5ec663...</td>\n",
       "      <td>[]</td>\n",
       "      <td>relay.zenithpool.io</td>\n",
       "      <td>31400</td>\n",
       "      <td>https://metadata.zenithpool.io</td>\n",
       "      <td>21cc44498ab6e74e081a805e629fff171a66d0c8d034f9...</td>\n",
       "      <td>ZEN</td>\n",
       "      <td>ZENITH</td>\n",
       "      <td>One owner, one operator, one pool. Operating s...</td>\n",
       "      <td>https://zenithpool.io</td>\n",
       "      <td>193.122.12.254</td>\n",
       "      <td>-122.333519</td>\n",
       "      <td>47.611012</td>\n",
       "      <td>98101</td>\n",
       "      <td>Washington</td>\n",
       "      <td>WA</td>\n",
       "      <td>{'asn': 31898, 'isp': 'Oracle Corporation'}</td>\n",
       "      <td>Seattle</td>\n",
       "      <td>United States</td>\n",
       "      <td>US</td>\n",
       "      <td>NaN</td>\n",
       "      <td>NaN</td>\n",
       "      <td>NaN</td>\n",
       "      <td>Oracle Corporation</td>\n",
       "      <td>31898</td>\n",
       "      <td>5.672152e+05</td>\n",
       "      <td>546041.471277</td>\n",
       "      <td>50100.0</td>\n",
       "      <td>11.321660</td>\n",
       "    </tr>\n",
       "    <tr>\n",
       "      <th>3</th>\n",
       "      <td>pool1q80jjs53w0fx836n8g38gtdwr8ck5zre3da90peux...</td>\n",
       "      <td>01df29429173d263c7533a22742dae19f16a08798b7a57...</td>\n",
       "      <td>b75115a1e4e32a33985fc720f3715f0e99617b448fbc36...</td>\n",
       "      <td>259</td>\n",
       "      <td>1735454735054</td>\n",
       "      <td>7.345360e-05</td>\n",
       "      <td>2.590266e-02</td>\n",
       "      <td>724</td>\n",
       "      <td>1735713797295</td>\n",
       "      <td>7.315390e-05</td>\n",
       "      <td>200000000000</td>\n",
       "      <td>207011830413</td>\n",
       "      <td>0.005</td>\n",
       "      <td>340000000</td>\n",
       "      <td>stake1uxxsa2rlkv728pve3ks7kn7c6v68luagdjgwa0me...</td>\n",
       "      <td>['stake1uxxsa2rlkv728pve3ks7kn7c6v68luagdjgwa0...</td>\n",
       "      <td>['e8951eddb19b697bc74549aa9d4f956a8be8d5cf2c7a...</td>\n",
       "      <td>[]</td>\n",
       "      <td>95.183.53.20</td>\n",
       "      <td>6060</td>\n",
       "      <td>https://ispool.live/metadata</td>\n",
       "      <td>34fdde237812fab14d29a80423bb295f39122f4fea1aae...</td>\n",
       "      <td>000</td>\n",
       "      <td>Switzerland Investment</td>\n",
       "      <td>Stability, Security, Reliability, Neutrality! ...</td>\n",
       "      <td>https://ispool.live/</td>\n",
       "      <td>95.183.53.20</td>\n",
       "      <td>8.536950</td>\n",
       "      <td>47.374168</td>\n",
       "      <td>8043</td>\n",
       "      <td>Zurich</td>\n",
       "      <td>ZH</td>\n",
       "      <td>{'asn': 197988, 'isp': 'Solar Communications G...</td>\n",
       "      <td>Zürich</td>\n",
       "      <td>Switzerland</td>\n",
       "      <td>CH</td>\n",
       "      <td>NaN</td>\n",
       "      <td>NaN</td>\n",
       "      <td>NaN</td>\n",
       "      <td>Solar Communications Gmbh</td>\n",
       "      <td>197988</td>\n",
       "      <td>1.735455e+06</td>\n",
       "      <td>207011.830413</td>\n",
       "      <td>200000.0</td>\n",
       "      <td>8.677274</td>\n",
       "    </tr>\n",
       "    <tr>\n",
       "      <th>5</th>\n",
       "      <td>pool1ddskftmsscw92d7vnj89pldwx5feegkgcmamgt5t0...</td>\n",
       "      <td>6b6164af70861c5537cc9c8e50fdae35139ca2c8c6fbb4...</td>\n",
       "      <td>78b0b08fec7458afd1209dcd26bd0c10faa640a49d5013...</td>\n",
       "      <td>23</td>\n",
       "      <td>4000924534</td>\n",
       "      <td>1.693000e-07</td>\n",
       "      <td>5.971610e-05</td>\n",
       "      <td>14</td>\n",
       "      <td>4000924534</td>\n",
       "      <td>1.686000e-07</td>\n",
       "      <td>7149000000</td>\n",
       "      <td>0</td>\n",
       "      <td>0.050</td>\n",
       "      <td>340000000</td>\n",
       "      <td>stake1u9w20uzsevkxe6vp2nlmqjjrcj4gvcf560tvufuv...</td>\n",
       "      <td>['stake1u9w20uzsevkxe6vp2nlmqjjrcj4gvcf560tvuf...</td>\n",
       "      <td>['ff2d9576bd9c5e1dff6c9987860de39366f7b75dd6bb...</td>\n",
       "      <td>[]</td>\n",
       "      <td>139.162.148.181</td>\n",
       "      <td>8088</td>\n",
       "      <td>https://pool.adascan.net/meta/v1/poolmeta.json</td>\n",
       "      <td>79e7cf8d936bf0ced040516b288e2edc76f2f87af5400f...</td>\n",
       "      <td>None</td>\n",
       "      <td>None</td>\n",
       "      <td>None</td>\n",
       "      <td>None</td>\n",
       "      <td>139.162.148.181</td>\n",
       "      <td>8.682100</td>\n",
       "      <td>50.110901</td>\n",
       "      <td>60311</td>\n",
       "      <td>Hesse</td>\n",
       "      <td>HE</td>\n",
       "      <td>{'asn': 63949, 'isp': 'Linode LLC'}</td>\n",
       "      <td>Frankfurt am Main</td>\n",
       "      <td>Germany</td>\n",
       "      <td>DE</td>\n",
       "      <td>NaN</td>\n",
       "      <td>NaN</td>\n",
       "      <td>NaN</td>\n",
       "      <td>Linode LLC</td>\n",
       "      <td>63949</td>\n",
       "      <td>4.000925e+03</td>\n",
       "      <td>0.000000</td>\n",
       "      <td>7149.0</td>\n",
       "      <td>0.559648</td>\n",
       "    </tr>\n",
       "    <tr>\n",
       "      <th>...</th>\n",
       "      <td>...</td>\n",
       "      <td>...</td>\n",
       "      <td>...</td>\n",
       "      <td>...</td>\n",
       "      <td>...</td>\n",
       "      <td>...</td>\n",
       "      <td>...</td>\n",
       "      <td>...</td>\n",
       "      <td>...</td>\n",
       "      <td>...</td>\n",
       "      <td>...</td>\n",
       "      <td>...</td>\n",
       "      <td>...</td>\n",
       "      <td>...</td>\n",
       "      <td>...</td>\n",
       "      <td>...</td>\n",
       "      <td>...</td>\n",
       "      <td>...</td>\n",
       "      <td>...</td>\n",
       "      <td>...</td>\n",
       "      <td>...</td>\n",
       "      <td>...</td>\n",
       "      <td>...</td>\n",
       "      <td>...</td>\n",
       "      <td>...</td>\n",
       "      <td>...</td>\n",
       "      <td>...</td>\n",
       "      <td>...</td>\n",
       "      <td>...</td>\n",
       "      <td>...</td>\n",
       "      <td>...</td>\n",
       "      <td>...</td>\n",
       "      <td>...</td>\n",
       "      <td>...</td>\n",
       "      <td>...</td>\n",
       "      <td>...</td>\n",
       "      <td>...</td>\n",
       "      <td>...</td>\n",
       "      <td>...</td>\n",
       "      <td>...</td>\n",
       "      <td>...</td>\n",
       "      <td>...</td>\n",
       "      <td>...</td>\n",
       "      <td>...</td>\n",
       "      <td>...</td>\n",
       "    </tr>\n",
       "    <tr>\n",
       "      <th>5545</th>\n",
       "      <td>pool1sk6jvl4u8m4peddwqxzslgt82n57qy0rug2j0jfzk...</td>\n",
       "      <td>85b5267ebc3eea1cb5ae01850fa16754e9e011e3e21527...</td>\n",
       "      <td>2d673584d7b29070ba9355df7e787176a822338f0457d4...</td>\n",
       "      <td>0</td>\n",
       "      <td>99576339881</td>\n",
       "      <td>4.214900e-06</td>\n",
       "      <td>1.486234e-03</td>\n",
       "      <td>2</td>\n",
       "      <td>0</td>\n",
       "      <td>0.000000e+00</td>\n",
       "      <td>10000000</td>\n",
       "      <td>357225752</td>\n",
       "      <td>0.020</td>\n",
       "      <td>340000000</td>\n",
       "      <td>stake1u9zg9dxymfg02rvev7he2h8j9ptuj45s8qeu8hvs...</td>\n",
       "      <td>['stake1u9zg9dxymfg02rvev7he2h8j9ptuj45s8qeu8h...</td>\n",
       "      <td>['36783438a6b445690de40f589ae6a24f13300f1a9091...</td>\n",
       "      <td>[]</td>\n",
       "      <td>47.241.248.83</td>\n",
       "      <td>3001</td>\n",
       "      <td>https://walletada.hotbitdemo.com/adapool_metad...</td>\n",
       "      <td>0a93741db4f79a688ce407faa28b9b4a56b0055aa0bd0c...</td>\n",
       "      <td>HTB</td>\n",
       "      <td>HotbitPool</td>\n",
       "      <td>HotbitPool</td>\n",
       "      <td>https://www.hotbit.io</td>\n",
       "      <td>47.241.248.83</td>\n",
       "      <td>103.851784</td>\n",
       "      <td>1.287950</td>\n",
       "      <td>None</td>\n",
       "      <td>Central Singapore</td>\n",
       "      <td>01</td>\n",
       "      <td>{'asn': 45102, 'isp': 'Alibaba (Us) Technology...</td>\n",
       "      <td>Singapore</td>\n",
       "      <td>Singapore</td>\n",
       "      <td>SG</td>\n",
       "      <td>NaN</td>\n",
       "      <td>NaN</td>\n",
       "      <td>NaN</td>\n",
       "      <td>Alibaba (Us) Technology Co. Ltd.</td>\n",
       "      <td>45102</td>\n",
       "      <td>9.957634e+04</td>\n",
       "      <td>357.225752</td>\n",
       "      <td>10.0</td>\n",
       "      <td>9957.633988</td>\n",
       "    </tr>\n",
       "    <tr>\n",
       "      <th>5547</th>\n",
       "      <td>pool1l6946mnu54f6v0we4xzra8kwm68ch7fphhxvgytd0...</td>\n",
       "      <td>fe8b5d6e7ca553a63dd9a9843e9ecede8f8bf921bdccc4...</td>\n",
       "      <td>4b5cc8a3499e69683701957db53a7297b99df317d21532...</td>\n",
       "      <td>0</td>\n",
       "      <td>200850366</td>\n",
       "      <td>8.500000e-09</td>\n",
       "      <td>2.997800e-06</td>\n",
       "      <td>1</td>\n",
       "      <td>0</td>\n",
       "      <td>0.000000e+00</td>\n",
       "      <td>150000000</td>\n",
       "      <td>200850366</td>\n",
       "      <td>0.150</td>\n",
       "      <td>345000000</td>\n",
       "      <td>stake1u8eyvgp8r7mhgszfevapn4vul283sqkls3hvaf6q...</td>\n",
       "      <td>['stake1u8eyvgp8r7mhgszfevapn4vul283sqkls3hvaf...</td>\n",
       "      <td>['165c92f88abfebfd39d458ed4d1d917486ec5927c363...</td>\n",
       "      <td>[]</td>\n",
       "      <td>crdrl1.stakemachine.net</td>\n",
       "      <td>9961</td>\n",
       "      <td>https://www.stakemachine.net/cardano_sm.json</td>\n",
       "      <td>24187af340d0d5abba13f6ea1571804814f740fe6871d1...</td>\n",
       "      <td>SMACH</td>\n",
       "      <td>StakeMachine</td>\n",
       "      <td>Professional CARDANO stake pool</td>\n",
       "      <td>https://www.stakemachine.net</td>\n",
       "      <td>194.35.120.118</td>\n",
       "      <td>11.214280</td>\n",
       "      <td>49.375061</td>\n",
       "      <td>90537</td>\n",
       "      <td>Bavaria</td>\n",
       "      <td>BY</td>\n",
       "      <td>{'asn': 204644, 'isp': 'Stumpner Netservice Ug...</td>\n",
       "      <td>Wendelstein</td>\n",
       "      <td>Germany</td>\n",
       "      <td>DE</td>\n",
       "      <td>NaN</td>\n",
       "      <td>NaN</td>\n",
       "      <td>NaN</td>\n",
       "      <td>Stumpner Netservice Ug (Haftungsbeschraenkt)</td>\n",
       "      <td>204644</td>\n",
       "      <td>2.008504e+02</td>\n",
       "      <td>200.850366</td>\n",
       "      <td>150.0</td>\n",
       "      <td>1.339002</td>\n",
       "    </tr>\n",
       "    <tr>\n",
       "      <th>5549</th>\n",
       "      <td>pool1vcc9lngr8g2j8xh0kgy84nne026adr5zmvwagkda9...</td>\n",
       "      <td>66305fcd033a15239aefb2087ace797ab5d68e82db1dd4...</td>\n",
       "      <td>cd7410122ca16a9660155c59340083a8e3b540016d043d...</td>\n",
       "      <td>0</td>\n",
       "      <td>1500600798</td>\n",
       "      <td>6.350000e-08</td>\n",
       "      <td>2.239730e-05</td>\n",
       "      <td>1</td>\n",
       "      <td>0</td>\n",
       "      <td>0.000000e+00</td>\n",
       "      <td>1500000000</td>\n",
       "      <td>1500600798</td>\n",
       "      <td>0.010</td>\n",
       "      <td>340000000</td>\n",
       "      <td>stake1u9yw7t3gksm445svqhsjxq7vhccqcngjgh2vwczv...</td>\n",
       "      <td>['stake1u9yw7t3gksm445svqhsjxq7vhccqcngjgh2vwc...</td>\n",
       "      <td>['0c5f5e2b09b5885efd835f509be684aa2df8bafb0ce4...</td>\n",
       "      <td>[]</td>\n",
       "      <td>relaynode1.higer-stakepool.com</td>\n",
       "      <td>6000</td>\n",
       "      <td>https://git.io/JSDk9</td>\n",
       "      <td>053b4fcdd91dc15c5ee74c768395b70b9fb580da65e16f...</td>\n",
       "      <td>HIGER</td>\n",
       "      <td>HIGER</td>\n",
       "      <td>Professional managed stake pool located in sou...</td>\n",
       "      <td>https://higer-stakepool.com</td>\n",
       "      <td>109.90.24.88</td>\n",
       "      <td>6.960300</td>\n",
       "      <td>50.937500</td>\n",
       "      <td>50667</td>\n",
       "      <td>North Rhine-Westphalia</td>\n",
       "      <td>NW</td>\n",
       "      <td>{'asn': 3209, 'isp': 'Vodafone Gmbh'}</td>\n",
       "      <td>Köln</td>\n",
       "      <td>Germany</td>\n",
       "      <td>DE</td>\n",
       "      <td>NaN</td>\n",
       "      <td>NaN</td>\n",
       "      <td>NaN</td>\n",
       "      <td>Vodafone Gmbh</td>\n",
       "      <td>3209</td>\n",
       "      <td>1.500601e+03</td>\n",
       "      <td>1500.600798</td>\n",
       "      <td>1500.0</td>\n",
       "      <td>1.000401</td>\n",
       "    </tr>\n",
       "    <tr>\n",
       "      <th>5550</th>\n",
       "      <td>pool1qcu4r9rw853pyvfznfeujfzxlku4xtvp8cas6c2y7...</td>\n",
       "      <td>063951946e3d221231229a73c92446fdb9532d813e3b0d...</td>\n",
       "      <td>3c57e43260a4dde6b3a07d83907f00027b2d0630f57201...</td>\n",
       "      <td>0</td>\n",
       "      <td>2036975</td>\n",
       "      <td>1.000000e-10</td>\n",
       "      <td>3.040000e-08</td>\n",
       "      <td>1</td>\n",
       "      <td>0</td>\n",
       "      <td>0.000000e+00</td>\n",
       "      <td>100000000</td>\n",
       "      <td>2036975</td>\n",
       "      <td>0.000</td>\n",
       "      <td>340000000</td>\n",
       "      <td>stake1u9vlltzshvet0clpzkt6fhfwgt2jw4m3jarddc4n...</td>\n",
       "      <td>['stake1u9vlltzshvet0clpzkt6fhfwgt2jw4m3jarddc...</td>\n",
       "      <td>['e5066e9eaef49c079cf84af8c54f55bcce4ee76ea0bb...</td>\n",
       "      <td>[]</td>\n",
       "      <td>217.28.30.43</td>\n",
       "      <td>6000</td>\n",
       "      <td>https://git.io/JySpg</td>\n",
       "      <td>d1969ef9bc1733e7c2a6569ec747245ba8bac7626d4147...</td>\n",
       "      <td>None</td>\n",
       "      <td>None</td>\n",
       "      <td>None</td>\n",
       "      <td>None</td>\n",
       "      <td>217.28.30.43</td>\n",
       "      <td>-71.208183</td>\n",
       "      <td>46.814301</td>\n",
       "      <td>G1R 5M1</td>\n",
       "      <td>Quebec</td>\n",
       "      <td>QC</td>\n",
       "      <td>{'asn': 398721, 'isp': 'Oxio'}</td>\n",
       "      <td>Québec</td>\n",
       "      <td>Canada</td>\n",
       "      <td>CA</td>\n",
       "      <td>NaN</td>\n",
       "      <td>NaN</td>\n",
       "      <td>NaN</td>\n",
       "      <td>Oxio</td>\n",
       "      <td>398721</td>\n",
       "      <td>2.036975e+00</td>\n",
       "      <td>2.036975</td>\n",
       "      <td>100.0</td>\n",
       "      <td>0.020370</td>\n",
       "    </tr>\n",
       "    <tr>\n",
       "      <th>5552</th>\n",
       "      <td>pool1etwkskpk7smvppts3d0wryqyxkm2udk2a4qy6eek5...</td>\n",
       "      <td>cadd685836f436c085708b5ee1900435b6ae36caed404d...</td>\n",
       "      <td>2bd83ebefebebb50a01d637af893a9dadeac42fa114b13...</td>\n",
       "      <td>0</td>\n",
       "      <td>22497233760</td>\n",
       "      <td>9.523000e-07</td>\n",
       "      <td>3.357842e-04</td>\n",
       "      <td>1</td>\n",
       "      <td>0</td>\n",
       "      <td>0.000000e+00</td>\n",
       "      <td>20000000000</td>\n",
       "      <td>22497233760</td>\n",
       "      <td>0.045</td>\n",
       "      <td>340000000</td>\n",
       "      <td>stake1uxe45jdlkedl8hq59slcdzy2078pxylsujzwfr8m...</td>\n",
       "      <td>['stake1uxe45jdlkedl8hq59slcdzy2078pxylsujzwfr...</td>\n",
       "      <td>['54530bc2682ba27923a5d81fc230c7ddd330cd7d0e6e...</td>\n",
       "      <td>[]</td>\n",
       "      <td>65.108.107.238</td>\n",
       "      <td>6000</td>\n",
       "      <td>https://0xdeadbeef.network/roots-meta.json</td>\n",
       "      <td>2af57d0d3373b23b2a32763de09a47016d13e44a9dcbfc...</td>\n",
       "      <td>ROOTS</td>\n",
       "      <td>ROOTS</td>\n",
       "      <td>Connect to your ROOTS.</td>\n",
       "      <td>https://theearthpool.com</td>\n",
       "      <td>65.108.107.238</td>\n",
       "      <td>10.753400</td>\n",
       "      <td>49.115940</td>\n",
       "      <td>91710</td>\n",
       "      <td>Bavaria</td>\n",
       "      <td>BY</td>\n",
       "      <td>{'asn': 24940, 'isp': 'Hetzner Online Gmbh'}</td>\n",
       "      <td>Gunzenhausen</td>\n",
       "      <td>Germany</td>\n",
       "      <td>DE</td>\n",
       "      <td>NaN</td>\n",
       "      <td>NaN</td>\n",
       "      <td>NaN</td>\n",
       "      <td>Hetzner Online Gmbh</td>\n",
       "      <td>24940</td>\n",
       "      <td>2.249723e+04</td>\n",
       "      <td>22497.233760</td>\n",
       "      <td>20000.0</td>\n",
       "      <td>1.124862</td>\n",
       "    </tr>\n",
       "  </tbody>\n",
       "</table>\n",
       "<p>3039 rows × 45 columns</p>\n",
       "</div>"
      ],
      "text/plain": [
       "                                                pool_id  \\\n",
       "0     pool1z5uqdk7dzdxaae5633fqfcu2eqzy3a3rgtuvy087f...   \n",
       "1     pool1pu5jlj4q9w9jlxeu370a3c9myx47md5j5m2str0na...   \n",
       "2     pool1c8k78ny3xvsfgenhf4yzvpzwgzxmz0t0um0h2xnn2...   \n",
       "3     pool1q80jjs53w0fx836n8g38gtdwr8ck5zre3da90peux...   \n",
       "5     pool1ddskftmsscw92d7vnj89pldwx5feegkgcmamgt5t0...   \n",
       "...                                                 ...   \n",
       "5545  pool1sk6jvl4u8m4peddwqxzslgt82n57qy0rug2j0jfzk...   \n",
       "5547  pool1l6946mnu54f6v0we4xzra8kwm68ch7fphhxvgytd0...   \n",
       "5549  pool1vcc9lngr8g2j8xh0kgy84nne026adr5zmvwagkda9...   \n",
       "5550  pool1qcu4r9rw853pyvfznfeujfzxlku4xtvp8cas6c2y7...   \n",
       "5552  pool1etwkskpk7smvppts3d0wryqyxkm2udk2a4qy6eek5...   \n",
       "\n",
       "                                                    hex  \\\n",
       "0     153806dbcd134ddee69a8c5204e38ac80448f62342f8c2...   \n",
       "1     0f292fcaa02b8b2f9b3c8f9fd8e0bb21abedb692a6d505...   \n",
       "2     c1ede3cc9133209466774d4826044e408db13d6fe6df75...   \n",
       "3     01df29429173d263c7533a22742dae19f16a08798b7a57...   \n",
       "5     6b6164af70861c5537cc9c8e50fdae35139ca2c8c6fbb4...   \n",
       "...                                                 ...   \n",
       "5545  85b5267ebc3eea1cb5ae01850fa16754e9e011e3e21527...   \n",
       "5547  fe8b5d6e7ca553a63dd9a9843e9ecede8f8bf921bdccc4...   \n",
       "5549  66305fcd033a15239aefb2087ace797ab5d68e82db1dd4...   \n",
       "5550  063951946e3d221231229a73c92446fdb9532d813e3b0d...   \n",
       "5552  cadd685836f436c085708b5ee1900435b6ae36caed404d...   \n",
       "\n",
       "                                                vrf_key  blocks_minted  \\\n",
       "0     0220a5d08adbfe9554b52d7b2993be5892ac3ff340e674...           4097   \n",
       "1     b512cc7c1a8ba689c2d8fd27adfdbac2049a3f8f95c8b8...           1824   \n",
       "2     b8ba5f7dcbf17e95781e325114da46def1fa908435a27d...             80   \n",
       "3     b75115a1e4e32a33985fc720f3715f0e99617b448fbc36...            259   \n",
       "5     78b0b08fec7458afd1209dcd26bd0c10faa640a49d5013...             23   \n",
       "...                                                 ...            ...   \n",
       "5545  2d673584d7b29070ba9355df7e787176a822338f0457d4...              0   \n",
       "5547  4b5cc8a3499e69683701957db53a7297b99df317d21532...              0   \n",
       "5549  cd7410122ca16a9660155c59340083a8e3b540016d043d...              0   \n",
       "5550  3c57e43260a4dde6b3a07d83907f00027b2d0630f57201...              0   \n",
       "5552  2bd83ebefebebb50a01d637af893a9dadeac42fa114b13...              0   \n",
       "\n",
       "          live_stake     live_size  live_saturation  live_delegators  \\\n",
       "0     32128532235090  1.359849e-03     4.795368e-01             3170   \n",
       "1     19427988062303  8.222951e-04     2.899739e-01              170   \n",
       "2       567215180144  2.400750e-05     8.466013e-03               17   \n",
       "3      1735454735054  7.345360e-05     2.590266e-02              724   \n",
       "5         4000924534  1.693000e-07     5.971610e-05               14   \n",
       "...              ...           ...              ...              ...   \n",
       "5545     99576339881  4.214900e-06     1.486234e-03                2   \n",
       "5547       200850366  8.500000e-09     2.997800e-06                1   \n",
       "5549      1500600798  6.350000e-08     2.239730e-05                1   \n",
       "5550         2036975  1.000000e-10     3.040000e-08                1   \n",
       "5552     22497233760  9.523000e-07     3.357842e-04                1   \n",
       "\n",
       "        active_stake   active_size  declared_pledge   live_pledge  \\\n",
       "0     32462689016256  1.368182e-03     100000000000  574564954842   \n",
       "1     19414895397699  8.182658e-04     510000000000  567027531192   \n",
       "2       555030759623  2.339250e-05      50100000000  546041471277   \n",
       "3      1735713797295  7.315390e-05     200000000000  207011830413   \n",
       "5         4000924534  1.686000e-07       7149000000             0   \n",
       "...              ...           ...              ...           ...   \n",
       "5545               0  0.000000e+00         10000000     357225752   \n",
       "5547               0  0.000000e+00        150000000     200850366   \n",
       "5549               0  0.000000e+00       1500000000    1500600798   \n",
       "5550               0  0.000000e+00        100000000       2036975   \n",
       "5552               0  0.000000e+00      20000000000   22497233760   \n",
       "\n",
       "      margin_cost  fixed_cost  \\\n",
       "0           0.009   340000000   \n",
       "1           0.049   340000000   \n",
       "2           0.000   340000000   \n",
       "3           0.005   340000000   \n",
       "5           0.050   340000000   \n",
       "...           ...         ...   \n",
       "5545        0.020   340000000   \n",
       "5547        0.150   345000000   \n",
       "5549        0.010   340000000   \n",
       "5550        0.000   340000000   \n",
       "5552        0.045   340000000   \n",
       "\n",
       "                                         reward_account  \\\n",
       "0     stake1uy89kzrdlpaz5rzu8x95r4qnlpqhd3f8mf09edjp...   \n",
       "1     stake1u98nnlkvkk23vtvf9273uq7cph5ww6u2yq2389ps...   \n",
       "2     stake1uyx0ut5wc5nmu0tacjc9pyyahdyq5ujghwljkdxr...   \n",
       "3     stake1uxxsa2rlkv728pve3ks7kn7c6v68luagdjgwa0me...   \n",
       "5     stake1u9w20uzsevkxe6vp2nlmqjjrcj4gvcf560tvufuv...   \n",
       "...                                                 ...   \n",
       "5545  stake1u9zg9dxymfg02rvev7he2h8j9ptuj45s8qeu8hvs...   \n",
       "5547  stake1u8eyvgp8r7mhgszfevapn4vul283sqkls3hvaf6q...   \n",
       "5549  stake1u9yw7t3gksm445svqhsjxq7vhccqcngjgh2vwczv...   \n",
       "5550  stake1u9vlltzshvet0clpzkt6fhfwgt2jw4m3jarddc4n...   \n",
       "5552  stake1uxe45jdlkedl8hq59slcdzy2078pxylsujzwfr8m...   \n",
       "\n",
       "                                                 owners  \\\n",
       "0     ['stake1uy89kzrdlpaz5rzu8x95r4qnlpqhd3f8mf09ed...   \n",
       "1     ['stake1u98nnlkvkk23vtvf9273uq7cph5ww6u2yq2389...   \n",
       "2     ['stake1uyx0ut5wc5nmu0tacjc9pyyahdyq5ujghwljkd...   \n",
       "3     ['stake1uxxsa2rlkv728pve3ks7kn7c6v68luagdjgwa0...   \n",
       "5     ['stake1u9w20uzsevkxe6vp2nlmqjjrcj4gvcf560tvuf...   \n",
       "...                                                 ...   \n",
       "5545  ['stake1u9zg9dxymfg02rvev7he2h8j9ptuj45s8qeu8h...   \n",
       "5547  ['stake1u8eyvgp8r7mhgszfevapn4vul283sqkls3hvaf...   \n",
       "5549  ['stake1u9yw7t3gksm445svqhsjxq7vhccqcngjgh2vwc...   \n",
       "5550  ['stake1u9vlltzshvet0clpzkt6fhfwgt2jw4m3jarddc...   \n",
       "5552  ['stake1uxe45jdlkedl8hq59slcdzy2078pxylsujzwfr...   \n",
       "\n",
       "                                           registration retirement  \\\n",
       "0     ['841cca81da918feb9fa7257a34630eac95794be712ed...         []   \n",
       "1     ['a96c79773b7506211eb56bf94886a2face17657d1009...         []   \n",
       "2     ['37f5682e2622c821175bab9d5637b7321ecacc5ec663...         []   \n",
       "3     ['e8951eddb19b697bc74549aa9d4f956a8be8d5cf2c7a...         []   \n",
       "5     ['ff2d9576bd9c5e1dff6c9987860de39366f7b75dd6bb...         []   \n",
       "...                                                 ...        ...   \n",
       "5545  ['36783438a6b445690de40f589ae6a24f13300f1a9091...         []   \n",
       "5547  ['165c92f88abfebfd39d458ed4d1d917486ec5927c363...         []   \n",
       "5549  ['0c5f5e2b09b5885efd835f509be684aa2df8bafb0ce4...         []   \n",
       "5550  ['e5066e9eaef49c079cf84af8c54f55bcce4ee76ea0bb...         []   \n",
       "5552  ['54530bc2682ba27923a5d81fc230c7ddd330cd7d0e6e...         []   \n",
       "\n",
       "                             ip_host   port  \\\n",
       "0                       54.220.20.40   3002   \n",
       "1       relays.mainnet.stakenuts.com   3001   \n",
       "2                relay.zenithpool.io  31400   \n",
       "3                       95.183.53.20   6060   \n",
       "5                    139.162.148.181   8088   \n",
       "...                              ...    ...   \n",
       "5545                   47.241.248.83   3001   \n",
       "5547         crdrl1.stakemachine.net   9961   \n",
       "5549  relaynode1.higer-stakepool.com   6000   \n",
       "5550                    217.28.30.43   6000   \n",
       "5552                  65.108.107.238   6000   \n",
       "\n",
       "                                                    url  \\\n",
       "0     https://raw.githubusercontent.com/Octalus/card...   \n",
       "1                    https://stakenuts.com/mainnet.json   \n",
       "2                        https://metadata.zenithpool.io   \n",
       "3                          https://ispool.live/metadata   \n",
       "5        https://pool.adascan.net/meta/v1/poolmeta.json   \n",
       "...                                                 ...   \n",
       "5545  https://walletada.hotbitdemo.com/adapool_metad...   \n",
       "5547       https://www.stakemachine.net/cardano_sm.json   \n",
       "5549                               https://git.io/JSDk9   \n",
       "5550                               https://git.io/JySpg   \n",
       "5552         https://0xdeadbeef.network/roots-meta.json   \n",
       "\n",
       "                                                   hash ticker  \\\n",
       "0     ca7d12decf886e31f5226b5946c62edc81a7e40af95ce7...  OCTAS   \n",
       "1     47c0c68cb57f4a5b4a87bad896fc274678e7aea98e200f...   NUTS   \n",
       "2     21cc44498ab6e74e081a805e629fff171a66d0c8d034f9...    ZEN   \n",
       "3     34fdde237812fab14d29a80423bb295f39122f4fea1aae...    000   \n",
       "5     79e7cf8d936bf0ced040516b288e2edc76f2f87af5400f...   None   \n",
       "...                                                 ...    ...   \n",
       "5545  0a93741db4f79a688ce407faa28b9b4a56b0055aa0bd0c...    HTB   \n",
       "5547  24187af340d0d5abba13f6ea1571804814f740fe6871d1...  SMACH   \n",
       "5549  053b4fcdd91dc15c5ee74c768395b70b9fb580da65e16f...  HIGER   \n",
       "5550  d1969ef9bc1733e7c2a6569ec747245ba8bac7626d4147...   None   \n",
       "5552  2af57d0d3373b23b2a32763de09a47016d13e44a9dcbfc...  ROOTS   \n",
       "\n",
       "                        name  \\\n",
       "0                  OctasPool   \n",
       "1                  StakeNuts   \n",
       "2                     ZENITH   \n",
       "3     Switzerland Investment   \n",
       "5                       None   \n",
       "...                      ...   \n",
       "5545              HotbitPool   \n",
       "5547            StakeMachine   \n",
       "5549                   HIGER   \n",
       "5550                    None   \n",
       "5552                   ROOTS   \n",
       "\n",
       "                                            description  \\\n",
       "0                               Octa's Performance Pool   \n",
       "1                                         StakeNuts.com   \n",
       "2     One owner, one operator, one pool. Operating s...   \n",
       "3     Stability, Security, Reliability, Neutrality! ...   \n",
       "5                                                  None   \n",
       "...                                                 ...   \n",
       "5545                                         HotbitPool   \n",
       "5547                    Professional CARDANO stake pool   \n",
       "5549  Professional managed stake pool located in sou...   \n",
       "5550                                               None   \n",
       "5552                             Connect to your ROOTS.   \n",
       "\n",
       "                          homepage      resolved_ip   longitude   latitude  \\\n",
       "0      https://octaluso.dyndns.org     54.220.20.40   -6.243330  53.353889   \n",
       "1           https://stakenuts.com/    198.13.62.211  139.746155  35.583511   \n",
       "2            https://zenithpool.io   193.122.12.254 -122.333519  47.611012   \n",
       "3             https://ispool.live/     95.183.53.20    8.536950  47.374168   \n",
       "5                             None  139.162.148.181    8.682100  50.110901   \n",
       "...                            ...              ...         ...        ...   \n",
       "5545         https://www.hotbit.io    47.241.248.83  103.851784   1.287950   \n",
       "5547  https://www.stakemachine.net   194.35.120.118   11.214280  49.375061   \n",
       "5549   https://higer-stakepool.com     109.90.24.88    6.960300  50.937500   \n",
       "5550                          None     217.28.30.43  -71.208183  46.814301   \n",
       "5552      https://theearthpool.com   65.108.107.238   10.753400  49.115940   \n",
       "\n",
       "           zip             region_name region_code  \\\n",
       "0         None                Leinster           L   \n",
       "1     143-0006                Kanagawa          14   \n",
       "2        98101              Washington          WA   \n",
       "3         8043                  Zurich          ZH   \n",
       "5        60311                   Hesse          HE   \n",
       "...        ...                     ...         ...   \n",
       "5545      None       Central Singapore          01   \n",
       "5547     90537                 Bavaria          BY   \n",
       "5549     50667  North Rhine-Westphalia          NW   \n",
       "5550   G1R 5M1                  Quebec          QC   \n",
       "5552     91710                 Bavaria          BY   \n",
       "\n",
       "                                             connection               city  \\\n",
       "0              {'asn': 16509, 'isp': 'amazon.com, Inc'}             Dublin   \n",
       "1     {'asn': 20473, 'isp': 'The Constant Company LLC'}           Kawasaki   \n",
       "2           {'asn': 31898, 'isp': 'Oracle Corporation'}            Seattle   \n",
       "3     {'asn': 197988, 'isp': 'Solar Communications G...             Zürich   \n",
       "5                   {'asn': 63949, 'isp': 'Linode LLC'}  Frankfurt am Main   \n",
       "...                                                 ...                ...   \n",
       "5545  {'asn': 45102, 'isp': 'Alibaba (Us) Technology...          Singapore   \n",
       "5547  {'asn': 204644, 'isp': 'Stumpner Netservice Ug...        Wendelstein   \n",
       "5549              {'asn': 3209, 'isp': 'Vodafone Gmbh'}               Köln   \n",
       "5550                     {'asn': 398721, 'isp': 'Oxio'}             Québec   \n",
       "5552       {'asn': 24940, 'isp': 'Hetzner Online Gmbh'}       Gunzenhausen   \n",
       "\n",
       "       country_name country_code  error  success  detail  \\\n",
       "0           Ireland           IE    NaN      NaN     NaN   \n",
       "1             Japan           JP    NaN      NaN     NaN   \n",
       "2     United States           US    NaN      NaN     NaN   \n",
       "3       Switzerland           CH    NaN      NaN     NaN   \n",
       "5           Germany           DE    NaN      NaN     NaN   \n",
       "...             ...          ...    ...      ...     ...   \n",
       "5545      Singapore           SG    NaN      NaN     NaN   \n",
       "5547        Germany           DE    NaN      NaN     NaN   \n",
       "5549        Germany           DE    NaN      NaN     NaN   \n",
       "5550         Canada           CA    NaN      NaN     NaN   \n",
       "5552        Germany           DE    NaN      NaN     NaN   \n",
       "\n",
       "                                               isp     asn  live_stake_ada  \\\n",
       "0                                  amazon.com, Inc   16509    3.212853e+07   \n",
       "1                         The Constant Company LLC   20473    1.942799e+07   \n",
       "2                               Oracle Corporation   31898    5.672152e+05   \n",
       "3                        Solar Communications Gmbh  197988    1.735455e+06   \n",
       "5                                       Linode LLC   63949    4.000925e+03   \n",
       "...                                            ...     ...             ...   \n",
       "5545              Alibaba (Us) Technology Co. Ltd.   45102    9.957634e+04   \n",
       "5547  Stumpner Netservice Ug (Haftungsbeschraenkt)  204644    2.008504e+02   \n",
       "5549                                 Vodafone Gmbh    3209    1.500601e+03   \n",
       "5550                                          Oxio  398721    2.036975e+00   \n",
       "5552                           Hetzner Online Gmbh   24940    2.249723e+04   \n",
       "\n",
       "      live_pledge_ada  live_declared_pledge_ada  pledge_ratio  \n",
       "0       574564.954842                  100000.0    321.285322  \n",
       "1       567027.531192                  510000.0     38.094094  \n",
       "2       546041.471277                   50100.0     11.321660  \n",
       "3       207011.830413                  200000.0      8.677274  \n",
       "5            0.000000                    7149.0      0.559648  \n",
       "...               ...                       ...           ...  \n",
       "5545       357.225752                      10.0   9957.633988  \n",
       "5547       200.850366                     150.0      1.339002  \n",
       "5549      1500.600798                    1500.0      1.000401  \n",
       "5550         2.036975                     100.0      0.020370  \n",
       "5552     22497.233760                   20000.0      1.124862  \n",
       "\n",
       "[3039 rows x 45 columns]"
      ]
     },
     "execution_count": 135,
     "metadata": {},
     "output_type": "execute_result"
    }
   ],
   "source": [
    "df_ada_staked_per_pool['pledge_ratio'] = (df_ada_staked_per_pool.live_stake_ada/df_ada_staked_per_pool.live_declared_pledge_ada)\n",
    "df_ada_staked_per_pool"
   ]
  },
  {
   "cell_type": "code",
   "execution_count": 136,
   "metadata": {},
   "outputs": [
    {
     "data": {
      "text/html": [
       "<div>\n",
       "<style scoped>\n",
       "    .dataframe tbody tr th:only-of-type {\n",
       "        vertical-align: middle;\n",
       "    }\n",
       "\n",
       "    .dataframe tbody tr th {\n",
       "        vertical-align: top;\n",
       "    }\n",
       "\n",
       "    .dataframe thead th {\n",
       "        text-align: right;\n",
       "    }\n",
       "</style>\n",
       "<table border=\"1\" class=\"dataframe\">\n",
       "  <thead>\n",
       "    <tr style=\"text-align: right;\">\n",
       "      <th></th>\n",
       "      <th>pool_id</th>\n",
       "      <th>hex</th>\n",
       "      <th>vrf_key</th>\n",
       "      <th>blocks_minted</th>\n",
       "      <th>live_stake</th>\n",
       "      <th>live_size</th>\n",
       "      <th>live_saturation</th>\n",
       "      <th>live_delegators</th>\n",
       "      <th>active_stake</th>\n",
       "      <th>active_size</th>\n",
       "      <th>declared_pledge</th>\n",
       "      <th>live_pledge</th>\n",
       "      <th>margin_cost</th>\n",
       "      <th>fixed_cost</th>\n",
       "      <th>reward_account</th>\n",
       "      <th>owners</th>\n",
       "      <th>registration</th>\n",
       "      <th>retirement</th>\n",
       "      <th>ip_host</th>\n",
       "      <th>port</th>\n",
       "      <th>url</th>\n",
       "      <th>hash</th>\n",
       "      <th>ticker</th>\n",
       "      <th>name</th>\n",
       "      <th>description</th>\n",
       "      <th>homepage</th>\n",
       "      <th>resolved_ip</th>\n",
       "      <th>longitude</th>\n",
       "      <th>latitude</th>\n",
       "      <th>zip</th>\n",
       "      <th>region_name</th>\n",
       "      <th>region_code</th>\n",
       "      <th>connection</th>\n",
       "      <th>city</th>\n",
       "      <th>country_name</th>\n",
       "      <th>country_code</th>\n",
       "      <th>error</th>\n",
       "      <th>success</th>\n",
       "      <th>detail</th>\n",
       "      <th>isp</th>\n",
       "      <th>asn</th>\n",
       "      <th>live_stake_ada</th>\n",
       "      <th>live_pledge_ada</th>\n",
       "      <th>live_declared_pledge_ada</th>\n",
       "      <th>pledge_ratio</th>\n",
       "      <th>live_saturation_percentage</th>\n",
       "    </tr>\n",
       "  </thead>\n",
       "  <tbody>\n",
       "    <tr>\n",
       "      <th>0</th>\n",
       "      <td>pool1z5uqdk7dzdxaae5633fqfcu2eqzy3a3rgtuvy087f...</td>\n",
       "      <td>153806dbcd134ddee69a8c5204e38ac80448f62342f8c2...</td>\n",
       "      <td>0220a5d08adbfe9554b52d7b2993be5892ac3ff340e674...</td>\n",
       "      <td>4097</td>\n",
       "      <td>32128532235090</td>\n",
       "      <td>1.359849e-03</td>\n",
       "      <td>4.795368e-01</td>\n",
       "      <td>3170</td>\n",
       "      <td>32462689016256</td>\n",
       "      <td>1.368182e-03</td>\n",
       "      <td>100000000000</td>\n",
       "      <td>574564954842</td>\n",
       "      <td>0.009</td>\n",
       "      <td>340000000</td>\n",
       "      <td>stake1uy89kzrdlpaz5rzu8x95r4qnlpqhd3f8mf09edjp...</td>\n",
       "      <td>['stake1uy89kzrdlpaz5rzu8x95r4qnlpqhd3f8mf09ed...</td>\n",
       "      <td>['841cca81da918feb9fa7257a34630eac95794be712ed...</td>\n",
       "      <td>[]</td>\n",
       "      <td>54.220.20.40</td>\n",
       "      <td>3002</td>\n",
       "      <td>https://raw.githubusercontent.com/Octalus/card...</td>\n",
       "      <td>ca7d12decf886e31f5226b5946c62edc81a7e40af95ce7...</td>\n",
       "      <td>OCTAS</td>\n",
       "      <td>OctasPool</td>\n",
       "      <td>Octa's Performance Pool</td>\n",
       "      <td>https://octaluso.dyndns.org</td>\n",
       "      <td>54.220.20.40</td>\n",
       "      <td>-6.243330</td>\n",
       "      <td>53.353889</td>\n",
       "      <td>None</td>\n",
       "      <td>Leinster</td>\n",
       "      <td>L</td>\n",
       "      <td>{'asn': 16509, 'isp': 'amazon.com, Inc'}</td>\n",
       "      <td>Dublin</td>\n",
       "      <td>Ireland</td>\n",
       "      <td>IE</td>\n",
       "      <td>NaN</td>\n",
       "      <td>NaN</td>\n",
       "      <td>NaN</td>\n",
       "      <td>amazon.com, Inc</td>\n",
       "      <td>16509</td>\n",
       "      <td>3.212853e+07</td>\n",
       "      <td>574564.954842</td>\n",
       "      <td>100000.0</td>\n",
       "      <td>321.285322</td>\n",
       "      <td>4.795368e-01</td>\n",
       "    </tr>\n",
       "    <tr>\n",
       "      <th>1</th>\n",
       "      <td>pool1pu5jlj4q9w9jlxeu370a3c9myx47md5j5m2str0na...</td>\n",
       "      <td>0f292fcaa02b8b2f9b3c8f9fd8e0bb21abedb692a6d505...</td>\n",
       "      <td>b512cc7c1a8ba689c2d8fd27adfdbac2049a3f8f95c8b8...</td>\n",
       "      <td>1824</td>\n",
       "      <td>19427988062303</td>\n",
       "      <td>8.222951e-04</td>\n",
       "      <td>2.899739e-01</td>\n",
       "      <td>170</td>\n",
       "      <td>19414895397699</td>\n",
       "      <td>8.182658e-04</td>\n",
       "      <td>510000000000</td>\n",
       "      <td>567027531192</td>\n",
       "      <td>0.049</td>\n",
       "      <td>340000000</td>\n",
       "      <td>stake1u98nnlkvkk23vtvf9273uq7cph5ww6u2yq2389ps...</td>\n",
       "      <td>['stake1u98nnlkvkk23vtvf9273uq7cph5ww6u2yq2389...</td>\n",
       "      <td>['a96c79773b7506211eb56bf94886a2face17657d1009...</td>\n",
       "      <td>[]</td>\n",
       "      <td>relays.mainnet.stakenuts.com</td>\n",
       "      <td>3001</td>\n",
       "      <td>https://stakenuts.com/mainnet.json</td>\n",
       "      <td>47c0c68cb57f4a5b4a87bad896fc274678e7aea98e200f...</td>\n",
       "      <td>NUTS</td>\n",
       "      <td>StakeNuts</td>\n",
       "      <td>StakeNuts.com</td>\n",
       "      <td>https://stakenuts.com/</td>\n",
       "      <td>198.13.62.211</td>\n",
       "      <td>139.746155</td>\n",
       "      <td>35.583511</td>\n",
       "      <td>143-0006</td>\n",
       "      <td>Kanagawa</td>\n",
       "      <td>14</td>\n",
       "      <td>{'asn': 20473, 'isp': 'The Constant Company LLC'}</td>\n",
       "      <td>Kawasaki</td>\n",
       "      <td>Japan</td>\n",
       "      <td>JP</td>\n",
       "      <td>NaN</td>\n",
       "      <td>NaN</td>\n",
       "      <td>NaN</td>\n",
       "      <td>The Constant Company LLC</td>\n",
       "      <td>20473</td>\n",
       "      <td>1.942799e+07</td>\n",
       "      <td>567027.531192</td>\n",
       "      <td>510000.0</td>\n",
       "      <td>38.094094</td>\n",
       "      <td>2.899739e-01</td>\n",
       "    </tr>\n",
       "    <tr>\n",
       "      <th>2</th>\n",
       "      <td>pool1c8k78ny3xvsfgenhf4yzvpzwgzxmz0t0um0h2xnn2...</td>\n",
       "      <td>c1ede3cc9133209466774d4826044e408db13d6fe6df75...</td>\n",
       "      <td>b8ba5f7dcbf17e95781e325114da46def1fa908435a27d...</td>\n",
       "      <td>80</td>\n",
       "      <td>567215180144</td>\n",
       "      <td>2.400750e-05</td>\n",
       "      <td>8.466013e-03</td>\n",
       "      <td>17</td>\n",
       "      <td>555030759623</td>\n",
       "      <td>2.339250e-05</td>\n",
       "      <td>50100000000</td>\n",
       "      <td>546041471277</td>\n",
       "      <td>0.000</td>\n",
       "      <td>340000000</td>\n",
       "      <td>stake1uyx0ut5wc5nmu0tacjc9pyyahdyq5ujghwljkdxr...</td>\n",
       "      <td>['stake1uyx0ut5wc5nmu0tacjc9pyyahdyq5ujghwljkd...</td>\n",
       "      <td>['37f5682e2622c821175bab9d5637b7321ecacc5ec663...</td>\n",
       "      <td>[]</td>\n",
       "      <td>relay.zenithpool.io</td>\n",
       "      <td>31400</td>\n",
       "      <td>https://metadata.zenithpool.io</td>\n",
       "      <td>21cc44498ab6e74e081a805e629fff171a66d0c8d034f9...</td>\n",
       "      <td>ZEN</td>\n",
       "      <td>ZENITH</td>\n",
       "      <td>One owner, one operator, one pool. Operating s...</td>\n",
       "      <td>https://zenithpool.io</td>\n",
       "      <td>193.122.12.254</td>\n",
       "      <td>-122.333519</td>\n",
       "      <td>47.611012</td>\n",
       "      <td>98101</td>\n",
       "      <td>Washington</td>\n",
       "      <td>WA</td>\n",
       "      <td>{'asn': 31898, 'isp': 'Oracle Corporation'}</td>\n",
       "      <td>Seattle</td>\n",
       "      <td>United States</td>\n",
       "      <td>US</td>\n",
       "      <td>NaN</td>\n",
       "      <td>NaN</td>\n",
       "      <td>NaN</td>\n",
       "      <td>Oracle Corporation</td>\n",
       "      <td>31898</td>\n",
       "      <td>5.672152e+05</td>\n",
       "      <td>546041.471277</td>\n",
       "      <td>50100.0</td>\n",
       "      <td>11.321660</td>\n",
       "      <td>8.466013e-03</td>\n",
       "    </tr>\n",
       "    <tr>\n",
       "      <th>3</th>\n",
       "      <td>pool1q80jjs53w0fx836n8g38gtdwr8ck5zre3da90peux...</td>\n",
       "      <td>01df29429173d263c7533a22742dae19f16a08798b7a57...</td>\n",
       "      <td>b75115a1e4e32a33985fc720f3715f0e99617b448fbc36...</td>\n",
       "      <td>259</td>\n",
       "      <td>1735454735054</td>\n",
       "      <td>7.345360e-05</td>\n",
       "      <td>2.590266e-02</td>\n",
       "      <td>724</td>\n",
       "      <td>1735713797295</td>\n",
       "      <td>7.315390e-05</td>\n",
       "      <td>200000000000</td>\n",
       "      <td>207011830413</td>\n",
       "      <td>0.005</td>\n",
       "      <td>340000000</td>\n",
       "      <td>stake1uxxsa2rlkv728pve3ks7kn7c6v68luagdjgwa0me...</td>\n",
       "      <td>['stake1uxxsa2rlkv728pve3ks7kn7c6v68luagdjgwa0...</td>\n",
       "      <td>['e8951eddb19b697bc74549aa9d4f956a8be8d5cf2c7a...</td>\n",
       "      <td>[]</td>\n",
       "      <td>95.183.53.20</td>\n",
       "      <td>6060</td>\n",
       "      <td>https://ispool.live/metadata</td>\n",
       "      <td>34fdde237812fab14d29a80423bb295f39122f4fea1aae...</td>\n",
       "      <td>000</td>\n",
       "      <td>Switzerland Investment</td>\n",
       "      <td>Stability, Security, Reliability, Neutrality! ...</td>\n",
       "      <td>https://ispool.live/</td>\n",
       "      <td>95.183.53.20</td>\n",
       "      <td>8.536950</td>\n",
       "      <td>47.374168</td>\n",
       "      <td>8043</td>\n",
       "      <td>Zurich</td>\n",
       "      <td>ZH</td>\n",
       "      <td>{'asn': 197988, 'isp': 'Solar Communications G...</td>\n",
       "      <td>Zürich</td>\n",
       "      <td>Switzerland</td>\n",
       "      <td>CH</td>\n",
       "      <td>NaN</td>\n",
       "      <td>NaN</td>\n",
       "      <td>NaN</td>\n",
       "      <td>Solar Communications Gmbh</td>\n",
       "      <td>197988</td>\n",
       "      <td>1.735455e+06</td>\n",
       "      <td>207011.830413</td>\n",
       "      <td>200000.0</td>\n",
       "      <td>8.677274</td>\n",
       "      <td>2.590266e-02</td>\n",
       "    </tr>\n",
       "    <tr>\n",
       "      <th>5</th>\n",
       "      <td>pool1ddskftmsscw92d7vnj89pldwx5feegkgcmamgt5t0...</td>\n",
       "      <td>6b6164af70861c5537cc9c8e50fdae35139ca2c8c6fbb4...</td>\n",
       "      <td>78b0b08fec7458afd1209dcd26bd0c10faa640a49d5013...</td>\n",
       "      <td>23</td>\n",
       "      <td>4000924534</td>\n",
       "      <td>1.693000e-07</td>\n",
       "      <td>5.971610e-05</td>\n",
       "      <td>14</td>\n",
       "      <td>4000924534</td>\n",
       "      <td>1.686000e-07</td>\n",
       "      <td>7149000000</td>\n",
       "      <td>0</td>\n",
       "      <td>0.050</td>\n",
       "      <td>340000000</td>\n",
       "      <td>stake1u9w20uzsevkxe6vp2nlmqjjrcj4gvcf560tvufuv...</td>\n",
       "      <td>['stake1u9w20uzsevkxe6vp2nlmqjjrcj4gvcf560tvuf...</td>\n",
       "      <td>['ff2d9576bd9c5e1dff6c9987860de39366f7b75dd6bb...</td>\n",
       "      <td>[]</td>\n",
       "      <td>139.162.148.181</td>\n",
       "      <td>8088</td>\n",
       "      <td>https://pool.adascan.net/meta/v1/poolmeta.json</td>\n",
       "      <td>79e7cf8d936bf0ced040516b288e2edc76f2f87af5400f...</td>\n",
       "      <td>None</td>\n",
       "      <td>None</td>\n",
       "      <td>None</td>\n",
       "      <td>None</td>\n",
       "      <td>139.162.148.181</td>\n",
       "      <td>8.682100</td>\n",
       "      <td>50.110901</td>\n",
       "      <td>60311</td>\n",
       "      <td>Hesse</td>\n",
       "      <td>HE</td>\n",
       "      <td>{'asn': 63949, 'isp': 'Linode LLC'}</td>\n",
       "      <td>Frankfurt am Main</td>\n",
       "      <td>Germany</td>\n",
       "      <td>DE</td>\n",
       "      <td>NaN</td>\n",
       "      <td>NaN</td>\n",
       "      <td>NaN</td>\n",
       "      <td>Linode LLC</td>\n",
       "      <td>63949</td>\n",
       "      <td>4.000925e+03</td>\n",
       "      <td>0.000000</td>\n",
       "      <td>7149.0</td>\n",
       "      <td>0.559648</td>\n",
       "      <td>5.971610e-05</td>\n",
       "    </tr>\n",
       "    <tr>\n",
       "      <th>...</th>\n",
       "      <td>...</td>\n",
       "      <td>...</td>\n",
       "      <td>...</td>\n",
       "      <td>...</td>\n",
       "      <td>...</td>\n",
       "      <td>...</td>\n",
       "      <td>...</td>\n",
       "      <td>...</td>\n",
       "      <td>...</td>\n",
       "      <td>...</td>\n",
       "      <td>...</td>\n",
       "      <td>...</td>\n",
       "      <td>...</td>\n",
       "      <td>...</td>\n",
       "      <td>...</td>\n",
       "      <td>...</td>\n",
       "      <td>...</td>\n",
       "      <td>...</td>\n",
       "      <td>...</td>\n",
       "      <td>...</td>\n",
       "      <td>...</td>\n",
       "      <td>...</td>\n",
       "      <td>...</td>\n",
       "      <td>...</td>\n",
       "      <td>...</td>\n",
       "      <td>...</td>\n",
       "      <td>...</td>\n",
       "      <td>...</td>\n",
       "      <td>...</td>\n",
       "      <td>...</td>\n",
       "      <td>...</td>\n",
       "      <td>...</td>\n",
       "      <td>...</td>\n",
       "      <td>...</td>\n",
       "      <td>...</td>\n",
       "      <td>...</td>\n",
       "      <td>...</td>\n",
       "      <td>...</td>\n",
       "      <td>...</td>\n",
       "      <td>...</td>\n",
       "      <td>...</td>\n",
       "      <td>...</td>\n",
       "      <td>...</td>\n",
       "      <td>...</td>\n",
       "      <td>...</td>\n",
       "      <td>...</td>\n",
       "    </tr>\n",
       "    <tr>\n",
       "      <th>5545</th>\n",
       "      <td>pool1sk6jvl4u8m4peddwqxzslgt82n57qy0rug2j0jfzk...</td>\n",
       "      <td>85b5267ebc3eea1cb5ae01850fa16754e9e011e3e21527...</td>\n",
       "      <td>2d673584d7b29070ba9355df7e787176a822338f0457d4...</td>\n",
       "      <td>0</td>\n",
       "      <td>99576339881</td>\n",
       "      <td>4.214900e-06</td>\n",
       "      <td>1.486234e-03</td>\n",
       "      <td>2</td>\n",
       "      <td>0</td>\n",
       "      <td>0.000000e+00</td>\n",
       "      <td>10000000</td>\n",
       "      <td>357225752</td>\n",
       "      <td>0.020</td>\n",
       "      <td>340000000</td>\n",
       "      <td>stake1u9zg9dxymfg02rvev7he2h8j9ptuj45s8qeu8hvs...</td>\n",
       "      <td>['stake1u9zg9dxymfg02rvev7he2h8j9ptuj45s8qeu8h...</td>\n",
       "      <td>['36783438a6b445690de40f589ae6a24f13300f1a9091...</td>\n",
       "      <td>[]</td>\n",
       "      <td>47.241.248.83</td>\n",
       "      <td>3001</td>\n",
       "      <td>https://walletada.hotbitdemo.com/adapool_metad...</td>\n",
       "      <td>0a93741db4f79a688ce407faa28b9b4a56b0055aa0bd0c...</td>\n",
       "      <td>HTB</td>\n",
       "      <td>HotbitPool</td>\n",
       "      <td>HotbitPool</td>\n",
       "      <td>https://www.hotbit.io</td>\n",
       "      <td>47.241.248.83</td>\n",
       "      <td>103.851784</td>\n",
       "      <td>1.287950</td>\n",
       "      <td>None</td>\n",
       "      <td>Central Singapore</td>\n",
       "      <td>01</td>\n",
       "      <td>{'asn': 45102, 'isp': 'Alibaba (Us) Technology...</td>\n",
       "      <td>Singapore</td>\n",
       "      <td>Singapore</td>\n",
       "      <td>SG</td>\n",
       "      <td>NaN</td>\n",
       "      <td>NaN</td>\n",
       "      <td>NaN</td>\n",
       "      <td>Alibaba (Us) Technology Co. Ltd.</td>\n",
       "      <td>45102</td>\n",
       "      <td>9.957634e+04</td>\n",
       "      <td>357.225752</td>\n",
       "      <td>10.0</td>\n",
       "      <td>9957.633988</td>\n",
       "      <td>1.486234e-03</td>\n",
       "    </tr>\n",
       "    <tr>\n",
       "      <th>5547</th>\n",
       "      <td>pool1l6946mnu54f6v0we4xzra8kwm68ch7fphhxvgytd0...</td>\n",
       "      <td>fe8b5d6e7ca553a63dd9a9843e9ecede8f8bf921bdccc4...</td>\n",
       "      <td>4b5cc8a3499e69683701957db53a7297b99df317d21532...</td>\n",
       "      <td>0</td>\n",
       "      <td>200850366</td>\n",
       "      <td>8.500000e-09</td>\n",
       "      <td>2.997800e-06</td>\n",
       "      <td>1</td>\n",
       "      <td>0</td>\n",
       "      <td>0.000000e+00</td>\n",
       "      <td>150000000</td>\n",
       "      <td>200850366</td>\n",
       "      <td>0.150</td>\n",
       "      <td>345000000</td>\n",
       "      <td>stake1u8eyvgp8r7mhgszfevapn4vul283sqkls3hvaf6q...</td>\n",
       "      <td>['stake1u8eyvgp8r7mhgszfevapn4vul283sqkls3hvaf...</td>\n",
       "      <td>['165c92f88abfebfd39d458ed4d1d917486ec5927c363...</td>\n",
       "      <td>[]</td>\n",
       "      <td>crdrl1.stakemachine.net</td>\n",
       "      <td>9961</td>\n",
       "      <td>https://www.stakemachine.net/cardano_sm.json</td>\n",
       "      <td>24187af340d0d5abba13f6ea1571804814f740fe6871d1...</td>\n",
       "      <td>SMACH</td>\n",
       "      <td>StakeMachine</td>\n",
       "      <td>Professional CARDANO stake pool</td>\n",
       "      <td>https://www.stakemachine.net</td>\n",
       "      <td>194.35.120.118</td>\n",
       "      <td>11.214280</td>\n",
       "      <td>49.375061</td>\n",
       "      <td>90537</td>\n",
       "      <td>Bavaria</td>\n",
       "      <td>BY</td>\n",
       "      <td>{'asn': 204644, 'isp': 'Stumpner Netservice Ug...</td>\n",
       "      <td>Wendelstein</td>\n",
       "      <td>Germany</td>\n",
       "      <td>DE</td>\n",
       "      <td>NaN</td>\n",
       "      <td>NaN</td>\n",
       "      <td>NaN</td>\n",
       "      <td>Stumpner Netservice Ug (Haftungsbeschraenkt)</td>\n",
       "      <td>204644</td>\n",
       "      <td>2.008504e+02</td>\n",
       "      <td>200.850366</td>\n",
       "      <td>150.0</td>\n",
       "      <td>1.339002</td>\n",
       "      <td>2.997800e-06</td>\n",
       "    </tr>\n",
       "    <tr>\n",
       "      <th>5549</th>\n",
       "      <td>pool1vcc9lngr8g2j8xh0kgy84nne026adr5zmvwagkda9...</td>\n",
       "      <td>66305fcd033a15239aefb2087ace797ab5d68e82db1dd4...</td>\n",
       "      <td>cd7410122ca16a9660155c59340083a8e3b540016d043d...</td>\n",
       "      <td>0</td>\n",
       "      <td>1500600798</td>\n",
       "      <td>6.350000e-08</td>\n",
       "      <td>2.239730e-05</td>\n",
       "      <td>1</td>\n",
       "      <td>0</td>\n",
       "      <td>0.000000e+00</td>\n",
       "      <td>1500000000</td>\n",
       "      <td>1500600798</td>\n",
       "      <td>0.010</td>\n",
       "      <td>340000000</td>\n",
       "      <td>stake1u9yw7t3gksm445svqhsjxq7vhccqcngjgh2vwczv...</td>\n",
       "      <td>['stake1u9yw7t3gksm445svqhsjxq7vhccqcngjgh2vwc...</td>\n",
       "      <td>['0c5f5e2b09b5885efd835f509be684aa2df8bafb0ce4...</td>\n",
       "      <td>[]</td>\n",
       "      <td>relaynode1.higer-stakepool.com</td>\n",
       "      <td>6000</td>\n",
       "      <td>https://git.io/JSDk9</td>\n",
       "      <td>053b4fcdd91dc15c5ee74c768395b70b9fb580da65e16f...</td>\n",
       "      <td>HIGER</td>\n",
       "      <td>HIGER</td>\n",
       "      <td>Professional managed stake pool located in sou...</td>\n",
       "      <td>https://higer-stakepool.com</td>\n",
       "      <td>109.90.24.88</td>\n",
       "      <td>6.960300</td>\n",
       "      <td>50.937500</td>\n",
       "      <td>50667</td>\n",
       "      <td>North Rhine-Westphalia</td>\n",
       "      <td>NW</td>\n",
       "      <td>{'asn': 3209, 'isp': 'Vodafone Gmbh'}</td>\n",
       "      <td>Köln</td>\n",
       "      <td>Germany</td>\n",
       "      <td>DE</td>\n",
       "      <td>NaN</td>\n",
       "      <td>NaN</td>\n",
       "      <td>NaN</td>\n",
       "      <td>Vodafone Gmbh</td>\n",
       "      <td>3209</td>\n",
       "      <td>1.500601e+03</td>\n",
       "      <td>1500.600798</td>\n",
       "      <td>1500.0</td>\n",
       "      <td>1.000401</td>\n",
       "      <td>2.239730e-05</td>\n",
       "    </tr>\n",
       "    <tr>\n",
       "      <th>5550</th>\n",
       "      <td>pool1qcu4r9rw853pyvfznfeujfzxlku4xtvp8cas6c2y7...</td>\n",
       "      <td>063951946e3d221231229a73c92446fdb9532d813e3b0d...</td>\n",
       "      <td>3c57e43260a4dde6b3a07d83907f00027b2d0630f57201...</td>\n",
       "      <td>0</td>\n",
       "      <td>2036975</td>\n",
       "      <td>1.000000e-10</td>\n",
       "      <td>3.040000e-08</td>\n",
       "      <td>1</td>\n",
       "      <td>0</td>\n",
       "      <td>0.000000e+00</td>\n",
       "      <td>100000000</td>\n",
       "      <td>2036975</td>\n",
       "      <td>0.000</td>\n",
       "      <td>340000000</td>\n",
       "      <td>stake1u9vlltzshvet0clpzkt6fhfwgt2jw4m3jarddc4n...</td>\n",
       "      <td>['stake1u9vlltzshvet0clpzkt6fhfwgt2jw4m3jarddc...</td>\n",
       "      <td>['e5066e9eaef49c079cf84af8c54f55bcce4ee76ea0bb...</td>\n",
       "      <td>[]</td>\n",
       "      <td>217.28.30.43</td>\n",
       "      <td>6000</td>\n",
       "      <td>https://git.io/JySpg</td>\n",
       "      <td>d1969ef9bc1733e7c2a6569ec747245ba8bac7626d4147...</td>\n",
       "      <td>None</td>\n",
       "      <td>None</td>\n",
       "      <td>None</td>\n",
       "      <td>None</td>\n",
       "      <td>217.28.30.43</td>\n",
       "      <td>-71.208183</td>\n",
       "      <td>46.814301</td>\n",
       "      <td>G1R 5M1</td>\n",
       "      <td>Quebec</td>\n",
       "      <td>QC</td>\n",
       "      <td>{'asn': 398721, 'isp': 'Oxio'}</td>\n",
       "      <td>Québec</td>\n",
       "      <td>Canada</td>\n",
       "      <td>CA</td>\n",
       "      <td>NaN</td>\n",
       "      <td>NaN</td>\n",
       "      <td>NaN</td>\n",
       "      <td>Oxio</td>\n",
       "      <td>398721</td>\n",
       "      <td>2.036975e+00</td>\n",
       "      <td>2.036975</td>\n",
       "      <td>100.0</td>\n",
       "      <td>0.020370</td>\n",
       "      <td>3.040000e-08</td>\n",
       "    </tr>\n",
       "    <tr>\n",
       "      <th>5552</th>\n",
       "      <td>pool1etwkskpk7smvppts3d0wryqyxkm2udk2a4qy6eek5...</td>\n",
       "      <td>cadd685836f436c085708b5ee1900435b6ae36caed404d...</td>\n",
       "      <td>2bd83ebefebebb50a01d637af893a9dadeac42fa114b13...</td>\n",
       "      <td>0</td>\n",
       "      <td>22497233760</td>\n",
       "      <td>9.523000e-07</td>\n",
       "      <td>3.357842e-04</td>\n",
       "      <td>1</td>\n",
       "      <td>0</td>\n",
       "      <td>0.000000e+00</td>\n",
       "      <td>20000000000</td>\n",
       "      <td>22497233760</td>\n",
       "      <td>0.045</td>\n",
       "      <td>340000000</td>\n",
       "      <td>stake1uxe45jdlkedl8hq59slcdzy2078pxylsujzwfr8m...</td>\n",
       "      <td>['stake1uxe45jdlkedl8hq59slcdzy2078pxylsujzwfr...</td>\n",
       "      <td>['54530bc2682ba27923a5d81fc230c7ddd330cd7d0e6e...</td>\n",
       "      <td>[]</td>\n",
       "      <td>65.108.107.238</td>\n",
       "      <td>6000</td>\n",
       "      <td>https://0xdeadbeef.network/roots-meta.json</td>\n",
       "      <td>2af57d0d3373b23b2a32763de09a47016d13e44a9dcbfc...</td>\n",
       "      <td>ROOTS</td>\n",
       "      <td>ROOTS</td>\n",
       "      <td>Connect to your ROOTS.</td>\n",
       "      <td>https://theearthpool.com</td>\n",
       "      <td>65.108.107.238</td>\n",
       "      <td>10.753400</td>\n",
       "      <td>49.115940</td>\n",
       "      <td>91710</td>\n",
       "      <td>Bavaria</td>\n",
       "      <td>BY</td>\n",
       "      <td>{'asn': 24940, 'isp': 'Hetzner Online Gmbh'}</td>\n",
       "      <td>Gunzenhausen</td>\n",
       "      <td>Germany</td>\n",
       "      <td>DE</td>\n",
       "      <td>NaN</td>\n",
       "      <td>NaN</td>\n",
       "      <td>NaN</td>\n",
       "      <td>Hetzner Online Gmbh</td>\n",
       "      <td>24940</td>\n",
       "      <td>2.249723e+04</td>\n",
       "      <td>22497.233760</td>\n",
       "      <td>20000.0</td>\n",
       "      <td>1.124862</td>\n",
       "      <td>3.357842e-04</td>\n",
       "    </tr>\n",
       "  </tbody>\n",
       "</table>\n",
       "<p>3039 rows × 46 columns</p>\n",
       "</div>"
      ],
      "text/plain": [
       "                                                pool_id  \\\n",
       "0     pool1z5uqdk7dzdxaae5633fqfcu2eqzy3a3rgtuvy087f...   \n",
       "1     pool1pu5jlj4q9w9jlxeu370a3c9myx47md5j5m2str0na...   \n",
       "2     pool1c8k78ny3xvsfgenhf4yzvpzwgzxmz0t0um0h2xnn2...   \n",
       "3     pool1q80jjs53w0fx836n8g38gtdwr8ck5zre3da90peux...   \n",
       "5     pool1ddskftmsscw92d7vnj89pldwx5feegkgcmamgt5t0...   \n",
       "...                                                 ...   \n",
       "5545  pool1sk6jvl4u8m4peddwqxzslgt82n57qy0rug2j0jfzk...   \n",
       "5547  pool1l6946mnu54f6v0we4xzra8kwm68ch7fphhxvgytd0...   \n",
       "5549  pool1vcc9lngr8g2j8xh0kgy84nne026adr5zmvwagkda9...   \n",
       "5550  pool1qcu4r9rw853pyvfznfeujfzxlku4xtvp8cas6c2y7...   \n",
       "5552  pool1etwkskpk7smvppts3d0wryqyxkm2udk2a4qy6eek5...   \n",
       "\n",
       "                                                    hex  \\\n",
       "0     153806dbcd134ddee69a8c5204e38ac80448f62342f8c2...   \n",
       "1     0f292fcaa02b8b2f9b3c8f9fd8e0bb21abedb692a6d505...   \n",
       "2     c1ede3cc9133209466774d4826044e408db13d6fe6df75...   \n",
       "3     01df29429173d263c7533a22742dae19f16a08798b7a57...   \n",
       "5     6b6164af70861c5537cc9c8e50fdae35139ca2c8c6fbb4...   \n",
       "...                                                 ...   \n",
       "5545  85b5267ebc3eea1cb5ae01850fa16754e9e011e3e21527...   \n",
       "5547  fe8b5d6e7ca553a63dd9a9843e9ecede8f8bf921bdccc4...   \n",
       "5549  66305fcd033a15239aefb2087ace797ab5d68e82db1dd4...   \n",
       "5550  063951946e3d221231229a73c92446fdb9532d813e3b0d...   \n",
       "5552  cadd685836f436c085708b5ee1900435b6ae36caed404d...   \n",
       "\n",
       "                                                vrf_key  blocks_minted  \\\n",
       "0     0220a5d08adbfe9554b52d7b2993be5892ac3ff340e674...           4097   \n",
       "1     b512cc7c1a8ba689c2d8fd27adfdbac2049a3f8f95c8b8...           1824   \n",
       "2     b8ba5f7dcbf17e95781e325114da46def1fa908435a27d...             80   \n",
       "3     b75115a1e4e32a33985fc720f3715f0e99617b448fbc36...            259   \n",
       "5     78b0b08fec7458afd1209dcd26bd0c10faa640a49d5013...             23   \n",
       "...                                                 ...            ...   \n",
       "5545  2d673584d7b29070ba9355df7e787176a822338f0457d4...              0   \n",
       "5547  4b5cc8a3499e69683701957db53a7297b99df317d21532...              0   \n",
       "5549  cd7410122ca16a9660155c59340083a8e3b540016d043d...              0   \n",
       "5550  3c57e43260a4dde6b3a07d83907f00027b2d0630f57201...              0   \n",
       "5552  2bd83ebefebebb50a01d637af893a9dadeac42fa114b13...              0   \n",
       "\n",
       "          live_stake     live_size  live_saturation  live_delegators  \\\n",
       "0     32128532235090  1.359849e-03     4.795368e-01             3170   \n",
       "1     19427988062303  8.222951e-04     2.899739e-01              170   \n",
       "2       567215180144  2.400750e-05     8.466013e-03               17   \n",
       "3      1735454735054  7.345360e-05     2.590266e-02              724   \n",
       "5         4000924534  1.693000e-07     5.971610e-05               14   \n",
       "...              ...           ...              ...              ...   \n",
       "5545     99576339881  4.214900e-06     1.486234e-03                2   \n",
       "5547       200850366  8.500000e-09     2.997800e-06                1   \n",
       "5549      1500600798  6.350000e-08     2.239730e-05                1   \n",
       "5550         2036975  1.000000e-10     3.040000e-08                1   \n",
       "5552     22497233760  9.523000e-07     3.357842e-04                1   \n",
       "\n",
       "        active_stake   active_size  declared_pledge   live_pledge  \\\n",
       "0     32462689016256  1.368182e-03     100000000000  574564954842   \n",
       "1     19414895397699  8.182658e-04     510000000000  567027531192   \n",
       "2       555030759623  2.339250e-05      50100000000  546041471277   \n",
       "3      1735713797295  7.315390e-05     200000000000  207011830413   \n",
       "5         4000924534  1.686000e-07       7149000000             0   \n",
       "...              ...           ...              ...           ...   \n",
       "5545               0  0.000000e+00         10000000     357225752   \n",
       "5547               0  0.000000e+00        150000000     200850366   \n",
       "5549               0  0.000000e+00       1500000000    1500600798   \n",
       "5550               0  0.000000e+00        100000000       2036975   \n",
       "5552               0  0.000000e+00      20000000000   22497233760   \n",
       "\n",
       "      margin_cost  fixed_cost  \\\n",
       "0           0.009   340000000   \n",
       "1           0.049   340000000   \n",
       "2           0.000   340000000   \n",
       "3           0.005   340000000   \n",
       "5           0.050   340000000   \n",
       "...           ...         ...   \n",
       "5545        0.020   340000000   \n",
       "5547        0.150   345000000   \n",
       "5549        0.010   340000000   \n",
       "5550        0.000   340000000   \n",
       "5552        0.045   340000000   \n",
       "\n",
       "                                         reward_account  \\\n",
       "0     stake1uy89kzrdlpaz5rzu8x95r4qnlpqhd3f8mf09edjp...   \n",
       "1     stake1u98nnlkvkk23vtvf9273uq7cph5ww6u2yq2389ps...   \n",
       "2     stake1uyx0ut5wc5nmu0tacjc9pyyahdyq5ujghwljkdxr...   \n",
       "3     stake1uxxsa2rlkv728pve3ks7kn7c6v68luagdjgwa0me...   \n",
       "5     stake1u9w20uzsevkxe6vp2nlmqjjrcj4gvcf560tvufuv...   \n",
       "...                                                 ...   \n",
       "5545  stake1u9zg9dxymfg02rvev7he2h8j9ptuj45s8qeu8hvs...   \n",
       "5547  stake1u8eyvgp8r7mhgszfevapn4vul283sqkls3hvaf6q...   \n",
       "5549  stake1u9yw7t3gksm445svqhsjxq7vhccqcngjgh2vwczv...   \n",
       "5550  stake1u9vlltzshvet0clpzkt6fhfwgt2jw4m3jarddc4n...   \n",
       "5552  stake1uxe45jdlkedl8hq59slcdzy2078pxylsujzwfr8m...   \n",
       "\n",
       "                                                 owners  \\\n",
       "0     ['stake1uy89kzrdlpaz5rzu8x95r4qnlpqhd3f8mf09ed...   \n",
       "1     ['stake1u98nnlkvkk23vtvf9273uq7cph5ww6u2yq2389...   \n",
       "2     ['stake1uyx0ut5wc5nmu0tacjc9pyyahdyq5ujghwljkd...   \n",
       "3     ['stake1uxxsa2rlkv728pve3ks7kn7c6v68luagdjgwa0...   \n",
       "5     ['stake1u9w20uzsevkxe6vp2nlmqjjrcj4gvcf560tvuf...   \n",
       "...                                                 ...   \n",
       "5545  ['stake1u9zg9dxymfg02rvev7he2h8j9ptuj45s8qeu8h...   \n",
       "5547  ['stake1u8eyvgp8r7mhgszfevapn4vul283sqkls3hvaf...   \n",
       "5549  ['stake1u9yw7t3gksm445svqhsjxq7vhccqcngjgh2vwc...   \n",
       "5550  ['stake1u9vlltzshvet0clpzkt6fhfwgt2jw4m3jarddc...   \n",
       "5552  ['stake1uxe45jdlkedl8hq59slcdzy2078pxylsujzwfr...   \n",
       "\n",
       "                                           registration retirement  \\\n",
       "0     ['841cca81da918feb9fa7257a34630eac95794be712ed...         []   \n",
       "1     ['a96c79773b7506211eb56bf94886a2face17657d1009...         []   \n",
       "2     ['37f5682e2622c821175bab9d5637b7321ecacc5ec663...         []   \n",
       "3     ['e8951eddb19b697bc74549aa9d4f956a8be8d5cf2c7a...         []   \n",
       "5     ['ff2d9576bd9c5e1dff6c9987860de39366f7b75dd6bb...         []   \n",
       "...                                                 ...        ...   \n",
       "5545  ['36783438a6b445690de40f589ae6a24f13300f1a9091...         []   \n",
       "5547  ['165c92f88abfebfd39d458ed4d1d917486ec5927c363...         []   \n",
       "5549  ['0c5f5e2b09b5885efd835f509be684aa2df8bafb0ce4...         []   \n",
       "5550  ['e5066e9eaef49c079cf84af8c54f55bcce4ee76ea0bb...         []   \n",
       "5552  ['54530bc2682ba27923a5d81fc230c7ddd330cd7d0e6e...         []   \n",
       "\n",
       "                             ip_host   port  \\\n",
       "0                       54.220.20.40   3002   \n",
       "1       relays.mainnet.stakenuts.com   3001   \n",
       "2                relay.zenithpool.io  31400   \n",
       "3                       95.183.53.20   6060   \n",
       "5                    139.162.148.181   8088   \n",
       "...                              ...    ...   \n",
       "5545                   47.241.248.83   3001   \n",
       "5547         crdrl1.stakemachine.net   9961   \n",
       "5549  relaynode1.higer-stakepool.com   6000   \n",
       "5550                    217.28.30.43   6000   \n",
       "5552                  65.108.107.238   6000   \n",
       "\n",
       "                                                    url  \\\n",
       "0     https://raw.githubusercontent.com/Octalus/card...   \n",
       "1                    https://stakenuts.com/mainnet.json   \n",
       "2                        https://metadata.zenithpool.io   \n",
       "3                          https://ispool.live/metadata   \n",
       "5        https://pool.adascan.net/meta/v1/poolmeta.json   \n",
       "...                                                 ...   \n",
       "5545  https://walletada.hotbitdemo.com/adapool_metad...   \n",
       "5547       https://www.stakemachine.net/cardano_sm.json   \n",
       "5549                               https://git.io/JSDk9   \n",
       "5550                               https://git.io/JySpg   \n",
       "5552         https://0xdeadbeef.network/roots-meta.json   \n",
       "\n",
       "                                                   hash ticker  \\\n",
       "0     ca7d12decf886e31f5226b5946c62edc81a7e40af95ce7...  OCTAS   \n",
       "1     47c0c68cb57f4a5b4a87bad896fc274678e7aea98e200f...   NUTS   \n",
       "2     21cc44498ab6e74e081a805e629fff171a66d0c8d034f9...    ZEN   \n",
       "3     34fdde237812fab14d29a80423bb295f39122f4fea1aae...    000   \n",
       "5     79e7cf8d936bf0ced040516b288e2edc76f2f87af5400f...   None   \n",
       "...                                                 ...    ...   \n",
       "5545  0a93741db4f79a688ce407faa28b9b4a56b0055aa0bd0c...    HTB   \n",
       "5547  24187af340d0d5abba13f6ea1571804814f740fe6871d1...  SMACH   \n",
       "5549  053b4fcdd91dc15c5ee74c768395b70b9fb580da65e16f...  HIGER   \n",
       "5550  d1969ef9bc1733e7c2a6569ec747245ba8bac7626d4147...   None   \n",
       "5552  2af57d0d3373b23b2a32763de09a47016d13e44a9dcbfc...  ROOTS   \n",
       "\n",
       "                        name  \\\n",
       "0                  OctasPool   \n",
       "1                  StakeNuts   \n",
       "2                     ZENITH   \n",
       "3     Switzerland Investment   \n",
       "5                       None   \n",
       "...                      ...   \n",
       "5545              HotbitPool   \n",
       "5547            StakeMachine   \n",
       "5549                   HIGER   \n",
       "5550                    None   \n",
       "5552                   ROOTS   \n",
       "\n",
       "                                            description  \\\n",
       "0                               Octa's Performance Pool   \n",
       "1                                         StakeNuts.com   \n",
       "2     One owner, one operator, one pool. Operating s...   \n",
       "3     Stability, Security, Reliability, Neutrality! ...   \n",
       "5                                                  None   \n",
       "...                                                 ...   \n",
       "5545                                         HotbitPool   \n",
       "5547                    Professional CARDANO stake pool   \n",
       "5549  Professional managed stake pool located in sou...   \n",
       "5550                                               None   \n",
       "5552                             Connect to your ROOTS.   \n",
       "\n",
       "                          homepage      resolved_ip   longitude   latitude  \\\n",
       "0      https://octaluso.dyndns.org     54.220.20.40   -6.243330  53.353889   \n",
       "1           https://stakenuts.com/    198.13.62.211  139.746155  35.583511   \n",
       "2            https://zenithpool.io   193.122.12.254 -122.333519  47.611012   \n",
       "3             https://ispool.live/     95.183.53.20    8.536950  47.374168   \n",
       "5                             None  139.162.148.181    8.682100  50.110901   \n",
       "...                            ...              ...         ...        ...   \n",
       "5545         https://www.hotbit.io    47.241.248.83  103.851784   1.287950   \n",
       "5547  https://www.stakemachine.net   194.35.120.118   11.214280  49.375061   \n",
       "5549   https://higer-stakepool.com     109.90.24.88    6.960300  50.937500   \n",
       "5550                          None     217.28.30.43  -71.208183  46.814301   \n",
       "5552      https://theearthpool.com   65.108.107.238   10.753400  49.115940   \n",
       "\n",
       "           zip             region_name region_code  \\\n",
       "0         None                Leinster           L   \n",
       "1     143-0006                Kanagawa          14   \n",
       "2        98101              Washington          WA   \n",
       "3         8043                  Zurich          ZH   \n",
       "5        60311                   Hesse          HE   \n",
       "...        ...                     ...         ...   \n",
       "5545      None       Central Singapore          01   \n",
       "5547     90537                 Bavaria          BY   \n",
       "5549     50667  North Rhine-Westphalia          NW   \n",
       "5550   G1R 5M1                  Quebec          QC   \n",
       "5552     91710                 Bavaria          BY   \n",
       "\n",
       "                                             connection               city  \\\n",
       "0              {'asn': 16509, 'isp': 'amazon.com, Inc'}             Dublin   \n",
       "1     {'asn': 20473, 'isp': 'The Constant Company LLC'}           Kawasaki   \n",
       "2           {'asn': 31898, 'isp': 'Oracle Corporation'}            Seattle   \n",
       "3     {'asn': 197988, 'isp': 'Solar Communications G...             Zürich   \n",
       "5                   {'asn': 63949, 'isp': 'Linode LLC'}  Frankfurt am Main   \n",
       "...                                                 ...                ...   \n",
       "5545  {'asn': 45102, 'isp': 'Alibaba (Us) Technology...          Singapore   \n",
       "5547  {'asn': 204644, 'isp': 'Stumpner Netservice Ug...        Wendelstein   \n",
       "5549              {'asn': 3209, 'isp': 'Vodafone Gmbh'}               Köln   \n",
       "5550                     {'asn': 398721, 'isp': 'Oxio'}             Québec   \n",
       "5552       {'asn': 24940, 'isp': 'Hetzner Online Gmbh'}       Gunzenhausen   \n",
       "\n",
       "       country_name country_code  error  success  detail  \\\n",
       "0           Ireland           IE    NaN      NaN     NaN   \n",
       "1             Japan           JP    NaN      NaN     NaN   \n",
       "2     United States           US    NaN      NaN     NaN   \n",
       "3       Switzerland           CH    NaN      NaN     NaN   \n",
       "5           Germany           DE    NaN      NaN     NaN   \n",
       "...             ...          ...    ...      ...     ...   \n",
       "5545      Singapore           SG    NaN      NaN     NaN   \n",
       "5547        Germany           DE    NaN      NaN     NaN   \n",
       "5549        Germany           DE    NaN      NaN     NaN   \n",
       "5550         Canada           CA    NaN      NaN     NaN   \n",
       "5552        Germany           DE    NaN      NaN     NaN   \n",
       "\n",
       "                                               isp     asn  live_stake_ada  \\\n",
       "0                                  amazon.com, Inc   16509    3.212853e+07   \n",
       "1                         The Constant Company LLC   20473    1.942799e+07   \n",
       "2                               Oracle Corporation   31898    5.672152e+05   \n",
       "3                        Solar Communications Gmbh  197988    1.735455e+06   \n",
       "5                                       Linode LLC   63949    4.000925e+03   \n",
       "...                                            ...     ...             ...   \n",
       "5545              Alibaba (Us) Technology Co. Ltd.   45102    9.957634e+04   \n",
       "5547  Stumpner Netservice Ug (Haftungsbeschraenkt)  204644    2.008504e+02   \n",
       "5549                                 Vodafone Gmbh    3209    1.500601e+03   \n",
       "5550                                          Oxio  398721    2.036975e+00   \n",
       "5552                           Hetzner Online Gmbh   24940    2.249723e+04   \n",
       "\n",
       "      live_pledge_ada  live_declared_pledge_ada  pledge_ratio  \\\n",
       "0       574564.954842                  100000.0    321.285322   \n",
       "1       567027.531192                  510000.0     38.094094   \n",
       "2       546041.471277                   50100.0     11.321660   \n",
       "3       207011.830413                  200000.0      8.677274   \n",
       "5            0.000000                    7149.0      0.559648   \n",
       "...               ...                       ...           ...   \n",
       "5545       357.225752                      10.0   9957.633988   \n",
       "5547       200.850366                     150.0      1.339002   \n",
       "5549      1500.600798                    1500.0      1.000401   \n",
       "5550         2.036975                     100.0      0.020370   \n",
       "5552     22497.233760                   20000.0      1.124862   \n",
       "\n",
       "      live_saturation_percentage  \n",
       "0                   4.795368e-01  \n",
       "1                   2.899739e-01  \n",
       "2                   8.466013e-03  \n",
       "3                   2.590266e-02  \n",
       "5                   5.971610e-05  \n",
       "...                          ...  \n",
       "5545                1.486234e-03  \n",
       "5547                2.997800e-06  \n",
       "5549                2.239730e-05  \n",
       "5550                3.040000e-08  \n",
       "5552                3.357842e-04  \n",
       "\n",
       "[3039 rows x 46 columns]"
      ]
     },
     "execution_count": 136,
     "metadata": {},
     "output_type": "execute_result"
    }
   ],
   "source": [
    "\n",
    "df_ada_staked_per_pool['live_saturation_percentage'] = df_ada_staked_per_pool.live_saturation\n",
    "df_ada_staked_per_pool"
   ]
  },
  {
   "cell_type": "code",
   "execution_count": 137,
   "metadata": {},
   "outputs": [],
   "source": [
    "df_ada_staked_per_pool.drop(['error','success','detail'] , axis=1, inplace=True)"
   ]
  },
  {
   "cell_type": "code",
   "execution_count": 138,
   "metadata": {},
   "outputs": [
    {
     "data": {
      "text/html": [
       "<div>\n",
       "<style scoped>\n",
       "    .dataframe tbody tr th:only-of-type {\n",
       "        vertical-align: middle;\n",
       "    }\n",
       "\n",
       "    .dataframe tbody tr th {\n",
       "        vertical-align: top;\n",
       "    }\n",
       "\n",
       "    .dataframe thead th {\n",
       "        text-align: right;\n",
       "    }\n",
       "</style>\n",
       "<table border=\"1\" class=\"dataframe\">\n",
       "  <thead>\n",
       "    <tr style=\"text-align: right;\">\n",
       "      <th></th>\n",
       "      <th>pool_id</th>\n",
       "      <th>hex</th>\n",
       "      <th>vrf_key</th>\n",
       "      <th>blocks_minted</th>\n",
       "      <th>live_stake</th>\n",
       "      <th>live_size</th>\n",
       "      <th>live_saturation</th>\n",
       "      <th>live_delegators</th>\n",
       "      <th>active_stake</th>\n",
       "      <th>active_size</th>\n",
       "      <th>declared_pledge</th>\n",
       "      <th>live_pledge</th>\n",
       "      <th>margin_cost</th>\n",
       "      <th>fixed_cost</th>\n",
       "      <th>reward_account</th>\n",
       "      <th>owners</th>\n",
       "      <th>registration</th>\n",
       "      <th>retirement</th>\n",
       "      <th>ip_host</th>\n",
       "      <th>port</th>\n",
       "      <th>url</th>\n",
       "      <th>hash</th>\n",
       "      <th>ticker</th>\n",
       "      <th>name</th>\n",
       "      <th>description</th>\n",
       "      <th>homepage</th>\n",
       "      <th>resolved_ip</th>\n",
       "      <th>longitude</th>\n",
       "      <th>latitude</th>\n",
       "      <th>zip</th>\n",
       "      <th>region_name</th>\n",
       "      <th>region_code</th>\n",
       "      <th>connection</th>\n",
       "      <th>city</th>\n",
       "      <th>country_name</th>\n",
       "      <th>country_code</th>\n",
       "      <th>isp</th>\n",
       "      <th>asn</th>\n",
       "      <th>live_stake_ada</th>\n",
       "      <th>live_pledge_ada</th>\n",
       "      <th>live_declared_pledge_ada</th>\n",
       "      <th>pledge_ratio</th>\n",
       "      <th>live_saturation_percentage</th>\n",
       "    </tr>\n",
       "  </thead>\n",
       "  <tbody>\n",
       "    <tr>\n",
       "      <th>0</th>\n",
       "      <td>pool1z5uqdk7dzdxaae5633fqfcu2eqzy3a3rgtuvy087f...</td>\n",
       "      <td>153806dbcd134ddee69a8c5204e38ac80448f62342f8c2...</td>\n",
       "      <td>0220a5d08adbfe9554b52d7b2993be5892ac3ff340e674...</td>\n",
       "      <td>4097</td>\n",
       "      <td>32128532235090</td>\n",
       "      <td>1.359849e-03</td>\n",
       "      <td>4.795368e-01</td>\n",
       "      <td>3170</td>\n",
       "      <td>32462689016256</td>\n",
       "      <td>1.368182e-03</td>\n",
       "      <td>100000000000</td>\n",
       "      <td>574564954842</td>\n",
       "      <td>0.009</td>\n",
       "      <td>340000000</td>\n",
       "      <td>stake1uy89kzrdlpaz5rzu8x95r4qnlpqhd3f8mf09edjp...</td>\n",
       "      <td>['stake1uy89kzrdlpaz5rzu8x95r4qnlpqhd3f8mf09ed...</td>\n",
       "      <td>['841cca81da918feb9fa7257a34630eac95794be712ed...</td>\n",
       "      <td>[]</td>\n",
       "      <td>54.220.20.40</td>\n",
       "      <td>3002</td>\n",
       "      <td>https://raw.githubusercontent.com/Octalus/card...</td>\n",
       "      <td>ca7d12decf886e31f5226b5946c62edc81a7e40af95ce7...</td>\n",
       "      <td>OCTAS</td>\n",
       "      <td>OctasPool</td>\n",
       "      <td>Octa's Performance Pool</td>\n",
       "      <td>https://octaluso.dyndns.org</td>\n",
       "      <td>54.220.20.40</td>\n",
       "      <td>-6.243330</td>\n",
       "      <td>53.353889</td>\n",
       "      <td>None</td>\n",
       "      <td>Leinster</td>\n",
       "      <td>L</td>\n",
       "      <td>{'asn': 16509, 'isp': 'amazon.com, Inc'}</td>\n",
       "      <td>Dublin</td>\n",
       "      <td>Ireland</td>\n",
       "      <td>IE</td>\n",
       "      <td>amazon.com, Inc</td>\n",
       "      <td>16509</td>\n",
       "      <td>3.212853e+07</td>\n",
       "      <td>574564.954842</td>\n",
       "      <td>100000.0</td>\n",
       "      <td>321.285322</td>\n",
       "      <td>4.795368e-01</td>\n",
       "    </tr>\n",
       "    <tr>\n",
       "      <th>1</th>\n",
       "      <td>pool1pu5jlj4q9w9jlxeu370a3c9myx47md5j5m2str0na...</td>\n",
       "      <td>0f292fcaa02b8b2f9b3c8f9fd8e0bb21abedb692a6d505...</td>\n",
       "      <td>b512cc7c1a8ba689c2d8fd27adfdbac2049a3f8f95c8b8...</td>\n",
       "      <td>1824</td>\n",
       "      <td>19427988062303</td>\n",
       "      <td>8.222951e-04</td>\n",
       "      <td>2.899739e-01</td>\n",
       "      <td>170</td>\n",
       "      <td>19414895397699</td>\n",
       "      <td>8.182658e-04</td>\n",
       "      <td>510000000000</td>\n",
       "      <td>567027531192</td>\n",
       "      <td>0.049</td>\n",
       "      <td>340000000</td>\n",
       "      <td>stake1u98nnlkvkk23vtvf9273uq7cph5ww6u2yq2389ps...</td>\n",
       "      <td>['stake1u98nnlkvkk23vtvf9273uq7cph5ww6u2yq2389...</td>\n",
       "      <td>['a96c79773b7506211eb56bf94886a2face17657d1009...</td>\n",
       "      <td>[]</td>\n",
       "      <td>relays.mainnet.stakenuts.com</td>\n",
       "      <td>3001</td>\n",
       "      <td>https://stakenuts.com/mainnet.json</td>\n",
       "      <td>47c0c68cb57f4a5b4a87bad896fc274678e7aea98e200f...</td>\n",
       "      <td>NUTS</td>\n",
       "      <td>StakeNuts</td>\n",
       "      <td>StakeNuts.com</td>\n",
       "      <td>https://stakenuts.com/</td>\n",
       "      <td>198.13.62.211</td>\n",
       "      <td>139.746155</td>\n",
       "      <td>35.583511</td>\n",
       "      <td>143-0006</td>\n",
       "      <td>Kanagawa</td>\n",
       "      <td>14</td>\n",
       "      <td>{'asn': 20473, 'isp': 'The Constant Company LLC'}</td>\n",
       "      <td>Kawasaki</td>\n",
       "      <td>Japan</td>\n",
       "      <td>JP</td>\n",
       "      <td>The Constant Company LLC</td>\n",
       "      <td>20473</td>\n",
       "      <td>1.942799e+07</td>\n",
       "      <td>567027.531192</td>\n",
       "      <td>510000.0</td>\n",
       "      <td>38.094094</td>\n",
       "      <td>2.899739e-01</td>\n",
       "    </tr>\n",
       "    <tr>\n",
       "      <th>2</th>\n",
       "      <td>pool1c8k78ny3xvsfgenhf4yzvpzwgzxmz0t0um0h2xnn2...</td>\n",
       "      <td>c1ede3cc9133209466774d4826044e408db13d6fe6df75...</td>\n",
       "      <td>b8ba5f7dcbf17e95781e325114da46def1fa908435a27d...</td>\n",
       "      <td>80</td>\n",
       "      <td>567215180144</td>\n",
       "      <td>2.400750e-05</td>\n",
       "      <td>8.466013e-03</td>\n",
       "      <td>17</td>\n",
       "      <td>555030759623</td>\n",
       "      <td>2.339250e-05</td>\n",
       "      <td>50100000000</td>\n",
       "      <td>546041471277</td>\n",
       "      <td>0.000</td>\n",
       "      <td>340000000</td>\n",
       "      <td>stake1uyx0ut5wc5nmu0tacjc9pyyahdyq5ujghwljkdxr...</td>\n",
       "      <td>['stake1uyx0ut5wc5nmu0tacjc9pyyahdyq5ujghwljkd...</td>\n",
       "      <td>['37f5682e2622c821175bab9d5637b7321ecacc5ec663...</td>\n",
       "      <td>[]</td>\n",
       "      <td>relay.zenithpool.io</td>\n",
       "      <td>31400</td>\n",
       "      <td>https://metadata.zenithpool.io</td>\n",
       "      <td>21cc44498ab6e74e081a805e629fff171a66d0c8d034f9...</td>\n",
       "      <td>ZEN</td>\n",
       "      <td>ZENITH</td>\n",
       "      <td>One owner, one operator, one pool. Operating s...</td>\n",
       "      <td>https://zenithpool.io</td>\n",
       "      <td>193.122.12.254</td>\n",
       "      <td>-122.333519</td>\n",
       "      <td>47.611012</td>\n",
       "      <td>98101</td>\n",
       "      <td>Washington</td>\n",
       "      <td>WA</td>\n",
       "      <td>{'asn': 31898, 'isp': 'Oracle Corporation'}</td>\n",
       "      <td>Seattle</td>\n",
       "      <td>United States</td>\n",
       "      <td>US</td>\n",
       "      <td>Oracle Corporation</td>\n",
       "      <td>31898</td>\n",
       "      <td>5.672152e+05</td>\n",
       "      <td>546041.471277</td>\n",
       "      <td>50100.0</td>\n",
       "      <td>11.321660</td>\n",
       "      <td>8.466013e-03</td>\n",
       "    </tr>\n",
       "    <tr>\n",
       "      <th>3</th>\n",
       "      <td>pool1q80jjs53w0fx836n8g38gtdwr8ck5zre3da90peux...</td>\n",
       "      <td>01df29429173d263c7533a22742dae19f16a08798b7a57...</td>\n",
       "      <td>b75115a1e4e32a33985fc720f3715f0e99617b448fbc36...</td>\n",
       "      <td>259</td>\n",
       "      <td>1735454735054</td>\n",
       "      <td>7.345360e-05</td>\n",
       "      <td>2.590266e-02</td>\n",
       "      <td>724</td>\n",
       "      <td>1735713797295</td>\n",
       "      <td>7.315390e-05</td>\n",
       "      <td>200000000000</td>\n",
       "      <td>207011830413</td>\n",
       "      <td>0.005</td>\n",
       "      <td>340000000</td>\n",
       "      <td>stake1uxxsa2rlkv728pve3ks7kn7c6v68luagdjgwa0me...</td>\n",
       "      <td>['stake1uxxsa2rlkv728pve3ks7kn7c6v68luagdjgwa0...</td>\n",
       "      <td>['e8951eddb19b697bc74549aa9d4f956a8be8d5cf2c7a...</td>\n",
       "      <td>[]</td>\n",
       "      <td>95.183.53.20</td>\n",
       "      <td>6060</td>\n",
       "      <td>https://ispool.live/metadata</td>\n",
       "      <td>34fdde237812fab14d29a80423bb295f39122f4fea1aae...</td>\n",
       "      <td>000</td>\n",
       "      <td>Switzerland Investment</td>\n",
       "      <td>Stability, Security, Reliability, Neutrality! ...</td>\n",
       "      <td>https://ispool.live/</td>\n",
       "      <td>95.183.53.20</td>\n",
       "      <td>8.536950</td>\n",
       "      <td>47.374168</td>\n",
       "      <td>8043</td>\n",
       "      <td>Zurich</td>\n",
       "      <td>ZH</td>\n",
       "      <td>{'asn': 197988, 'isp': 'Solar Communications G...</td>\n",
       "      <td>Zürich</td>\n",
       "      <td>Switzerland</td>\n",
       "      <td>CH</td>\n",
       "      <td>Solar Communications Gmbh</td>\n",
       "      <td>197988</td>\n",
       "      <td>1.735455e+06</td>\n",
       "      <td>207011.830413</td>\n",
       "      <td>200000.0</td>\n",
       "      <td>8.677274</td>\n",
       "      <td>2.590266e-02</td>\n",
       "    </tr>\n",
       "    <tr>\n",
       "      <th>5</th>\n",
       "      <td>pool1ddskftmsscw92d7vnj89pldwx5feegkgcmamgt5t0...</td>\n",
       "      <td>6b6164af70861c5537cc9c8e50fdae35139ca2c8c6fbb4...</td>\n",
       "      <td>78b0b08fec7458afd1209dcd26bd0c10faa640a49d5013...</td>\n",
       "      <td>23</td>\n",
       "      <td>4000924534</td>\n",
       "      <td>1.693000e-07</td>\n",
       "      <td>5.971610e-05</td>\n",
       "      <td>14</td>\n",
       "      <td>4000924534</td>\n",
       "      <td>1.686000e-07</td>\n",
       "      <td>7149000000</td>\n",
       "      <td>0</td>\n",
       "      <td>0.050</td>\n",
       "      <td>340000000</td>\n",
       "      <td>stake1u9w20uzsevkxe6vp2nlmqjjrcj4gvcf560tvufuv...</td>\n",
       "      <td>['stake1u9w20uzsevkxe6vp2nlmqjjrcj4gvcf560tvuf...</td>\n",
       "      <td>['ff2d9576bd9c5e1dff6c9987860de39366f7b75dd6bb...</td>\n",
       "      <td>[]</td>\n",
       "      <td>139.162.148.181</td>\n",
       "      <td>8088</td>\n",
       "      <td>https://pool.adascan.net/meta/v1/poolmeta.json</td>\n",
       "      <td>79e7cf8d936bf0ced040516b288e2edc76f2f87af5400f...</td>\n",
       "      <td>None</td>\n",
       "      <td>None</td>\n",
       "      <td>None</td>\n",
       "      <td>None</td>\n",
       "      <td>139.162.148.181</td>\n",
       "      <td>8.682100</td>\n",
       "      <td>50.110901</td>\n",
       "      <td>60311</td>\n",
       "      <td>Hesse</td>\n",
       "      <td>HE</td>\n",
       "      <td>{'asn': 63949, 'isp': 'Linode LLC'}</td>\n",
       "      <td>Frankfurt am Main</td>\n",
       "      <td>Germany</td>\n",
       "      <td>DE</td>\n",
       "      <td>Linode LLC</td>\n",
       "      <td>63949</td>\n",
       "      <td>4.000925e+03</td>\n",
       "      <td>0.000000</td>\n",
       "      <td>7149.0</td>\n",
       "      <td>0.559648</td>\n",
       "      <td>5.971610e-05</td>\n",
       "    </tr>\n",
       "    <tr>\n",
       "      <th>...</th>\n",
       "      <td>...</td>\n",
       "      <td>...</td>\n",
       "      <td>...</td>\n",
       "      <td>...</td>\n",
       "      <td>...</td>\n",
       "      <td>...</td>\n",
       "      <td>...</td>\n",
       "      <td>...</td>\n",
       "      <td>...</td>\n",
       "      <td>...</td>\n",
       "      <td>...</td>\n",
       "      <td>...</td>\n",
       "      <td>...</td>\n",
       "      <td>...</td>\n",
       "      <td>...</td>\n",
       "      <td>...</td>\n",
       "      <td>...</td>\n",
       "      <td>...</td>\n",
       "      <td>...</td>\n",
       "      <td>...</td>\n",
       "      <td>...</td>\n",
       "      <td>...</td>\n",
       "      <td>...</td>\n",
       "      <td>...</td>\n",
       "      <td>...</td>\n",
       "      <td>...</td>\n",
       "      <td>...</td>\n",
       "      <td>...</td>\n",
       "      <td>...</td>\n",
       "      <td>...</td>\n",
       "      <td>...</td>\n",
       "      <td>...</td>\n",
       "      <td>...</td>\n",
       "      <td>...</td>\n",
       "      <td>...</td>\n",
       "      <td>...</td>\n",
       "      <td>...</td>\n",
       "      <td>...</td>\n",
       "      <td>...</td>\n",
       "      <td>...</td>\n",
       "      <td>...</td>\n",
       "      <td>...</td>\n",
       "      <td>...</td>\n",
       "    </tr>\n",
       "    <tr>\n",
       "      <th>5545</th>\n",
       "      <td>pool1sk6jvl4u8m4peddwqxzslgt82n57qy0rug2j0jfzk...</td>\n",
       "      <td>85b5267ebc3eea1cb5ae01850fa16754e9e011e3e21527...</td>\n",
       "      <td>2d673584d7b29070ba9355df7e787176a822338f0457d4...</td>\n",
       "      <td>0</td>\n",
       "      <td>99576339881</td>\n",
       "      <td>4.214900e-06</td>\n",
       "      <td>1.486234e-03</td>\n",
       "      <td>2</td>\n",
       "      <td>0</td>\n",
       "      <td>0.000000e+00</td>\n",
       "      <td>10000000</td>\n",
       "      <td>357225752</td>\n",
       "      <td>0.020</td>\n",
       "      <td>340000000</td>\n",
       "      <td>stake1u9zg9dxymfg02rvev7he2h8j9ptuj45s8qeu8hvs...</td>\n",
       "      <td>['stake1u9zg9dxymfg02rvev7he2h8j9ptuj45s8qeu8h...</td>\n",
       "      <td>['36783438a6b445690de40f589ae6a24f13300f1a9091...</td>\n",
       "      <td>[]</td>\n",
       "      <td>47.241.248.83</td>\n",
       "      <td>3001</td>\n",
       "      <td>https://walletada.hotbitdemo.com/adapool_metad...</td>\n",
       "      <td>0a93741db4f79a688ce407faa28b9b4a56b0055aa0bd0c...</td>\n",
       "      <td>HTB</td>\n",
       "      <td>HotbitPool</td>\n",
       "      <td>HotbitPool</td>\n",
       "      <td>https://www.hotbit.io</td>\n",
       "      <td>47.241.248.83</td>\n",
       "      <td>103.851784</td>\n",
       "      <td>1.287950</td>\n",
       "      <td>None</td>\n",
       "      <td>Central Singapore</td>\n",
       "      <td>01</td>\n",
       "      <td>{'asn': 45102, 'isp': 'Alibaba (Us) Technology...</td>\n",
       "      <td>Singapore</td>\n",
       "      <td>Singapore</td>\n",
       "      <td>SG</td>\n",
       "      <td>Alibaba (Us) Technology Co. Ltd.</td>\n",
       "      <td>45102</td>\n",
       "      <td>9.957634e+04</td>\n",
       "      <td>357.225752</td>\n",
       "      <td>10.0</td>\n",
       "      <td>9957.633988</td>\n",
       "      <td>1.486234e-03</td>\n",
       "    </tr>\n",
       "    <tr>\n",
       "      <th>5547</th>\n",
       "      <td>pool1l6946mnu54f6v0we4xzra8kwm68ch7fphhxvgytd0...</td>\n",
       "      <td>fe8b5d6e7ca553a63dd9a9843e9ecede8f8bf921bdccc4...</td>\n",
       "      <td>4b5cc8a3499e69683701957db53a7297b99df317d21532...</td>\n",
       "      <td>0</td>\n",
       "      <td>200850366</td>\n",
       "      <td>8.500000e-09</td>\n",
       "      <td>2.997800e-06</td>\n",
       "      <td>1</td>\n",
       "      <td>0</td>\n",
       "      <td>0.000000e+00</td>\n",
       "      <td>150000000</td>\n",
       "      <td>200850366</td>\n",
       "      <td>0.150</td>\n",
       "      <td>345000000</td>\n",
       "      <td>stake1u8eyvgp8r7mhgszfevapn4vul283sqkls3hvaf6q...</td>\n",
       "      <td>['stake1u8eyvgp8r7mhgszfevapn4vul283sqkls3hvaf...</td>\n",
       "      <td>['165c92f88abfebfd39d458ed4d1d917486ec5927c363...</td>\n",
       "      <td>[]</td>\n",
       "      <td>crdrl1.stakemachine.net</td>\n",
       "      <td>9961</td>\n",
       "      <td>https://www.stakemachine.net/cardano_sm.json</td>\n",
       "      <td>24187af340d0d5abba13f6ea1571804814f740fe6871d1...</td>\n",
       "      <td>SMACH</td>\n",
       "      <td>StakeMachine</td>\n",
       "      <td>Professional CARDANO stake pool</td>\n",
       "      <td>https://www.stakemachine.net</td>\n",
       "      <td>194.35.120.118</td>\n",
       "      <td>11.214280</td>\n",
       "      <td>49.375061</td>\n",
       "      <td>90537</td>\n",
       "      <td>Bavaria</td>\n",
       "      <td>BY</td>\n",
       "      <td>{'asn': 204644, 'isp': 'Stumpner Netservice Ug...</td>\n",
       "      <td>Wendelstein</td>\n",
       "      <td>Germany</td>\n",
       "      <td>DE</td>\n",
       "      <td>Stumpner Netservice Ug (Haftungsbeschraenkt)</td>\n",
       "      <td>204644</td>\n",
       "      <td>2.008504e+02</td>\n",
       "      <td>200.850366</td>\n",
       "      <td>150.0</td>\n",
       "      <td>1.339002</td>\n",
       "      <td>2.997800e-06</td>\n",
       "    </tr>\n",
       "    <tr>\n",
       "      <th>5549</th>\n",
       "      <td>pool1vcc9lngr8g2j8xh0kgy84nne026adr5zmvwagkda9...</td>\n",
       "      <td>66305fcd033a15239aefb2087ace797ab5d68e82db1dd4...</td>\n",
       "      <td>cd7410122ca16a9660155c59340083a8e3b540016d043d...</td>\n",
       "      <td>0</td>\n",
       "      <td>1500600798</td>\n",
       "      <td>6.350000e-08</td>\n",
       "      <td>2.239730e-05</td>\n",
       "      <td>1</td>\n",
       "      <td>0</td>\n",
       "      <td>0.000000e+00</td>\n",
       "      <td>1500000000</td>\n",
       "      <td>1500600798</td>\n",
       "      <td>0.010</td>\n",
       "      <td>340000000</td>\n",
       "      <td>stake1u9yw7t3gksm445svqhsjxq7vhccqcngjgh2vwczv...</td>\n",
       "      <td>['stake1u9yw7t3gksm445svqhsjxq7vhccqcngjgh2vwc...</td>\n",
       "      <td>['0c5f5e2b09b5885efd835f509be684aa2df8bafb0ce4...</td>\n",
       "      <td>[]</td>\n",
       "      <td>relaynode1.higer-stakepool.com</td>\n",
       "      <td>6000</td>\n",
       "      <td>https://git.io/JSDk9</td>\n",
       "      <td>053b4fcdd91dc15c5ee74c768395b70b9fb580da65e16f...</td>\n",
       "      <td>HIGER</td>\n",
       "      <td>HIGER</td>\n",
       "      <td>Professional managed stake pool located in sou...</td>\n",
       "      <td>https://higer-stakepool.com</td>\n",
       "      <td>109.90.24.88</td>\n",
       "      <td>6.960300</td>\n",
       "      <td>50.937500</td>\n",
       "      <td>50667</td>\n",
       "      <td>North Rhine-Westphalia</td>\n",
       "      <td>NW</td>\n",
       "      <td>{'asn': 3209, 'isp': 'Vodafone Gmbh'}</td>\n",
       "      <td>Köln</td>\n",
       "      <td>Germany</td>\n",
       "      <td>DE</td>\n",
       "      <td>Vodafone Gmbh</td>\n",
       "      <td>3209</td>\n",
       "      <td>1.500601e+03</td>\n",
       "      <td>1500.600798</td>\n",
       "      <td>1500.0</td>\n",
       "      <td>1.000401</td>\n",
       "      <td>2.239730e-05</td>\n",
       "    </tr>\n",
       "    <tr>\n",
       "      <th>5550</th>\n",
       "      <td>pool1qcu4r9rw853pyvfznfeujfzxlku4xtvp8cas6c2y7...</td>\n",
       "      <td>063951946e3d221231229a73c92446fdb9532d813e3b0d...</td>\n",
       "      <td>3c57e43260a4dde6b3a07d83907f00027b2d0630f57201...</td>\n",
       "      <td>0</td>\n",
       "      <td>2036975</td>\n",
       "      <td>1.000000e-10</td>\n",
       "      <td>3.040000e-08</td>\n",
       "      <td>1</td>\n",
       "      <td>0</td>\n",
       "      <td>0.000000e+00</td>\n",
       "      <td>100000000</td>\n",
       "      <td>2036975</td>\n",
       "      <td>0.000</td>\n",
       "      <td>340000000</td>\n",
       "      <td>stake1u9vlltzshvet0clpzkt6fhfwgt2jw4m3jarddc4n...</td>\n",
       "      <td>['stake1u9vlltzshvet0clpzkt6fhfwgt2jw4m3jarddc...</td>\n",
       "      <td>['e5066e9eaef49c079cf84af8c54f55bcce4ee76ea0bb...</td>\n",
       "      <td>[]</td>\n",
       "      <td>217.28.30.43</td>\n",
       "      <td>6000</td>\n",
       "      <td>https://git.io/JySpg</td>\n",
       "      <td>d1969ef9bc1733e7c2a6569ec747245ba8bac7626d4147...</td>\n",
       "      <td>None</td>\n",
       "      <td>None</td>\n",
       "      <td>None</td>\n",
       "      <td>None</td>\n",
       "      <td>217.28.30.43</td>\n",
       "      <td>-71.208183</td>\n",
       "      <td>46.814301</td>\n",
       "      <td>G1R 5M1</td>\n",
       "      <td>Quebec</td>\n",
       "      <td>QC</td>\n",
       "      <td>{'asn': 398721, 'isp': 'Oxio'}</td>\n",
       "      <td>Québec</td>\n",
       "      <td>Canada</td>\n",
       "      <td>CA</td>\n",
       "      <td>Oxio</td>\n",
       "      <td>398721</td>\n",
       "      <td>2.036975e+00</td>\n",
       "      <td>2.036975</td>\n",
       "      <td>100.0</td>\n",
       "      <td>0.020370</td>\n",
       "      <td>3.040000e-08</td>\n",
       "    </tr>\n",
       "    <tr>\n",
       "      <th>5552</th>\n",
       "      <td>pool1etwkskpk7smvppts3d0wryqyxkm2udk2a4qy6eek5...</td>\n",
       "      <td>cadd685836f436c085708b5ee1900435b6ae36caed404d...</td>\n",
       "      <td>2bd83ebefebebb50a01d637af893a9dadeac42fa114b13...</td>\n",
       "      <td>0</td>\n",
       "      <td>22497233760</td>\n",
       "      <td>9.523000e-07</td>\n",
       "      <td>3.357842e-04</td>\n",
       "      <td>1</td>\n",
       "      <td>0</td>\n",
       "      <td>0.000000e+00</td>\n",
       "      <td>20000000000</td>\n",
       "      <td>22497233760</td>\n",
       "      <td>0.045</td>\n",
       "      <td>340000000</td>\n",
       "      <td>stake1uxe45jdlkedl8hq59slcdzy2078pxylsujzwfr8m...</td>\n",
       "      <td>['stake1uxe45jdlkedl8hq59slcdzy2078pxylsujzwfr...</td>\n",
       "      <td>['54530bc2682ba27923a5d81fc230c7ddd330cd7d0e6e...</td>\n",
       "      <td>[]</td>\n",
       "      <td>65.108.107.238</td>\n",
       "      <td>6000</td>\n",
       "      <td>https://0xdeadbeef.network/roots-meta.json</td>\n",
       "      <td>2af57d0d3373b23b2a32763de09a47016d13e44a9dcbfc...</td>\n",
       "      <td>ROOTS</td>\n",
       "      <td>ROOTS</td>\n",
       "      <td>Connect to your ROOTS.</td>\n",
       "      <td>https://theearthpool.com</td>\n",
       "      <td>65.108.107.238</td>\n",
       "      <td>10.753400</td>\n",
       "      <td>49.115940</td>\n",
       "      <td>91710</td>\n",
       "      <td>Bavaria</td>\n",
       "      <td>BY</td>\n",
       "      <td>{'asn': 24940, 'isp': 'Hetzner Online Gmbh'}</td>\n",
       "      <td>Gunzenhausen</td>\n",
       "      <td>Germany</td>\n",
       "      <td>DE</td>\n",
       "      <td>Hetzner Online Gmbh</td>\n",
       "      <td>24940</td>\n",
       "      <td>2.249723e+04</td>\n",
       "      <td>22497.233760</td>\n",
       "      <td>20000.0</td>\n",
       "      <td>1.124862</td>\n",
       "      <td>3.357842e-04</td>\n",
       "    </tr>\n",
       "  </tbody>\n",
       "</table>\n",
       "<p>3039 rows × 43 columns</p>\n",
       "</div>"
      ],
      "text/plain": [
       "                                                pool_id  \\\n",
       "0     pool1z5uqdk7dzdxaae5633fqfcu2eqzy3a3rgtuvy087f...   \n",
       "1     pool1pu5jlj4q9w9jlxeu370a3c9myx47md5j5m2str0na...   \n",
       "2     pool1c8k78ny3xvsfgenhf4yzvpzwgzxmz0t0um0h2xnn2...   \n",
       "3     pool1q80jjs53w0fx836n8g38gtdwr8ck5zre3da90peux...   \n",
       "5     pool1ddskftmsscw92d7vnj89pldwx5feegkgcmamgt5t0...   \n",
       "...                                                 ...   \n",
       "5545  pool1sk6jvl4u8m4peddwqxzslgt82n57qy0rug2j0jfzk...   \n",
       "5547  pool1l6946mnu54f6v0we4xzra8kwm68ch7fphhxvgytd0...   \n",
       "5549  pool1vcc9lngr8g2j8xh0kgy84nne026adr5zmvwagkda9...   \n",
       "5550  pool1qcu4r9rw853pyvfznfeujfzxlku4xtvp8cas6c2y7...   \n",
       "5552  pool1etwkskpk7smvppts3d0wryqyxkm2udk2a4qy6eek5...   \n",
       "\n",
       "                                                    hex  \\\n",
       "0     153806dbcd134ddee69a8c5204e38ac80448f62342f8c2...   \n",
       "1     0f292fcaa02b8b2f9b3c8f9fd8e0bb21abedb692a6d505...   \n",
       "2     c1ede3cc9133209466774d4826044e408db13d6fe6df75...   \n",
       "3     01df29429173d263c7533a22742dae19f16a08798b7a57...   \n",
       "5     6b6164af70861c5537cc9c8e50fdae35139ca2c8c6fbb4...   \n",
       "...                                                 ...   \n",
       "5545  85b5267ebc3eea1cb5ae01850fa16754e9e011e3e21527...   \n",
       "5547  fe8b5d6e7ca553a63dd9a9843e9ecede8f8bf921bdccc4...   \n",
       "5549  66305fcd033a15239aefb2087ace797ab5d68e82db1dd4...   \n",
       "5550  063951946e3d221231229a73c92446fdb9532d813e3b0d...   \n",
       "5552  cadd685836f436c085708b5ee1900435b6ae36caed404d...   \n",
       "\n",
       "                                                vrf_key  blocks_minted  \\\n",
       "0     0220a5d08adbfe9554b52d7b2993be5892ac3ff340e674...           4097   \n",
       "1     b512cc7c1a8ba689c2d8fd27adfdbac2049a3f8f95c8b8...           1824   \n",
       "2     b8ba5f7dcbf17e95781e325114da46def1fa908435a27d...             80   \n",
       "3     b75115a1e4e32a33985fc720f3715f0e99617b448fbc36...            259   \n",
       "5     78b0b08fec7458afd1209dcd26bd0c10faa640a49d5013...             23   \n",
       "...                                                 ...            ...   \n",
       "5545  2d673584d7b29070ba9355df7e787176a822338f0457d4...              0   \n",
       "5547  4b5cc8a3499e69683701957db53a7297b99df317d21532...              0   \n",
       "5549  cd7410122ca16a9660155c59340083a8e3b540016d043d...              0   \n",
       "5550  3c57e43260a4dde6b3a07d83907f00027b2d0630f57201...              0   \n",
       "5552  2bd83ebefebebb50a01d637af893a9dadeac42fa114b13...              0   \n",
       "\n",
       "          live_stake     live_size  live_saturation  live_delegators  \\\n",
       "0     32128532235090  1.359849e-03     4.795368e-01             3170   \n",
       "1     19427988062303  8.222951e-04     2.899739e-01              170   \n",
       "2       567215180144  2.400750e-05     8.466013e-03               17   \n",
       "3      1735454735054  7.345360e-05     2.590266e-02              724   \n",
       "5         4000924534  1.693000e-07     5.971610e-05               14   \n",
       "...              ...           ...              ...              ...   \n",
       "5545     99576339881  4.214900e-06     1.486234e-03                2   \n",
       "5547       200850366  8.500000e-09     2.997800e-06                1   \n",
       "5549      1500600798  6.350000e-08     2.239730e-05                1   \n",
       "5550         2036975  1.000000e-10     3.040000e-08                1   \n",
       "5552     22497233760  9.523000e-07     3.357842e-04                1   \n",
       "\n",
       "        active_stake   active_size  declared_pledge   live_pledge  \\\n",
       "0     32462689016256  1.368182e-03     100000000000  574564954842   \n",
       "1     19414895397699  8.182658e-04     510000000000  567027531192   \n",
       "2       555030759623  2.339250e-05      50100000000  546041471277   \n",
       "3      1735713797295  7.315390e-05     200000000000  207011830413   \n",
       "5         4000924534  1.686000e-07       7149000000             0   \n",
       "...              ...           ...              ...           ...   \n",
       "5545               0  0.000000e+00         10000000     357225752   \n",
       "5547               0  0.000000e+00        150000000     200850366   \n",
       "5549               0  0.000000e+00       1500000000    1500600798   \n",
       "5550               0  0.000000e+00        100000000       2036975   \n",
       "5552               0  0.000000e+00      20000000000   22497233760   \n",
       "\n",
       "      margin_cost  fixed_cost  \\\n",
       "0           0.009   340000000   \n",
       "1           0.049   340000000   \n",
       "2           0.000   340000000   \n",
       "3           0.005   340000000   \n",
       "5           0.050   340000000   \n",
       "...           ...         ...   \n",
       "5545        0.020   340000000   \n",
       "5547        0.150   345000000   \n",
       "5549        0.010   340000000   \n",
       "5550        0.000   340000000   \n",
       "5552        0.045   340000000   \n",
       "\n",
       "                                         reward_account  \\\n",
       "0     stake1uy89kzrdlpaz5rzu8x95r4qnlpqhd3f8mf09edjp...   \n",
       "1     stake1u98nnlkvkk23vtvf9273uq7cph5ww6u2yq2389ps...   \n",
       "2     stake1uyx0ut5wc5nmu0tacjc9pyyahdyq5ujghwljkdxr...   \n",
       "3     stake1uxxsa2rlkv728pve3ks7kn7c6v68luagdjgwa0me...   \n",
       "5     stake1u9w20uzsevkxe6vp2nlmqjjrcj4gvcf560tvufuv...   \n",
       "...                                                 ...   \n",
       "5545  stake1u9zg9dxymfg02rvev7he2h8j9ptuj45s8qeu8hvs...   \n",
       "5547  stake1u8eyvgp8r7mhgszfevapn4vul283sqkls3hvaf6q...   \n",
       "5549  stake1u9yw7t3gksm445svqhsjxq7vhccqcngjgh2vwczv...   \n",
       "5550  stake1u9vlltzshvet0clpzkt6fhfwgt2jw4m3jarddc4n...   \n",
       "5552  stake1uxe45jdlkedl8hq59slcdzy2078pxylsujzwfr8m...   \n",
       "\n",
       "                                                 owners  \\\n",
       "0     ['stake1uy89kzrdlpaz5rzu8x95r4qnlpqhd3f8mf09ed...   \n",
       "1     ['stake1u98nnlkvkk23vtvf9273uq7cph5ww6u2yq2389...   \n",
       "2     ['stake1uyx0ut5wc5nmu0tacjc9pyyahdyq5ujghwljkd...   \n",
       "3     ['stake1uxxsa2rlkv728pve3ks7kn7c6v68luagdjgwa0...   \n",
       "5     ['stake1u9w20uzsevkxe6vp2nlmqjjrcj4gvcf560tvuf...   \n",
       "...                                                 ...   \n",
       "5545  ['stake1u9zg9dxymfg02rvev7he2h8j9ptuj45s8qeu8h...   \n",
       "5547  ['stake1u8eyvgp8r7mhgszfevapn4vul283sqkls3hvaf...   \n",
       "5549  ['stake1u9yw7t3gksm445svqhsjxq7vhccqcngjgh2vwc...   \n",
       "5550  ['stake1u9vlltzshvet0clpzkt6fhfwgt2jw4m3jarddc...   \n",
       "5552  ['stake1uxe45jdlkedl8hq59slcdzy2078pxylsujzwfr...   \n",
       "\n",
       "                                           registration retirement  \\\n",
       "0     ['841cca81da918feb9fa7257a34630eac95794be712ed...         []   \n",
       "1     ['a96c79773b7506211eb56bf94886a2face17657d1009...         []   \n",
       "2     ['37f5682e2622c821175bab9d5637b7321ecacc5ec663...         []   \n",
       "3     ['e8951eddb19b697bc74549aa9d4f956a8be8d5cf2c7a...         []   \n",
       "5     ['ff2d9576bd9c5e1dff6c9987860de39366f7b75dd6bb...         []   \n",
       "...                                                 ...        ...   \n",
       "5545  ['36783438a6b445690de40f589ae6a24f13300f1a9091...         []   \n",
       "5547  ['165c92f88abfebfd39d458ed4d1d917486ec5927c363...         []   \n",
       "5549  ['0c5f5e2b09b5885efd835f509be684aa2df8bafb0ce4...         []   \n",
       "5550  ['e5066e9eaef49c079cf84af8c54f55bcce4ee76ea0bb...         []   \n",
       "5552  ['54530bc2682ba27923a5d81fc230c7ddd330cd7d0e6e...         []   \n",
       "\n",
       "                             ip_host   port  \\\n",
       "0                       54.220.20.40   3002   \n",
       "1       relays.mainnet.stakenuts.com   3001   \n",
       "2                relay.zenithpool.io  31400   \n",
       "3                       95.183.53.20   6060   \n",
       "5                    139.162.148.181   8088   \n",
       "...                              ...    ...   \n",
       "5545                   47.241.248.83   3001   \n",
       "5547         crdrl1.stakemachine.net   9961   \n",
       "5549  relaynode1.higer-stakepool.com   6000   \n",
       "5550                    217.28.30.43   6000   \n",
       "5552                  65.108.107.238   6000   \n",
       "\n",
       "                                                    url  \\\n",
       "0     https://raw.githubusercontent.com/Octalus/card...   \n",
       "1                    https://stakenuts.com/mainnet.json   \n",
       "2                        https://metadata.zenithpool.io   \n",
       "3                          https://ispool.live/metadata   \n",
       "5        https://pool.adascan.net/meta/v1/poolmeta.json   \n",
       "...                                                 ...   \n",
       "5545  https://walletada.hotbitdemo.com/adapool_metad...   \n",
       "5547       https://www.stakemachine.net/cardano_sm.json   \n",
       "5549                               https://git.io/JSDk9   \n",
       "5550                               https://git.io/JySpg   \n",
       "5552         https://0xdeadbeef.network/roots-meta.json   \n",
       "\n",
       "                                                   hash ticker  \\\n",
       "0     ca7d12decf886e31f5226b5946c62edc81a7e40af95ce7...  OCTAS   \n",
       "1     47c0c68cb57f4a5b4a87bad896fc274678e7aea98e200f...   NUTS   \n",
       "2     21cc44498ab6e74e081a805e629fff171a66d0c8d034f9...    ZEN   \n",
       "3     34fdde237812fab14d29a80423bb295f39122f4fea1aae...    000   \n",
       "5     79e7cf8d936bf0ced040516b288e2edc76f2f87af5400f...   None   \n",
       "...                                                 ...    ...   \n",
       "5545  0a93741db4f79a688ce407faa28b9b4a56b0055aa0bd0c...    HTB   \n",
       "5547  24187af340d0d5abba13f6ea1571804814f740fe6871d1...  SMACH   \n",
       "5549  053b4fcdd91dc15c5ee74c768395b70b9fb580da65e16f...  HIGER   \n",
       "5550  d1969ef9bc1733e7c2a6569ec747245ba8bac7626d4147...   None   \n",
       "5552  2af57d0d3373b23b2a32763de09a47016d13e44a9dcbfc...  ROOTS   \n",
       "\n",
       "                        name  \\\n",
       "0                  OctasPool   \n",
       "1                  StakeNuts   \n",
       "2                     ZENITH   \n",
       "3     Switzerland Investment   \n",
       "5                       None   \n",
       "...                      ...   \n",
       "5545              HotbitPool   \n",
       "5547            StakeMachine   \n",
       "5549                   HIGER   \n",
       "5550                    None   \n",
       "5552                   ROOTS   \n",
       "\n",
       "                                            description  \\\n",
       "0                               Octa's Performance Pool   \n",
       "1                                         StakeNuts.com   \n",
       "2     One owner, one operator, one pool. Operating s...   \n",
       "3     Stability, Security, Reliability, Neutrality! ...   \n",
       "5                                                  None   \n",
       "...                                                 ...   \n",
       "5545                                         HotbitPool   \n",
       "5547                    Professional CARDANO stake pool   \n",
       "5549  Professional managed stake pool located in sou...   \n",
       "5550                                               None   \n",
       "5552                             Connect to your ROOTS.   \n",
       "\n",
       "                          homepage      resolved_ip   longitude   latitude  \\\n",
       "0      https://octaluso.dyndns.org     54.220.20.40   -6.243330  53.353889   \n",
       "1           https://stakenuts.com/    198.13.62.211  139.746155  35.583511   \n",
       "2            https://zenithpool.io   193.122.12.254 -122.333519  47.611012   \n",
       "3             https://ispool.live/     95.183.53.20    8.536950  47.374168   \n",
       "5                             None  139.162.148.181    8.682100  50.110901   \n",
       "...                            ...              ...         ...        ...   \n",
       "5545         https://www.hotbit.io    47.241.248.83  103.851784   1.287950   \n",
       "5547  https://www.stakemachine.net   194.35.120.118   11.214280  49.375061   \n",
       "5549   https://higer-stakepool.com     109.90.24.88    6.960300  50.937500   \n",
       "5550                          None     217.28.30.43  -71.208183  46.814301   \n",
       "5552      https://theearthpool.com   65.108.107.238   10.753400  49.115940   \n",
       "\n",
       "           zip             region_name region_code  \\\n",
       "0         None                Leinster           L   \n",
       "1     143-0006                Kanagawa          14   \n",
       "2        98101              Washington          WA   \n",
       "3         8043                  Zurich          ZH   \n",
       "5        60311                   Hesse          HE   \n",
       "...        ...                     ...         ...   \n",
       "5545      None       Central Singapore          01   \n",
       "5547     90537                 Bavaria          BY   \n",
       "5549     50667  North Rhine-Westphalia          NW   \n",
       "5550   G1R 5M1                  Quebec          QC   \n",
       "5552     91710                 Bavaria          BY   \n",
       "\n",
       "                                             connection               city  \\\n",
       "0              {'asn': 16509, 'isp': 'amazon.com, Inc'}             Dublin   \n",
       "1     {'asn': 20473, 'isp': 'The Constant Company LLC'}           Kawasaki   \n",
       "2           {'asn': 31898, 'isp': 'Oracle Corporation'}            Seattle   \n",
       "3     {'asn': 197988, 'isp': 'Solar Communications G...             Zürich   \n",
       "5                   {'asn': 63949, 'isp': 'Linode LLC'}  Frankfurt am Main   \n",
       "...                                                 ...                ...   \n",
       "5545  {'asn': 45102, 'isp': 'Alibaba (Us) Technology...          Singapore   \n",
       "5547  {'asn': 204644, 'isp': 'Stumpner Netservice Ug...        Wendelstein   \n",
       "5549              {'asn': 3209, 'isp': 'Vodafone Gmbh'}               Köln   \n",
       "5550                     {'asn': 398721, 'isp': 'Oxio'}             Québec   \n",
       "5552       {'asn': 24940, 'isp': 'Hetzner Online Gmbh'}       Gunzenhausen   \n",
       "\n",
       "       country_name country_code  \\\n",
       "0           Ireland           IE   \n",
       "1             Japan           JP   \n",
       "2     United States           US   \n",
       "3       Switzerland           CH   \n",
       "5           Germany           DE   \n",
       "...             ...          ...   \n",
       "5545      Singapore           SG   \n",
       "5547        Germany           DE   \n",
       "5549        Germany           DE   \n",
       "5550         Canada           CA   \n",
       "5552        Germany           DE   \n",
       "\n",
       "                                               isp     asn  live_stake_ada  \\\n",
       "0                                  amazon.com, Inc   16509    3.212853e+07   \n",
       "1                         The Constant Company LLC   20473    1.942799e+07   \n",
       "2                               Oracle Corporation   31898    5.672152e+05   \n",
       "3                        Solar Communications Gmbh  197988    1.735455e+06   \n",
       "5                                       Linode LLC   63949    4.000925e+03   \n",
       "...                                            ...     ...             ...   \n",
       "5545              Alibaba (Us) Technology Co. Ltd.   45102    9.957634e+04   \n",
       "5547  Stumpner Netservice Ug (Haftungsbeschraenkt)  204644    2.008504e+02   \n",
       "5549                                 Vodafone Gmbh    3209    1.500601e+03   \n",
       "5550                                          Oxio  398721    2.036975e+00   \n",
       "5552                           Hetzner Online Gmbh   24940    2.249723e+04   \n",
       "\n",
       "      live_pledge_ada  live_declared_pledge_ada  pledge_ratio  \\\n",
       "0       574564.954842                  100000.0    321.285322   \n",
       "1       567027.531192                  510000.0     38.094094   \n",
       "2       546041.471277                   50100.0     11.321660   \n",
       "3       207011.830413                  200000.0      8.677274   \n",
       "5            0.000000                    7149.0      0.559648   \n",
       "...               ...                       ...           ...   \n",
       "5545       357.225752                      10.0   9957.633988   \n",
       "5547       200.850366                     150.0      1.339002   \n",
       "5549      1500.600798                    1500.0      1.000401   \n",
       "5550         2.036975                     100.0      0.020370   \n",
       "5552     22497.233760                   20000.0      1.124862   \n",
       "\n",
       "      live_saturation_percentage  \n",
       "0                   4.795368e-01  \n",
       "1                   2.899739e-01  \n",
       "2                   8.466013e-03  \n",
       "3                   2.590266e-02  \n",
       "5                   5.971610e-05  \n",
       "...                          ...  \n",
       "5545                1.486234e-03  \n",
       "5547                2.997800e-06  \n",
       "5549                2.239730e-05  \n",
       "5550                3.040000e-08  \n",
       "5552                3.357842e-04  \n",
       "\n",
       "[3039 rows x 43 columns]"
      ]
     },
     "execution_count": 138,
     "metadata": {},
     "output_type": "execute_result"
    }
   ],
   "source": [
    "df_ada_staked_per_pool"
   ]
  },
  {
   "cell_type": "code",
   "execution_count": 139,
   "metadata": {},
   "outputs": [
    {
     "data": {
      "text/html": [
       "<div>\n",
       "<style scoped>\n",
       "    .dataframe tbody tr th:only-of-type {\n",
       "        vertical-align: middle;\n",
       "    }\n",
       "\n",
       "    .dataframe tbody tr th {\n",
       "        vertical-align: top;\n",
       "    }\n",
       "\n",
       "    .dataframe thead th {\n",
       "        text-align: right;\n",
       "    }\n",
       "</style>\n",
       "<table border=\"1\" class=\"dataframe\">\n",
       "  <thead>\n",
       "    <tr style=\"text-align: right;\">\n",
       "      <th></th>\n",
       "      <th>pool_id</th>\n",
       "      <th>hex</th>\n",
       "      <th>vrf_key</th>\n",
       "      <th>blocks_minted</th>\n",
       "      <th>live_stake</th>\n",
       "      <th>live_size</th>\n",
       "      <th>live_saturation</th>\n",
       "      <th>live_delegators</th>\n",
       "      <th>active_stake</th>\n",
       "      <th>active_size</th>\n",
       "      <th>declared_pledge</th>\n",
       "      <th>live_pledge</th>\n",
       "      <th>margin_cost</th>\n",
       "      <th>fixed_cost</th>\n",
       "      <th>reward_account</th>\n",
       "      <th>owners</th>\n",
       "      <th>registration</th>\n",
       "      <th>retirement</th>\n",
       "      <th>ip_host</th>\n",
       "      <th>port</th>\n",
       "      <th>url</th>\n",
       "      <th>hash</th>\n",
       "      <th>ticker</th>\n",
       "      <th>name</th>\n",
       "      <th>description</th>\n",
       "      <th>homepage</th>\n",
       "      <th>resolved_ip</th>\n",
       "      <th>longitude</th>\n",
       "      <th>latitude</th>\n",
       "      <th>zip</th>\n",
       "      <th>region_name</th>\n",
       "      <th>region_code</th>\n",
       "      <th>connection</th>\n",
       "      <th>city</th>\n",
       "      <th>country_name</th>\n",
       "      <th>country_code</th>\n",
       "      <th>isp</th>\n",
       "      <th>asn</th>\n",
       "      <th>live_stake_ada</th>\n",
       "      <th>live_pledge_ada</th>\n",
       "      <th>live_declared_pledge_ada</th>\n",
       "      <th>pledge_ratio</th>\n",
       "      <th>live_saturation_percentage</th>\n",
       "      <th>multipool_ratio</th>\n",
       "    </tr>\n",
       "  </thead>\n",
       "  <tbody>\n",
       "    <tr>\n",
       "      <th>0</th>\n",
       "      <td>pool1z5uqdk7dzdxaae5633fqfcu2eqzy3a3rgtuvy087f...</td>\n",
       "      <td>153806dbcd134ddee69a8c5204e38ac80448f62342f8c2...</td>\n",
       "      <td>0220a5d08adbfe9554b52d7b2993be5892ac3ff340e674...</td>\n",
       "      <td>4097</td>\n",
       "      <td>32128532235090</td>\n",
       "      <td>1.359849e-03</td>\n",
       "      <td>4.795368e-01</td>\n",
       "      <td>3170</td>\n",
       "      <td>32462689016256</td>\n",
       "      <td>1.368182e-03</td>\n",
       "      <td>100000000000</td>\n",
       "      <td>574564954842</td>\n",
       "      <td>0.009</td>\n",
       "      <td>340000000</td>\n",
       "      <td>stake1uy89kzrdlpaz5rzu8x95r4qnlpqhd3f8mf09edjp...</td>\n",
       "      <td>['stake1uy89kzrdlpaz5rzu8x95r4qnlpqhd3f8mf09ed...</td>\n",
       "      <td>['841cca81da918feb9fa7257a34630eac95794be712ed...</td>\n",
       "      <td>[]</td>\n",
       "      <td>54.220.20.40</td>\n",
       "      <td>3002</td>\n",
       "      <td>https://raw.githubusercontent.com/Octalus/card...</td>\n",
       "      <td>ca7d12decf886e31f5226b5946c62edc81a7e40af95ce7...</td>\n",
       "      <td>OCTAS</td>\n",
       "      <td>OctasPool</td>\n",
       "      <td>Octa's Performance Pool</td>\n",
       "      <td>https://octaluso.dyndns.org</td>\n",
       "      <td>54.220.20.40</td>\n",
       "      <td>-6.243330</td>\n",
       "      <td>53.353889</td>\n",
       "      <td>None</td>\n",
       "      <td>Leinster</td>\n",
       "      <td>L</td>\n",
       "      <td>{'asn': 16509, 'isp': 'amazon.com, Inc'}</td>\n",
       "      <td>Dublin</td>\n",
       "      <td>Ireland</td>\n",
       "      <td>IE</td>\n",
       "      <td>amazon.com, Inc</td>\n",
       "      <td>16509</td>\n",
       "      <td>3.212853e+07</td>\n",
       "      <td>574564.954842</td>\n",
       "      <td>100000.0</td>\n",
       "      <td>321.285322</td>\n",
       "      <td>4.795368e-01</td>\n",
       "      <td>0.039494</td>\n",
       "    </tr>\n",
       "    <tr>\n",
       "      <th>1</th>\n",
       "      <td>pool1pu5jlj4q9w9jlxeu370a3c9myx47md5j5m2str0na...</td>\n",
       "      <td>0f292fcaa02b8b2f9b3c8f9fd8e0bb21abedb692a6d505...</td>\n",
       "      <td>b512cc7c1a8ba689c2d8fd27adfdbac2049a3f8f95c8b8...</td>\n",
       "      <td>1824</td>\n",
       "      <td>19427988062303</td>\n",
       "      <td>8.222951e-04</td>\n",
       "      <td>2.899739e-01</td>\n",
       "      <td>170</td>\n",
       "      <td>19414895397699</td>\n",
       "      <td>8.182658e-04</td>\n",
       "      <td>510000000000</td>\n",
       "      <td>567027531192</td>\n",
       "      <td>0.049</td>\n",
       "      <td>340000000</td>\n",
       "      <td>stake1u98nnlkvkk23vtvf9273uq7cph5ww6u2yq2389ps...</td>\n",
       "      <td>['stake1u98nnlkvkk23vtvf9273uq7cph5ww6u2yq2389...</td>\n",
       "      <td>['a96c79773b7506211eb56bf94886a2face17657d1009...</td>\n",
       "      <td>[]</td>\n",
       "      <td>relays.mainnet.stakenuts.com</td>\n",
       "      <td>3001</td>\n",
       "      <td>https://stakenuts.com/mainnet.json</td>\n",
       "      <td>47c0c68cb57f4a5b4a87bad896fc274678e7aea98e200f...</td>\n",
       "      <td>NUTS</td>\n",
       "      <td>StakeNuts</td>\n",
       "      <td>StakeNuts.com</td>\n",
       "      <td>https://stakenuts.com/</td>\n",
       "      <td>198.13.62.211</td>\n",
       "      <td>139.746155</td>\n",
       "      <td>35.583511</td>\n",
       "      <td>143-0006</td>\n",
       "      <td>Kanagawa</td>\n",
       "      <td>14</td>\n",
       "      <td>{'asn': 20473, 'isp': 'The Constant Company LLC'}</td>\n",
       "      <td>Kawasaki</td>\n",
       "      <td>Japan</td>\n",
       "      <td>JP</td>\n",
       "      <td>The Constant Company LLC</td>\n",
       "      <td>20473</td>\n",
       "      <td>1.942799e+07</td>\n",
       "      <td>567027.531192</td>\n",
       "      <td>510000.0</td>\n",
       "      <td>38.094094</td>\n",
       "      <td>2.899739e-01</td>\n",
       "      <td>0.039494</td>\n",
       "    </tr>\n",
       "    <tr>\n",
       "      <th>2</th>\n",
       "      <td>pool1c8k78ny3xvsfgenhf4yzvpzwgzxmz0t0um0h2xnn2...</td>\n",
       "      <td>c1ede3cc9133209466774d4826044e408db13d6fe6df75...</td>\n",
       "      <td>b8ba5f7dcbf17e95781e325114da46def1fa908435a27d...</td>\n",
       "      <td>80</td>\n",
       "      <td>567215180144</td>\n",
       "      <td>2.400750e-05</td>\n",
       "      <td>8.466013e-03</td>\n",
       "      <td>17</td>\n",
       "      <td>555030759623</td>\n",
       "      <td>2.339250e-05</td>\n",
       "      <td>50100000000</td>\n",
       "      <td>546041471277</td>\n",
       "      <td>0.000</td>\n",
       "      <td>340000000</td>\n",
       "      <td>stake1uyx0ut5wc5nmu0tacjc9pyyahdyq5ujghwljkdxr...</td>\n",
       "      <td>['stake1uyx0ut5wc5nmu0tacjc9pyyahdyq5ujghwljkd...</td>\n",
       "      <td>['37f5682e2622c821175bab9d5637b7321ecacc5ec663...</td>\n",
       "      <td>[]</td>\n",
       "      <td>relay.zenithpool.io</td>\n",
       "      <td>31400</td>\n",
       "      <td>https://metadata.zenithpool.io</td>\n",
       "      <td>21cc44498ab6e74e081a805e629fff171a66d0c8d034f9...</td>\n",
       "      <td>ZEN</td>\n",
       "      <td>ZENITH</td>\n",
       "      <td>One owner, one operator, one pool. Operating s...</td>\n",
       "      <td>https://zenithpool.io</td>\n",
       "      <td>193.122.12.254</td>\n",
       "      <td>-122.333519</td>\n",
       "      <td>47.611012</td>\n",
       "      <td>98101</td>\n",
       "      <td>Washington</td>\n",
       "      <td>WA</td>\n",
       "      <td>{'asn': 31898, 'isp': 'Oracle Corporation'}</td>\n",
       "      <td>Seattle</td>\n",
       "      <td>United States</td>\n",
       "      <td>US</td>\n",
       "      <td>Oracle Corporation</td>\n",
       "      <td>31898</td>\n",
       "      <td>5.672152e+05</td>\n",
       "      <td>546041.471277</td>\n",
       "      <td>50100.0</td>\n",
       "      <td>11.321660</td>\n",
       "      <td>8.466013e-03</td>\n",
       "      <td>0.039494</td>\n",
       "    </tr>\n",
       "    <tr>\n",
       "      <th>3</th>\n",
       "      <td>pool1q80jjs53w0fx836n8g38gtdwr8ck5zre3da90peux...</td>\n",
       "      <td>01df29429173d263c7533a22742dae19f16a08798b7a57...</td>\n",
       "      <td>b75115a1e4e32a33985fc720f3715f0e99617b448fbc36...</td>\n",
       "      <td>259</td>\n",
       "      <td>1735454735054</td>\n",
       "      <td>7.345360e-05</td>\n",
       "      <td>2.590266e-02</td>\n",
       "      <td>724</td>\n",
       "      <td>1735713797295</td>\n",
       "      <td>7.315390e-05</td>\n",
       "      <td>200000000000</td>\n",
       "      <td>207011830413</td>\n",
       "      <td>0.005</td>\n",
       "      <td>340000000</td>\n",
       "      <td>stake1uxxsa2rlkv728pve3ks7kn7c6v68luagdjgwa0me...</td>\n",
       "      <td>['stake1uxxsa2rlkv728pve3ks7kn7c6v68luagdjgwa0...</td>\n",
       "      <td>['e8951eddb19b697bc74549aa9d4f956a8be8d5cf2c7a...</td>\n",
       "      <td>[]</td>\n",
       "      <td>95.183.53.20</td>\n",
       "      <td>6060</td>\n",
       "      <td>https://ispool.live/metadata</td>\n",
       "      <td>34fdde237812fab14d29a80423bb295f39122f4fea1aae...</td>\n",
       "      <td>000</td>\n",
       "      <td>Switzerland Investment</td>\n",
       "      <td>Stability, Security, Reliability, Neutrality! ...</td>\n",
       "      <td>https://ispool.live/</td>\n",
       "      <td>95.183.53.20</td>\n",
       "      <td>8.536950</td>\n",
       "      <td>47.374168</td>\n",
       "      <td>8043</td>\n",
       "      <td>Zurich</td>\n",
       "      <td>ZH</td>\n",
       "      <td>{'asn': 197988, 'isp': 'Solar Communications G...</td>\n",
       "      <td>Zürich</td>\n",
       "      <td>Switzerland</td>\n",
       "      <td>CH</td>\n",
       "      <td>Solar Communications Gmbh</td>\n",
       "      <td>197988</td>\n",
       "      <td>1.735455e+06</td>\n",
       "      <td>207011.830413</td>\n",
       "      <td>200000.0</td>\n",
       "      <td>8.677274</td>\n",
       "      <td>2.590266e-02</td>\n",
       "      <td>0.039494</td>\n",
       "    </tr>\n",
       "    <tr>\n",
       "      <th>5</th>\n",
       "      <td>pool1ddskftmsscw92d7vnj89pldwx5feegkgcmamgt5t0...</td>\n",
       "      <td>6b6164af70861c5537cc9c8e50fdae35139ca2c8c6fbb4...</td>\n",
       "      <td>78b0b08fec7458afd1209dcd26bd0c10faa640a49d5013...</td>\n",
       "      <td>23</td>\n",
       "      <td>4000924534</td>\n",
       "      <td>1.693000e-07</td>\n",
       "      <td>5.971610e-05</td>\n",
       "      <td>14</td>\n",
       "      <td>4000924534</td>\n",
       "      <td>1.686000e-07</td>\n",
       "      <td>7149000000</td>\n",
       "      <td>0</td>\n",
       "      <td>0.050</td>\n",
       "      <td>340000000</td>\n",
       "      <td>stake1u9w20uzsevkxe6vp2nlmqjjrcj4gvcf560tvufuv...</td>\n",
       "      <td>['stake1u9w20uzsevkxe6vp2nlmqjjrcj4gvcf560tvuf...</td>\n",
       "      <td>['ff2d9576bd9c5e1dff6c9987860de39366f7b75dd6bb...</td>\n",
       "      <td>[]</td>\n",
       "      <td>139.162.148.181</td>\n",
       "      <td>8088</td>\n",
       "      <td>https://pool.adascan.net/meta/v1/poolmeta.json</td>\n",
       "      <td>79e7cf8d936bf0ced040516b288e2edc76f2f87af5400f...</td>\n",
       "      <td>None</td>\n",
       "      <td>None</td>\n",
       "      <td>None</td>\n",
       "      <td>None</td>\n",
       "      <td>139.162.148.181</td>\n",
       "      <td>8.682100</td>\n",
       "      <td>50.110901</td>\n",
       "      <td>60311</td>\n",
       "      <td>Hesse</td>\n",
       "      <td>HE</td>\n",
       "      <td>{'asn': 63949, 'isp': 'Linode LLC'}</td>\n",
       "      <td>Frankfurt am Main</td>\n",
       "      <td>Germany</td>\n",
       "      <td>DE</td>\n",
       "      <td>Linode LLC</td>\n",
       "      <td>63949</td>\n",
       "      <td>4.000925e+03</td>\n",
       "      <td>0.000000</td>\n",
       "      <td>7149.0</td>\n",
       "      <td>0.559648</td>\n",
       "      <td>5.971610e-05</td>\n",
       "      <td>NaN</td>\n",
       "    </tr>\n",
       "    <tr>\n",
       "      <th>...</th>\n",
       "      <td>...</td>\n",
       "      <td>...</td>\n",
       "      <td>...</td>\n",
       "      <td>...</td>\n",
       "      <td>...</td>\n",
       "      <td>...</td>\n",
       "      <td>...</td>\n",
       "      <td>...</td>\n",
       "      <td>...</td>\n",
       "      <td>...</td>\n",
       "      <td>...</td>\n",
       "      <td>...</td>\n",
       "      <td>...</td>\n",
       "      <td>...</td>\n",
       "      <td>...</td>\n",
       "      <td>...</td>\n",
       "      <td>...</td>\n",
       "      <td>...</td>\n",
       "      <td>...</td>\n",
       "      <td>...</td>\n",
       "      <td>...</td>\n",
       "      <td>...</td>\n",
       "      <td>...</td>\n",
       "      <td>...</td>\n",
       "      <td>...</td>\n",
       "      <td>...</td>\n",
       "      <td>...</td>\n",
       "      <td>...</td>\n",
       "      <td>...</td>\n",
       "      <td>...</td>\n",
       "      <td>...</td>\n",
       "      <td>...</td>\n",
       "      <td>...</td>\n",
       "      <td>...</td>\n",
       "      <td>...</td>\n",
       "      <td>...</td>\n",
       "      <td>...</td>\n",
       "      <td>...</td>\n",
       "      <td>...</td>\n",
       "      <td>...</td>\n",
       "      <td>...</td>\n",
       "      <td>...</td>\n",
       "      <td>...</td>\n",
       "      <td>...</td>\n",
       "    </tr>\n",
       "    <tr>\n",
       "      <th>5545</th>\n",
       "      <td>pool1sk6jvl4u8m4peddwqxzslgt82n57qy0rug2j0jfzk...</td>\n",
       "      <td>85b5267ebc3eea1cb5ae01850fa16754e9e011e3e21527...</td>\n",
       "      <td>2d673584d7b29070ba9355df7e787176a822338f0457d4...</td>\n",
       "      <td>0</td>\n",
       "      <td>99576339881</td>\n",
       "      <td>4.214900e-06</td>\n",
       "      <td>1.486234e-03</td>\n",
       "      <td>2</td>\n",
       "      <td>0</td>\n",
       "      <td>0.000000e+00</td>\n",
       "      <td>10000000</td>\n",
       "      <td>357225752</td>\n",
       "      <td>0.020</td>\n",
       "      <td>340000000</td>\n",
       "      <td>stake1u9zg9dxymfg02rvev7he2h8j9ptuj45s8qeu8hvs...</td>\n",
       "      <td>['stake1u9zg9dxymfg02rvev7he2h8j9ptuj45s8qeu8h...</td>\n",
       "      <td>['36783438a6b445690de40f589ae6a24f13300f1a9091...</td>\n",
       "      <td>[]</td>\n",
       "      <td>47.241.248.83</td>\n",
       "      <td>3001</td>\n",
       "      <td>https://walletada.hotbitdemo.com/adapool_metad...</td>\n",
       "      <td>0a93741db4f79a688ce407faa28b9b4a56b0055aa0bd0c...</td>\n",
       "      <td>HTB</td>\n",
       "      <td>HotbitPool</td>\n",
       "      <td>HotbitPool</td>\n",
       "      <td>https://www.hotbit.io</td>\n",
       "      <td>47.241.248.83</td>\n",
       "      <td>103.851784</td>\n",
       "      <td>1.287950</td>\n",
       "      <td>None</td>\n",
       "      <td>Central Singapore</td>\n",
       "      <td>01</td>\n",
       "      <td>{'asn': 45102, 'isp': 'Alibaba (Us) Technology...</td>\n",
       "      <td>Singapore</td>\n",
       "      <td>Singapore</td>\n",
       "      <td>SG</td>\n",
       "      <td>Alibaba (Us) Technology Co. Ltd.</td>\n",
       "      <td>45102</td>\n",
       "      <td>9.957634e+04</td>\n",
       "      <td>357.225752</td>\n",
       "      <td>10.0</td>\n",
       "      <td>9957.633988</td>\n",
       "      <td>1.486234e-03</td>\n",
       "      <td>0.039494</td>\n",
       "    </tr>\n",
       "    <tr>\n",
       "      <th>5547</th>\n",
       "      <td>pool1l6946mnu54f6v0we4xzra8kwm68ch7fphhxvgytd0...</td>\n",
       "      <td>fe8b5d6e7ca553a63dd9a9843e9ecede8f8bf921bdccc4...</td>\n",
       "      <td>4b5cc8a3499e69683701957db53a7297b99df317d21532...</td>\n",
       "      <td>0</td>\n",
       "      <td>200850366</td>\n",
       "      <td>8.500000e-09</td>\n",
       "      <td>2.997800e-06</td>\n",
       "      <td>1</td>\n",
       "      <td>0</td>\n",
       "      <td>0.000000e+00</td>\n",
       "      <td>150000000</td>\n",
       "      <td>200850366</td>\n",
       "      <td>0.150</td>\n",
       "      <td>345000000</td>\n",
       "      <td>stake1u8eyvgp8r7mhgszfevapn4vul283sqkls3hvaf6q...</td>\n",
       "      <td>['stake1u8eyvgp8r7mhgszfevapn4vul283sqkls3hvaf...</td>\n",
       "      <td>['165c92f88abfebfd39d458ed4d1d917486ec5927c363...</td>\n",
       "      <td>[]</td>\n",
       "      <td>crdrl1.stakemachine.net</td>\n",
       "      <td>9961</td>\n",
       "      <td>https://www.stakemachine.net/cardano_sm.json</td>\n",
       "      <td>24187af340d0d5abba13f6ea1571804814f740fe6871d1...</td>\n",
       "      <td>SMACH</td>\n",
       "      <td>StakeMachine</td>\n",
       "      <td>Professional CARDANO stake pool</td>\n",
       "      <td>https://www.stakemachine.net</td>\n",
       "      <td>194.35.120.118</td>\n",
       "      <td>11.214280</td>\n",
       "      <td>49.375061</td>\n",
       "      <td>90537</td>\n",
       "      <td>Bavaria</td>\n",
       "      <td>BY</td>\n",
       "      <td>{'asn': 204644, 'isp': 'Stumpner Netservice Ug...</td>\n",
       "      <td>Wendelstein</td>\n",
       "      <td>Germany</td>\n",
       "      <td>DE</td>\n",
       "      <td>Stumpner Netservice Ug (Haftungsbeschraenkt)</td>\n",
       "      <td>204644</td>\n",
       "      <td>2.008504e+02</td>\n",
       "      <td>200.850366</td>\n",
       "      <td>150.0</td>\n",
       "      <td>1.339002</td>\n",
       "      <td>2.997800e-06</td>\n",
       "      <td>0.039494</td>\n",
       "    </tr>\n",
       "    <tr>\n",
       "      <th>5549</th>\n",
       "      <td>pool1vcc9lngr8g2j8xh0kgy84nne026adr5zmvwagkda9...</td>\n",
       "      <td>66305fcd033a15239aefb2087ace797ab5d68e82db1dd4...</td>\n",
       "      <td>cd7410122ca16a9660155c59340083a8e3b540016d043d...</td>\n",
       "      <td>0</td>\n",
       "      <td>1500600798</td>\n",
       "      <td>6.350000e-08</td>\n",
       "      <td>2.239730e-05</td>\n",
       "      <td>1</td>\n",
       "      <td>0</td>\n",
       "      <td>0.000000e+00</td>\n",
       "      <td>1500000000</td>\n",
       "      <td>1500600798</td>\n",
       "      <td>0.010</td>\n",
       "      <td>340000000</td>\n",
       "      <td>stake1u9yw7t3gksm445svqhsjxq7vhccqcngjgh2vwczv...</td>\n",
       "      <td>['stake1u9yw7t3gksm445svqhsjxq7vhccqcngjgh2vwc...</td>\n",
       "      <td>['0c5f5e2b09b5885efd835f509be684aa2df8bafb0ce4...</td>\n",
       "      <td>[]</td>\n",
       "      <td>relaynode1.higer-stakepool.com</td>\n",
       "      <td>6000</td>\n",
       "      <td>https://git.io/JSDk9</td>\n",
       "      <td>053b4fcdd91dc15c5ee74c768395b70b9fb580da65e16f...</td>\n",
       "      <td>HIGER</td>\n",
       "      <td>HIGER</td>\n",
       "      <td>Professional managed stake pool located in sou...</td>\n",
       "      <td>https://higer-stakepool.com</td>\n",
       "      <td>109.90.24.88</td>\n",
       "      <td>6.960300</td>\n",
       "      <td>50.937500</td>\n",
       "      <td>50667</td>\n",
       "      <td>North Rhine-Westphalia</td>\n",
       "      <td>NW</td>\n",
       "      <td>{'asn': 3209, 'isp': 'Vodafone Gmbh'}</td>\n",
       "      <td>Köln</td>\n",
       "      <td>Germany</td>\n",
       "      <td>DE</td>\n",
       "      <td>Vodafone Gmbh</td>\n",
       "      <td>3209</td>\n",
       "      <td>1.500601e+03</td>\n",
       "      <td>1500.600798</td>\n",
       "      <td>1500.0</td>\n",
       "      <td>1.000401</td>\n",
       "      <td>2.239730e-05</td>\n",
       "      <td>0.039494</td>\n",
       "    </tr>\n",
       "    <tr>\n",
       "      <th>5550</th>\n",
       "      <td>pool1qcu4r9rw853pyvfznfeujfzxlku4xtvp8cas6c2y7...</td>\n",
       "      <td>063951946e3d221231229a73c92446fdb9532d813e3b0d...</td>\n",
       "      <td>3c57e43260a4dde6b3a07d83907f00027b2d0630f57201...</td>\n",
       "      <td>0</td>\n",
       "      <td>2036975</td>\n",
       "      <td>1.000000e-10</td>\n",
       "      <td>3.040000e-08</td>\n",
       "      <td>1</td>\n",
       "      <td>0</td>\n",
       "      <td>0.000000e+00</td>\n",
       "      <td>100000000</td>\n",
       "      <td>2036975</td>\n",
       "      <td>0.000</td>\n",
       "      <td>340000000</td>\n",
       "      <td>stake1u9vlltzshvet0clpzkt6fhfwgt2jw4m3jarddc4n...</td>\n",
       "      <td>['stake1u9vlltzshvet0clpzkt6fhfwgt2jw4m3jarddc...</td>\n",
       "      <td>['e5066e9eaef49c079cf84af8c54f55bcce4ee76ea0bb...</td>\n",
       "      <td>[]</td>\n",
       "      <td>217.28.30.43</td>\n",
       "      <td>6000</td>\n",
       "      <td>https://git.io/JySpg</td>\n",
       "      <td>d1969ef9bc1733e7c2a6569ec747245ba8bac7626d4147...</td>\n",
       "      <td>None</td>\n",
       "      <td>None</td>\n",
       "      <td>None</td>\n",
       "      <td>None</td>\n",
       "      <td>217.28.30.43</td>\n",
       "      <td>-71.208183</td>\n",
       "      <td>46.814301</td>\n",
       "      <td>G1R 5M1</td>\n",
       "      <td>Quebec</td>\n",
       "      <td>QC</td>\n",
       "      <td>{'asn': 398721, 'isp': 'Oxio'}</td>\n",
       "      <td>Québec</td>\n",
       "      <td>Canada</td>\n",
       "      <td>CA</td>\n",
       "      <td>Oxio</td>\n",
       "      <td>398721</td>\n",
       "      <td>2.036975e+00</td>\n",
       "      <td>2.036975</td>\n",
       "      <td>100.0</td>\n",
       "      <td>0.020370</td>\n",
       "      <td>3.040000e-08</td>\n",
       "      <td>NaN</td>\n",
       "    </tr>\n",
       "    <tr>\n",
       "      <th>5552</th>\n",
       "      <td>pool1etwkskpk7smvppts3d0wryqyxkm2udk2a4qy6eek5...</td>\n",
       "      <td>cadd685836f436c085708b5ee1900435b6ae36caed404d...</td>\n",
       "      <td>2bd83ebefebebb50a01d637af893a9dadeac42fa114b13...</td>\n",
       "      <td>0</td>\n",
       "      <td>22497233760</td>\n",
       "      <td>9.523000e-07</td>\n",
       "      <td>3.357842e-04</td>\n",
       "      <td>1</td>\n",
       "      <td>0</td>\n",
       "      <td>0.000000e+00</td>\n",
       "      <td>20000000000</td>\n",
       "      <td>22497233760</td>\n",
       "      <td>0.045</td>\n",
       "      <td>340000000</td>\n",
       "      <td>stake1uxe45jdlkedl8hq59slcdzy2078pxylsujzwfr8m...</td>\n",
       "      <td>['stake1uxe45jdlkedl8hq59slcdzy2078pxylsujzwfr...</td>\n",
       "      <td>['54530bc2682ba27923a5d81fc230c7ddd330cd7d0e6e...</td>\n",
       "      <td>[]</td>\n",
       "      <td>65.108.107.238</td>\n",
       "      <td>6000</td>\n",
       "      <td>https://0xdeadbeef.network/roots-meta.json</td>\n",
       "      <td>2af57d0d3373b23b2a32763de09a47016d13e44a9dcbfc...</td>\n",
       "      <td>ROOTS</td>\n",
       "      <td>ROOTS</td>\n",
       "      <td>Connect to your ROOTS.</td>\n",
       "      <td>https://theearthpool.com</td>\n",
       "      <td>65.108.107.238</td>\n",
       "      <td>10.753400</td>\n",
       "      <td>49.115940</td>\n",
       "      <td>91710</td>\n",
       "      <td>Bavaria</td>\n",
       "      <td>BY</td>\n",
       "      <td>{'asn': 24940, 'isp': 'Hetzner Online Gmbh'}</td>\n",
       "      <td>Gunzenhausen</td>\n",
       "      <td>Germany</td>\n",
       "      <td>DE</td>\n",
       "      <td>Hetzner Online Gmbh</td>\n",
       "      <td>24940</td>\n",
       "      <td>2.249723e+04</td>\n",
       "      <td>22497.233760</td>\n",
       "      <td>20000.0</td>\n",
       "      <td>1.124862</td>\n",
       "      <td>3.357842e-04</td>\n",
       "      <td>0.039494</td>\n",
       "    </tr>\n",
       "  </tbody>\n",
       "</table>\n",
       "<p>3039 rows × 44 columns</p>\n",
       "</div>"
      ],
      "text/plain": [
       "                                                pool_id  \\\n",
       "0     pool1z5uqdk7dzdxaae5633fqfcu2eqzy3a3rgtuvy087f...   \n",
       "1     pool1pu5jlj4q9w9jlxeu370a3c9myx47md5j5m2str0na...   \n",
       "2     pool1c8k78ny3xvsfgenhf4yzvpzwgzxmz0t0um0h2xnn2...   \n",
       "3     pool1q80jjs53w0fx836n8g38gtdwr8ck5zre3da90peux...   \n",
       "5     pool1ddskftmsscw92d7vnj89pldwx5feegkgcmamgt5t0...   \n",
       "...                                                 ...   \n",
       "5545  pool1sk6jvl4u8m4peddwqxzslgt82n57qy0rug2j0jfzk...   \n",
       "5547  pool1l6946mnu54f6v0we4xzra8kwm68ch7fphhxvgytd0...   \n",
       "5549  pool1vcc9lngr8g2j8xh0kgy84nne026adr5zmvwagkda9...   \n",
       "5550  pool1qcu4r9rw853pyvfznfeujfzxlku4xtvp8cas6c2y7...   \n",
       "5552  pool1etwkskpk7smvppts3d0wryqyxkm2udk2a4qy6eek5...   \n",
       "\n",
       "                                                    hex  \\\n",
       "0     153806dbcd134ddee69a8c5204e38ac80448f62342f8c2...   \n",
       "1     0f292fcaa02b8b2f9b3c8f9fd8e0bb21abedb692a6d505...   \n",
       "2     c1ede3cc9133209466774d4826044e408db13d6fe6df75...   \n",
       "3     01df29429173d263c7533a22742dae19f16a08798b7a57...   \n",
       "5     6b6164af70861c5537cc9c8e50fdae35139ca2c8c6fbb4...   \n",
       "...                                                 ...   \n",
       "5545  85b5267ebc3eea1cb5ae01850fa16754e9e011e3e21527...   \n",
       "5547  fe8b5d6e7ca553a63dd9a9843e9ecede8f8bf921bdccc4...   \n",
       "5549  66305fcd033a15239aefb2087ace797ab5d68e82db1dd4...   \n",
       "5550  063951946e3d221231229a73c92446fdb9532d813e3b0d...   \n",
       "5552  cadd685836f436c085708b5ee1900435b6ae36caed404d...   \n",
       "\n",
       "                                                vrf_key  blocks_minted  \\\n",
       "0     0220a5d08adbfe9554b52d7b2993be5892ac3ff340e674...           4097   \n",
       "1     b512cc7c1a8ba689c2d8fd27adfdbac2049a3f8f95c8b8...           1824   \n",
       "2     b8ba5f7dcbf17e95781e325114da46def1fa908435a27d...             80   \n",
       "3     b75115a1e4e32a33985fc720f3715f0e99617b448fbc36...            259   \n",
       "5     78b0b08fec7458afd1209dcd26bd0c10faa640a49d5013...             23   \n",
       "...                                                 ...            ...   \n",
       "5545  2d673584d7b29070ba9355df7e787176a822338f0457d4...              0   \n",
       "5547  4b5cc8a3499e69683701957db53a7297b99df317d21532...              0   \n",
       "5549  cd7410122ca16a9660155c59340083a8e3b540016d043d...              0   \n",
       "5550  3c57e43260a4dde6b3a07d83907f00027b2d0630f57201...              0   \n",
       "5552  2bd83ebefebebb50a01d637af893a9dadeac42fa114b13...              0   \n",
       "\n",
       "          live_stake     live_size  live_saturation  live_delegators  \\\n",
       "0     32128532235090  1.359849e-03     4.795368e-01             3170   \n",
       "1     19427988062303  8.222951e-04     2.899739e-01              170   \n",
       "2       567215180144  2.400750e-05     8.466013e-03               17   \n",
       "3      1735454735054  7.345360e-05     2.590266e-02              724   \n",
       "5         4000924534  1.693000e-07     5.971610e-05               14   \n",
       "...              ...           ...              ...              ...   \n",
       "5545     99576339881  4.214900e-06     1.486234e-03                2   \n",
       "5547       200850366  8.500000e-09     2.997800e-06                1   \n",
       "5549      1500600798  6.350000e-08     2.239730e-05                1   \n",
       "5550         2036975  1.000000e-10     3.040000e-08                1   \n",
       "5552     22497233760  9.523000e-07     3.357842e-04                1   \n",
       "\n",
       "        active_stake   active_size  declared_pledge   live_pledge  \\\n",
       "0     32462689016256  1.368182e-03     100000000000  574564954842   \n",
       "1     19414895397699  8.182658e-04     510000000000  567027531192   \n",
       "2       555030759623  2.339250e-05      50100000000  546041471277   \n",
       "3      1735713797295  7.315390e-05     200000000000  207011830413   \n",
       "5         4000924534  1.686000e-07       7149000000             0   \n",
       "...              ...           ...              ...           ...   \n",
       "5545               0  0.000000e+00         10000000     357225752   \n",
       "5547               0  0.000000e+00        150000000     200850366   \n",
       "5549               0  0.000000e+00       1500000000    1500600798   \n",
       "5550               0  0.000000e+00        100000000       2036975   \n",
       "5552               0  0.000000e+00      20000000000   22497233760   \n",
       "\n",
       "      margin_cost  fixed_cost  \\\n",
       "0           0.009   340000000   \n",
       "1           0.049   340000000   \n",
       "2           0.000   340000000   \n",
       "3           0.005   340000000   \n",
       "5           0.050   340000000   \n",
       "...           ...         ...   \n",
       "5545        0.020   340000000   \n",
       "5547        0.150   345000000   \n",
       "5549        0.010   340000000   \n",
       "5550        0.000   340000000   \n",
       "5552        0.045   340000000   \n",
       "\n",
       "                                         reward_account  \\\n",
       "0     stake1uy89kzrdlpaz5rzu8x95r4qnlpqhd3f8mf09edjp...   \n",
       "1     stake1u98nnlkvkk23vtvf9273uq7cph5ww6u2yq2389ps...   \n",
       "2     stake1uyx0ut5wc5nmu0tacjc9pyyahdyq5ujghwljkdxr...   \n",
       "3     stake1uxxsa2rlkv728pve3ks7kn7c6v68luagdjgwa0me...   \n",
       "5     stake1u9w20uzsevkxe6vp2nlmqjjrcj4gvcf560tvufuv...   \n",
       "...                                                 ...   \n",
       "5545  stake1u9zg9dxymfg02rvev7he2h8j9ptuj45s8qeu8hvs...   \n",
       "5547  stake1u8eyvgp8r7mhgszfevapn4vul283sqkls3hvaf6q...   \n",
       "5549  stake1u9yw7t3gksm445svqhsjxq7vhccqcngjgh2vwczv...   \n",
       "5550  stake1u9vlltzshvet0clpzkt6fhfwgt2jw4m3jarddc4n...   \n",
       "5552  stake1uxe45jdlkedl8hq59slcdzy2078pxylsujzwfr8m...   \n",
       "\n",
       "                                                 owners  \\\n",
       "0     ['stake1uy89kzrdlpaz5rzu8x95r4qnlpqhd3f8mf09ed...   \n",
       "1     ['stake1u98nnlkvkk23vtvf9273uq7cph5ww6u2yq2389...   \n",
       "2     ['stake1uyx0ut5wc5nmu0tacjc9pyyahdyq5ujghwljkd...   \n",
       "3     ['stake1uxxsa2rlkv728pve3ks7kn7c6v68luagdjgwa0...   \n",
       "5     ['stake1u9w20uzsevkxe6vp2nlmqjjrcj4gvcf560tvuf...   \n",
       "...                                                 ...   \n",
       "5545  ['stake1u9zg9dxymfg02rvev7he2h8j9ptuj45s8qeu8h...   \n",
       "5547  ['stake1u8eyvgp8r7mhgszfevapn4vul283sqkls3hvaf...   \n",
       "5549  ['stake1u9yw7t3gksm445svqhsjxq7vhccqcngjgh2vwc...   \n",
       "5550  ['stake1u9vlltzshvet0clpzkt6fhfwgt2jw4m3jarddc...   \n",
       "5552  ['stake1uxe45jdlkedl8hq59slcdzy2078pxylsujzwfr...   \n",
       "\n",
       "                                           registration retirement  \\\n",
       "0     ['841cca81da918feb9fa7257a34630eac95794be712ed...         []   \n",
       "1     ['a96c79773b7506211eb56bf94886a2face17657d1009...         []   \n",
       "2     ['37f5682e2622c821175bab9d5637b7321ecacc5ec663...         []   \n",
       "3     ['e8951eddb19b697bc74549aa9d4f956a8be8d5cf2c7a...         []   \n",
       "5     ['ff2d9576bd9c5e1dff6c9987860de39366f7b75dd6bb...         []   \n",
       "...                                                 ...        ...   \n",
       "5545  ['36783438a6b445690de40f589ae6a24f13300f1a9091...         []   \n",
       "5547  ['165c92f88abfebfd39d458ed4d1d917486ec5927c363...         []   \n",
       "5549  ['0c5f5e2b09b5885efd835f509be684aa2df8bafb0ce4...         []   \n",
       "5550  ['e5066e9eaef49c079cf84af8c54f55bcce4ee76ea0bb...         []   \n",
       "5552  ['54530bc2682ba27923a5d81fc230c7ddd330cd7d0e6e...         []   \n",
       "\n",
       "                             ip_host   port  \\\n",
       "0                       54.220.20.40   3002   \n",
       "1       relays.mainnet.stakenuts.com   3001   \n",
       "2                relay.zenithpool.io  31400   \n",
       "3                       95.183.53.20   6060   \n",
       "5                    139.162.148.181   8088   \n",
       "...                              ...    ...   \n",
       "5545                   47.241.248.83   3001   \n",
       "5547         crdrl1.stakemachine.net   9961   \n",
       "5549  relaynode1.higer-stakepool.com   6000   \n",
       "5550                    217.28.30.43   6000   \n",
       "5552                  65.108.107.238   6000   \n",
       "\n",
       "                                                    url  \\\n",
       "0     https://raw.githubusercontent.com/Octalus/card...   \n",
       "1                    https://stakenuts.com/mainnet.json   \n",
       "2                        https://metadata.zenithpool.io   \n",
       "3                          https://ispool.live/metadata   \n",
       "5        https://pool.adascan.net/meta/v1/poolmeta.json   \n",
       "...                                                 ...   \n",
       "5545  https://walletada.hotbitdemo.com/adapool_metad...   \n",
       "5547       https://www.stakemachine.net/cardano_sm.json   \n",
       "5549                               https://git.io/JSDk9   \n",
       "5550                               https://git.io/JySpg   \n",
       "5552         https://0xdeadbeef.network/roots-meta.json   \n",
       "\n",
       "                                                   hash ticker  \\\n",
       "0     ca7d12decf886e31f5226b5946c62edc81a7e40af95ce7...  OCTAS   \n",
       "1     47c0c68cb57f4a5b4a87bad896fc274678e7aea98e200f...   NUTS   \n",
       "2     21cc44498ab6e74e081a805e629fff171a66d0c8d034f9...    ZEN   \n",
       "3     34fdde237812fab14d29a80423bb295f39122f4fea1aae...    000   \n",
       "5     79e7cf8d936bf0ced040516b288e2edc76f2f87af5400f...   None   \n",
       "...                                                 ...    ...   \n",
       "5545  0a93741db4f79a688ce407faa28b9b4a56b0055aa0bd0c...    HTB   \n",
       "5547  24187af340d0d5abba13f6ea1571804814f740fe6871d1...  SMACH   \n",
       "5549  053b4fcdd91dc15c5ee74c768395b70b9fb580da65e16f...  HIGER   \n",
       "5550  d1969ef9bc1733e7c2a6569ec747245ba8bac7626d4147...   None   \n",
       "5552  2af57d0d3373b23b2a32763de09a47016d13e44a9dcbfc...  ROOTS   \n",
       "\n",
       "                        name  \\\n",
       "0                  OctasPool   \n",
       "1                  StakeNuts   \n",
       "2                     ZENITH   \n",
       "3     Switzerland Investment   \n",
       "5                       None   \n",
       "...                      ...   \n",
       "5545              HotbitPool   \n",
       "5547            StakeMachine   \n",
       "5549                   HIGER   \n",
       "5550                    None   \n",
       "5552                   ROOTS   \n",
       "\n",
       "                                            description  \\\n",
       "0                               Octa's Performance Pool   \n",
       "1                                         StakeNuts.com   \n",
       "2     One owner, one operator, one pool. Operating s...   \n",
       "3     Stability, Security, Reliability, Neutrality! ...   \n",
       "5                                                  None   \n",
       "...                                                 ...   \n",
       "5545                                         HotbitPool   \n",
       "5547                    Professional CARDANO stake pool   \n",
       "5549  Professional managed stake pool located in sou...   \n",
       "5550                                               None   \n",
       "5552                             Connect to your ROOTS.   \n",
       "\n",
       "                          homepage      resolved_ip   longitude   latitude  \\\n",
       "0      https://octaluso.dyndns.org     54.220.20.40   -6.243330  53.353889   \n",
       "1           https://stakenuts.com/    198.13.62.211  139.746155  35.583511   \n",
       "2            https://zenithpool.io   193.122.12.254 -122.333519  47.611012   \n",
       "3             https://ispool.live/     95.183.53.20    8.536950  47.374168   \n",
       "5                             None  139.162.148.181    8.682100  50.110901   \n",
       "...                            ...              ...         ...        ...   \n",
       "5545         https://www.hotbit.io    47.241.248.83  103.851784   1.287950   \n",
       "5547  https://www.stakemachine.net   194.35.120.118   11.214280  49.375061   \n",
       "5549   https://higer-stakepool.com     109.90.24.88    6.960300  50.937500   \n",
       "5550                          None     217.28.30.43  -71.208183  46.814301   \n",
       "5552      https://theearthpool.com   65.108.107.238   10.753400  49.115940   \n",
       "\n",
       "           zip             region_name region_code  \\\n",
       "0         None                Leinster           L   \n",
       "1     143-0006                Kanagawa          14   \n",
       "2        98101              Washington          WA   \n",
       "3         8043                  Zurich          ZH   \n",
       "5        60311                   Hesse          HE   \n",
       "...        ...                     ...         ...   \n",
       "5545      None       Central Singapore          01   \n",
       "5547     90537                 Bavaria          BY   \n",
       "5549     50667  North Rhine-Westphalia          NW   \n",
       "5550   G1R 5M1                  Quebec          QC   \n",
       "5552     91710                 Bavaria          BY   \n",
       "\n",
       "                                             connection               city  \\\n",
       "0              {'asn': 16509, 'isp': 'amazon.com, Inc'}             Dublin   \n",
       "1     {'asn': 20473, 'isp': 'The Constant Company LLC'}           Kawasaki   \n",
       "2           {'asn': 31898, 'isp': 'Oracle Corporation'}            Seattle   \n",
       "3     {'asn': 197988, 'isp': 'Solar Communications G...             Zürich   \n",
       "5                   {'asn': 63949, 'isp': 'Linode LLC'}  Frankfurt am Main   \n",
       "...                                                 ...                ...   \n",
       "5545  {'asn': 45102, 'isp': 'Alibaba (Us) Technology...          Singapore   \n",
       "5547  {'asn': 204644, 'isp': 'Stumpner Netservice Ug...        Wendelstein   \n",
       "5549              {'asn': 3209, 'isp': 'Vodafone Gmbh'}               Köln   \n",
       "5550                     {'asn': 398721, 'isp': 'Oxio'}             Québec   \n",
       "5552       {'asn': 24940, 'isp': 'Hetzner Online Gmbh'}       Gunzenhausen   \n",
       "\n",
       "       country_name country_code  \\\n",
       "0           Ireland           IE   \n",
       "1             Japan           JP   \n",
       "2     United States           US   \n",
       "3       Switzerland           CH   \n",
       "5           Germany           DE   \n",
       "...             ...          ...   \n",
       "5545      Singapore           SG   \n",
       "5547        Germany           DE   \n",
       "5549        Germany           DE   \n",
       "5550         Canada           CA   \n",
       "5552        Germany           DE   \n",
       "\n",
       "                                               isp     asn  live_stake_ada  \\\n",
       "0                                  amazon.com, Inc   16509    3.212853e+07   \n",
       "1                         The Constant Company LLC   20473    1.942799e+07   \n",
       "2                               Oracle Corporation   31898    5.672152e+05   \n",
       "3                        Solar Communications Gmbh  197988    1.735455e+06   \n",
       "5                                       Linode LLC   63949    4.000925e+03   \n",
       "...                                            ...     ...             ...   \n",
       "5545              Alibaba (Us) Technology Co. Ltd.   45102    9.957634e+04   \n",
       "5547  Stumpner Netservice Ug (Haftungsbeschraenkt)  204644    2.008504e+02   \n",
       "5549                                 Vodafone Gmbh    3209    1.500601e+03   \n",
       "5550                                          Oxio  398721    2.036975e+00   \n",
       "5552                           Hetzner Online Gmbh   24940    2.249723e+04   \n",
       "\n",
       "      live_pledge_ada  live_declared_pledge_ada  pledge_ratio  \\\n",
       "0       574564.954842                  100000.0    321.285322   \n",
       "1       567027.531192                  510000.0     38.094094   \n",
       "2       546041.471277                   50100.0     11.321660   \n",
       "3       207011.830413                  200000.0      8.677274   \n",
       "5            0.000000                    7149.0      0.559648   \n",
       "...               ...                       ...           ...   \n",
       "5545       357.225752                      10.0   9957.633988   \n",
       "5547       200.850366                     150.0      1.339002   \n",
       "5549      1500.600798                    1500.0      1.000401   \n",
       "5550         2.036975                     100.0      0.020370   \n",
       "5552     22497.233760                   20000.0      1.124862   \n",
       "\n",
       "      live_saturation_percentage  multipool_ratio  \n",
       "0                   4.795368e-01         0.039494  \n",
       "1                   2.899739e-01         0.039494  \n",
       "2                   8.466013e-03         0.039494  \n",
       "3                   2.590266e-02         0.039494  \n",
       "5                   5.971610e-05              NaN  \n",
       "...                          ...              ...  \n",
       "5545                1.486234e-03         0.039494  \n",
       "5547                2.997800e-06         0.039494  \n",
       "5549                2.239730e-05         0.039494  \n",
       "5550                3.040000e-08              NaN  \n",
       "5552                3.357842e-04         0.039494  \n",
       "\n",
       "[3039 rows x 44 columns]"
      ]
     },
     "execution_count": 139,
     "metadata": {},
     "output_type": "execute_result"
    }
   ],
   "source": [
    "df_copy = df_ada_staked_per_pool.copy()\n",
    "# need to map our dfy multipool_ration to the df_copy based on homepage\n",
    "df_copy['multipool_ratio'] = df_copy['homepage'].map(dfy['multipool_ratio'])\n",
    "df_copy"
   ]
  },
  {
   "cell_type": "code",
   "execution_count": 140,
   "metadata": {},
   "outputs": [],
   "source": [
    "df_copy.multipool_ratio.fillna(0, inplace=True)"
   ]
  },
  {
   "cell_type": "code",
   "execution_count": 141,
   "metadata": {},
   "outputs": [
    {
     "data": {
      "text/html": [
       "<div>\n",
       "<style scoped>\n",
       "    .dataframe tbody tr th:only-of-type {\n",
       "        vertical-align: middle;\n",
       "    }\n",
       "\n",
       "    .dataframe tbody tr th {\n",
       "        vertical-align: top;\n",
       "    }\n",
       "\n",
       "    .dataframe thead th {\n",
       "        text-align: right;\n",
       "    }\n",
       "</style>\n",
       "<table border=\"1\" class=\"dataframe\">\n",
       "  <thead>\n",
       "    <tr style=\"text-align: right;\">\n",
       "      <th></th>\n",
       "      <th>pool_id</th>\n",
       "      <th>hex</th>\n",
       "      <th>vrf_key</th>\n",
       "      <th>blocks_minted</th>\n",
       "      <th>live_stake</th>\n",
       "      <th>live_size</th>\n",
       "      <th>live_saturation</th>\n",
       "      <th>live_delegators</th>\n",
       "      <th>active_stake</th>\n",
       "      <th>active_size</th>\n",
       "      <th>declared_pledge</th>\n",
       "      <th>live_pledge</th>\n",
       "      <th>margin_cost</th>\n",
       "      <th>fixed_cost</th>\n",
       "      <th>reward_account</th>\n",
       "      <th>owners</th>\n",
       "      <th>registration</th>\n",
       "      <th>retirement</th>\n",
       "      <th>ip_host</th>\n",
       "      <th>port</th>\n",
       "      <th>url</th>\n",
       "      <th>hash</th>\n",
       "      <th>ticker</th>\n",
       "      <th>name</th>\n",
       "      <th>description</th>\n",
       "      <th>homepage</th>\n",
       "      <th>resolved_ip</th>\n",
       "      <th>longitude</th>\n",
       "      <th>latitude</th>\n",
       "      <th>zip</th>\n",
       "      <th>region_name</th>\n",
       "      <th>region_code</th>\n",
       "      <th>connection</th>\n",
       "      <th>city</th>\n",
       "      <th>country_name</th>\n",
       "      <th>country_code</th>\n",
       "      <th>isp</th>\n",
       "      <th>asn</th>\n",
       "      <th>live_stake_ada</th>\n",
       "      <th>live_pledge_ada</th>\n",
       "      <th>live_declared_pledge_ada</th>\n",
       "      <th>pledge_ratio</th>\n",
       "      <th>live_saturation_percentage</th>\n",
       "      <th>multipool_ratio</th>\n",
       "    </tr>\n",
       "  </thead>\n",
       "  <tbody>\n",
       "    <tr>\n",
       "      <th>0</th>\n",
       "      <td>pool1z5uqdk7dzdxaae5633fqfcu2eqzy3a3rgtuvy087f...</td>\n",
       "      <td>153806dbcd134ddee69a8c5204e38ac80448f62342f8c2...</td>\n",
       "      <td>0220a5d08adbfe9554b52d7b2993be5892ac3ff340e674...</td>\n",
       "      <td>4097</td>\n",
       "      <td>32128532235090</td>\n",
       "      <td>1.359849e-03</td>\n",
       "      <td>4.795368e-01</td>\n",
       "      <td>3170</td>\n",
       "      <td>32462689016256</td>\n",
       "      <td>1.368182e-03</td>\n",
       "      <td>100000000000</td>\n",
       "      <td>574564954842</td>\n",
       "      <td>0.009</td>\n",
       "      <td>340000000</td>\n",
       "      <td>stake1uy89kzrdlpaz5rzu8x95r4qnlpqhd3f8mf09edjp...</td>\n",
       "      <td>['stake1uy89kzrdlpaz5rzu8x95r4qnlpqhd3f8mf09ed...</td>\n",
       "      <td>['841cca81da918feb9fa7257a34630eac95794be712ed...</td>\n",
       "      <td>[]</td>\n",
       "      <td>54.220.20.40</td>\n",
       "      <td>3002</td>\n",
       "      <td>https://raw.githubusercontent.com/Octalus/card...</td>\n",
       "      <td>ca7d12decf886e31f5226b5946c62edc81a7e40af95ce7...</td>\n",
       "      <td>OCTAS</td>\n",
       "      <td>OctasPool</td>\n",
       "      <td>Octa's Performance Pool</td>\n",
       "      <td>https://octaluso.dyndns.org</td>\n",
       "      <td>54.220.20.40</td>\n",
       "      <td>-6.243330</td>\n",
       "      <td>53.353889</td>\n",
       "      <td>None</td>\n",
       "      <td>Leinster</td>\n",
       "      <td>L</td>\n",
       "      <td>{'asn': 16509, 'isp': 'amazon.com, Inc'}</td>\n",
       "      <td>Dublin</td>\n",
       "      <td>Ireland</td>\n",
       "      <td>IE</td>\n",
       "      <td>amazon.com, Inc</td>\n",
       "      <td>16509</td>\n",
       "      <td>3.212853e+07</td>\n",
       "      <td>574564.954842</td>\n",
       "      <td>100000.0</td>\n",
       "      <td>321.285322</td>\n",
       "      <td>4.795368e-01</td>\n",
       "      <td>0.039494</td>\n",
       "    </tr>\n",
       "    <tr>\n",
       "      <th>1</th>\n",
       "      <td>pool1pu5jlj4q9w9jlxeu370a3c9myx47md5j5m2str0na...</td>\n",
       "      <td>0f292fcaa02b8b2f9b3c8f9fd8e0bb21abedb692a6d505...</td>\n",
       "      <td>b512cc7c1a8ba689c2d8fd27adfdbac2049a3f8f95c8b8...</td>\n",
       "      <td>1824</td>\n",
       "      <td>19427988062303</td>\n",
       "      <td>8.222951e-04</td>\n",
       "      <td>2.899739e-01</td>\n",
       "      <td>170</td>\n",
       "      <td>19414895397699</td>\n",
       "      <td>8.182658e-04</td>\n",
       "      <td>510000000000</td>\n",
       "      <td>567027531192</td>\n",
       "      <td>0.049</td>\n",
       "      <td>340000000</td>\n",
       "      <td>stake1u98nnlkvkk23vtvf9273uq7cph5ww6u2yq2389ps...</td>\n",
       "      <td>['stake1u98nnlkvkk23vtvf9273uq7cph5ww6u2yq2389...</td>\n",
       "      <td>['a96c79773b7506211eb56bf94886a2face17657d1009...</td>\n",
       "      <td>[]</td>\n",
       "      <td>relays.mainnet.stakenuts.com</td>\n",
       "      <td>3001</td>\n",
       "      <td>https://stakenuts.com/mainnet.json</td>\n",
       "      <td>47c0c68cb57f4a5b4a87bad896fc274678e7aea98e200f...</td>\n",
       "      <td>NUTS</td>\n",
       "      <td>StakeNuts</td>\n",
       "      <td>StakeNuts.com</td>\n",
       "      <td>https://stakenuts.com/</td>\n",
       "      <td>198.13.62.211</td>\n",
       "      <td>139.746155</td>\n",
       "      <td>35.583511</td>\n",
       "      <td>143-0006</td>\n",
       "      <td>Kanagawa</td>\n",
       "      <td>14</td>\n",
       "      <td>{'asn': 20473, 'isp': 'The Constant Company LLC'}</td>\n",
       "      <td>Kawasaki</td>\n",
       "      <td>Japan</td>\n",
       "      <td>JP</td>\n",
       "      <td>The Constant Company LLC</td>\n",
       "      <td>20473</td>\n",
       "      <td>1.942799e+07</td>\n",
       "      <td>567027.531192</td>\n",
       "      <td>510000.0</td>\n",
       "      <td>38.094094</td>\n",
       "      <td>2.899739e-01</td>\n",
       "      <td>0.039494</td>\n",
       "    </tr>\n",
       "    <tr>\n",
       "      <th>2</th>\n",
       "      <td>pool1c8k78ny3xvsfgenhf4yzvpzwgzxmz0t0um0h2xnn2...</td>\n",
       "      <td>c1ede3cc9133209466774d4826044e408db13d6fe6df75...</td>\n",
       "      <td>b8ba5f7dcbf17e95781e325114da46def1fa908435a27d...</td>\n",
       "      <td>80</td>\n",
       "      <td>567215180144</td>\n",
       "      <td>2.400750e-05</td>\n",
       "      <td>8.466013e-03</td>\n",
       "      <td>17</td>\n",
       "      <td>555030759623</td>\n",
       "      <td>2.339250e-05</td>\n",
       "      <td>50100000000</td>\n",
       "      <td>546041471277</td>\n",
       "      <td>0.000</td>\n",
       "      <td>340000000</td>\n",
       "      <td>stake1uyx0ut5wc5nmu0tacjc9pyyahdyq5ujghwljkdxr...</td>\n",
       "      <td>['stake1uyx0ut5wc5nmu0tacjc9pyyahdyq5ujghwljkd...</td>\n",
       "      <td>['37f5682e2622c821175bab9d5637b7321ecacc5ec663...</td>\n",
       "      <td>[]</td>\n",
       "      <td>relay.zenithpool.io</td>\n",
       "      <td>31400</td>\n",
       "      <td>https://metadata.zenithpool.io</td>\n",
       "      <td>21cc44498ab6e74e081a805e629fff171a66d0c8d034f9...</td>\n",
       "      <td>ZEN</td>\n",
       "      <td>ZENITH</td>\n",
       "      <td>One owner, one operator, one pool. Operating s...</td>\n",
       "      <td>https://zenithpool.io</td>\n",
       "      <td>193.122.12.254</td>\n",
       "      <td>-122.333519</td>\n",
       "      <td>47.611012</td>\n",
       "      <td>98101</td>\n",
       "      <td>Washington</td>\n",
       "      <td>WA</td>\n",
       "      <td>{'asn': 31898, 'isp': 'Oracle Corporation'}</td>\n",
       "      <td>Seattle</td>\n",
       "      <td>United States</td>\n",
       "      <td>US</td>\n",
       "      <td>Oracle Corporation</td>\n",
       "      <td>31898</td>\n",
       "      <td>5.672152e+05</td>\n",
       "      <td>546041.471277</td>\n",
       "      <td>50100.0</td>\n",
       "      <td>11.321660</td>\n",
       "      <td>8.466013e-03</td>\n",
       "      <td>0.039494</td>\n",
       "    </tr>\n",
       "    <tr>\n",
       "      <th>3</th>\n",
       "      <td>pool1q80jjs53w0fx836n8g38gtdwr8ck5zre3da90peux...</td>\n",
       "      <td>01df29429173d263c7533a22742dae19f16a08798b7a57...</td>\n",
       "      <td>b75115a1e4e32a33985fc720f3715f0e99617b448fbc36...</td>\n",
       "      <td>259</td>\n",
       "      <td>1735454735054</td>\n",
       "      <td>7.345360e-05</td>\n",
       "      <td>2.590266e-02</td>\n",
       "      <td>724</td>\n",
       "      <td>1735713797295</td>\n",
       "      <td>7.315390e-05</td>\n",
       "      <td>200000000000</td>\n",
       "      <td>207011830413</td>\n",
       "      <td>0.005</td>\n",
       "      <td>340000000</td>\n",
       "      <td>stake1uxxsa2rlkv728pve3ks7kn7c6v68luagdjgwa0me...</td>\n",
       "      <td>['stake1uxxsa2rlkv728pve3ks7kn7c6v68luagdjgwa0...</td>\n",
       "      <td>['e8951eddb19b697bc74549aa9d4f956a8be8d5cf2c7a...</td>\n",
       "      <td>[]</td>\n",
       "      <td>95.183.53.20</td>\n",
       "      <td>6060</td>\n",
       "      <td>https://ispool.live/metadata</td>\n",
       "      <td>34fdde237812fab14d29a80423bb295f39122f4fea1aae...</td>\n",
       "      <td>000</td>\n",
       "      <td>Switzerland Investment</td>\n",
       "      <td>Stability, Security, Reliability, Neutrality! ...</td>\n",
       "      <td>https://ispool.live/</td>\n",
       "      <td>95.183.53.20</td>\n",
       "      <td>8.536950</td>\n",
       "      <td>47.374168</td>\n",
       "      <td>8043</td>\n",
       "      <td>Zurich</td>\n",
       "      <td>ZH</td>\n",
       "      <td>{'asn': 197988, 'isp': 'Solar Communications G...</td>\n",
       "      <td>Zürich</td>\n",
       "      <td>Switzerland</td>\n",
       "      <td>CH</td>\n",
       "      <td>Solar Communications Gmbh</td>\n",
       "      <td>197988</td>\n",
       "      <td>1.735455e+06</td>\n",
       "      <td>207011.830413</td>\n",
       "      <td>200000.0</td>\n",
       "      <td>8.677274</td>\n",
       "      <td>2.590266e-02</td>\n",
       "      <td>0.039494</td>\n",
       "    </tr>\n",
       "    <tr>\n",
       "      <th>5</th>\n",
       "      <td>pool1ddskftmsscw92d7vnj89pldwx5feegkgcmamgt5t0...</td>\n",
       "      <td>6b6164af70861c5537cc9c8e50fdae35139ca2c8c6fbb4...</td>\n",
       "      <td>78b0b08fec7458afd1209dcd26bd0c10faa640a49d5013...</td>\n",
       "      <td>23</td>\n",
       "      <td>4000924534</td>\n",
       "      <td>1.693000e-07</td>\n",
       "      <td>5.971610e-05</td>\n",
       "      <td>14</td>\n",
       "      <td>4000924534</td>\n",
       "      <td>1.686000e-07</td>\n",
       "      <td>7149000000</td>\n",
       "      <td>0</td>\n",
       "      <td>0.050</td>\n",
       "      <td>340000000</td>\n",
       "      <td>stake1u9w20uzsevkxe6vp2nlmqjjrcj4gvcf560tvufuv...</td>\n",
       "      <td>['stake1u9w20uzsevkxe6vp2nlmqjjrcj4gvcf560tvuf...</td>\n",
       "      <td>['ff2d9576bd9c5e1dff6c9987860de39366f7b75dd6bb...</td>\n",
       "      <td>[]</td>\n",
       "      <td>139.162.148.181</td>\n",
       "      <td>8088</td>\n",
       "      <td>https://pool.adascan.net/meta/v1/poolmeta.json</td>\n",
       "      <td>79e7cf8d936bf0ced040516b288e2edc76f2f87af5400f...</td>\n",
       "      <td>None</td>\n",
       "      <td>None</td>\n",
       "      <td>None</td>\n",
       "      <td>None</td>\n",
       "      <td>139.162.148.181</td>\n",
       "      <td>8.682100</td>\n",
       "      <td>50.110901</td>\n",
       "      <td>60311</td>\n",
       "      <td>Hesse</td>\n",
       "      <td>HE</td>\n",
       "      <td>{'asn': 63949, 'isp': 'Linode LLC'}</td>\n",
       "      <td>Frankfurt am Main</td>\n",
       "      <td>Germany</td>\n",
       "      <td>DE</td>\n",
       "      <td>Linode LLC</td>\n",
       "      <td>63949</td>\n",
       "      <td>4.000925e+03</td>\n",
       "      <td>0.000000</td>\n",
       "      <td>7149.0</td>\n",
       "      <td>0.559648</td>\n",
       "      <td>5.971610e-05</td>\n",
       "      <td>0.000000</td>\n",
       "    </tr>\n",
       "    <tr>\n",
       "      <th>...</th>\n",
       "      <td>...</td>\n",
       "      <td>...</td>\n",
       "      <td>...</td>\n",
       "      <td>...</td>\n",
       "      <td>...</td>\n",
       "      <td>...</td>\n",
       "      <td>...</td>\n",
       "      <td>...</td>\n",
       "      <td>...</td>\n",
       "      <td>...</td>\n",
       "      <td>...</td>\n",
       "      <td>...</td>\n",
       "      <td>...</td>\n",
       "      <td>...</td>\n",
       "      <td>...</td>\n",
       "      <td>...</td>\n",
       "      <td>...</td>\n",
       "      <td>...</td>\n",
       "      <td>...</td>\n",
       "      <td>...</td>\n",
       "      <td>...</td>\n",
       "      <td>...</td>\n",
       "      <td>...</td>\n",
       "      <td>...</td>\n",
       "      <td>...</td>\n",
       "      <td>...</td>\n",
       "      <td>...</td>\n",
       "      <td>...</td>\n",
       "      <td>...</td>\n",
       "      <td>...</td>\n",
       "      <td>...</td>\n",
       "      <td>...</td>\n",
       "      <td>...</td>\n",
       "      <td>...</td>\n",
       "      <td>...</td>\n",
       "      <td>...</td>\n",
       "      <td>...</td>\n",
       "      <td>...</td>\n",
       "      <td>...</td>\n",
       "      <td>...</td>\n",
       "      <td>...</td>\n",
       "      <td>...</td>\n",
       "      <td>...</td>\n",
       "      <td>...</td>\n",
       "    </tr>\n",
       "    <tr>\n",
       "      <th>5545</th>\n",
       "      <td>pool1sk6jvl4u8m4peddwqxzslgt82n57qy0rug2j0jfzk...</td>\n",
       "      <td>85b5267ebc3eea1cb5ae01850fa16754e9e011e3e21527...</td>\n",
       "      <td>2d673584d7b29070ba9355df7e787176a822338f0457d4...</td>\n",
       "      <td>0</td>\n",
       "      <td>99576339881</td>\n",
       "      <td>4.214900e-06</td>\n",
       "      <td>1.486234e-03</td>\n",
       "      <td>2</td>\n",
       "      <td>0</td>\n",
       "      <td>0.000000e+00</td>\n",
       "      <td>10000000</td>\n",
       "      <td>357225752</td>\n",
       "      <td>0.020</td>\n",
       "      <td>340000000</td>\n",
       "      <td>stake1u9zg9dxymfg02rvev7he2h8j9ptuj45s8qeu8hvs...</td>\n",
       "      <td>['stake1u9zg9dxymfg02rvev7he2h8j9ptuj45s8qeu8h...</td>\n",
       "      <td>['36783438a6b445690de40f589ae6a24f13300f1a9091...</td>\n",
       "      <td>[]</td>\n",
       "      <td>47.241.248.83</td>\n",
       "      <td>3001</td>\n",
       "      <td>https://walletada.hotbitdemo.com/adapool_metad...</td>\n",
       "      <td>0a93741db4f79a688ce407faa28b9b4a56b0055aa0bd0c...</td>\n",
       "      <td>HTB</td>\n",
       "      <td>HotbitPool</td>\n",
       "      <td>HotbitPool</td>\n",
       "      <td>https://www.hotbit.io</td>\n",
       "      <td>47.241.248.83</td>\n",
       "      <td>103.851784</td>\n",
       "      <td>1.287950</td>\n",
       "      <td>None</td>\n",
       "      <td>Central Singapore</td>\n",
       "      <td>01</td>\n",
       "      <td>{'asn': 45102, 'isp': 'Alibaba (Us) Technology...</td>\n",
       "      <td>Singapore</td>\n",
       "      <td>Singapore</td>\n",
       "      <td>SG</td>\n",
       "      <td>Alibaba (Us) Technology Co. Ltd.</td>\n",
       "      <td>45102</td>\n",
       "      <td>9.957634e+04</td>\n",
       "      <td>357.225752</td>\n",
       "      <td>10.0</td>\n",
       "      <td>9957.633988</td>\n",
       "      <td>1.486234e-03</td>\n",
       "      <td>0.039494</td>\n",
       "    </tr>\n",
       "    <tr>\n",
       "      <th>5547</th>\n",
       "      <td>pool1l6946mnu54f6v0we4xzra8kwm68ch7fphhxvgytd0...</td>\n",
       "      <td>fe8b5d6e7ca553a63dd9a9843e9ecede8f8bf921bdccc4...</td>\n",
       "      <td>4b5cc8a3499e69683701957db53a7297b99df317d21532...</td>\n",
       "      <td>0</td>\n",
       "      <td>200850366</td>\n",
       "      <td>8.500000e-09</td>\n",
       "      <td>2.997800e-06</td>\n",
       "      <td>1</td>\n",
       "      <td>0</td>\n",
       "      <td>0.000000e+00</td>\n",
       "      <td>150000000</td>\n",
       "      <td>200850366</td>\n",
       "      <td>0.150</td>\n",
       "      <td>345000000</td>\n",
       "      <td>stake1u8eyvgp8r7mhgszfevapn4vul283sqkls3hvaf6q...</td>\n",
       "      <td>['stake1u8eyvgp8r7mhgszfevapn4vul283sqkls3hvaf...</td>\n",
       "      <td>['165c92f88abfebfd39d458ed4d1d917486ec5927c363...</td>\n",
       "      <td>[]</td>\n",
       "      <td>crdrl1.stakemachine.net</td>\n",
       "      <td>9961</td>\n",
       "      <td>https://www.stakemachine.net/cardano_sm.json</td>\n",
       "      <td>24187af340d0d5abba13f6ea1571804814f740fe6871d1...</td>\n",
       "      <td>SMACH</td>\n",
       "      <td>StakeMachine</td>\n",
       "      <td>Professional CARDANO stake pool</td>\n",
       "      <td>https://www.stakemachine.net</td>\n",
       "      <td>194.35.120.118</td>\n",
       "      <td>11.214280</td>\n",
       "      <td>49.375061</td>\n",
       "      <td>90537</td>\n",
       "      <td>Bavaria</td>\n",
       "      <td>BY</td>\n",
       "      <td>{'asn': 204644, 'isp': 'Stumpner Netservice Ug...</td>\n",
       "      <td>Wendelstein</td>\n",
       "      <td>Germany</td>\n",
       "      <td>DE</td>\n",
       "      <td>Stumpner Netservice Ug (Haftungsbeschraenkt)</td>\n",
       "      <td>204644</td>\n",
       "      <td>2.008504e+02</td>\n",
       "      <td>200.850366</td>\n",
       "      <td>150.0</td>\n",
       "      <td>1.339002</td>\n",
       "      <td>2.997800e-06</td>\n",
       "      <td>0.039494</td>\n",
       "    </tr>\n",
       "    <tr>\n",
       "      <th>5549</th>\n",
       "      <td>pool1vcc9lngr8g2j8xh0kgy84nne026adr5zmvwagkda9...</td>\n",
       "      <td>66305fcd033a15239aefb2087ace797ab5d68e82db1dd4...</td>\n",
       "      <td>cd7410122ca16a9660155c59340083a8e3b540016d043d...</td>\n",
       "      <td>0</td>\n",
       "      <td>1500600798</td>\n",
       "      <td>6.350000e-08</td>\n",
       "      <td>2.239730e-05</td>\n",
       "      <td>1</td>\n",
       "      <td>0</td>\n",
       "      <td>0.000000e+00</td>\n",
       "      <td>1500000000</td>\n",
       "      <td>1500600798</td>\n",
       "      <td>0.010</td>\n",
       "      <td>340000000</td>\n",
       "      <td>stake1u9yw7t3gksm445svqhsjxq7vhccqcngjgh2vwczv...</td>\n",
       "      <td>['stake1u9yw7t3gksm445svqhsjxq7vhccqcngjgh2vwc...</td>\n",
       "      <td>['0c5f5e2b09b5885efd835f509be684aa2df8bafb0ce4...</td>\n",
       "      <td>[]</td>\n",
       "      <td>relaynode1.higer-stakepool.com</td>\n",
       "      <td>6000</td>\n",
       "      <td>https://git.io/JSDk9</td>\n",
       "      <td>053b4fcdd91dc15c5ee74c768395b70b9fb580da65e16f...</td>\n",
       "      <td>HIGER</td>\n",
       "      <td>HIGER</td>\n",
       "      <td>Professional managed stake pool located in sou...</td>\n",
       "      <td>https://higer-stakepool.com</td>\n",
       "      <td>109.90.24.88</td>\n",
       "      <td>6.960300</td>\n",
       "      <td>50.937500</td>\n",
       "      <td>50667</td>\n",
       "      <td>North Rhine-Westphalia</td>\n",
       "      <td>NW</td>\n",
       "      <td>{'asn': 3209, 'isp': 'Vodafone Gmbh'}</td>\n",
       "      <td>Köln</td>\n",
       "      <td>Germany</td>\n",
       "      <td>DE</td>\n",
       "      <td>Vodafone Gmbh</td>\n",
       "      <td>3209</td>\n",
       "      <td>1.500601e+03</td>\n",
       "      <td>1500.600798</td>\n",
       "      <td>1500.0</td>\n",
       "      <td>1.000401</td>\n",
       "      <td>2.239730e-05</td>\n",
       "      <td>0.039494</td>\n",
       "    </tr>\n",
       "    <tr>\n",
       "      <th>5550</th>\n",
       "      <td>pool1qcu4r9rw853pyvfznfeujfzxlku4xtvp8cas6c2y7...</td>\n",
       "      <td>063951946e3d221231229a73c92446fdb9532d813e3b0d...</td>\n",
       "      <td>3c57e43260a4dde6b3a07d83907f00027b2d0630f57201...</td>\n",
       "      <td>0</td>\n",
       "      <td>2036975</td>\n",
       "      <td>1.000000e-10</td>\n",
       "      <td>3.040000e-08</td>\n",
       "      <td>1</td>\n",
       "      <td>0</td>\n",
       "      <td>0.000000e+00</td>\n",
       "      <td>100000000</td>\n",
       "      <td>2036975</td>\n",
       "      <td>0.000</td>\n",
       "      <td>340000000</td>\n",
       "      <td>stake1u9vlltzshvet0clpzkt6fhfwgt2jw4m3jarddc4n...</td>\n",
       "      <td>['stake1u9vlltzshvet0clpzkt6fhfwgt2jw4m3jarddc...</td>\n",
       "      <td>['e5066e9eaef49c079cf84af8c54f55bcce4ee76ea0bb...</td>\n",
       "      <td>[]</td>\n",
       "      <td>217.28.30.43</td>\n",
       "      <td>6000</td>\n",
       "      <td>https://git.io/JySpg</td>\n",
       "      <td>d1969ef9bc1733e7c2a6569ec747245ba8bac7626d4147...</td>\n",
       "      <td>None</td>\n",
       "      <td>None</td>\n",
       "      <td>None</td>\n",
       "      <td>None</td>\n",
       "      <td>217.28.30.43</td>\n",
       "      <td>-71.208183</td>\n",
       "      <td>46.814301</td>\n",
       "      <td>G1R 5M1</td>\n",
       "      <td>Quebec</td>\n",
       "      <td>QC</td>\n",
       "      <td>{'asn': 398721, 'isp': 'Oxio'}</td>\n",
       "      <td>Québec</td>\n",
       "      <td>Canada</td>\n",
       "      <td>CA</td>\n",
       "      <td>Oxio</td>\n",
       "      <td>398721</td>\n",
       "      <td>2.036975e+00</td>\n",
       "      <td>2.036975</td>\n",
       "      <td>100.0</td>\n",
       "      <td>0.020370</td>\n",
       "      <td>3.040000e-08</td>\n",
       "      <td>0.000000</td>\n",
       "    </tr>\n",
       "    <tr>\n",
       "      <th>5552</th>\n",
       "      <td>pool1etwkskpk7smvppts3d0wryqyxkm2udk2a4qy6eek5...</td>\n",
       "      <td>cadd685836f436c085708b5ee1900435b6ae36caed404d...</td>\n",
       "      <td>2bd83ebefebebb50a01d637af893a9dadeac42fa114b13...</td>\n",
       "      <td>0</td>\n",
       "      <td>22497233760</td>\n",
       "      <td>9.523000e-07</td>\n",
       "      <td>3.357842e-04</td>\n",
       "      <td>1</td>\n",
       "      <td>0</td>\n",
       "      <td>0.000000e+00</td>\n",
       "      <td>20000000000</td>\n",
       "      <td>22497233760</td>\n",
       "      <td>0.045</td>\n",
       "      <td>340000000</td>\n",
       "      <td>stake1uxe45jdlkedl8hq59slcdzy2078pxylsujzwfr8m...</td>\n",
       "      <td>['stake1uxe45jdlkedl8hq59slcdzy2078pxylsujzwfr...</td>\n",
       "      <td>['54530bc2682ba27923a5d81fc230c7ddd330cd7d0e6e...</td>\n",
       "      <td>[]</td>\n",
       "      <td>65.108.107.238</td>\n",
       "      <td>6000</td>\n",
       "      <td>https://0xdeadbeef.network/roots-meta.json</td>\n",
       "      <td>2af57d0d3373b23b2a32763de09a47016d13e44a9dcbfc...</td>\n",
       "      <td>ROOTS</td>\n",
       "      <td>ROOTS</td>\n",
       "      <td>Connect to your ROOTS.</td>\n",
       "      <td>https://theearthpool.com</td>\n",
       "      <td>65.108.107.238</td>\n",
       "      <td>10.753400</td>\n",
       "      <td>49.115940</td>\n",
       "      <td>91710</td>\n",
       "      <td>Bavaria</td>\n",
       "      <td>BY</td>\n",
       "      <td>{'asn': 24940, 'isp': 'Hetzner Online Gmbh'}</td>\n",
       "      <td>Gunzenhausen</td>\n",
       "      <td>Germany</td>\n",
       "      <td>DE</td>\n",
       "      <td>Hetzner Online Gmbh</td>\n",
       "      <td>24940</td>\n",
       "      <td>2.249723e+04</td>\n",
       "      <td>22497.233760</td>\n",
       "      <td>20000.0</td>\n",
       "      <td>1.124862</td>\n",
       "      <td>3.357842e-04</td>\n",
       "      <td>0.039494</td>\n",
       "    </tr>\n",
       "  </tbody>\n",
       "</table>\n",
       "<p>3039 rows × 44 columns</p>\n",
       "</div>"
      ],
      "text/plain": [
       "                                                pool_id  \\\n",
       "0     pool1z5uqdk7dzdxaae5633fqfcu2eqzy3a3rgtuvy087f...   \n",
       "1     pool1pu5jlj4q9w9jlxeu370a3c9myx47md5j5m2str0na...   \n",
       "2     pool1c8k78ny3xvsfgenhf4yzvpzwgzxmz0t0um0h2xnn2...   \n",
       "3     pool1q80jjs53w0fx836n8g38gtdwr8ck5zre3da90peux...   \n",
       "5     pool1ddskftmsscw92d7vnj89pldwx5feegkgcmamgt5t0...   \n",
       "...                                                 ...   \n",
       "5545  pool1sk6jvl4u8m4peddwqxzslgt82n57qy0rug2j0jfzk...   \n",
       "5547  pool1l6946mnu54f6v0we4xzra8kwm68ch7fphhxvgytd0...   \n",
       "5549  pool1vcc9lngr8g2j8xh0kgy84nne026adr5zmvwagkda9...   \n",
       "5550  pool1qcu4r9rw853pyvfznfeujfzxlku4xtvp8cas6c2y7...   \n",
       "5552  pool1etwkskpk7smvppts3d0wryqyxkm2udk2a4qy6eek5...   \n",
       "\n",
       "                                                    hex  \\\n",
       "0     153806dbcd134ddee69a8c5204e38ac80448f62342f8c2...   \n",
       "1     0f292fcaa02b8b2f9b3c8f9fd8e0bb21abedb692a6d505...   \n",
       "2     c1ede3cc9133209466774d4826044e408db13d6fe6df75...   \n",
       "3     01df29429173d263c7533a22742dae19f16a08798b7a57...   \n",
       "5     6b6164af70861c5537cc9c8e50fdae35139ca2c8c6fbb4...   \n",
       "...                                                 ...   \n",
       "5545  85b5267ebc3eea1cb5ae01850fa16754e9e011e3e21527...   \n",
       "5547  fe8b5d6e7ca553a63dd9a9843e9ecede8f8bf921bdccc4...   \n",
       "5549  66305fcd033a15239aefb2087ace797ab5d68e82db1dd4...   \n",
       "5550  063951946e3d221231229a73c92446fdb9532d813e3b0d...   \n",
       "5552  cadd685836f436c085708b5ee1900435b6ae36caed404d...   \n",
       "\n",
       "                                                vrf_key  blocks_minted  \\\n",
       "0     0220a5d08adbfe9554b52d7b2993be5892ac3ff340e674...           4097   \n",
       "1     b512cc7c1a8ba689c2d8fd27adfdbac2049a3f8f95c8b8...           1824   \n",
       "2     b8ba5f7dcbf17e95781e325114da46def1fa908435a27d...             80   \n",
       "3     b75115a1e4e32a33985fc720f3715f0e99617b448fbc36...            259   \n",
       "5     78b0b08fec7458afd1209dcd26bd0c10faa640a49d5013...             23   \n",
       "...                                                 ...            ...   \n",
       "5545  2d673584d7b29070ba9355df7e787176a822338f0457d4...              0   \n",
       "5547  4b5cc8a3499e69683701957db53a7297b99df317d21532...              0   \n",
       "5549  cd7410122ca16a9660155c59340083a8e3b540016d043d...              0   \n",
       "5550  3c57e43260a4dde6b3a07d83907f00027b2d0630f57201...              0   \n",
       "5552  2bd83ebefebebb50a01d637af893a9dadeac42fa114b13...              0   \n",
       "\n",
       "          live_stake     live_size  live_saturation  live_delegators  \\\n",
       "0     32128532235090  1.359849e-03     4.795368e-01             3170   \n",
       "1     19427988062303  8.222951e-04     2.899739e-01              170   \n",
       "2       567215180144  2.400750e-05     8.466013e-03               17   \n",
       "3      1735454735054  7.345360e-05     2.590266e-02              724   \n",
       "5         4000924534  1.693000e-07     5.971610e-05               14   \n",
       "...              ...           ...              ...              ...   \n",
       "5545     99576339881  4.214900e-06     1.486234e-03                2   \n",
       "5547       200850366  8.500000e-09     2.997800e-06                1   \n",
       "5549      1500600798  6.350000e-08     2.239730e-05                1   \n",
       "5550         2036975  1.000000e-10     3.040000e-08                1   \n",
       "5552     22497233760  9.523000e-07     3.357842e-04                1   \n",
       "\n",
       "        active_stake   active_size  declared_pledge   live_pledge  \\\n",
       "0     32462689016256  1.368182e-03     100000000000  574564954842   \n",
       "1     19414895397699  8.182658e-04     510000000000  567027531192   \n",
       "2       555030759623  2.339250e-05      50100000000  546041471277   \n",
       "3      1735713797295  7.315390e-05     200000000000  207011830413   \n",
       "5         4000924534  1.686000e-07       7149000000             0   \n",
       "...              ...           ...              ...           ...   \n",
       "5545               0  0.000000e+00         10000000     357225752   \n",
       "5547               0  0.000000e+00        150000000     200850366   \n",
       "5549               0  0.000000e+00       1500000000    1500600798   \n",
       "5550               0  0.000000e+00        100000000       2036975   \n",
       "5552               0  0.000000e+00      20000000000   22497233760   \n",
       "\n",
       "      margin_cost  fixed_cost  \\\n",
       "0           0.009   340000000   \n",
       "1           0.049   340000000   \n",
       "2           0.000   340000000   \n",
       "3           0.005   340000000   \n",
       "5           0.050   340000000   \n",
       "...           ...         ...   \n",
       "5545        0.020   340000000   \n",
       "5547        0.150   345000000   \n",
       "5549        0.010   340000000   \n",
       "5550        0.000   340000000   \n",
       "5552        0.045   340000000   \n",
       "\n",
       "                                         reward_account  \\\n",
       "0     stake1uy89kzrdlpaz5rzu8x95r4qnlpqhd3f8mf09edjp...   \n",
       "1     stake1u98nnlkvkk23vtvf9273uq7cph5ww6u2yq2389ps...   \n",
       "2     stake1uyx0ut5wc5nmu0tacjc9pyyahdyq5ujghwljkdxr...   \n",
       "3     stake1uxxsa2rlkv728pve3ks7kn7c6v68luagdjgwa0me...   \n",
       "5     stake1u9w20uzsevkxe6vp2nlmqjjrcj4gvcf560tvufuv...   \n",
       "...                                                 ...   \n",
       "5545  stake1u9zg9dxymfg02rvev7he2h8j9ptuj45s8qeu8hvs...   \n",
       "5547  stake1u8eyvgp8r7mhgszfevapn4vul283sqkls3hvaf6q...   \n",
       "5549  stake1u9yw7t3gksm445svqhsjxq7vhccqcngjgh2vwczv...   \n",
       "5550  stake1u9vlltzshvet0clpzkt6fhfwgt2jw4m3jarddc4n...   \n",
       "5552  stake1uxe45jdlkedl8hq59slcdzy2078pxylsujzwfr8m...   \n",
       "\n",
       "                                                 owners  \\\n",
       "0     ['stake1uy89kzrdlpaz5rzu8x95r4qnlpqhd3f8mf09ed...   \n",
       "1     ['stake1u98nnlkvkk23vtvf9273uq7cph5ww6u2yq2389...   \n",
       "2     ['stake1uyx0ut5wc5nmu0tacjc9pyyahdyq5ujghwljkd...   \n",
       "3     ['stake1uxxsa2rlkv728pve3ks7kn7c6v68luagdjgwa0...   \n",
       "5     ['stake1u9w20uzsevkxe6vp2nlmqjjrcj4gvcf560tvuf...   \n",
       "...                                                 ...   \n",
       "5545  ['stake1u9zg9dxymfg02rvev7he2h8j9ptuj45s8qeu8h...   \n",
       "5547  ['stake1u8eyvgp8r7mhgszfevapn4vul283sqkls3hvaf...   \n",
       "5549  ['stake1u9yw7t3gksm445svqhsjxq7vhccqcngjgh2vwc...   \n",
       "5550  ['stake1u9vlltzshvet0clpzkt6fhfwgt2jw4m3jarddc...   \n",
       "5552  ['stake1uxe45jdlkedl8hq59slcdzy2078pxylsujzwfr...   \n",
       "\n",
       "                                           registration retirement  \\\n",
       "0     ['841cca81da918feb9fa7257a34630eac95794be712ed...         []   \n",
       "1     ['a96c79773b7506211eb56bf94886a2face17657d1009...         []   \n",
       "2     ['37f5682e2622c821175bab9d5637b7321ecacc5ec663...         []   \n",
       "3     ['e8951eddb19b697bc74549aa9d4f956a8be8d5cf2c7a...         []   \n",
       "5     ['ff2d9576bd9c5e1dff6c9987860de39366f7b75dd6bb...         []   \n",
       "...                                                 ...        ...   \n",
       "5545  ['36783438a6b445690de40f589ae6a24f13300f1a9091...         []   \n",
       "5547  ['165c92f88abfebfd39d458ed4d1d917486ec5927c363...         []   \n",
       "5549  ['0c5f5e2b09b5885efd835f509be684aa2df8bafb0ce4...         []   \n",
       "5550  ['e5066e9eaef49c079cf84af8c54f55bcce4ee76ea0bb...         []   \n",
       "5552  ['54530bc2682ba27923a5d81fc230c7ddd330cd7d0e6e...         []   \n",
       "\n",
       "                             ip_host   port  \\\n",
       "0                       54.220.20.40   3002   \n",
       "1       relays.mainnet.stakenuts.com   3001   \n",
       "2                relay.zenithpool.io  31400   \n",
       "3                       95.183.53.20   6060   \n",
       "5                    139.162.148.181   8088   \n",
       "...                              ...    ...   \n",
       "5545                   47.241.248.83   3001   \n",
       "5547         crdrl1.stakemachine.net   9961   \n",
       "5549  relaynode1.higer-stakepool.com   6000   \n",
       "5550                    217.28.30.43   6000   \n",
       "5552                  65.108.107.238   6000   \n",
       "\n",
       "                                                    url  \\\n",
       "0     https://raw.githubusercontent.com/Octalus/card...   \n",
       "1                    https://stakenuts.com/mainnet.json   \n",
       "2                        https://metadata.zenithpool.io   \n",
       "3                          https://ispool.live/metadata   \n",
       "5        https://pool.adascan.net/meta/v1/poolmeta.json   \n",
       "...                                                 ...   \n",
       "5545  https://walletada.hotbitdemo.com/adapool_metad...   \n",
       "5547       https://www.stakemachine.net/cardano_sm.json   \n",
       "5549                               https://git.io/JSDk9   \n",
       "5550                               https://git.io/JySpg   \n",
       "5552         https://0xdeadbeef.network/roots-meta.json   \n",
       "\n",
       "                                                   hash ticker  \\\n",
       "0     ca7d12decf886e31f5226b5946c62edc81a7e40af95ce7...  OCTAS   \n",
       "1     47c0c68cb57f4a5b4a87bad896fc274678e7aea98e200f...   NUTS   \n",
       "2     21cc44498ab6e74e081a805e629fff171a66d0c8d034f9...    ZEN   \n",
       "3     34fdde237812fab14d29a80423bb295f39122f4fea1aae...    000   \n",
       "5     79e7cf8d936bf0ced040516b288e2edc76f2f87af5400f...   None   \n",
       "...                                                 ...    ...   \n",
       "5545  0a93741db4f79a688ce407faa28b9b4a56b0055aa0bd0c...    HTB   \n",
       "5547  24187af340d0d5abba13f6ea1571804814f740fe6871d1...  SMACH   \n",
       "5549  053b4fcdd91dc15c5ee74c768395b70b9fb580da65e16f...  HIGER   \n",
       "5550  d1969ef9bc1733e7c2a6569ec747245ba8bac7626d4147...   None   \n",
       "5552  2af57d0d3373b23b2a32763de09a47016d13e44a9dcbfc...  ROOTS   \n",
       "\n",
       "                        name  \\\n",
       "0                  OctasPool   \n",
       "1                  StakeNuts   \n",
       "2                     ZENITH   \n",
       "3     Switzerland Investment   \n",
       "5                       None   \n",
       "...                      ...   \n",
       "5545              HotbitPool   \n",
       "5547            StakeMachine   \n",
       "5549                   HIGER   \n",
       "5550                    None   \n",
       "5552                   ROOTS   \n",
       "\n",
       "                                            description  \\\n",
       "0                               Octa's Performance Pool   \n",
       "1                                         StakeNuts.com   \n",
       "2     One owner, one operator, one pool. Operating s...   \n",
       "3     Stability, Security, Reliability, Neutrality! ...   \n",
       "5                                                  None   \n",
       "...                                                 ...   \n",
       "5545                                         HotbitPool   \n",
       "5547                    Professional CARDANO stake pool   \n",
       "5549  Professional managed stake pool located in sou...   \n",
       "5550                                               None   \n",
       "5552                             Connect to your ROOTS.   \n",
       "\n",
       "                          homepage      resolved_ip   longitude   latitude  \\\n",
       "0      https://octaluso.dyndns.org     54.220.20.40   -6.243330  53.353889   \n",
       "1           https://stakenuts.com/    198.13.62.211  139.746155  35.583511   \n",
       "2            https://zenithpool.io   193.122.12.254 -122.333519  47.611012   \n",
       "3             https://ispool.live/     95.183.53.20    8.536950  47.374168   \n",
       "5                             None  139.162.148.181    8.682100  50.110901   \n",
       "...                            ...              ...         ...        ...   \n",
       "5545         https://www.hotbit.io    47.241.248.83  103.851784   1.287950   \n",
       "5547  https://www.stakemachine.net   194.35.120.118   11.214280  49.375061   \n",
       "5549   https://higer-stakepool.com     109.90.24.88    6.960300  50.937500   \n",
       "5550                          None     217.28.30.43  -71.208183  46.814301   \n",
       "5552      https://theearthpool.com   65.108.107.238   10.753400  49.115940   \n",
       "\n",
       "           zip             region_name region_code  \\\n",
       "0         None                Leinster           L   \n",
       "1     143-0006                Kanagawa          14   \n",
       "2        98101              Washington          WA   \n",
       "3         8043                  Zurich          ZH   \n",
       "5        60311                   Hesse          HE   \n",
       "...        ...                     ...         ...   \n",
       "5545      None       Central Singapore          01   \n",
       "5547     90537                 Bavaria          BY   \n",
       "5549     50667  North Rhine-Westphalia          NW   \n",
       "5550   G1R 5M1                  Quebec          QC   \n",
       "5552     91710                 Bavaria          BY   \n",
       "\n",
       "                                             connection               city  \\\n",
       "0              {'asn': 16509, 'isp': 'amazon.com, Inc'}             Dublin   \n",
       "1     {'asn': 20473, 'isp': 'The Constant Company LLC'}           Kawasaki   \n",
       "2           {'asn': 31898, 'isp': 'Oracle Corporation'}            Seattle   \n",
       "3     {'asn': 197988, 'isp': 'Solar Communications G...             Zürich   \n",
       "5                   {'asn': 63949, 'isp': 'Linode LLC'}  Frankfurt am Main   \n",
       "...                                                 ...                ...   \n",
       "5545  {'asn': 45102, 'isp': 'Alibaba (Us) Technology...          Singapore   \n",
       "5547  {'asn': 204644, 'isp': 'Stumpner Netservice Ug...        Wendelstein   \n",
       "5549              {'asn': 3209, 'isp': 'Vodafone Gmbh'}               Köln   \n",
       "5550                     {'asn': 398721, 'isp': 'Oxio'}             Québec   \n",
       "5552       {'asn': 24940, 'isp': 'Hetzner Online Gmbh'}       Gunzenhausen   \n",
       "\n",
       "       country_name country_code  \\\n",
       "0           Ireland           IE   \n",
       "1             Japan           JP   \n",
       "2     United States           US   \n",
       "3       Switzerland           CH   \n",
       "5           Germany           DE   \n",
       "...             ...          ...   \n",
       "5545      Singapore           SG   \n",
       "5547        Germany           DE   \n",
       "5549        Germany           DE   \n",
       "5550         Canada           CA   \n",
       "5552        Germany           DE   \n",
       "\n",
       "                                               isp     asn  live_stake_ada  \\\n",
       "0                                  amazon.com, Inc   16509    3.212853e+07   \n",
       "1                         The Constant Company LLC   20473    1.942799e+07   \n",
       "2                               Oracle Corporation   31898    5.672152e+05   \n",
       "3                        Solar Communications Gmbh  197988    1.735455e+06   \n",
       "5                                       Linode LLC   63949    4.000925e+03   \n",
       "...                                            ...     ...             ...   \n",
       "5545              Alibaba (Us) Technology Co. Ltd.   45102    9.957634e+04   \n",
       "5547  Stumpner Netservice Ug (Haftungsbeschraenkt)  204644    2.008504e+02   \n",
       "5549                                 Vodafone Gmbh    3209    1.500601e+03   \n",
       "5550                                          Oxio  398721    2.036975e+00   \n",
       "5552                           Hetzner Online Gmbh   24940    2.249723e+04   \n",
       "\n",
       "      live_pledge_ada  live_declared_pledge_ada  pledge_ratio  \\\n",
       "0       574564.954842                  100000.0    321.285322   \n",
       "1       567027.531192                  510000.0     38.094094   \n",
       "2       546041.471277                   50100.0     11.321660   \n",
       "3       207011.830413                  200000.0      8.677274   \n",
       "5            0.000000                    7149.0      0.559648   \n",
       "...               ...                       ...           ...   \n",
       "5545       357.225752                      10.0   9957.633988   \n",
       "5547       200.850366                     150.0      1.339002   \n",
       "5549      1500.600798                    1500.0      1.000401   \n",
       "5550         2.036975                     100.0      0.020370   \n",
       "5552     22497.233760                   20000.0      1.124862   \n",
       "\n",
       "      live_saturation_percentage  multipool_ratio  \n",
       "0                   4.795368e-01         0.039494  \n",
       "1                   2.899739e-01         0.039494  \n",
       "2                   8.466013e-03         0.039494  \n",
       "3                   2.590266e-02         0.039494  \n",
       "5                   5.971610e-05         0.000000  \n",
       "...                          ...              ...  \n",
       "5545                1.486234e-03         0.039494  \n",
       "5547                2.997800e-06         0.039494  \n",
       "5549                2.239730e-05         0.039494  \n",
       "5550                3.040000e-08         0.000000  \n",
       "5552                3.357842e-04         0.039494  \n",
       "\n",
       "[3039 rows x 44 columns]"
      ]
     },
     "execution_count": 141,
     "metadata": {},
     "output_type": "execute_result"
    }
   ],
   "source": [
    "df_copy"
   ]
  },
  {
   "cell_type": "code",
   "execution_count": 142,
   "metadata": {},
   "outputs": [
    {
     "data": {
      "text/html": [
       "<div>\n",
       "<style scoped>\n",
       "    .dataframe tbody tr th:only-of-type {\n",
       "        vertical-align: middle;\n",
       "    }\n",
       "\n",
       "    .dataframe tbody tr th {\n",
       "        vertical-align: top;\n",
       "    }\n",
       "\n",
       "    .dataframe thead th {\n",
       "        text-align: right;\n",
       "    }\n",
       "</style>\n",
       "<table border=\"1\" class=\"dataframe\">\n",
       "  <thead>\n",
       "    <tr style=\"text-align: right;\">\n",
       "      <th></th>\n",
       "      <th>pool_id</th>\n",
       "      <th>multipool_ratio</th>\n",
       "    </tr>\n",
       "  </thead>\n",
       "  <tbody>\n",
       "    <tr>\n",
       "      <th>count</th>\n",
       "      <td>2030.000000</td>\n",
       "      <td>2030.000000</td>\n",
       "    </tr>\n",
       "    <tr>\n",
       "      <th>mean</th>\n",
       "      <td>1.247291</td>\n",
       "      <td>0.049261</td>\n",
       "    </tr>\n",
       "    <tr>\n",
       "      <th>std</th>\n",
       "      <td>1.961917</td>\n",
       "      <td>0.077485</td>\n",
       "    </tr>\n",
       "    <tr>\n",
       "      <th>min</th>\n",
       "      <td>1.000000</td>\n",
       "      <td>0.039494</td>\n",
       "    </tr>\n",
       "    <tr>\n",
       "      <th>25%</th>\n",
       "      <td>1.000000</td>\n",
       "      <td>0.039494</td>\n",
       "    </tr>\n",
       "    <tr>\n",
       "      <th>50%</th>\n",
       "      <td>1.000000</td>\n",
       "      <td>0.039494</td>\n",
       "    </tr>\n",
       "    <tr>\n",
       "      <th>75%</th>\n",
       "      <td>1.000000</td>\n",
       "      <td>0.039494</td>\n",
       "    </tr>\n",
       "    <tr>\n",
       "      <th>max</th>\n",
       "      <td>62.000000</td>\n",
       "      <td>2.448657</td>\n",
       "    </tr>\n",
       "  </tbody>\n",
       "</table>\n",
       "</div>"
      ],
      "text/plain": [
       "           pool_id  multipool_ratio\n",
       "count  2030.000000      2030.000000\n",
       "mean      1.247291         0.049261\n",
       "std       1.961917         0.077485\n",
       "min       1.000000         0.039494\n",
       "25%       1.000000         0.039494\n",
       "50%       1.000000         0.039494\n",
       "75%       1.000000         0.039494\n",
       "max      62.000000         2.448657"
      ]
     },
     "execution_count": 142,
     "metadata": {},
     "output_type": "execute_result"
    }
   ],
   "source": [
    "dfy.describe()"
   ]
  },
  {
   "cell_type": "code",
   "execution_count": 143,
   "metadata": {},
   "outputs": [],
   "source": [
    "# need to map our dfy pool_id to the df_copy based on homepage\n",
    "df_copy['number_of_pools'] = df_copy['homepage'].map(dfy['pool_id'])\n",
    "df_copy.number_of_pools.fillna(dfy.pool_id.mean(), inplace=True)"
   ]
  },
  {
   "cell_type": "code",
   "execution_count": 144,
   "metadata": {},
   "outputs": [
    {
     "data": {
      "text/html": [
       "<div>\n",
       "<style scoped>\n",
       "    .dataframe tbody tr th:only-of-type {\n",
       "        vertical-align: middle;\n",
       "    }\n",
       "\n",
       "    .dataframe tbody tr th {\n",
       "        vertical-align: top;\n",
       "    }\n",
       "\n",
       "    .dataframe thead th {\n",
       "        text-align: right;\n",
       "    }\n",
       "</style>\n",
       "<table border=\"1\" class=\"dataframe\">\n",
       "  <thead>\n",
       "    <tr style=\"text-align: right;\">\n",
       "      <th></th>\n",
       "      <th>pool_id</th>\n",
       "      <th>hex</th>\n",
       "      <th>vrf_key</th>\n",
       "      <th>blocks_minted</th>\n",
       "      <th>live_stake</th>\n",
       "      <th>live_size</th>\n",
       "      <th>live_saturation</th>\n",
       "      <th>live_delegators</th>\n",
       "      <th>active_stake</th>\n",
       "      <th>active_size</th>\n",
       "      <th>declared_pledge</th>\n",
       "      <th>live_pledge</th>\n",
       "      <th>margin_cost</th>\n",
       "      <th>fixed_cost</th>\n",
       "      <th>reward_account</th>\n",
       "      <th>owners</th>\n",
       "      <th>registration</th>\n",
       "      <th>retirement</th>\n",
       "      <th>ip_host</th>\n",
       "      <th>port</th>\n",
       "      <th>url</th>\n",
       "      <th>hash</th>\n",
       "      <th>ticker</th>\n",
       "      <th>name</th>\n",
       "      <th>description</th>\n",
       "      <th>homepage</th>\n",
       "      <th>resolved_ip</th>\n",
       "      <th>longitude</th>\n",
       "      <th>latitude</th>\n",
       "      <th>zip</th>\n",
       "      <th>region_name</th>\n",
       "      <th>region_code</th>\n",
       "      <th>connection</th>\n",
       "      <th>city</th>\n",
       "      <th>country_name</th>\n",
       "      <th>country_code</th>\n",
       "      <th>isp</th>\n",
       "      <th>asn</th>\n",
       "      <th>live_stake_ada</th>\n",
       "      <th>live_pledge_ada</th>\n",
       "      <th>live_declared_pledge_ada</th>\n",
       "      <th>pledge_ratio</th>\n",
       "      <th>live_saturation_percentage</th>\n",
       "      <th>multipool_ratio</th>\n",
       "      <th>number_of_pools</th>\n",
       "    </tr>\n",
       "  </thead>\n",
       "  <tbody>\n",
       "    <tr>\n",
       "      <th>0</th>\n",
       "      <td>pool1z5uqdk7dzdxaae5633fqfcu2eqzy3a3rgtuvy087f...</td>\n",
       "      <td>153806dbcd134ddee69a8c5204e38ac80448f62342f8c2...</td>\n",
       "      <td>0220a5d08adbfe9554b52d7b2993be5892ac3ff340e674...</td>\n",
       "      <td>4097</td>\n",
       "      <td>32128532235090</td>\n",
       "      <td>1.359849e-03</td>\n",
       "      <td>4.795368e-01</td>\n",
       "      <td>3170</td>\n",
       "      <td>32462689016256</td>\n",
       "      <td>1.368182e-03</td>\n",
       "      <td>100000000000</td>\n",
       "      <td>574564954842</td>\n",
       "      <td>0.009</td>\n",
       "      <td>340000000</td>\n",
       "      <td>stake1uy89kzrdlpaz5rzu8x95r4qnlpqhd3f8mf09edjp...</td>\n",
       "      <td>['stake1uy89kzrdlpaz5rzu8x95r4qnlpqhd3f8mf09ed...</td>\n",
       "      <td>['841cca81da918feb9fa7257a34630eac95794be712ed...</td>\n",
       "      <td>[]</td>\n",
       "      <td>54.220.20.40</td>\n",
       "      <td>3002</td>\n",
       "      <td>https://raw.githubusercontent.com/Octalus/card...</td>\n",
       "      <td>ca7d12decf886e31f5226b5946c62edc81a7e40af95ce7...</td>\n",
       "      <td>OCTAS</td>\n",
       "      <td>OctasPool</td>\n",
       "      <td>Octa's Performance Pool</td>\n",
       "      <td>https://octaluso.dyndns.org</td>\n",
       "      <td>54.220.20.40</td>\n",
       "      <td>-6.243330</td>\n",
       "      <td>53.353889</td>\n",
       "      <td>None</td>\n",
       "      <td>Leinster</td>\n",
       "      <td>L</td>\n",
       "      <td>{'asn': 16509, 'isp': 'amazon.com, Inc'}</td>\n",
       "      <td>Dublin</td>\n",
       "      <td>Ireland</td>\n",
       "      <td>IE</td>\n",
       "      <td>amazon.com, Inc</td>\n",
       "      <td>16509</td>\n",
       "      <td>3.212853e+07</td>\n",
       "      <td>574564.954842</td>\n",
       "      <td>100000.0</td>\n",
       "      <td>321.285322</td>\n",
       "      <td>4.795368e-01</td>\n",
       "      <td>0.039494</td>\n",
       "      <td>1.000000</td>\n",
       "    </tr>\n",
       "    <tr>\n",
       "      <th>1</th>\n",
       "      <td>pool1pu5jlj4q9w9jlxeu370a3c9myx47md5j5m2str0na...</td>\n",
       "      <td>0f292fcaa02b8b2f9b3c8f9fd8e0bb21abedb692a6d505...</td>\n",
       "      <td>b512cc7c1a8ba689c2d8fd27adfdbac2049a3f8f95c8b8...</td>\n",
       "      <td>1824</td>\n",
       "      <td>19427988062303</td>\n",
       "      <td>8.222951e-04</td>\n",
       "      <td>2.899739e-01</td>\n",
       "      <td>170</td>\n",
       "      <td>19414895397699</td>\n",
       "      <td>8.182658e-04</td>\n",
       "      <td>510000000000</td>\n",
       "      <td>567027531192</td>\n",
       "      <td>0.049</td>\n",
       "      <td>340000000</td>\n",
       "      <td>stake1u98nnlkvkk23vtvf9273uq7cph5ww6u2yq2389ps...</td>\n",
       "      <td>['stake1u98nnlkvkk23vtvf9273uq7cph5ww6u2yq2389...</td>\n",
       "      <td>['a96c79773b7506211eb56bf94886a2face17657d1009...</td>\n",
       "      <td>[]</td>\n",
       "      <td>relays.mainnet.stakenuts.com</td>\n",
       "      <td>3001</td>\n",
       "      <td>https://stakenuts.com/mainnet.json</td>\n",
       "      <td>47c0c68cb57f4a5b4a87bad896fc274678e7aea98e200f...</td>\n",
       "      <td>NUTS</td>\n",
       "      <td>StakeNuts</td>\n",
       "      <td>StakeNuts.com</td>\n",
       "      <td>https://stakenuts.com/</td>\n",
       "      <td>198.13.62.211</td>\n",
       "      <td>139.746155</td>\n",
       "      <td>35.583511</td>\n",
       "      <td>143-0006</td>\n",
       "      <td>Kanagawa</td>\n",
       "      <td>14</td>\n",
       "      <td>{'asn': 20473, 'isp': 'The Constant Company LLC'}</td>\n",
       "      <td>Kawasaki</td>\n",
       "      <td>Japan</td>\n",
       "      <td>JP</td>\n",
       "      <td>The Constant Company LLC</td>\n",
       "      <td>20473</td>\n",
       "      <td>1.942799e+07</td>\n",
       "      <td>567027.531192</td>\n",
       "      <td>510000.0</td>\n",
       "      <td>38.094094</td>\n",
       "      <td>2.899739e-01</td>\n",
       "      <td>0.039494</td>\n",
       "      <td>1.000000</td>\n",
       "    </tr>\n",
       "    <tr>\n",
       "      <th>2</th>\n",
       "      <td>pool1c8k78ny3xvsfgenhf4yzvpzwgzxmz0t0um0h2xnn2...</td>\n",
       "      <td>c1ede3cc9133209466774d4826044e408db13d6fe6df75...</td>\n",
       "      <td>b8ba5f7dcbf17e95781e325114da46def1fa908435a27d...</td>\n",
       "      <td>80</td>\n",
       "      <td>567215180144</td>\n",
       "      <td>2.400750e-05</td>\n",
       "      <td>8.466013e-03</td>\n",
       "      <td>17</td>\n",
       "      <td>555030759623</td>\n",
       "      <td>2.339250e-05</td>\n",
       "      <td>50100000000</td>\n",
       "      <td>546041471277</td>\n",
       "      <td>0.000</td>\n",
       "      <td>340000000</td>\n",
       "      <td>stake1uyx0ut5wc5nmu0tacjc9pyyahdyq5ujghwljkdxr...</td>\n",
       "      <td>['stake1uyx0ut5wc5nmu0tacjc9pyyahdyq5ujghwljkd...</td>\n",
       "      <td>['37f5682e2622c821175bab9d5637b7321ecacc5ec663...</td>\n",
       "      <td>[]</td>\n",
       "      <td>relay.zenithpool.io</td>\n",
       "      <td>31400</td>\n",
       "      <td>https://metadata.zenithpool.io</td>\n",
       "      <td>21cc44498ab6e74e081a805e629fff171a66d0c8d034f9...</td>\n",
       "      <td>ZEN</td>\n",
       "      <td>ZENITH</td>\n",
       "      <td>One owner, one operator, one pool. Operating s...</td>\n",
       "      <td>https://zenithpool.io</td>\n",
       "      <td>193.122.12.254</td>\n",
       "      <td>-122.333519</td>\n",
       "      <td>47.611012</td>\n",
       "      <td>98101</td>\n",
       "      <td>Washington</td>\n",
       "      <td>WA</td>\n",
       "      <td>{'asn': 31898, 'isp': 'Oracle Corporation'}</td>\n",
       "      <td>Seattle</td>\n",
       "      <td>United States</td>\n",
       "      <td>US</td>\n",
       "      <td>Oracle Corporation</td>\n",
       "      <td>31898</td>\n",
       "      <td>5.672152e+05</td>\n",
       "      <td>546041.471277</td>\n",
       "      <td>50100.0</td>\n",
       "      <td>11.321660</td>\n",
       "      <td>8.466013e-03</td>\n",
       "      <td>0.039494</td>\n",
       "      <td>1.000000</td>\n",
       "    </tr>\n",
       "    <tr>\n",
       "      <th>3</th>\n",
       "      <td>pool1q80jjs53w0fx836n8g38gtdwr8ck5zre3da90peux...</td>\n",
       "      <td>01df29429173d263c7533a22742dae19f16a08798b7a57...</td>\n",
       "      <td>b75115a1e4e32a33985fc720f3715f0e99617b448fbc36...</td>\n",
       "      <td>259</td>\n",
       "      <td>1735454735054</td>\n",
       "      <td>7.345360e-05</td>\n",
       "      <td>2.590266e-02</td>\n",
       "      <td>724</td>\n",
       "      <td>1735713797295</td>\n",
       "      <td>7.315390e-05</td>\n",
       "      <td>200000000000</td>\n",
       "      <td>207011830413</td>\n",
       "      <td>0.005</td>\n",
       "      <td>340000000</td>\n",
       "      <td>stake1uxxsa2rlkv728pve3ks7kn7c6v68luagdjgwa0me...</td>\n",
       "      <td>['stake1uxxsa2rlkv728pve3ks7kn7c6v68luagdjgwa0...</td>\n",
       "      <td>['e8951eddb19b697bc74549aa9d4f956a8be8d5cf2c7a...</td>\n",
       "      <td>[]</td>\n",
       "      <td>95.183.53.20</td>\n",
       "      <td>6060</td>\n",
       "      <td>https://ispool.live/metadata</td>\n",
       "      <td>34fdde237812fab14d29a80423bb295f39122f4fea1aae...</td>\n",
       "      <td>000</td>\n",
       "      <td>Switzerland Investment</td>\n",
       "      <td>Stability, Security, Reliability, Neutrality! ...</td>\n",
       "      <td>https://ispool.live/</td>\n",
       "      <td>95.183.53.20</td>\n",
       "      <td>8.536950</td>\n",
       "      <td>47.374168</td>\n",
       "      <td>8043</td>\n",
       "      <td>Zurich</td>\n",
       "      <td>ZH</td>\n",
       "      <td>{'asn': 197988, 'isp': 'Solar Communications G...</td>\n",
       "      <td>Zürich</td>\n",
       "      <td>Switzerland</td>\n",
       "      <td>CH</td>\n",
       "      <td>Solar Communications Gmbh</td>\n",
       "      <td>197988</td>\n",
       "      <td>1.735455e+06</td>\n",
       "      <td>207011.830413</td>\n",
       "      <td>200000.0</td>\n",
       "      <td>8.677274</td>\n",
       "      <td>2.590266e-02</td>\n",
       "      <td>0.039494</td>\n",
       "      <td>1.000000</td>\n",
       "    </tr>\n",
       "    <tr>\n",
       "      <th>5</th>\n",
       "      <td>pool1ddskftmsscw92d7vnj89pldwx5feegkgcmamgt5t0...</td>\n",
       "      <td>6b6164af70861c5537cc9c8e50fdae35139ca2c8c6fbb4...</td>\n",
       "      <td>78b0b08fec7458afd1209dcd26bd0c10faa640a49d5013...</td>\n",
       "      <td>23</td>\n",
       "      <td>4000924534</td>\n",
       "      <td>1.693000e-07</td>\n",
       "      <td>5.971610e-05</td>\n",
       "      <td>14</td>\n",
       "      <td>4000924534</td>\n",
       "      <td>1.686000e-07</td>\n",
       "      <td>7149000000</td>\n",
       "      <td>0</td>\n",
       "      <td>0.050</td>\n",
       "      <td>340000000</td>\n",
       "      <td>stake1u9w20uzsevkxe6vp2nlmqjjrcj4gvcf560tvufuv...</td>\n",
       "      <td>['stake1u9w20uzsevkxe6vp2nlmqjjrcj4gvcf560tvuf...</td>\n",
       "      <td>['ff2d9576bd9c5e1dff6c9987860de39366f7b75dd6bb...</td>\n",
       "      <td>[]</td>\n",
       "      <td>139.162.148.181</td>\n",
       "      <td>8088</td>\n",
       "      <td>https://pool.adascan.net/meta/v1/poolmeta.json</td>\n",
       "      <td>79e7cf8d936bf0ced040516b288e2edc76f2f87af5400f...</td>\n",
       "      <td>None</td>\n",
       "      <td>None</td>\n",
       "      <td>None</td>\n",
       "      <td>None</td>\n",
       "      <td>139.162.148.181</td>\n",
       "      <td>8.682100</td>\n",
       "      <td>50.110901</td>\n",
       "      <td>60311</td>\n",
       "      <td>Hesse</td>\n",
       "      <td>HE</td>\n",
       "      <td>{'asn': 63949, 'isp': 'Linode LLC'}</td>\n",
       "      <td>Frankfurt am Main</td>\n",
       "      <td>Germany</td>\n",
       "      <td>DE</td>\n",
       "      <td>Linode LLC</td>\n",
       "      <td>63949</td>\n",
       "      <td>4.000925e+03</td>\n",
       "      <td>0.000000</td>\n",
       "      <td>7149.0</td>\n",
       "      <td>0.559648</td>\n",
       "      <td>5.971610e-05</td>\n",
       "      <td>0.000000</td>\n",
       "      <td>1.247291</td>\n",
       "    </tr>\n",
       "    <tr>\n",
       "      <th>...</th>\n",
       "      <td>...</td>\n",
       "      <td>...</td>\n",
       "      <td>...</td>\n",
       "      <td>...</td>\n",
       "      <td>...</td>\n",
       "      <td>...</td>\n",
       "      <td>...</td>\n",
       "      <td>...</td>\n",
       "      <td>...</td>\n",
       "      <td>...</td>\n",
       "      <td>...</td>\n",
       "      <td>...</td>\n",
       "      <td>...</td>\n",
       "      <td>...</td>\n",
       "      <td>...</td>\n",
       "      <td>...</td>\n",
       "      <td>...</td>\n",
       "      <td>...</td>\n",
       "      <td>...</td>\n",
       "      <td>...</td>\n",
       "      <td>...</td>\n",
       "      <td>...</td>\n",
       "      <td>...</td>\n",
       "      <td>...</td>\n",
       "      <td>...</td>\n",
       "      <td>...</td>\n",
       "      <td>...</td>\n",
       "      <td>...</td>\n",
       "      <td>...</td>\n",
       "      <td>...</td>\n",
       "      <td>...</td>\n",
       "      <td>...</td>\n",
       "      <td>...</td>\n",
       "      <td>...</td>\n",
       "      <td>...</td>\n",
       "      <td>...</td>\n",
       "      <td>...</td>\n",
       "      <td>...</td>\n",
       "      <td>...</td>\n",
       "      <td>...</td>\n",
       "      <td>...</td>\n",
       "      <td>...</td>\n",
       "      <td>...</td>\n",
       "      <td>...</td>\n",
       "      <td>...</td>\n",
       "    </tr>\n",
       "    <tr>\n",
       "      <th>5545</th>\n",
       "      <td>pool1sk6jvl4u8m4peddwqxzslgt82n57qy0rug2j0jfzk...</td>\n",
       "      <td>85b5267ebc3eea1cb5ae01850fa16754e9e011e3e21527...</td>\n",
       "      <td>2d673584d7b29070ba9355df7e787176a822338f0457d4...</td>\n",
       "      <td>0</td>\n",
       "      <td>99576339881</td>\n",
       "      <td>4.214900e-06</td>\n",
       "      <td>1.486234e-03</td>\n",
       "      <td>2</td>\n",
       "      <td>0</td>\n",
       "      <td>0.000000e+00</td>\n",
       "      <td>10000000</td>\n",
       "      <td>357225752</td>\n",
       "      <td>0.020</td>\n",
       "      <td>340000000</td>\n",
       "      <td>stake1u9zg9dxymfg02rvev7he2h8j9ptuj45s8qeu8hvs...</td>\n",
       "      <td>['stake1u9zg9dxymfg02rvev7he2h8j9ptuj45s8qeu8h...</td>\n",
       "      <td>['36783438a6b445690de40f589ae6a24f13300f1a9091...</td>\n",
       "      <td>[]</td>\n",
       "      <td>47.241.248.83</td>\n",
       "      <td>3001</td>\n",
       "      <td>https://walletada.hotbitdemo.com/adapool_metad...</td>\n",
       "      <td>0a93741db4f79a688ce407faa28b9b4a56b0055aa0bd0c...</td>\n",
       "      <td>HTB</td>\n",
       "      <td>HotbitPool</td>\n",
       "      <td>HotbitPool</td>\n",
       "      <td>https://www.hotbit.io</td>\n",
       "      <td>47.241.248.83</td>\n",
       "      <td>103.851784</td>\n",
       "      <td>1.287950</td>\n",
       "      <td>None</td>\n",
       "      <td>Central Singapore</td>\n",
       "      <td>01</td>\n",
       "      <td>{'asn': 45102, 'isp': 'Alibaba (Us) Technology...</td>\n",
       "      <td>Singapore</td>\n",
       "      <td>Singapore</td>\n",
       "      <td>SG</td>\n",
       "      <td>Alibaba (Us) Technology Co. Ltd.</td>\n",
       "      <td>45102</td>\n",
       "      <td>9.957634e+04</td>\n",
       "      <td>357.225752</td>\n",
       "      <td>10.0</td>\n",
       "      <td>9957.633988</td>\n",
       "      <td>1.486234e-03</td>\n",
       "      <td>0.039494</td>\n",
       "      <td>1.000000</td>\n",
       "    </tr>\n",
       "    <tr>\n",
       "      <th>5547</th>\n",
       "      <td>pool1l6946mnu54f6v0we4xzra8kwm68ch7fphhxvgytd0...</td>\n",
       "      <td>fe8b5d6e7ca553a63dd9a9843e9ecede8f8bf921bdccc4...</td>\n",
       "      <td>4b5cc8a3499e69683701957db53a7297b99df317d21532...</td>\n",
       "      <td>0</td>\n",
       "      <td>200850366</td>\n",
       "      <td>8.500000e-09</td>\n",
       "      <td>2.997800e-06</td>\n",
       "      <td>1</td>\n",
       "      <td>0</td>\n",
       "      <td>0.000000e+00</td>\n",
       "      <td>150000000</td>\n",
       "      <td>200850366</td>\n",
       "      <td>0.150</td>\n",
       "      <td>345000000</td>\n",
       "      <td>stake1u8eyvgp8r7mhgszfevapn4vul283sqkls3hvaf6q...</td>\n",
       "      <td>['stake1u8eyvgp8r7mhgszfevapn4vul283sqkls3hvaf...</td>\n",
       "      <td>['165c92f88abfebfd39d458ed4d1d917486ec5927c363...</td>\n",
       "      <td>[]</td>\n",
       "      <td>crdrl1.stakemachine.net</td>\n",
       "      <td>9961</td>\n",
       "      <td>https://www.stakemachine.net/cardano_sm.json</td>\n",
       "      <td>24187af340d0d5abba13f6ea1571804814f740fe6871d1...</td>\n",
       "      <td>SMACH</td>\n",
       "      <td>StakeMachine</td>\n",
       "      <td>Professional CARDANO stake pool</td>\n",
       "      <td>https://www.stakemachine.net</td>\n",
       "      <td>194.35.120.118</td>\n",
       "      <td>11.214280</td>\n",
       "      <td>49.375061</td>\n",
       "      <td>90537</td>\n",
       "      <td>Bavaria</td>\n",
       "      <td>BY</td>\n",
       "      <td>{'asn': 204644, 'isp': 'Stumpner Netservice Ug...</td>\n",
       "      <td>Wendelstein</td>\n",
       "      <td>Germany</td>\n",
       "      <td>DE</td>\n",
       "      <td>Stumpner Netservice Ug (Haftungsbeschraenkt)</td>\n",
       "      <td>204644</td>\n",
       "      <td>2.008504e+02</td>\n",
       "      <td>200.850366</td>\n",
       "      <td>150.0</td>\n",
       "      <td>1.339002</td>\n",
       "      <td>2.997800e-06</td>\n",
       "      <td>0.039494</td>\n",
       "      <td>1.000000</td>\n",
       "    </tr>\n",
       "    <tr>\n",
       "      <th>5549</th>\n",
       "      <td>pool1vcc9lngr8g2j8xh0kgy84nne026adr5zmvwagkda9...</td>\n",
       "      <td>66305fcd033a15239aefb2087ace797ab5d68e82db1dd4...</td>\n",
       "      <td>cd7410122ca16a9660155c59340083a8e3b540016d043d...</td>\n",
       "      <td>0</td>\n",
       "      <td>1500600798</td>\n",
       "      <td>6.350000e-08</td>\n",
       "      <td>2.239730e-05</td>\n",
       "      <td>1</td>\n",
       "      <td>0</td>\n",
       "      <td>0.000000e+00</td>\n",
       "      <td>1500000000</td>\n",
       "      <td>1500600798</td>\n",
       "      <td>0.010</td>\n",
       "      <td>340000000</td>\n",
       "      <td>stake1u9yw7t3gksm445svqhsjxq7vhccqcngjgh2vwczv...</td>\n",
       "      <td>['stake1u9yw7t3gksm445svqhsjxq7vhccqcngjgh2vwc...</td>\n",
       "      <td>['0c5f5e2b09b5885efd835f509be684aa2df8bafb0ce4...</td>\n",
       "      <td>[]</td>\n",
       "      <td>relaynode1.higer-stakepool.com</td>\n",
       "      <td>6000</td>\n",
       "      <td>https://git.io/JSDk9</td>\n",
       "      <td>053b4fcdd91dc15c5ee74c768395b70b9fb580da65e16f...</td>\n",
       "      <td>HIGER</td>\n",
       "      <td>HIGER</td>\n",
       "      <td>Professional managed stake pool located in sou...</td>\n",
       "      <td>https://higer-stakepool.com</td>\n",
       "      <td>109.90.24.88</td>\n",
       "      <td>6.960300</td>\n",
       "      <td>50.937500</td>\n",
       "      <td>50667</td>\n",
       "      <td>North Rhine-Westphalia</td>\n",
       "      <td>NW</td>\n",
       "      <td>{'asn': 3209, 'isp': 'Vodafone Gmbh'}</td>\n",
       "      <td>Köln</td>\n",
       "      <td>Germany</td>\n",
       "      <td>DE</td>\n",
       "      <td>Vodafone Gmbh</td>\n",
       "      <td>3209</td>\n",
       "      <td>1.500601e+03</td>\n",
       "      <td>1500.600798</td>\n",
       "      <td>1500.0</td>\n",
       "      <td>1.000401</td>\n",
       "      <td>2.239730e-05</td>\n",
       "      <td>0.039494</td>\n",
       "      <td>1.000000</td>\n",
       "    </tr>\n",
       "    <tr>\n",
       "      <th>5550</th>\n",
       "      <td>pool1qcu4r9rw853pyvfznfeujfzxlku4xtvp8cas6c2y7...</td>\n",
       "      <td>063951946e3d221231229a73c92446fdb9532d813e3b0d...</td>\n",
       "      <td>3c57e43260a4dde6b3a07d83907f00027b2d0630f57201...</td>\n",
       "      <td>0</td>\n",
       "      <td>2036975</td>\n",
       "      <td>1.000000e-10</td>\n",
       "      <td>3.040000e-08</td>\n",
       "      <td>1</td>\n",
       "      <td>0</td>\n",
       "      <td>0.000000e+00</td>\n",
       "      <td>100000000</td>\n",
       "      <td>2036975</td>\n",
       "      <td>0.000</td>\n",
       "      <td>340000000</td>\n",
       "      <td>stake1u9vlltzshvet0clpzkt6fhfwgt2jw4m3jarddc4n...</td>\n",
       "      <td>['stake1u9vlltzshvet0clpzkt6fhfwgt2jw4m3jarddc...</td>\n",
       "      <td>['e5066e9eaef49c079cf84af8c54f55bcce4ee76ea0bb...</td>\n",
       "      <td>[]</td>\n",
       "      <td>217.28.30.43</td>\n",
       "      <td>6000</td>\n",
       "      <td>https://git.io/JySpg</td>\n",
       "      <td>d1969ef9bc1733e7c2a6569ec747245ba8bac7626d4147...</td>\n",
       "      <td>None</td>\n",
       "      <td>None</td>\n",
       "      <td>None</td>\n",
       "      <td>None</td>\n",
       "      <td>217.28.30.43</td>\n",
       "      <td>-71.208183</td>\n",
       "      <td>46.814301</td>\n",
       "      <td>G1R 5M1</td>\n",
       "      <td>Quebec</td>\n",
       "      <td>QC</td>\n",
       "      <td>{'asn': 398721, 'isp': 'Oxio'}</td>\n",
       "      <td>Québec</td>\n",
       "      <td>Canada</td>\n",
       "      <td>CA</td>\n",
       "      <td>Oxio</td>\n",
       "      <td>398721</td>\n",
       "      <td>2.036975e+00</td>\n",
       "      <td>2.036975</td>\n",
       "      <td>100.0</td>\n",
       "      <td>0.020370</td>\n",
       "      <td>3.040000e-08</td>\n",
       "      <td>0.000000</td>\n",
       "      <td>1.247291</td>\n",
       "    </tr>\n",
       "    <tr>\n",
       "      <th>5552</th>\n",
       "      <td>pool1etwkskpk7smvppts3d0wryqyxkm2udk2a4qy6eek5...</td>\n",
       "      <td>cadd685836f436c085708b5ee1900435b6ae36caed404d...</td>\n",
       "      <td>2bd83ebefebebb50a01d637af893a9dadeac42fa114b13...</td>\n",
       "      <td>0</td>\n",
       "      <td>22497233760</td>\n",
       "      <td>9.523000e-07</td>\n",
       "      <td>3.357842e-04</td>\n",
       "      <td>1</td>\n",
       "      <td>0</td>\n",
       "      <td>0.000000e+00</td>\n",
       "      <td>20000000000</td>\n",
       "      <td>22497233760</td>\n",
       "      <td>0.045</td>\n",
       "      <td>340000000</td>\n",
       "      <td>stake1uxe45jdlkedl8hq59slcdzy2078pxylsujzwfr8m...</td>\n",
       "      <td>['stake1uxe45jdlkedl8hq59slcdzy2078pxylsujzwfr...</td>\n",
       "      <td>['54530bc2682ba27923a5d81fc230c7ddd330cd7d0e6e...</td>\n",
       "      <td>[]</td>\n",
       "      <td>65.108.107.238</td>\n",
       "      <td>6000</td>\n",
       "      <td>https://0xdeadbeef.network/roots-meta.json</td>\n",
       "      <td>2af57d0d3373b23b2a32763de09a47016d13e44a9dcbfc...</td>\n",
       "      <td>ROOTS</td>\n",
       "      <td>ROOTS</td>\n",
       "      <td>Connect to your ROOTS.</td>\n",
       "      <td>https://theearthpool.com</td>\n",
       "      <td>65.108.107.238</td>\n",
       "      <td>10.753400</td>\n",
       "      <td>49.115940</td>\n",
       "      <td>91710</td>\n",
       "      <td>Bavaria</td>\n",
       "      <td>BY</td>\n",
       "      <td>{'asn': 24940, 'isp': 'Hetzner Online Gmbh'}</td>\n",
       "      <td>Gunzenhausen</td>\n",
       "      <td>Germany</td>\n",
       "      <td>DE</td>\n",
       "      <td>Hetzner Online Gmbh</td>\n",
       "      <td>24940</td>\n",
       "      <td>2.249723e+04</td>\n",
       "      <td>22497.233760</td>\n",
       "      <td>20000.0</td>\n",
       "      <td>1.124862</td>\n",
       "      <td>3.357842e-04</td>\n",
       "      <td>0.039494</td>\n",
       "      <td>1.000000</td>\n",
       "    </tr>\n",
       "  </tbody>\n",
       "</table>\n",
       "<p>3039 rows × 45 columns</p>\n",
       "</div>"
      ],
      "text/plain": [
       "                                                pool_id  \\\n",
       "0     pool1z5uqdk7dzdxaae5633fqfcu2eqzy3a3rgtuvy087f...   \n",
       "1     pool1pu5jlj4q9w9jlxeu370a3c9myx47md5j5m2str0na...   \n",
       "2     pool1c8k78ny3xvsfgenhf4yzvpzwgzxmz0t0um0h2xnn2...   \n",
       "3     pool1q80jjs53w0fx836n8g38gtdwr8ck5zre3da90peux...   \n",
       "5     pool1ddskftmsscw92d7vnj89pldwx5feegkgcmamgt5t0...   \n",
       "...                                                 ...   \n",
       "5545  pool1sk6jvl4u8m4peddwqxzslgt82n57qy0rug2j0jfzk...   \n",
       "5547  pool1l6946mnu54f6v0we4xzra8kwm68ch7fphhxvgytd0...   \n",
       "5549  pool1vcc9lngr8g2j8xh0kgy84nne026adr5zmvwagkda9...   \n",
       "5550  pool1qcu4r9rw853pyvfznfeujfzxlku4xtvp8cas6c2y7...   \n",
       "5552  pool1etwkskpk7smvppts3d0wryqyxkm2udk2a4qy6eek5...   \n",
       "\n",
       "                                                    hex  \\\n",
       "0     153806dbcd134ddee69a8c5204e38ac80448f62342f8c2...   \n",
       "1     0f292fcaa02b8b2f9b3c8f9fd8e0bb21abedb692a6d505...   \n",
       "2     c1ede3cc9133209466774d4826044e408db13d6fe6df75...   \n",
       "3     01df29429173d263c7533a22742dae19f16a08798b7a57...   \n",
       "5     6b6164af70861c5537cc9c8e50fdae35139ca2c8c6fbb4...   \n",
       "...                                                 ...   \n",
       "5545  85b5267ebc3eea1cb5ae01850fa16754e9e011e3e21527...   \n",
       "5547  fe8b5d6e7ca553a63dd9a9843e9ecede8f8bf921bdccc4...   \n",
       "5549  66305fcd033a15239aefb2087ace797ab5d68e82db1dd4...   \n",
       "5550  063951946e3d221231229a73c92446fdb9532d813e3b0d...   \n",
       "5552  cadd685836f436c085708b5ee1900435b6ae36caed404d...   \n",
       "\n",
       "                                                vrf_key  blocks_minted  \\\n",
       "0     0220a5d08adbfe9554b52d7b2993be5892ac3ff340e674...           4097   \n",
       "1     b512cc7c1a8ba689c2d8fd27adfdbac2049a3f8f95c8b8...           1824   \n",
       "2     b8ba5f7dcbf17e95781e325114da46def1fa908435a27d...             80   \n",
       "3     b75115a1e4e32a33985fc720f3715f0e99617b448fbc36...            259   \n",
       "5     78b0b08fec7458afd1209dcd26bd0c10faa640a49d5013...             23   \n",
       "...                                                 ...            ...   \n",
       "5545  2d673584d7b29070ba9355df7e787176a822338f0457d4...              0   \n",
       "5547  4b5cc8a3499e69683701957db53a7297b99df317d21532...              0   \n",
       "5549  cd7410122ca16a9660155c59340083a8e3b540016d043d...              0   \n",
       "5550  3c57e43260a4dde6b3a07d83907f00027b2d0630f57201...              0   \n",
       "5552  2bd83ebefebebb50a01d637af893a9dadeac42fa114b13...              0   \n",
       "\n",
       "          live_stake     live_size  live_saturation  live_delegators  \\\n",
       "0     32128532235090  1.359849e-03     4.795368e-01             3170   \n",
       "1     19427988062303  8.222951e-04     2.899739e-01              170   \n",
       "2       567215180144  2.400750e-05     8.466013e-03               17   \n",
       "3      1735454735054  7.345360e-05     2.590266e-02              724   \n",
       "5         4000924534  1.693000e-07     5.971610e-05               14   \n",
       "...              ...           ...              ...              ...   \n",
       "5545     99576339881  4.214900e-06     1.486234e-03                2   \n",
       "5547       200850366  8.500000e-09     2.997800e-06                1   \n",
       "5549      1500600798  6.350000e-08     2.239730e-05                1   \n",
       "5550         2036975  1.000000e-10     3.040000e-08                1   \n",
       "5552     22497233760  9.523000e-07     3.357842e-04                1   \n",
       "\n",
       "        active_stake   active_size  declared_pledge   live_pledge  \\\n",
       "0     32462689016256  1.368182e-03     100000000000  574564954842   \n",
       "1     19414895397699  8.182658e-04     510000000000  567027531192   \n",
       "2       555030759623  2.339250e-05      50100000000  546041471277   \n",
       "3      1735713797295  7.315390e-05     200000000000  207011830413   \n",
       "5         4000924534  1.686000e-07       7149000000             0   \n",
       "...              ...           ...              ...           ...   \n",
       "5545               0  0.000000e+00         10000000     357225752   \n",
       "5547               0  0.000000e+00        150000000     200850366   \n",
       "5549               0  0.000000e+00       1500000000    1500600798   \n",
       "5550               0  0.000000e+00        100000000       2036975   \n",
       "5552               0  0.000000e+00      20000000000   22497233760   \n",
       "\n",
       "      margin_cost  fixed_cost  \\\n",
       "0           0.009   340000000   \n",
       "1           0.049   340000000   \n",
       "2           0.000   340000000   \n",
       "3           0.005   340000000   \n",
       "5           0.050   340000000   \n",
       "...           ...         ...   \n",
       "5545        0.020   340000000   \n",
       "5547        0.150   345000000   \n",
       "5549        0.010   340000000   \n",
       "5550        0.000   340000000   \n",
       "5552        0.045   340000000   \n",
       "\n",
       "                                         reward_account  \\\n",
       "0     stake1uy89kzrdlpaz5rzu8x95r4qnlpqhd3f8mf09edjp...   \n",
       "1     stake1u98nnlkvkk23vtvf9273uq7cph5ww6u2yq2389ps...   \n",
       "2     stake1uyx0ut5wc5nmu0tacjc9pyyahdyq5ujghwljkdxr...   \n",
       "3     stake1uxxsa2rlkv728pve3ks7kn7c6v68luagdjgwa0me...   \n",
       "5     stake1u9w20uzsevkxe6vp2nlmqjjrcj4gvcf560tvufuv...   \n",
       "...                                                 ...   \n",
       "5545  stake1u9zg9dxymfg02rvev7he2h8j9ptuj45s8qeu8hvs...   \n",
       "5547  stake1u8eyvgp8r7mhgszfevapn4vul283sqkls3hvaf6q...   \n",
       "5549  stake1u9yw7t3gksm445svqhsjxq7vhccqcngjgh2vwczv...   \n",
       "5550  stake1u9vlltzshvet0clpzkt6fhfwgt2jw4m3jarddc4n...   \n",
       "5552  stake1uxe45jdlkedl8hq59slcdzy2078pxylsujzwfr8m...   \n",
       "\n",
       "                                                 owners  \\\n",
       "0     ['stake1uy89kzrdlpaz5rzu8x95r4qnlpqhd3f8mf09ed...   \n",
       "1     ['stake1u98nnlkvkk23vtvf9273uq7cph5ww6u2yq2389...   \n",
       "2     ['stake1uyx0ut5wc5nmu0tacjc9pyyahdyq5ujghwljkd...   \n",
       "3     ['stake1uxxsa2rlkv728pve3ks7kn7c6v68luagdjgwa0...   \n",
       "5     ['stake1u9w20uzsevkxe6vp2nlmqjjrcj4gvcf560tvuf...   \n",
       "...                                                 ...   \n",
       "5545  ['stake1u9zg9dxymfg02rvev7he2h8j9ptuj45s8qeu8h...   \n",
       "5547  ['stake1u8eyvgp8r7mhgszfevapn4vul283sqkls3hvaf...   \n",
       "5549  ['stake1u9yw7t3gksm445svqhsjxq7vhccqcngjgh2vwc...   \n",
       "5550  ['stake1u9vlltzshvet0clpzkt6fhfwgt2jw4m3jarddc...   \n",
       "5552  ['stake1uxe45jdlkedl8hq59slcdzy2078pxylsujzwfr...   \n",
       "\n",
       "                                           registration retirement  \\\n",
       "0     ['841cca81da918feb9fa7257a34630eac95794be712ed...         []   \n",
       "1     ['a96c79773b7506211eb56bf94886a2face17657d1009...         []   \n",
       "2     ['37f5682e2622c821175bab9d5637b7321ecacc5ec663...         []   \n",
       "3     ['e8951eddb19b697bc74549aa9d4f956a8be8d5cf2c7a...         []   \n",
       "5     ['ff2d9576bd9c5e1dff6c9987860de39366f7b75dd6bb...         []   \n",
       "...                                                 ...        ...   \n",
       "5545  ['36783438a6b445690de40f589ae6a24f13300f1a9091...         []   \n",
       "5547  ['165c92f88abfebfd39d458ed4d1d917486ec5927c363...         []   \n",
       "5549  ['0c5f5e2b09b5885efd835f509be684aa2df8bafb0ce4...         []   \n",
       "5550  ['e5066e9eaef49c079cf84af8c54f55bcce4ee76ea0bb...         []   \n",
       "5552  ['54530bc2682ba27923a5d81fc230c7ddd330cd7d0e6e...         []   \n",
       "\n",
       "                             ip_host   port  \\\n",
       "0                       54.220.20.40   3002   \n",
       "1       relays.mainnet.stakenuts.com   3001   \n",
       "2                relay.zenithpool.io  31400   \n",
       "3                       95.183.53.20   6060   \n",
       "5                    139.162.148.181   8088   \n",
       "...                              ...    ...   \n",
       "5545                   47.241.248.83   3001   \n",
       "5547         crdrl1.stakemachine.net   9961   \n",
       "5549  relaynode1.higer-stakepool.com   6000   \n",
       "5550                    217.28.30.43   6000   \n",
       "5552                  65.108.107.238   6000   \n",
       "\n",
       "                                                    url  \\\n",
       "0     https://raw.githubusercontent.com/Octalus/card...   \n",
       "1                    https://stakenuts.com/mainnet.json   \n",
       "2                        https://metadata.zenithpool.io   \n",
       "3                          https://ispool.live/metadata   \n",
       "5        https://pool.adascan.net/meta/v1/poolmeta.json   \n",
       "...                                                 ...   \n",
       "5545  https://walletada.hotbitdemo.com/adapool_metad...   \n",
       "5547       https://www.stakemachine.net/cardano_sm.json   \n",
       "5549                               https://git.io/JSDk9   \n",
       "5550                               https://git.io/JySpg   \n",
       "5552         https://0xdeadbeef.network/roots-meta.json   \n",
       "\n",
       "                                                   hash ticker  \\\n",
       "0     ca7d12decf886e31f5226b5946c62edc81a7e40af95ce7...  OCTAS   \n",
       "1     47c0c68cb57f4a5b4a87bad896fc274678e7aea98e200f...   NUTS   \n",
       "2     21cc44498ab6e74e081a805e629fff171a66d0c8d034f9...    ZEN   \n",
       "3     34fdde237812fab14d29a80423bb295f39122f4fea1aae...    000   \n",
       "5     79e7cf8d936bf0ced040516b288e2edc76f2f87af5400f...   None   \n",
       "...                                                 ...    ...   \n",
       "5545  0a93741db4f79a688ce407faa28b9b4a56b0055aa0bd0c...    HTB   \n",
       "5547  24187af340d0d5abba13f6ea1571804814f740fe6871d1...  SMACH   \n",
       "5549  053b4fcdd91dc15c5ee74c768395b70b9fb580da65e16f...  HIGER   \n",
       "5550  d1969ef9bc1733e7c2a6569ec747245ba8bac7626d4147...   None   \n",
       "5552  2af57d0d3373b23b2a32763de09a47016d13e44a9dcbfc...  ROOTS   \n",
       "\n",
       "                        name  \\\n",
       "0                  OctasPool   \n",
       "1                  StakeNuts   \n",
       "2                     ZENITH   \n",
       "3     Switzerland Investment   \n",
       "5                       None   \n",
       "...                      ...   \n",
       "5545              HotbitPool   \n",
       "5547            StakeMachine   \n",
       "5549                   HIGER   \n",
       "5550                    None   \n",
       "5552                   ROOTS   \n",
       "\n",
       "                                            description  \\\n",
       "0                               Octa's Performance Pool   \n",
       "1                                         StakeNuts.com   \n",
       "2     One owner, one operator, one pool. Operating s...   \n",
       "3     Stability, Security, Reliability, Neutrality! ...   \n",
       "5                                                  None   \n",
       "...                                                 ...   \n",
       "5545                                         HotbitPool   \n",
       "5547                    Professional CARDANO stake pool   \n",
       "5549  Professional managed stake pool located in sou...   \n",
       "5550                                               None   \n",
       "5552                             Connect to your ROOTS.   \n",
       "\n",
       "                          homepage      resolved_ip   longitude   latitude  \\\n",
       "0      https://octaluso.dyndns.org     54.220.20.40   -6.243330  53.353889   \n",
       "1           https://stakenuts.com/    198.13.62.211  139.746155  35.583511   \n",
       "2            https://zenithpool.io   193.122.12.254 -122.333519  47.611012   \n",
       "3             https://ispool.live/     95.183.53.20    8.536950  47.374168   \n",
       "5                             None  139.162.148.181    8.682100  50.110901   \n",
       "...                            ...              ...         ...        ...   \n",
       "5545         https://www.hotbit.io    47.241.248.83  103.851784   1.287950   \n",
       "5547  https://www.stakemachine.net   194.35.120.118   11.214280  49.375061   \n",
       "5549   https://higer-stakepool.com     109.90.24.88    6.960300  50.937500   \n",
       "5550                          None     217.28.30.43  -71.208183  46.814301   \n",
       "5552      https://theearthpool.com   65.108.107.238   10.753400  49.115940   \n",
       "\n",
       "           zip             region_name region_code  \\\n",
       "0         None                Leinster           L   \n",
       "1     143-0006                Kanagawa          14   \n",
       "2        98101              Washington          WA   \n",
       "3         8043                  Zurich          ZH   \n",
       "5        60311                   Hesse          HE   \n",
       "...        ...                     ...         ...   \n",
       "5545      None       Central Singapore          01   \n",
       "5547     90537                 Bavaria          BY   \n",
       "5549     50667  North Rhine-Westphalia          NW   \n",
       "5550   G1R 5M1                  Quebec          QC   \n",
       "5552     91710                 Bavaria          BY   \n",
       "\n",
       "                                             connection               city  \\\n",
       "0              {'asn': 16509, 'isp': 'amazon.com, Inc'}             Dublin   \n",
       "1     {'asn': 20473, 'isp': 'The Constant Company LLC'}           Kawasaki   \n",
       "2           {'asn': 31898, 'isp': 'Oracle Corporation'}            Seattle   \n",
       "3     {'asn': 197988, 'isp': 'Solar Communications G...             Zürich   \n",
       "5                   {'asn': 63949, 'isp': 'Linode LLC'}  Frankfurt am Main   \n",
       "...                                                 ...                ...   \n",
       "5545  {'asn': 45102, 'isp': 'Alibaba (Us) Technology...          Singapore   \n",
       "5547  {'asn': 204644, 'isp': 'Stumpner Netservice Ug...        Wendelstein   \n",
       "5549              {'asn': 3209, 'isp': 'Vodafone Gmbh'}               Köln   \n",
       "5550                     {'asn': 398721, 'isp': 'Oxio'}             Québec   \n",
       "5552       {'asn': 24940, 'isp': 'Hetzner Online Gmbh'}       Gunzenhausen   \n",
       "\n",
       "       country_name country_code  \\\n",
       "0           Ireland           IE   \n",
       "1             Japan           JP   \n",
       "2     United States           US   \n",
       "3       Switzerland           CH   \n",
       "5           Germany           DE   \n",
       "...             ...          ...   \n",
       "5545      Singapore           SG   \n",
       "5547        Germany           DE   \n",
       "5549        Germany           DE   \n",
       "5550         Canada           CA   \n",
       "5552        Germany           DE   \n",
       "\n",
       "                                               isp     asn  live_stake_ada  \\\n",
       "0                                  amazon.com, Inc   16509    3.212853e+07   \n",
       "1                         The Constant Company LLC   20473    1.942799e+07   \n",
       "2                               Oracle Corporation   31898    5.672152e+05   \n",
       "3                        Solar Communications Gmbh  197988    1.735455e+06   \n",
       "5                                       Linode LLC   63949    4.000925e+03   \n",
       "...                                            ...     ...             ...   \n",
       "5545              Alibaba (Us) Technology Co. Ltd.   45102    9.957634e+04   \n",
       "5547  Stumpner Netservice Ug (Haftungsbeschraenkt)  204644    2.008504e+02   \n",
       "5549                                 Vodafone Gmbh    3209    1.500601e+03   \n",
       "5550                                          Oxio  398721    2.036975e+00   \n",
       "5552                           Hetzner Online Gmbh   24940    2.249723e+04   \n",
       "\n",
       "      live_pledge_ada  live_declared_pledge_ada  pledge_ratio  \\\n",
       "0       574564.954842                  100000.0    321.285322   \n",
       "1       567027.531192                  510000.0     38.094094   \n",
       "2       546041.471277                   50100.0     11.321660   \n",
       "3       207011.830413                  200000.0      8.677274   \n",
       "5            0.000000                    7149.0      0.559648   \n",
       "...               ...                       ...           ...   \n",
       "5545       357.225752                      10.0   9957.633988   \n",
       "5547       200.850366                     150.0      1.339002   \n",
       "5549      1500.600798                    1500.0      1.000401   \n",
       "5550         2.036975                     100.0      0.020370   \n",
       "5552     22497.233760                   20000.0      1.124862   \n",
       "\n",
       "      live_saturation_percentage  multipool_ratio  number_of_pools  \n",
       "0                   4.795368e-01         0.039494         1.000000  \n",
       "1                   2.899739e-01         0.039494         1.000000  \n",
       "2                   8.466013e-03         0.039494         1.000000  \n",
       "3                   2.590266e-02         0.039494         1.000000  \n",
       "5                   5.971610e-05         0.000000         1.247291  \n",
       "...                          ...              ...              ...  \n",
       "5545                1.486234e-03         0.039494         1.000000  \n",
       "5547                2.997800e-06         0.039494         1.000000  \n",
       "5549                2.239730e-05         0.039494         1.000000  \n",
       "5550                3.040000e-08         0.000000         1.247291  \n",
       "5552                3.357842e-04         0.039494         1.000000  \n",
       "\n",
       "[3039 rows x 45 columns]"
      ]
     },
     "execution_count": 144,
     "metadata": {},
     "output_type": "execute_result"
    }
   ],
   "source": [
    "df_copy"
   ]
  },
  {
   "cell_type": "code",
   "execution_count": 161,
   "metadata": {},
   "outputs": [],
   "source": [
    "df_copy['centralization_value'] = (df_copy.live_saturation_percentage + df_copy.multipool_ratio) / (df_copy.pledge_ratio + df_copy.number_of_pools)"
   ]
  },
  {
   "cell_type": "code",
   "execution_count": 162,
   "metadata": {},
   "outputs": [
    {
     "data": {
      "text/html": [
       "<div>\n",
       "<style scoped>\n",
       "    .dataframe tbody tr th:only-of-type {\n",
       "        vertical-align: middle;\n",
       "    }\n",
       "\n",
       "    .dataframe tbody tr th {\n",
       "        vertical-align: top;\n",
       "    }\n",
       "\n",
       "    .dataframe thead th {\n",
       "        text-align: right;\n",
       "    }\n",
       "</style>\n",
       "<table border=\"1\" class=\"dataframe\">\n",
       "  <thead>\n",
       "    <tr style=\"text-align: right;\">\n",
       "      <th></th>\n",
       "      <th>centralization_value</th>\n",
       "      <th>multipool_ratio</th>\n",
       "      <th>pledge_ratio</th>\n",
       "      <th>live_saturation_percentage</th>\n",
       "    </tr>\n",
       "  </thead>\n",
       "  <tbody>\n",
       "    <tr>\n",
       "      <th>count</th>\n",
       "      <td>3039.000000</td>\n",
       "      <td>3039.000000</td>\n",
       "      <td>3.039000e+03</td>\n",
       "      <td>3039.000000</td>\n",
       "    </tr>\n",
       "    <tr>\n",
       "      <th>mean</th>\n",
       "      <td>0.010618</td>\n",
       "      <td>0.142539</td>\n",
       "      <td>9.740332e+06</td>\n",
       "      <td>0.109839</td>\n",
       "    </tr>\n",
       "    <tr>\n",
       "      <th>std</th>\n",
       "      <td>0.021905</td>\n",
       "      <td>0.393610</td>\n",
       "      <td>2.434086e+08</td>\n",
       "      <td>0.247651</td>\n",
       "    </tr>\n",
       "    <tr>\n",
       "      <th>min</th>\n",
       "      <td>0.000000</td>\n",
       "      <td>0.000000</td>\n",
       "      <td>0.000000e+00</td>\n",
       "      <td>0.000000</td>\n",
       "    </tr>\n",
       "    <tr>\n",
       "      <th>25%</th>\n",
       "      <td>0.000257</td>\n",
       "      <td>0.039494</td>\n",
       "      <td>1.215568e+00</td>\n",
       "      <td>0.000019</td>\n",
       "    </tr>\n",
       "    <tr>\n",
       "      <th>50%</th>\n",
       "      <td>0.004426</td>\n",
       "      <td>0.039494</td>\n",
       "      <td>5.769085e+00</td>\n",
       "      <td>0.001231</td>\n",
       "    </tr>\n",
       "    <tr>\n",
       "      <th>75%</th>\n",
       "      <td>0.016749</td>\n",
       "      <td>0.039494</td>\n",
       "      <td>9.881024e+01</td>\n",
       "      <td>0.046702</td>\n",
       "    </tr>\n",
       "    <tr>\n",
       "      <th>max</th>\n",
       "      <td>0.496868</td>\n",
       "      <td>2.448657</td>\n",
       "      <td>1.316559e+10</td>\n",
       "      <td>1.281474</td>\n",
       "    </tr>\n",
       "  </tbody>\n",
       "</table>\n",
       "</div>"
      ],
      "text/plain": [
       "       centralization_value  multipool_ratio  pledge_ratio  \\\n",
       "count           3039.000000      3039.000000  3.039000e+03   \n",
       "mean               0.010618         0.142539  9.740332e+06   \n",
       "std                0.021905         0.393610  2.434086e+08   \n",
       "min                0.000000         0.000000  0.000000e+00   \n",
       "25%                0.000257         0.039494  1.215568e+00   \n",
       "50%                0.004426         0.039494  5.769085e+00   \n",
       "75%                0.016749         0.039494  9.881024e+01   \n",
       "max                0.496868         2.448657  1.316559e+10   \n",
       "\n",
       "       live_saturation_percentage  \n",
       "count                 3039.000000  \n",
       "mean                     0.109839  \n",
       "std                      0.247651  \n",
       "min                      0.000000  \n",
       "25%                      0.000019  \n",
       "50%                      0.001231  \n",
       "75%                      0.046702  \n",
       "max                      1.281474  "
      ]
     },
     "execution_count": 162,
     "metadata": {},
     "output_type": "execute_result"
    }
   ],
   "source": [
    "c = df_copy[['centralization_value', 'multipool_ratio', 'pledge_ratio', 'live_saturation_percentage']]\n",
    "c.describe()"
   ]
  },
  {
   "cell_type": "code",
   "execution_count": null,
   "metadata": {},
   "outputs": [],
   "source": []
  },
  {
   "cell_type": "code",
   "execution_count": null,
   "metadata": {},
   "outputs": [],
   "source": []
  },
  {
   "cell_type": "code",
   "execution_count": 165,
   "metadata": {},
   "outputs": [
    {
     "data": {
      "application/vnd.plotly.v1+json": {
       "config": {
        "plotlyServerURL": "https://plotly.com"
       },
       "data": [
        {
         "customdata": [
          [
           "OCTAS"
          ],
          [
           "NUTS"
          ],
          [
           "ZEN"
          ],
          [
           "000"
          ],
          [
           null
          ],
          [
           "ATADA"
          ],
          [
           "BNTY1"
          ],
          [
           "BCSH"
          ],
          [
           "TAPSY"
          ],
          [
           "BCSH0"
          ],
          [
           "K8S"
          ],
          [
           "TQWS"
          ],
          [
           "AHL"
          ],
          [
           "CHEAP"
          ],
          [
           "SHARP"
          ],
          [
           "CRDNS"
          ],
          [
           "BKIND"
          ],
          [
           "LEAF"
          ],
          [
           "CPX"
          ],
          [
           "DOLCA"
          ],
          [
           "LOVE"
          ],
          [
           "CARBO"
          ],
          [
           "VEGAS"
          ],
          [
           "MICRO"
          ],
          [
           "IWH"
          ],
          [
           "CANUK"
          ],
          [
           "RIOT"
          ],
          [
           "EGGS"
          ],
          [
           "HEX"
          ],
          [
           "GAMER"
          ],
          [
           "SPACE"
          ],
          [
           "SOBIT"
          ],
          [
           "BUFFY"
          ],
          [
           "BRADA"
          ],
          [
           "LIV"
          ],
          [
           "KROM"
          ],
          [
           "SWAG"
          ],
          [
           "SOLIA"
          ],
          [
           "ELITE"
          ],
          [
           "PEACE"
          ],
          [
           "MUGGY"
          ],
          [
           "GROW"
          ],
          [
           "SWIM"
          ],
          [
           "EDEN"
          ],
          [
           "KOPI"
          ],
          [
           "HRMS"
          ],
          [
           "307"
          ],
          [
           "ANQA"
          ],
          [
           "ANGEL"
          ],
          [
           "ZZZ"
          ],
          [
           "ZZZ3"
          ],
          [
           "LFE"
          ],
          [
           "ZZZ2"
          ],
          [
           "BERRY"
          ],
          [
           "ZZZ4"
          ],
          [
           "OTAKU"
          ],
          [
           null
          ],
          [
           "HIVE"
          ],
          [
           "ZZZ5"
          ],
          [
           "JAPAN"
          ],
          [
           "ADAFR"
          ],
          [
           "EU01"
          ],
          [
           "EPIC"
          ],
          [
           "SAFE"
          ],
          [
           "1LOVE"
          ],
          [
           "CHAIN"
          ],
          [
           "AAA"
          ],
          [
           "ST3AK"
          ],
          [
           "JP3"
          ],
          [
           "KTN4"
          ],
          [
           "PEGA"
          ],
          [
           "KTN"
          ],
          [
           "JP2"
          ],
          [
           "KTN2"
          ],
          [
           "JP4"
          ],
          [
           "POP"
          ],
          [
           "KTN3"
          ],
          [
           "POP2"
          ],
          [
           "POP3"
          ],
          [
           "PROM"
          ],
          [
           "KOALA"
          ],
          [
           "JAZZ2"
          ],
          [
           "UK1"
          ],
          [
           "1PCT"
          ],
          [
           "ROCKY"
          ],
          [
           "JAZZ"
          ],
          [
           "TOKYO"
          ],
          [
           "JAZZ3"
          ],
          [
           "ACORN"
          ],
          [
           null
          ],
          [
           "1PCT0"
          ],
          [
           "VIPER"
          ],
          [
           "MOON1"
          ],
          [
           "1PCT1"
          ],
          [
           "ADAGO"
          ],
          [
           "ACI"
          ],
          [
           "1PCT2"
          ],
          [
           "1PCT3"
          ],
          [
           "1PCT4"
          ],
          [
           "1PCT5"
          ],
          [
           "EARTH"
          ],
          [
           "1PCT6"
          ],
          [
           "CENT"
          ],
          [
           "PLTUS"
          ],
          [
           "1PCT7"
          ],
          [
           "THETA"
          ],
          [
           "IRON"
          ],
          [
           "VIPER"
          ],
          [
           "1PCT8"
          ],
          [
           null
          ],
          [
           "BSP"
          ],
          [
           "FANCY"
          ],
          [
           "1PCT9"
          ],
          [
           "LONDN"
          ],
          [
           null
          ],
          [
           "ADAU"
          ],
          [
           "BLOCK"
          ],
          [
           "AKANE"
          ],
          [
           "MASTR"
          ],
          [
           "SEXY"
          ],
          [
           "SION"
          ],
          [
           "SUNNY"
          ],
          [
           "JUNO"
          ],
          [
           "AZUR"
          ],
          [
           "GURU"
          ],
          [
           "4ADA"
          ],
          [
           "KIWI"
          ],
          [
           "ADAGE"
          ],
          [
           null
          ],
          [
           "FARM"
          ],
          [
           "DOXA"
          ],
          [
           "TWIN1"
          ],
          [
           "SPS"
          ],
          [
           "CLIO1"
          ],
          [
           "AKIBA"
          ],
          [
           null
          ],
          [
           "CNT"
          ],
          [
           "ANP"
          ],
          [
           "OCEAN"
          ],
          [
           "PMW"
          ],
          [
           "GIGA"
          ],
          [
           "SPS2"
          ],
          [
           "Kings"
          ],
          [
           "STKH1"
          ],
          [
           "VJRAS"
          ],
          [
           "SKY"
          ],
          [
           "XSP"
          ],
          [
           "SKY2"
          ],
          [
           "MDS"
          ],
          [
           "MINT"
          ],
          [
           "KIWI"
          ],
          [
           "CROWN"
          ],
          [
           "CSP"
          ],
          [
           "SMAUG"
          ],
          [
           "AYE"
          ],
          [
           "STDN"
          ],
          [
           "ACL"
          ],
          [
           "1WJG"
          ],
          [
           "OUROS"
          ],
          [
           "COOL"
          ],
          [
           "CALM"
          ],
          [
           "COOL2"
          ],
          [
           "CAKE"
          ],
          [
           "247"
          ],
          [
           "DEX"
          ],
          [
           "DIGI"
          ],
          [
           "DIGI2"
          ],
          [
           "RAMEN"
          ],
          [
           "OCEA2"
          ],
          [
           "DECNT"
          ],
          [
           null
          ],
          [
           "DAN"
          ],
          [
           null
          ],
          [
           null
          ],
          [
           null
          ],
          [
           "OCEA3"
          ],
          [
           "ADAAP"
          ],
          [
           "HEL"
          ],
          [
           "ACL"
          ],
          [
           "OCEA4"
          ],
          [
           "NECTR"
          ],
          [
           "OCEA5"
          ],
          [
           "USA01"
          ],
          [
           "BEAVR"
          ],
          [
           "GHISX"
          ],
          [
           "DUCK"
          ],
          [
           "FLOWR"
          ],
          [
           "AACC"
          ],
          [
           "AZTEC"
          ],
          [
           "CASP"
          ],
          [
           "FUN1"
          ],
          [
           "FUN"
          ],
          [
           "CPS"
          ],
          [
           "STAKE"
          ],
          [
           "FROG2"
          ],
          [
           "SP₳CE"
          ],
          [
           "EARN"
          ],
          [
           "WOLF"
          ],
          [
           "LEAD"
          ],
          [
           "FROG"
          ],
          [
           "MPN"
          ],
          [
           "100x"
          ],
          [
           "1PFP"
          ],
          [
           "RELY"
          ],
          [
           "BLOOM"
          ],
          [
           "STACK"
          ],
          [
           "ADI"
          ],
          [
           "CARDs"
          ],
          [
           "STI"
          ],
          [
           "RDLRT"
          ],
          [
           "RED"
          ],
          [
           "TAVN"
          ],
          [
           "ARM1"
          ],
          [
           "PDX"
          ],
          [
           "UNDR"
          ],
          [
           "THRIV"
          ],
          [
           null
          ],
          [
           "ANFRA"
          ],
          [
           "LGND"
          ],
          [
           "JOEY"
          ],
          [
           "TILIA"
          ],
          [
           "ADAVN"
          ],
          [
           "HOTEL"
          ],
          [
           "TREE"
          ],
          [
           "STR8"
          ],
          [
           "NAP"
          ],
          [
           "SIPO"
          ],
          [
           "SNAKE"
          ],
          [
           "YOADA"
          ],
          [
           "TRUST"
          ],
          [
           "SIGN"
          ],
          [
           "ARUBA"
          ],
          [
           "WAAUS"
          ],
          [
           null
          ],
          [
           "CRDN1"
          ],
          [
           "ADAGL"
          ],
          [
           "NINJA"
          ],
          [
           "SAGE"
          ],
          [
           "TNTM"
          ],
          [
           "ALTZ"
          ],
          [
           "ALPHA"
          ],
          [
           "HRBR"
          ],
          [
           "MONKY"
          ],
          [
           "HRMS2"
          ],
          [
           null
          ],
          [
           "GENE"
          ],
          [
           "POOLS"
          ],
          [
           "INDIE"
          ],
          [
           "APP"
          ],
          [
           "ATLAS"
          ],
          [
           "HASH"
          ],
          [
           "STAT"
          ],
          [
           "TIM"
          ],
          [
           "CAPEX"
          ],
          [
           "WOW"
          ],
          [
           "F4ADA"
          ],
          [
           "MESH"
          ],
          [
           "FRUIT"
          ],
          [
           null
          ],
          [
           "ONYX"
          ],
          [
           "KAKE1"
          ],
          [
           "EBS"
          ],
          [
           "MNKY"
          ],
          [
           "ONYX"
          ],
          [
           "POLY"
          ],
          [
           null
          ],
          [
           "FAST"
          ],
          [
           "ADV"
          ],
          [
           "BOT"
          ],
          [
           null
          ],
          [
           "TEXAN"
          ],
          [
           "ARRA"
          ],
          [
           "QUASR"
          ],
          [
           "GENKI"
          ],
          [
           "TITAN"
          ],
          [
           "AMIGA"
          ],
          [
           "VENUS"
          ],
          [
           "UNO"
          ],
          [
           "ORKA"
          ],
          [
           "K9K"
          ],
          [
           null
          ],
          [
           "ZETIC"
          ],
          [
           "COCO"
          ],
          [
           "PSP"
          ],
          [
           "ADNT"
          ],
          [
           null
          ],
          [
           "CHIL"
          ],
          [
           null
          ],
          [
           "BCSH1"
          ],
          [
           "BAKE1"
          ],
          [
           "SECUR"
          ],
          [
           "NOVA"
          ],
          [
           "ASTRA"
          ],
          [
           "MIAMI"
          ],
          [
           "ENDVR"
          ],
          [
           "ISLE"
          ],
          [
           "XORN"
          ],
          [
           "TURIN"
          ],
          [
           "MANGO"
          ],
          [
           "ZONE"
          ],
          [
           "SSCC"
          ],
          [
           "TEAM"
          ],
          [
           null
          ],
          [
           null
          ],
          [
           "DGITX"
          ],
          [
           "SCAR"
          ],
          [
           "EQITY"
          ],
          [
           null
          ],
          [
           null
          ],
          [
           "ORACL"
          ],
          [
           null
          ],
          [
           "PLUTS"
          ],
          [
           null
          ],
          [
           null
          ],
          [
           "SQUID"
          ],
          [
           "NODE"
          ],
          [
           "UNIQ"
          ],
          [
           "MAMAK"
          ],
          [
           "RAID"
          ],
          [
           "RAID1"
          ],
          [
           "RAID2"
          ],
          [
           "RAID3"
          ],
          [
           null
          ],
          [
           "RAID4"
          ],
          [
           "RAID5"
          ],
          [
           "RAID6"
          ],
          [
           "LPR"
          ],
          [
           "KAIZN"
          ],
          [
           "MOXIE"
          ],
          [
           "SHOP"
          ],
          [
           "JORGE"
          ],
          [
           "MMDIG"
          ],
          [
           "ADAMS"
          ],
          [
           "TESLA"
          ],
          [
           "SoPHi"
          ],
          [
           "ADA4G"
          ],
          [
           "XYZ"
          ],
          [
           "BLOXB"
          ],
          [
           "HOPE"
          ],
          [
           "CEMA1"
          ],
          [
           "JOY"
          ],
          [
           "ADALO"
          ],
          [
           null
          ],
          [
           "ADAMP"
          ],
          [
           "UFO"
          ],
          [
           "BIZ"
          ],
          [
           "HOLL"
          ],
          [
           "8BALL"
          ],
          [
           "CHKN"
          ],
          [
           "KING1"
          ],
          [
           "EVRST"
          ],
          [
           "ADAES"
          ],
          [
           "PREV"
          ],
          [
           "GREEN"
          ],
          [
           null
          ],
          [
           "MANT"
          ],
          [
           "ANON"
          ],
          [
           "KRSNA"
          ],
          [
           "OHOH7"
          ],
          [
           "SARGA"
          ],
          [
           "CHAMP"
          ],
          [
           "ska1"
          ],
          [
           "FREE1"
          ],
          [
           "USMC"
          ],
          [
           "SPRTA"
          ],
          [
           "ADBV"
          ],
          [
           null
          ],
          [
           "BLOOM"
          ],
          [
           "BLUE"
          ],
          [
           null
          ],
          [
           "SPARK"
          ],
          [
           "WALL"
          ],
          [
           "TRUE"
          ],
          [
           "NORTH"
          ],
          [
           "SALT"
          ],
          [
           "ICORG"
          ],
          [
           "LUCKY"
          ],
          [
           "LUCK2"
          ],
          [
           "QUEEN"
          ],
          [
           null
          ],
          [
           null
          ],
          [
           "IOG1"
          ],
          [
           null
          ],
          [
           "0PCT"
          ],
          [
           "0PCT1"
          ],
          [
           "ART"
          ],
          [
           "CMINT"
          ],
          [
           "ISP"
          ],
          [
           "FAIR"
          ],
          [
           "DEAD"
          ],
          [
           "RAOOL"
          ],
          [
           null
          ],
          [
           "ORCA"
          ],
          [
           "DIVY"
          ],
          [
           "TOPO⚡"
          ],
          [
           null
          ],
          [
           null
          ],
          [
           "AION"
          ],
          [
           "WEQNT"
          ],
          [
           "CO2P"
          ],
          [
           "AGAPE"
          ],
          [
           "SAND"
          ],
          [
           "STEAK"
          ],
          [
           "SILVR"
          ],
          [
           "WEPA"
          ],
          [
           "COAST"
          ],
          [
           "ZENY"
          ],
          [
           "MOST"
          ],
          [
           "btcs"
          ],
          [
           "CABU"
          ],
          [
           "AZER"
          ],
          [
           null
          ],
          [
           null
          ],
          [
           "NCA"
          ],
          [
           "ABBA"
          ],
          [
           "CASTE"
          ],
          [
           "ADA"
          ],
          [
           "4BIZ"
          ],
          [
           "BROTH"
          ],
          [
           "SND"
          ],
          [
           "DINO"
          ],
          [
           null
          ],
          [
           "AARD"
          ],
          [
           null
          ],
          [
           "CELL"
          ],
          [
           "UNION"
          ],
          [
           null
          ],
          [
           "ADD"
          ],
          [
           "ADAVZ"
          ],
          [
           "SNODE"
          ],
          [
           "BBHMM"
          ],
          [
           "BLESS"
          ],
          [
           null
          ],
          [
           "DUNE"
          ],
          [
           null
          ],
          [
           "VAULT"
          ],
          [
           "ZEUS"
          ],
          [
           "ACP1"
          ],
          [
           "ACP2"
          ],
          [
           null
          ],
          [
           "LCP"
          ],
          [
           "UKADA"
          ],
          [
           "UK007"
          ],
          [
           "8BLOX"
          ],
          [
           "DUBAI"
          ],
          [
           "MAGIC"
          ],
          [
           "BIRD"
          ],
          [
           null
          ],
          [
           "NADO1"
          ],
          [
           "JIFF"
          ],
          [
           "PARAD"
          ],
          [
           "SHEIN"
          ],
          [
           "BLOC"
          ],
          [
           null
          ],
          [
           "VOLCY"
          ],
          [
           "AGIO"
          ],
          [
           "ICRYP"
          ],
          [
           "EMUR1"
          ],
          [
           "EMUR2"
          ],
          [
           "EMUR3"
          ],
          [
           "EMUR4"
          ],
          [
           "YOROI"
          ],
          [
           "TBO"
          ],
          [
           "DEEP"
          ],
          [
           "CODE"
          ],
          [
           null
          ],
          [
           "ROOT"
          ],
          [
           "CRYPT"
          ],
          [
           "DEW"
          ],
          [
           "XEON"
          ],
          [
           "HODL"
          ],
          [
           "NGINE"
          ],
          [
           "BLOCK"
          ],
          [
           "WIRA"
          ],
          [
           "MRQR"
          ],
          [
           "WIRA🌎"
          ],
          [
           "MS1"
          ],
          [
           "ADAPT"
          ],
          [
           "WIRA🌍"
          ],
          [
           "WIRA🌏"
          ],
          [
           "ARKA"
          ],
          [
           "WIRA🌟"
          ],
          [
           "MS2"
          ],
          [
           "WIRA🌠"
          ],
          [
           "AKA"
          ],
          [
           "DEVIL"
          ],
          [
           "AOA01"
          ],
          [
           "FAY"
          ],
          [
           "CYPOQ"
          ],
          [
           "CASCH"
          ],
          [
           "LAGO"
          ],
          [
           "ANZ"
          ],
          [
           "AIR"
          ],
          [
           "GOAT"
          ],
          [
           null
          ],
          [
           "LATSP"
          ],
          [
           "MS3"
          ],
          [
           "PARTY"
          ],
          [
           "QUARK"
          ],
          [
           null
          ],
          [
           "WRLP"
          ],
          [
           "WOLV"
          ],
          [
           null
          ],
          [
           "HYPE"
          ],
          [
           "TAO"
          ],
          [
           null
          ],
          [
           null
          ],
          [
           "POWER"
          ],
          [
           "ADAST"
          ],
          [
           "LINUX"
          ],
          [
           null
          ],
          [
           "BTS"
          ],
          [
           "PRIME"
          ],
          [
           "BRAVO"
          ],
          [
           "BSSP"
          ],
          [
           "WATER"
          ],
          [
           "DPADA"
          ],
          [
           "VOLT"
          ],
          [
           "HISTK"
          ],
          [
           "BOBA"
          ],
          [
           null
          ],
          [
           null
          ],
          [
           "WAAC"
          ],
          [
           "CCJ"
          ],
          [
           "CCJ2"
          ],
          [
           "CCJ3"
          ],
          [
           "LTES"
          ],
          [
           "LEO"
          ],
          [
           null
          ],
          [
           "GAGA"
          ],
          [
           "GAGA2"
          ],
          [
           null
          ],
          [
           "LEO3"
          ],
          [
           "LEO"
          ],
          [
           "APOP"
          ],
          [
           null
          ],
          [
           null
          ],
          [
           "PTON"
          ],
          [
           "BCSH2"
          ],
          [
           "1COMM"
          ],
          [
           "FISH"
          ],
          [
           null
          ],
          [
           null
          ],
          [
           "WIRA🔥"
          ],
          [
           "WIRA💎"
          ],
          [
           "WIRA👑"
          ],
          [
           "WIRA🏆"
          ],
          [
           "ION"
          ],
          [
           "ETR"
          ],
          [
           "PHRCK"
          ],
          [
           "QUEST"
          ],
          [
           null
          ],
          [
           null
          ],
          [
           "QUBIT"
          ],
          [
           null
          ],
          [
           null
          ],
          [
           "BYADA"
          ],
          [
           "ADAPH"
          ],
          [
           null
          ],
          [
           "STPZ1"
          ],
          [
           "ANET"
          ],
          [
           "TCHP"
          ],
          [
           null
          ],
          [
           "LSS"
          ],
          [
           "ELEMT"
          ],
          [
           "AYE_1"
          ],
          [
           "HIMAL"
          ],
          [
           null
          ],
          [
           "AUSST"
          ],
          [
           null
          ],
          [
           "MPN"
          ],
          [
           "SABAI"
          ],
          [
           "THNKS"
          ],
          [
           "LION"
          ],
          [
           "POA"
          ],
          [
           "WEST"
          ],
          [
           null
          ],
          [
           null
          ],
          [
           "LATIN"
          ],
          [
           "CDPS"
          ],
          [
           "HEART"
          ],
          [
           "DMOON"
          ],
          [
           null
          ],
          [
           "LHTNG"
          ],
          [
           "CERO"
          ],
          [
           "DOS"
          ],
          [
           "WILL"
          ],
          [
           "VRITS"
          ],
          [
           "TOSHZ"
          ],
          [
           "ASAP"
          ],
          [
           "STARS"
          ],
          [
           "WIN"
          ],
          [
           null
          ],
          [
           "MCA"
          ],
          [
           "ESP"
          ],
          [
           "NEDS1"
          ],
          [
           "NEDS2"
          ],
          [
           null
          ],
          [
           null
          ],
          [
           "GLOBE"
          ],
          [
           null
          ],
          [
           "FUJI"
          ],
          [
           "MONEY"
          ],
          [
           "STAG"
          ],
          [
           "THOR"
          ],
          [
           "WAVE"
          ],
          [
           "CAR"
          ],
          [
           null
          ],
          [
           "KITTY"
          ],
          [
           "キティ"
          ],
          [
           null
          ],
          [
           "富士山"
          ],
          [
           null
          ],
          [
           null
          ],
          [
           "ODIN"
          ],
          [
           "SPIRE"
          ],
          [
           "NWZ"
          ],
          [
           "BULL"
          ],
          [
           "NOBI"
          ],
          [
           "P2P"
          ],
          [
           null
          ],
          [
           null
          ],
          [
           "SPIRE"
          ],
          [
           "TRUX"
          ],
          [
           "BOOST"
          ],
          [
           "OMEGA"
          ],
          [
           "MS4"
          ],
          [
           "MS5"
          ],
          [
           "IFS1"
          ],
          [
           "CARL⭐"
          ],
          [
           "POS"
          ],
          [
           "MS6"
          ],
          [
           null
          ],
          [
           null
          ],
          [
           "CBFR"
          ],
          [
           "CROW"
          ],
          [
           "PPRO"
          ],
          [
           "4GOOD"
          ],
          [
           "BYTE"
          ],
          [
           "MS7"
          ],
          [
           "AMS"
          ],
          [
           "PHI"
          ],
          [
           null
          ],
          [
           "RISE"
          ],
          [
           null
          ],
          [
           "ASN"
          ],
          [
           "FORT"
          ],
          [
           "ALL1"
          ],
          [
           "VOLVO"
          ],
          [
           null
          ],
          [
           "KURD"
          ],
          [
           null
          ],
          [
           "FEHU"
          ],
          [
           "AXIOS"
          ],
          [
           "BELLA"
          ],
          [
           "ALND"
          ],
          [
           "CMAN1"
          ],
          [
           "DREAM"
          ],
          [
           "JUP"
          ],
          [
           "COSD"
          ],
          [
           "1JPN"
          ],
          [
           "RAT1"
          ],
          [
           "RAT2"
          ],
          [
           null
          ],
          [
           "JUST"
          ],
          [
           "CSK"
          ],
          [
           null
          ],
          [
           "OPS"
          ],
          [
           null
          ],
          [
           "LIX"
          ],
          [
           "ZOE"
          ],
          [
           "AQUA"
          ],
          [
           "ALIVE"
          ],
          [
           null
          ],
          [
           null
          ],
          [
           "STKD"
          ],
          [
           "HUSKY"
          ],
          [
           "POOL1"
          ],
          [
           "AOAUS"
          ],
          [
           "BANDA"
          ],
          [
           "NDE"
          ],
          [
           null
          ],
          [
           null
          ],
          [
           "SUGAR"
          ],
          [
           "996"
          ],
          [
           "_Q_"
          ],
          [
           null
          ],
          [
           "AP050"
          ],
          [
           "ADP"
          ],
          [
           "TOAST"
          ],
          [
           null
          ],
          [
           "GINKG"
          ],
          [
           null
          ],
          [
           null
          ],
          [
           null
          ],
          [
           "AMINT"
          ],
          [
           "NASEC"
          ],
          [
           "HAUS"
          ],
          [
           null
          ],
          [
           "AMSC1"
          ],
          [
           "PENIS"
          ],
          [
           "PHNX"
          ],
          [
           "WMOPS"
          ],
          [
           "OWL"
          ],
          [
           "TPM"
          ],
          [
           "DEFI"
          ],
          [
           null
          ],
          [
           "SCP"
          ],
          [
           null
          ],
          [
           null
          ],
          [
           "PWP"
          ],
          [
           "CAFE"
          ],
          [
           "HYDRA"
          ],
          [
           "GAS1"
          ],
          [
           "CEP"
          ],
          [
           "CAT"
          ],
          [
           null
          ],
          [
           "IKIGA"
          ],
          [
           null
          ],
          [
           "KLWNA"
          ],
          [
           "FORT"
          ],
          [
           "ADAAF"
          ],
          [
           "BULPR"
          ],
          [
           null
          ],
          [
           "HYPER"
          ],
          [
           "BASE1"
          ],
          [
           "ZION"
          ],
          [
           "APOLO"
          ],
          [
           null
          ],
          [
           "ZOOM"
          ],
          [
           "VIVI"
          ],
          [
           "FGPX"
          ],
          [
           "BRAIN"
          ],
          [
           "HEADZ"
          ],
          [
           "CRDN2"
          ],
          [
           "CARDX"
          ],
          [
           null
          ],
          [
           "CHRTY"
          ],
          [
           "PANJ"
          ],
          [
           "NINI"
          ],
          [
           "STKPL"
          ],
          [
           "TORO"
          ],
          [
           "ALLI"
          ],
          [
           "GET23"
          ],
          [
           "MANA"
          ],
          [
           null
          ],
          [
           "OLEUM"
          ],
          [
           "LKBH"
          ],
          [
           "RX78"
          ],
          [
           "XMEGA"
          ],
          [
           "CHARM"
          ],
          [
           "LOOT"
          ],
          [
           null
          ],
          [
           null
          ],
          [
           "BEAN"
          ],
          [
           "ASP1"
          ],
          [
           "UNITY"
          ],
          [
           "ACID"
          ],
          [
           "CFLOW"
          ],
          [
           "VTRA"
          ],
          [
           "MYC"
          ],
          [
           "ETO1"
          ],
          [
           "ETO2"
          ],
          [
           "ETO3"
          ],
          [
           null
          ],
          [
           null
          ],
          [
           "DLI"
          ],
          [
           "OASIS"
          ],
          [
           "MPN"
          ],
          [
           "ARMY"
          ],
          [
           "LUNA"
          ],
          [
           null
          ],
          [
           null
          ],
          [
           "CCIO"
          ],
          [
           null
          ],
          [
           "Croco"
          ],
          [
           null
          ],
          [
           null
          ],
          [
           "YYG"
          ],
          [
           "LAKE"
          ],
          [
           null
          ],
          [
           "LAND"
          ],
          [
           "SSCC"
          ],
          [
           "JADAA"
          ],
          [
           null
          ],
          [
           "TETON"
          ],
          [
           "FORGE"
          ],
          [
           null
          ],
          [
           "IDIV"
          ],
          [
           "HODL₳"
          ],
          [
           null
          ],
          [
           "STOIC"
          ],
          [
           "INFLW"
          ],
          [
           null
          ],
          [
           null
          ],
          [
           null
          ],
          [
           null
          ],
          [
           "BROI"
          ],
          [
           "LAZ"
          ],
          [
           null
          ],
          [
           "LOVE"
          ],
          [
           null
          ],
          [
           "888"
          ],
          [
           null
          ],
          [
           null
          ],
          [
           null
          ],
          [
           "AEREA"
          ],
          [
           "ADOPT"
          ],
          [
           "CAST"
          ],
          [
           "OBS"
          ],
          [
           "TADA"
          ],
          [
           "TURBO"
          ],
          [
           "WizOz"
          ],
          [
           null
          ],
          [
           "SIMPL"
          ],
          [
           "SBPIO"
          ],
          [
           "VapE"
          ],
          [
           "GOOD"
          ],
          [
           "GRC1"
          ],
          [
           "FLOW"
          ],
          [
           "CNODE"
          ],
          [
           "one"
          ],
          [
           "KIND"
          ],
          [
           "GYS"
          ],
          [
           null
          ],
          [
           "MPN"
          ],
          [
           "GISK1"
          ],
          [
           "KEEN"
          ],
          [
           "PLANT"
          ],
          [
           null
          ],
          [
           null
          ],
          [
           null
          ],
          [
           "LOOP"
          ],
          [
           "AZUR3"
          ],
          [
           null
          ],
          [
           "P2PCX"
          ],
          [
           "1FMLY"
          ],
          [
           null
          ],
          [
           "DAP"
          ],
          [
           "CURRY"
          ],
          [
           "ECO"
          ],
          [
           "PATI⏳"
          ],
          [
           "SWIM2"
          ],
          [
           "GAIA"
          ],
          [
           "GNP1"
          ],
          [
           "MILKY"
          ],
          [
           null
          ],
          [
           "MOJTO"
          ],
          [
           "TIDE"
          ],
          [
           "DIGI3"
          ],
          [
           "ALPS"
          ],
          [
           "VIRGO"
          ],
          [
           null
          ],
          [
           "SVRN"
          ],
          [
           "SPX"
          ],
          [
           "SPX"
          ],
          [
           "EASY1"
          ],
          [
           "GIGAX"
          ],
          [
           null
          ],
          [
           "FALCO"
          ],
          [
           "TRADA"
          ],
          [
           "BNP"
          ],
          [
           "BNP"
          ],
          [
           "BNP"
          ],
          [
           "BNP"
          ],
          [
           "BNP"
          ],
          [
           "BNP"
          ],
          [
           "BNP"
          ],
          [
           "BNP"
          ],
          [
           null
          ],
          [
           "BNP"
          ],
          [
           "TTS17"
          ],
          [
           "SECUR"
          ],
          [
           null
          ],
          [
           "LIDO"
          ],
          [
           "VELES"
          ],
          [
           "NEP"
          ],
          [
           "REM"
          ],
          [
           "OCEA1"
          ],
          [
           "OCEA6"
          ],
          [
           "OCEA7"
          ],
          [
           "FIDA"
          ],
          [
           "COOL3"
          ],
          [
           "COOL4"
          ],
          [
           "COOL5"
          ],
          [
           "ADELA"
          ],
          [
           "SPS3"
          ],
          [
           "HADA"
          ],
          [
           "SPS4"
          ],
          [
           "SPS5"
          ],
          [
           "THC"
          ],
          [
           "POP4"
          ],
          [
           "TERA"
          ],
          [
           "VERSE"
          ],
          [
           "NOTEG"
          ],
          [
           "NOTEA"
          ],
          [
           "ATAD2"
          ],
          [
           "PRKL"
          ],
          [
           "WHALE"
          ],
          [
           "NODE2"
          ],
          [
           null
          ],
          [
           "STI2"
          ],
          [
           "NAP2"
          ],
          [
           "PAUL1"
          ],
          [
           "BTCAO"
          ],
          [
           "1PCT"
          ],
          [
           "1PCT0"
          ],
          [
           "1PCT1"
          ],
          [
           "1PCT2"
          ],
          [
           "1PCT3"
          ],
          [
           "1PCT4"
          ],
          [
           "1PCT5"
          ],
          [
           "1PCT6"
          ],
          [
           "1PCT7"
          ],
          [
           "1PCT8"
          ],
          [
           "1PCT9"
          ],
          [
           null
          ],
          [
           null
          ],
          [
           null
          ],
          [
           "RABIT"
          ],
          [
           "SS63"
          ],
          [
           "PACT"
          ],
          [
           null
          ],
          [
           "EVERS"
          ],
          [
           "BLOOM"
          ],
          [
           "KARMA"
          ],
          [
           "TITAN"
          ],
          [
           "CBACK"
          ],
          [
           "JOY2"
          ],
          [
           null
          ],
          [
           "SIPO2"
          ],
          [
           "JAZZ4"
          ],
          [
           "JP5"
          ],
          [
           null
          ],
          [
           null
          ],
          [
           "CHY"
          ],
          [
           "ACL"
          ],
          [
           "NVSTX"
          ],
          [
           null
          ],
          [
           "FREY"
          ],
          [
           "RUNA"
          ],
          [
           "SAGA"
          ],
          [
           "ARNA"
          ],
          [
           "STAKE"
          ],
          [
           "EDEN"
          ],
          [
           "PULSE"
          ],
          [
           null
          ],
          [
           null
          ],
          [
           null
          ],
          [
           null
          ],
          [
           "HOPE2"
          ],
          [
           "KYSN2"
          ],
          [
           null
          ],
          [
           null
          ],
          [
           "SHARE"
          ],
          [
           "CHESS"
          ],
          [
           "SCAR2"
          ],
          [
           "BLOOM"
          ],
          [
           "BLOOM"
          ],
          [
           "RIVER"
          ],
          [
           "BLOOM"
          ],
          [
           null
          ],
          [
           "ZEIT"
          ],
          [
           null
          ],
          [
           "SUN"
          ],
          [
           "ELITE"
          ],
          [
           "CNUK2"
          ],
          [
           "COSMC"
          ],
          [
           null
          ],
          [
           "KEI"
          ],
          [
           "KYOTO"
          ],
          [
           "CCJ4"
          ],
          [
           "CCJ5"
          ],
          [
           "SEAN"
          ],
          [
           "SUNNY"
          ],
          [
           "DIGI4"
          ],
          [
           "SAPIO"
          ],
          [
           "MS8"
          ],
          [
           "MS9"
          ],
          [
           "MS10"
          ],
          [
           "ESTK"
          ],
          [
           "EVE"
          ],
          [
           "VRSTK"
          ],
          [
           "CSS"
          ],
          [
           null
          ],
          [
           "SES"
          ],
          [
           null
          ],
          [
           "ETO4"
          ],
          [
           null
          ],
          [
           "ETO5"
          ],
          [
           "SMART"
          ],
          [
           "OSAKA"
          ],
          [
           "NWZ2"
          ],
          [
           "NWZ3"
          ],
          [
           "ETO6"
          ],
          [
           "ETO7"
          ],
          [
           "ETO8"
          ],
          [
           "ETO9"
          ],
          [
           null
          ],
          [
           null
          ],
          [
           "CONGE"
          ],
          [
           "SHA☘"
          ],
          [
           "BUTT"
          ],
          [
           "EMURA"
          ],
          [
           "EMURB"
          ],
          [
           "EMURC"
          ],
          [
           "EMURD"
          ],
          [
           "EMURE"
          ],
          [
           "EMURF"
          ],
          [
           "EMURG"
          ],
          [
           "EMURH"
          ],
          [
           "EMURI"
          ],
          [
           "ADAHS"
          ],
          [
           "EMURJ"
          ],
          [
           "EMURK"
          ],
          [
           "EMURL"
          ],
          [
           "EMURM"
          ],
          [
           "VADA"
          ],
          [
           "VLNS"
          ],
          [
           "KRONO"
          ],
          [
           null
          ],
          [
           "CRTX"
          ],
          [
           null
          ],
          [
           "PILOT"
          ],
          [
           "GXY"
          ],
          [
           null
          ],
          [
           "LEO6"
          ],
          [
           "SUI"
          ],
          [
           "LEO7"
          ],
          [
           "LEO8"
          ],
          [
           "LEO9"
          ],
          [
           "MONAD"
          ],
          [
           "EDEN"
          ],
          [
           "MINES"
          ],
          [
           "CPU"
          ],
          [
           "ERA"
          ],
          [
           "SIPO3"
          ],
          [
           "PINOY"
          ],
          [
           "AMS01"
          ],
          [
           null
          ],
          [
           "NEWM"
          ],
          [
           "DNEWS"
          ],
          [
           "CETH"
          ],
          [
           "ITSYS"
          ],
          [
           null
          ],
          [
           "PKADA"
          ],
          [
           "NEON"
          ],
          [
           "SUNO"
          ],
          [
           "LOGIC"
          ],
          [
           "AZUR2"
          ],
          [
           "P2P3"
          ],
          [
           "STKME"
          ],
          [
           null
          ],
          [
           "LAMP"
          ],
          [
           "GOAT2"
          ],
          [
           "UBQT"
          ],
          [
           "CLIMA"
          ],
          [
           "FRCA🍁"
          ],
          [
           "DSIO"
          ],
          [
           "BULPF"
          ],
          [
           "GRAB"
          ],
          [
           "RAY"
          ],
          [
           "BALI"
          ],
          [
           "LUKE"
          ],
          [
           "BEAST"
          ],
          [
           "SECUR"
          ],
          [
           null
          ],
          [
           "SMILE"
          ],
          [
           "PARIS"
          ],
          [
           null
          ],
          [
           null
          ],
          [
           "YORK"
          ],
          [
           null
          ],
          [
           "MORNE"
          ],
          [
           null
          ],
          [
           null
          ],
          [
           "2R1C"
          ],
          [
           "IOGP"
          ],
          [
           "IOGP"
          ],
          [
           "IOGP"
          ],
          [
           "IOGP"
          ],
          [
           "IOGP"
          ],
          [
           "IOGP"
          ],
          [
           "IOGP"
          ],
          [
           "IOGP"
          ],
          [
           "IOGP"
          ],
          [
           "IOGP"
          ],
          [
           "IOGP"
          ],
          [
           "IOGP"
          ],
          [
           "IOGP"
          ],
          [
           "IOGP"
          ],
          [
           "IOGP"
          ],
          [
           "IOGP"
          ],
          [
           "IOGP"
          ],
          [
           "IOGP"
          ],
          [
           "IOGP"
          ],
          [
           "IOGP"
          ],
          [
           "IOGP"
          ],
          [
           "IOGP"
          ],
          [
           "IOGP"
          ],
          [
           "IOGP"
          ],
          [
           "IOGP"
          ],
          [
           "IOGP"
          ],
          [
           "IOGP"
          ],
          [
           "IOGP"
          ],
          [
           "IOGP"
          ],
          [
           "IOGP"
          ],
          [
           "IOGP"
          ],
          [
           "NORTH"
          ],
          [
           null
          ],
          [
           "CAPEY"
          ],
          [
           "BSSP2"
          ],
          [
           "H2O"
          ],
          [
           "CHEAP"
          ],
          [
           "ASTOR"
          ],
          [
           "VINCI"
          ],
          [
           "BNP"
          ],
          [
           "IOGP"
          ],
          [
           null
          ],
          [
           "BNP"
          ],
          [
           "BNP"
          ],
          [
           "BNP"
          ],
          [
           "BNP"
          ],
          [
           "BNP"
          ],
          [
           "BNP"
          ],
          [
           "BNP"
          ],
          [
           "BNP"
          ],
          [
           "BNP"
          ],
          [
           "BNP"
          ],
          [
           "BNP"
          ],
          [
           "BNP"
          ],
          [
           "BNP"
          ],
          [
           "BNP"
          ],
          [
           "BNP"
          ],
          [
           "KKS"
          ],
          [
           "BNP"
          ],
          [
           "AWP2"
          ],
          [
           null
          ],
          [
           null
          ],
          [
           "INBOX"
          ],
          [
           "VAMP"
          ],
          [
           "TIGER"
          ],
          [
           "TIKI"
          ],
          [
           "SODA"
          ],
          [
           null
          ],
          [
           "BNP"
          ],
          [
           "WAV1"
          ],
          [
           null
          ],
          [
           "ASPEN"
          ],
          [
           "ATG1"
          ],
          [
           "VILAI"
          ],
          [
           "FKAI"
          ],
          [
           "SEED"
          ],
          [
           "ADV2"
          ],
          [
           null
          ],
          [
           null
          ],
          [
           "CRDN3"
          ],
          [
           "WVP"
          ],
          [
           "POLAR"
          ],
          [
           "AICHI"
          ],
          [
           null
          ],
          [
           "FIMI"
          ],
          [
           "DADA"
          ],
          [
           "COFFE"
          ],
          [
           "WORLD"
          ],
          [
           "DINGO"
          ],
          [
           "FEEL"
          ],
          [
           null
          ],
          [
           "ADPL"
          ],
          [
           null
          ],
          [
           "AFRIK"
          ],
          [
           "AZSUN"
          ],
          [
           "ADABP"
          ],
          [
           "LAMB"
          ],
          [
           "ROMER"
          ],
          [
           "CHAS1"
          ],
          [
           null
          ],
          [
           "BBOSS"
          ],
          [
           null
          ],
          [
           "ROCI"
          ],
          [
           "ACL"
          ],
          [
           "POWER"
          ],
          [
           "CYPAY"
          ],
          [
           "LvLUp"
          ],
          [
           null
          ],
          [
           "CAFE2"
          ],
          [
           "ARVE"
          ],
          [
           "RARE"
          ],
          [
           "ONYX"
          ],
          [
           "ONYX"
          ],
          [
           "DEM"
          ],
          [
           "GG63"
          ],
          [
           "ABC"
          ],
          [
           null
          ],
          [
           "CYOX"
          ],
          [
           "ZAZEN"
          ],
          [
           null
          ],
          [
           "BICEP"
          ],
          [
           "RAIN"
          ],
          [
           "AADA"
          ],
          [
           null
          ],
          [
           null
          ],
          [
           "IADAP"
          ],
          [
           "NICE"
          ],
          [
           "MORI"
          ],
          [
           "QCPOL"
          ],
          [
           "ADACP"
          ],
          [
           "VINA"
          ],
          [
           "AHOLY"
          ],
          [
           "PUB"
          ],
          [
           "ZADAG"
          ],
          [
           "PIE"
          ],
          [
           "VITRA"
          ],
          [
           "OTG"
          ],
          [
           "JWVN"
          ],
          [
           "FINE"
          ],
          [
           "LUCID"
          ],
          [
           "RSTK"
          ],
          [
           "EPOCH"
          ],
          [
           null
          ],
          [
           null
          ],
          [
           "LUCY"
          ],
          [
           "TERA2"
          ],
          [
           null
          ],
          [
           "BWOR"
          ],
          [
           "AZDFM"
          ],
          [
           "SANP"
          ],
          [
           "SCSP1"
          ],
          [
           "TRIBE"
          ],
          [
           "AERO"
          ],
          [
           "DUAL"
          ],
          [
           "SWING"
          ],
          [
           "VICE"
          ],
          [
           "CORE"
          ],
          [
           "BINDI"
          ],
          [
           "TITW"
          ],
          [
           "BIKES"
          ],
          [
           null
          ],
          [
           "HODLA"
          ],
          [
           null
          ],
          [
           "CHEEK"
          ],
          [
           "BNP"
          ],
          [
           "BNP"
          ],
          [
           "BNP"
          ],
          [
           "BNP"
          ],
          [
           "BNP"
          ],
          [
           "BNP"
          ],
          [
           "BNP"
          ],
          [
           "BNP"
          ],
          [
           "BNP"
          ],
          [
           "BNP"
          ],
          [
           "BNP"
          ],
          [
           "BNP"
          ],
          [
           "BNP"
          ],
          [
           "BNP"
          ],
          [
           "BNP"
          ],
          [
           "BZH"
          ],
          [
           "MEKON"
          ],
          [
           "CHINA"
          ],
          [
           "CSPS1"
          ],
          [
           "SOLAR"
          ],
          [
           "DIGI5"
          ],
          [
           "DIGI6"
          ],
          [
           "ANEW"
          ],
          [
           "VIXZ"
          ],
          [
           "AMZ"
          ],
          [
           null
          ],
          [
           "HUBS"
          ],
          [
           null
          ],
          [
           "STACK"
          ],
          [
           "VIAMA"
          ],
          [
           "IBEX"
          ],
          [
           "NOBES"
          ],
          [
           null
          ],
          [
           "KODL0"
          ],
          [
           "MARTE"
          ],
          [
           "MIST"
          ],
          [
           "COFFR"
          ],
          [
           "LEGA"
          ],
          [
           "CONGE"
          ],
          [
           "KNOW"
          ],
          [
           "BCSH4"
          ],
          [
           "BCSH5"
          ],
          [
           "BCSH6"
          ],
          [
           null
          ],
          [
           "ADABR"
          ],
          [
           "YGEN"
          ],
          [
           "CRO"
          ],
          [
           null
          ],
          [
           "JWER"
          ],
          [
           "ARTH"
          ],
          [
           "OPSX"
          ],
          [
           "ZDUH"
          ],
          [
           "BVUY"
          ],
          [
           "MOJW"
          ],
          [
           "STI3"
          ],
          [
           "BRLN"
          ],
          [
           "XJKG"
          ],
          [
           "ROBIN"
          ],
          [
           "DIPN"
          ],
          [
           "FOEQ"
          ],
          [
           "YLGA"
          ],
          [
           "WHCZ"
          ],
          [
           "HKZD"
          ],
          [
           "ITVB"
          ],
          [
           "WHITE"
          ],
          [
           "OWJU"
          ],
          [
           "RFJI"
          ],
          [
           "VSET"
          ],
          [
           "21ADA"
          ],
          [
           "NOUT"
          ],
          [
           "SWELL"
          ],
          [
           "WISE"
          ],
          [
           null
          ],
          [
           "EDEN"
          ],
          [
           "EDEN"
          ],
          [
           "SWISS"
          ],
          [
           "CARAT"
          ],
          [
           "MADAM"
          ],
          [
           "SMBU1"
          ],
          [
           null
          ],
          [
           "BULL1"
          ],
          [
           "UAB"
          ],
          [
           "IOGP"
          ],
          [
           "BITA"
          ],
          [
           "NOOPS"
          ],
          [
           "ASKP"
          ],
          [
           "MUGEN"
          ],
          [
           "DNEWS"
          ],
          [
           "AWP3"
          ],
          [
           "PINK"
          ],
          [
           null
          ],
          [
           "ENDVR"
          ],
          [
           null
          ],
          [
           null
          ],
          [
           "SAGAN"
          ],
          [
           "EVE1"
          ],
          [
           "8SQRD"
          ],
          [
           "SCV01"
          ],
          [
           "SEA"
          ],
          [
           "BUDZ"
          ],
          [
           null
          ],
          [
           "GUIA"
          ],
          [
           "RND🇫🇷"
          ],
          [
           "AKLEI"
          ],
          [
           "K2P"
          ],
          [
           "JDFR"
          ],
          [
           null
          ],
          [
           "PLUTO"
          ],
          [
           "TYGAR"
          ],
          [
           "BARD1"
          ],
          [
           null
          ],
          [
           "ANR"
          ],
          [
           "STP"
          ],
          [
           "BANAN"
          ],
          [
           "LOVE2"
          ],
          [
           null
          ],
          [
           "PLAT"
          ],
          [
           "MATRX"
          ],
          [
           "TRGT"
          ],
          [
           "MUSIC"
          ],
          [
           null
          ],
          [
           "HELAS"
          ],
          [
           "EQUTY"
          ],
          [
           "SPRD"
          ],
          [
           "PROUD"
          ],
          [
           "BIOME"
          ],
          [
           null
          ],
          [
           "EUSKL"
          ],
          [
           "AMP"
          ],
          [
           "POEM"
          ],
          [
           null
          ],
          [
           "EPOOL"
          ],
          [
           "EUADA"
          ],
          [
           "MASTR"
          ],
          [
           "GOAT3"
          ],
          [
           "SPANE"
          ],
          [
           "SWITZ"
          ],
          [
           null
          ],
          [
           "edu"
          ],
          [
           "GOAT4"
          ],
          [
           "SYLV1"
          ],
          [
           "MGARD"
          ],
          [
           "HOLA"
          ],
          [
           "MADT"
          ],
          [
           "GOAT5"
          ],
          [
           "GOAT6"
          ],
          [
           "ACA"
          ],
          [
           "SUPER"
          ],
          [
           null
          ],
          [
           "UNIF1"
          ],
          [
           "GULAS"
          ],
          [
           "MDFKA"
          ],
          [
           "CRFA"
          ],
          [
           "COZY"
          ],
          [
           "WAVES"
          ],
          [
           "CARMA"
          ],
          [
           "ADAST"
          ],
          [
           "CHEFF"
          ],
          [
           "ANTHA"
          ],
          [
           "DD666"
          ],
          [
           "BNR"
          ],
          [
           "PUDIM"
          ],
          [
           "COINZ"
          ],
          [
           "ADAC0"
          ],
          [
           "ABPP"
          ],
          [
           null
          ],
          [
           "PADA"
          ],
          [
           "BRAVO"
          ],
          [
           null
          ],
          [
           "RISUP"
          ],
          [
           "NSPYR"
          ],
          [
           "MPN"
          ],
          [
           null
          ],
          [
           "78653"
          ],
          [
           null
          ],
          [
           "IDEAL"
          ],
          [
           "CBH"
          ],
          [
           null
          ],
          [
           "RKDN"
          ],
          [
           "SPG01"
          ],
          [
           "VITAL"
          ],
          [
           "LACE"
          ],
          [
           "PRIDE"
          ],
          [
           null
          ],
          [
           null
          ],
          [
           "SPICE"
          ],
          [
           "LOFI"
          ],
          [
           "ACE"
          ],
          [
           "OPTIM"
          ],
          [
           "FOMO"
          ],
          [
           "RSV"
          ],
          [
           null
          ],
          [
           "ARTA"
          ],
          [
           "BIO"
          ],
          [
           null
          ],
          [
           "ZETIC"
          ],
          [
           "ZETIC"
          ],
          [
           "STPL"
          ],
          [
           null
          ],
          [
           "VAPOR"
          ],
          [
           "ARM"
          ],
          [
           "NDE"
          ],
          [
           "HYGGE"
          ],
          [
           "SECUR"
          ],
          [
           "ANMNT"
          ],
          [
           null
          ],
          [
           null
          ],
          [
           "BEAST"
          ],
          [
           "DARTH"
          ],
          [
           "WOMEN"
          ],
          [
           "Satur"
          ],
          [
           "CARE4"
          ],
          [
           null
          ],
          [
           null
          ],
          [
           "KREWE"
          ],
          [
           "0BLK"
          ],
          [
           "SAK01"
          ],
          [
           "MESSI"
          ],
          [
           "BLACK"
          ],
          [
           "IPIB"
          ],
          [
           null
          ],
          [
           "APEX"
          ],
          [
           null
          ],
          [
           "KOBE"
          ],
          [
           "VUL"
          ],
          [
           null
          ],
          [
           "2six4"
          ],
          [
           "AQRS"
          ],
          [
           "UWYO"
          ],
          [
           "ACME"
          ],
          [
           "NKR"
          ],
          [
           "KHAN"
          ],
          [
           "CADA"
          ],
          [
           "AGG1"
          ],
          [
           "ADANL"
          ],
          [
           "CH4IN"
          ],
          [
           "ADAHR"
          ],
          [
           "CJ01"
          ],
          [
           "WIRED"
          ],
          [
           "ISR"
          ],
          [
           "GINI"
          ],
          [
           "AIVS"
          ],
          [
           null
          ],
          [
           "RAVEN"
          ],
          [
           "SKULL"
          ],
          [
           "CRBP"
          ],
          [
           "ADAPG"
          ],
          [
           "NANI"
          ],
          [
           "TREX"
          ],
          [
           null
          ],
          [
           "BLKBX"
          ],
          [
           "ADAAT"
          ],
          [
           null
          ],
          [
           "1FOC"
          ],
          [
           "KAI1"
          ],
          [
           "TAPC"
          ],
          [
           "GQSRN"
          ],
          [
           "CPAT"
          ],
          [
           "NORTH"
          ],
          [
           "SOLRP"
          ],
          [
           null
          ],
          [
           "TIG"
          ],
          [
           "SWIM"
          ],
          [
           "EVE2"
          ],
          [
           "NEXUS"
          ],
          [
           null
          ],
          [
           "WOOK"
          ],
          [
           "ADM"
          ],
          [
           "CAFE3"
          ],
          [
           "RATS"
          ],
          [
           "FIKA"
          ],
          [
           null
          ],
          [
           "4TUN8"
          ],
          [
           "AAL"
          ],
          [
           "PAUL"
          ],
          [
           "PTGR"
          ],
          [
           "KOKO1"
          ],
          [
           "EVE3"
          ],
          [
           "EVE4"
          ],
          [
           "VERVE"
          ],
          [
           "A4G"
          ],
          [
           "TAILS"
          ],
          [
           "JPN24"
          ],
          [
           "H1VE"
          ],
          [
           null
          ],
          [
           "STAYK"
          ],
          [
           "GODEL"
          ],
          [
           "VIP"
          ],
          [
           "MOON"
          ],
          [
           "SPAIN"
          ],
          [
           "NOCAR"
          ],
          [
           "NOMS"
          ],
          [
           "DARK"
          ],
          [
           "PSYA"
          ],
          [
           null
          ],
          [
           "STID1"
          ],
          [
           "APLAT"
          ],
          [
           "ELIT3"
          ],
          [
           "HISPA"
          ],
          [
           "MED"
          ],
          [
           "FRSC"
          ],
          [
           "TRITO"
          ],
          [
           "BAG"
          ],
          [
           "RMARS"
          ],
          [
           "INFAR"
          ],
          [
           "BAND"
          ],
          [
           null
          ],
          [
           "FRITZ"
          ],
          [
           "SWADA"
          ],
          [
           "DANK"
          ],
          [
           "PXLZ"
          ],
          [
           null
          ],
          [
           "ROAR"
          ],
          [
           "GIVE"
          ],
          [
           "POOLG"
          ],
          [
           "SBLUE"
          ],
          [
           null
          ],
          [
           "RPA1"
          ],
          [
           "HONEY"
          ],
          [
           "1PCT"
          ],
          [
           "GBI"
          ],
          [
           null
          ],
          [
           null
          ],
          [
           null
          ],
          [
           null
          ],
          [
           "CANW0"
          ],
          [
           "1PCT1"
          ],
          [
           "1PCT2"
          ],
          [
           "1PCT3"
          ],
          [
           "NAKED"
          ],
          [
           "LVMNT"
          ],
          [
           "ADATA"
          ],
          [
           "YETI"
          ],
          [
           "SRN"
          ],
          [
           "TRUEC"
          ],
          [
           "ZLNDR"
          ],
          [
           "1PCT1"
          ],
          [
           "CTEC"
          ],
          [
           "LORDB"
          ],
          [
           "SDA"
          ],
          [
           "AVENE"
          ],
          [
           "BNP"
          ],
          [
           "BNP"
          ],
          [
           "BNP"
          ],
          [
           "BNP"
          ],
          [
           "BNP"
          ],
          [
           "BNP"
          ],
          [
           "BNP"
          ],
          [
           "BNP"
          ],
          [
           "BNP"
          ],
          [
           "BNP"
          ],
          [
           "BNP"
          ],
          [
           "BNP"
          ],
          [
           "BNP"
          ],
          [
           "IND"
          ],
          [
           "CCP"
          ],
          [
           "SUDTI"
          ],
          [
           null
          ],
          [
           "VTX"
          ],
          [
           "SURIN"
          ],
          [
           "RAINF"
          ],
          [
           "ARARE"
          ],
          [
           "BNP"
          ],
          [
           "DONO"
          ],
          [
           "WFFL"
          ],
          [
           null
          ],
          [
           null
          ],
          [
           "1PCT4"
          ],
          [
           "VKP"
          ],
          [
           "STAKE"
          ],
          [
           null
          ],
          [
           null
          ],
          [
           "JED"
          ],
          [
           "PICO"
          ],
          [
           null
          ],
          [
           "EAGLE"
          ],
          [
           "SDGs"
          ],
          [
           null
          ],
          [
           "7PL"
          ],
          [
           "1PCT5"
          ],
          [
           "1PCT6"
          ],
          [
           "MOA"
          ],
          [
           null
          ],
          [
           "AD247"
          ],
          [
           "OMWCP"
          ],
          [
           "TIGR2"
          ],
          [
           "DAD"
          ],
          [
           "DIGIU"
          ],
          [
           "ADV4"
          ],
          [
           "SPADA"
          ],
          [
           "ADV3"
          ],
          [
           null
          ],
          [
           null
          ],
          [
           "ZERO"
          ],
          [
           "46S"
          ],
          [
           "MEA"
          ],
          [
           "MONTY"
          ],
          [
           "POOP"
          ],
          [
           "DEE"
          ],
          [
           "TSLA"
          ],
          [
           "TIGR1"
          ],
          [
           "KAWAN"
          ],
          [
           "FUPM"
          ],
          [
           "HEDGE"
          ],
          [
           "SPKL"
          ],
          [
           "CLVR"
          ],
          [
           null
          ],
          [
           "ORPH"
          ],
          [
           "GACHI"
          ],
          [
           "TLP"
          ],
          [
           "FORTS"
          ],
          [
           "UNIT"
          ],
          [
           "QQQ"
          ],
          [
           "TOP"
          ],
          [
           "KNGHT"
          ],
          [
           "AIDEN"
          ],
          [
           "OGER"
          ],
          [
           "RPAW2"
          ],
          [
           null
          ],
          [
           "ICS"
          ],
          [
           "BTR"
          ],
          [
           "BONE"
          ],
          [
           "UMA"
          ],
          [
           "XST"
          ],
          [
           "CURIE"
          ],
          [
           "FNBK"
          ],
          [
           "RAT3"
          ],
          [
           "RAT4"
          ],
          [
           "SWIM"
          ],
          [
           "XRX"
          ],
          [
           "WING"
          ],
          [
           "ACOL"
          ],
          [
           "MNTR"
          ],
          [
           "ADIZ"
          ],
          [
           "NEDS3"
          ],
          [
           "NEDS4"
          ],
          [
           "DEN"
          ],
          [
           "FAIL"
          ],
          [
           "LIFE"
          ],
          [
           "NERD"
          ],
          [
           "POOL"
          ],
          [
           null
          ],
          [
           null
          ],
          [
           null
          ],
          [
           null
          ],
          [
           null
          ],
          [
           null
          ],
          [
           "0BRN2"
          ],
          [
           null
          ],
          [
           "IBEX2"
          ],
          [
           "ALPEN"
          ],
          [
           "AARN"
          ],
          [
           "WILD"
          ],
          [
           null
          ],
          [
           "NUTCK"
          ],
          [
           "ALPCH"
          ],
          [
           "CYPHR"
          ],
          [
           "BFADA"
          ],
          [
           "SYS76"
          ],
          [
           "HSP"
          ],
          [
           "ADAC1"
          ],
          [
           null
          ],
          [
           "SPAAS"
          ],
          [
           "PYUR"
          ],
          [
           "CCV"
          ],
          [
           "PLBPL"
          ],
          [
           "ENACT"
          ],
          [
           "BEEHI"
          ],
          [
           "FIGHT"
          ],
          [
           "NOUT2"
          ],
          [
           "OYSTR"
          ],
          [
           "AGUA"
          ],
          [
           "RYZE"
          ],
          [
           "COMET"
          ],
          [
           "ADAC2"
          ],
          [
           null
          ],
          [
           "STASH"
          ],
          [
           null
          ],
          [
           "GAJA"
          ],
          [
           "APRIM"
          ],
          [
           "SA8"
          ],
          [
           "AMPLE"
          ],
          [
           null
          ],
          [
           "EG1"
          ],
          [
           "PMP"
          ],
          [
           "MAG1C"
          ],
          [
           "KYLEK"
          ],
          [
           "WORKS"
          ],
          [
           "SUSHI"
          ],
          [
           "BREAK"
          ],
          [
           "HIST"
          ],
          [
           "OBLUE"
          ],
          [
           "AMM"
          ],
          [
           "ORANG"
          ],
          [
           "PASHA"
          ],
          [
           "SUNNE"
          ],
          [
           "WINE"
          ],
          [
           "FASO"
          ],
          [
           "ADADE"
          ],
          [
           "NOBLE"
          ],
          [
           "KYBBN"
          ],
          [
           "RYOMA"
          ],
          [
           "PEPE"
          ],
          [
           "PIADA"
          ],
          [
           "VERT"
          ],
          [
           "BIMI"
          ],
          [
           "RUG"
          ],
          [
           "EURO"
          ],
          [
           "GINO"
          ],
          [
           "CAGE1"
          ],
          [
           "OYAJI"
          ],
          [
           "GR8FL"
          ],
          [
           "BLU"
          ],
          [
           null
          ],
          [
           "SLICE"
          ],
          [
           "IAG"
          ],
          [
           "XSP2"
          ],
          [
           "STRK"
          ],
          [
           "VRIJ"
          ],
          [
           "TODAY"
          ],
          [
           "EVE01"
          ],
          [
           "GRADA"
          ],
          [
           "I2R"
          ],
          [
           "PDT1"
          ],
          [
           "CEAP"
          ],
          [
           "AZUL"
          ],
          [
           "NIZI🌈"
          ],
          [
           "RENT"
          ],
          [
           null
          ],
          [
           "MADA"
          ],
          [
           "FBSD"
          ],
          [
           "GLAS"
          ],
          [
           "STEEL"
          ],
          [
           null
          ],
          [
           "JFLD"
          ],
          [
           "Trump"
          ],
          [
           "FOFA"
          ],
          [
           "TOCP"
          ],
          [
           "YKSB"
          ],
          [
           "TKY"
          ],
          [
           "DFII"
          ],
          [
           "HAX"
          ],
          [
           "VELC"
          ],
          [
           "SPIDR"
          ],
          [
           "CDNC"
          ],
          [
           "SWIC"
          ],
          [
           null
          ],
          [
           "HAMDA"
          ],
          [
           "CAN1"
          ],
          [
           null
          ],
          [
           "REBEL"
          ],
          [
           "BEACH"
          ],
          [
           "FLACH"
          ],
          [
           "GIGS"
          ],
          [
           "WYAM"
          ],
          [
           null
          ],
          [
           "TOFU"
          ],
          [
           "SEL"
          ],
          [
           "SAI"
          ],
          [
           "ASTRO"
          ],
          [
           "MAMBA"
          ],
          [
           null
          ],
          [
           "RETRO"
          ],
          [
           "ZORBA"
          ],
          [
           "FRONT"
          ],
          [
           "CODER"
          ],
          [
           "ADAG"
          ],
          [
           "WELL"
          ],
          [
           "NIMUE"
          ],
          [
           "STONE"
          ],
          [
           "MONET"
          ],
          [
           "BNP"
          ],
          [
           "BNP"
          ],
          [
           "BNP"
          ],
          [
           "BNP"
          ],
          [
           "BNP"
          ],
          [
           null
          ],
          [
           "ILUKA"
          ],
          [
           "ECO"
          ],
          [
           "T600"
          ],
          [
           "BETTR"
          ],
          [
           "PLOT"
          ],
          [
           "WISH"
          ],
          [
           "EoK"
          ],
          [
           "CRFN"
          ],
          [
           "BERCH"
          ],
          [
           "NOCAP"
          ],
          [
           "PRIZE"
          ],
          [
           "LIGHT"
          ],
          [
           "VOGUE"
          ],
          [
           "HUAT"
          ],
          [
           null
          ],
          [
           "ONE1"
          ],
          [
           "CBROS"
          ],
          [
           "ZBP"
          ],
          [
           "Vpool"
          ],
          [
           "STKHB"
          ],
          [
           "AHA"
          ],
          [
           null
          ],
          [
           null
          ],
          [
           "BHMT"
          ],
          [
           "14ALL"
          ],
          [
           "BYOB"
          ],
          [
           "POULE"
          ],
          [
           "HAW"
          ],
          [
           "INDYS"
          ],
          [
           "TREK"
          ],
          [
           "ITZA"
          ],
          [
           null
          ],
          [
           "SDG1"
          ],
          [
           null
          ],
          [
           null
          ],
          [
           "HAS"
          ],
          [
           "ARIA"
          ],
          [
           null
          ],
          [
           null
          ],
          [
           "CATS1"
          ],
          [
           "DCT"
          ],
          [
           "BRNS"
          ],
          [
           "PATPL"
          ],
          [
           "INF1"
          ],
          [
           null
          ],
          [
           "MGC8"
          ],
          [
           "MAKL"
          ],
          [
           "OTTER"
          ],
          [
           "ASTCH"
          ],
          [
           "SADA"
          ],
          [
           "AXNSA"
          ],
          [
           "DPTUS"
          ],
          [
           "YOLO"
          ],
          [
           "ODA"
          ],
          [
           "LTTR"
          ],
          [
           "NFTY"
          ],
          [
           "CFLO2"
          ],
          [
           "PIRAT"
          ],
          [
           "LMPRT"
          ],
          [
           "SEOUL"
          ],
          [
           "DGAIT"
          ],
          [
           "COVE"
          ],
          [
           "ADADK"
          ],
          [
           "ST4U"
          ],
          [
           "GMBL"
          ],
          [
           "SFA"
          ],
          [
           "ELI"
          ],
          [
           "SHALP"
          ],
          [
           null
          ],
          [
           "Saar"
          ],
          [
           null
          ],
          [
           "BLADE"
          ],
          [
           "LGBTQ"
          ],
          [
           "SNDC"
          ],
          [
           "REDH"
          ],
          [
           null
          ],
          [
           "ALEX"
          ],
          [
           "WAV2"
          ],
          [
           "WAV6"
          ],
          [
           null
          ],
          [
           "WAV4"
          ],
          [
           null
          ],
          [
           "EVE5"
          ],
          [
           "RADAR"
          ],
          [
           "AMOON"
          ],
          [
           "BOX"
          ],
          [
           "SNSKY"
          ],
          [
           "GIBON"
          ],
          [
           "1VICA"
          ],
          [
           null
          ],
          [
           "APPY"
          ],
          [
           "VLHLA"
          ],
          [
           null
          ],
          [
           "NEO"
          ],
          [
           "PSB"
          ],
          [
           "KDK"
          ],
          [
           null
          ],
          [
           "MAX"
          ],
          [
           "GUILD"
          ],
          [
           "REACH"
          ],
          [
           "GCP"
          ],
          [
           "GIV"
          ],
          [
           "SRP"
          ],
          [
           "ATFF"
          ],
          [
           "GREAT"
          ],
          [
           "EMPWR"
          ],
          [
           "YOUR"
          ],
          [
           "BROS"
          ],
          [
           "MONO"
          ],
          [
           "DEYEY"
          ],
          [
           "MAHLO"
          ],
          [
           "HUNNY"
          ],
          [
           "VNP"
          ],
          [
           "SBLYR"
          ],
          [
           "QET"
          ],
          [
           "OZZY"
          ],
          [
           "ANEJO"
          ],
          [
           "BGOOD"
          ],
          [
           "RAVEN"
          ],
          [
           "MAYA"
          ],
          [
           "CSPMX"
          ],
          [
           "FRNTR"
          ],
          [
           "LOOPS"
          ],
          [
           "MBCG"
          ],
          [
           "GOAL"
          ],
          [
           "8888"
          ],
          [
           "QXT"
          ],
          [
           "USONE"
          ],
          [
           "CAPO"
          ],
          [
           "MILK"
          ],
          [
           "GKRPT"
          ],
          [
           "CRIP"
          ],
          [
           "NTRE"
          ],
          [
           "YNMS"
          ],
          [
           "GOLGI"
          ],
          [
           "JSP"
          ],
          [
           "RIGHT"
          ],
          [
           "THC2"
          ],
          [
           "AVOC"
          ],
          [
           "LSD"
          ],
          [
           "P3LOL"
          ],
          [
           "PECHY"
          ],
          [
           "NGS"
          ],
          [
           "DARK"
          ],
          [
           "ITC"
          ],
          [
           "CLOUD"
          ],
          [
           "CHF"
          ],
          [
           null
          ],
          [
           null
          ],
          [
           "EXLN"
          ],
          [
           "SUMN"
          ],
          [
           "TMHH"
          ],
          [
           "JKL"
          ],
          [
           "STAY"
          ],
          [
           "YKSP"
          ],
          [
           "NBLWR"
          ],
          [
           "HIGH"
          ],
          [
           "BN1AU"
          ],
          [
           "PrepU"
          ],
          [
           "THC3"
          ],
          [
           "DOC"
          ],
          [
           "SSS"
          ],
          [
           "BTPUL"
          ],
          [
           "TOKAI"
          ],
          [
           "SNOW"
          ],
          [
           "DAWN"
          ],
          [
           "WPool"
          ],
          [
           "TECH"
          ],
          [
           null
          ],
          [
           "NODO"
          ],
          [
           "STALE"
          ],
          [
           "CADEN"
          ],
          [
           "KYOKU"
          ],
          [
           "CCV1"
          ],
          [
           "CRAZY"
          ],
          [
           "NORB"
          ],
          [
           "CPHV"
          ],
          [
           "PASTA"
          ],
          [
           "CHAOS"
          ],
          [
           "TOBA"
          ],
          [
           "DND"
          ],
          [
           "GRANA"
          ],
          [
           "HOSK"
          ],
          [
           "JANUS"
          ],
          [
           "FIDE"
          ],
          [
           "CCYT"
          ],
          [
           "NRDCO"
          ],
          [
           null
          ],
          [
           "HOSK"
          ],
          [
           "OKEx"
          ],
          [
           "DEGAS"
          ],
          [
           null
          ],
          [
           "ITA50"
          ],
          [
           "SEEDS"
          ],
          [
           "Z3LDA"
          ],
          [
           "HNB1"
          ],
          [
           "ADA01"
          ],
          [
           "PANL"
          ],
          [
           "🐈NNSP"
          ],
          [
           null
          ],
          [
           "ASAHI"
          ],
          [
           "CCOL"
          ],
          [
           null
          ],
          [
           null
          ],
          [
           "HOOAH"
          ],
          [
           "SPH"
          ],
          [
           "VICIS"
          ],
          [
           null
          ],
          [
           "MARS"
          ],
          [
           "FIXV"
          ],
          [
           "BANC"
          ],
          [
           "MDRS"
          ],
          [
           "AMICI"
          ],
          [
           "YOGA"
          ],
          [
           "CDZIO"
          ],
          [
           "GIFT1"
          ],
          [
           "QQQ2"
          ],
          [
           "XSY"
          ],
          [
           null
          ],
          [
           "caraz"
          ],
          [
           "BABYL"
          ],
          [
           "ZUND"
          ],
          [
           "WOLF"
          ],
          [
           "WAV7"
          ],
          [
           "MYADA"
          ],
          [
           "HUG"
          ],
          [
           null
          ],
          [
           "HAIRY"
          ],
          [
           "CHUB"
          ],
          [
           "4BFA"
          ],
          [
           "MASAI"
          ],
          [
           "KATET"
          ],
          [
           "DFV"
          ],
          [
           null
          ],
          [
           "DALAT"
          ],
          [
           "EZP"
          ],
          [
           "GOADA"
          ],
          [
           null
          ],
          [
           "RBA"
          ],
          [
           "ADAR"
          ],
          [
           null
          ],
          [
           "7C9E"
          ],
          [
           "H4C"
          ],
          [
           "C0B5"
          ],
          [
           "HAZEL"
          ],
          [
           "ESPR"
          ],
          [
           "TRAP"
          ],
          [
           "LAT"
          ],
          [
           "VROOM"
          ],
          [
           "PIXEL"
          ],
          [
           "A3C"
          ],
          [
           "VINC2"
          ],
          [
           "RKD"
          ],
          [
           "TIA"
          ],
          [
           "HKB"
          ],
          [
           "YIN"
          ],
          [
           "FRESH"
          ],
          [
           null
          ],
          [
           "CAPYB"
          ],
          [
           "GGG"
          ],
          [
           "GDEFI"
          ],
          [
           "ZOD"
          ],
          [
           "MUEN"
          ],
          [
           "RICE"
          ],
          [
           "CTEC2"
          ],
          [
           "MOBC"
          ],
          [
           "UNST"
          ],
          [
           "ADEN"
          ],
          [
           "ACT"
          ],
          [
           "TRDMK"
          ],
          [
           "3A81"
          ],
          [
           null
          ],
          [
           "KUNI"
          ],
          [
           "PUMP"
          ],
          [
           "ALLEY"
          ],
          [
           "MARIA"
          ],
          [
           "ADAm1"
          ],
          [
           "NN1"
          ],
          [
           null
          ],
          [
           "KAKIS"
          ],
          [
           "HALO"
          ],
          [
           "CREST"
          ],
          [
           null
          ],
          [
           "ADAX1"
          ],
          [
           "MPN"
          ],
          [
           "MKBRO"
          ],
          [
           null
          ],
          [
           "BOSON"
          ],
          [
           "WRTAH"
          ],
          [
           "LECK"
          ],
          [
           "SASA"
          ],
          [
           "MEGA"
          ],
          [
           "MIAS"
          ],
          [
           "ARCH1"
          ],
          [
           "CAVO"
          ],
          [
           "CTL"
          ],
          [
           "OPAL"
          ],
          [
           "SAUNA"
          ],
          [
           "AZP"
          ],
          [
           "MAROC"
          ],
          [
           "HUSKY"
          ],
          [
           null
          ],
          [
           "USA"
          ],
          [
           "GIFT2"
          ],
          [
           "XEZ"
          ],
          [
           null
          ],
          [
           "ASK"
          ],
          [
           "ELON"
          ],
          [
           null
          ],
          [
           "EIP"
          ],
          [
           "ADAIO"
          ],
          [
           "ATDT"
          ],
          [
           "777"
          ],
          [
           "SPCOL"
          ],
          [
           "KATZ"
          ],
          [
           "CCV2"
          ],
          [
           "MELD"
          ],
          [
           null
          ],
          [
           "YYC"
          ],
          [
           "CALY"
          ],
          [
           "BAMBO"
          ],
          [
           "ALKUL"
          ],
          [
           "CARE"
          ],
          [
           "TCF1"
          ],
          [
           "MOMO"
          ],
          [
           "HWL"
          ],
          [
           "BIT"
          ],
          [
           "MOAI"
          ],
          [
           "TGN"
          ],
          [
           null
          ],
          [
           "ayame"
          ],
          [
           null
          ],
          [
           "EEL"
          ],
          [
           "UKADA"
          ],
          [
           "VOLT2"
          ],
          [
           "ARA"
          ],
          [
           "NASA1"
          ],
          [
           "LFG"
          ],
          [
           "ESG"
          ],
          [
           "FUND"
          ],
          [
           "BIDO"
          ],
          [
           "BNP"
          ],
          [
           null
          ],
          [
           "CHE"
          ],
          [
           "MSTR"
          ],
          [
           "MPN"
          ],
          [
           "DOGE"
          ],
          [
           "META"
          ],
          [
           "DIING"
          ],
          [
           "BRO"
          ],
          [
           "KAYA"
          ],
          [
           "SQRL"
          ],
          [
           null
          ],
          [
           "EGRN1"
          ],
          [
           null
          ],
          [
           "LIVE"
          ],
          [
           "A180"
          ],
          [
           null
          ],
          [
           "MAD"
          ],
          [
           "MAP"
          ],
          [
           "0000"
          ],
          [
           "00000"
          ],
          [
           "BASHO"
          ],
          [
           "CASK"
          ],
          [
           "RELAY"
          ],
          [
           "AMDLO"
          ],
          [
           "BTFND"
          ],
          [
           "OBI"
          ],
          [
           "GINGR"
          ],
          [
           "ALICE"
          ],
          [
           "JETT1"
          ],
          [
           "2BIT"
          ],
          [
           "FUNGI"
          ],
          [
           "CUJO"
          ],
          [
           "SCNX"
          ],
          [
           "FLASH"
          ],
          [
           "MAPLE"
          ],
          [
           "GAR"
          ],
          [
           "KOREA"
          ],
          [
           "ELIK"
          ],
          [
           "KMADA"
          ],
          [
           "PIFY"
          ],
          [
           "MINA"
          ],
          [
           null
          ],
          [
           "ITC2"
          ],
          [
           null
          ],
          [
           "RAY2"
          ],
          [
           "RAY3"
          ],
          [
           "MPN"
          ],
          [
           "AID1"
          ],
          [
           "CASH"
          ],
          [
           "QSP"
          ],
          [
           "QSTKE"
          ],
          [
           "MRSP"
          ],
          [
           "RILEY"
          ],
          [
           "IRN"
          ],
          [
           "MINI1"
          ],
          [
           null
          ],
          [
           "CRBN"
          ],
          [
           null
          ],
          [
           "FIRE"
          ],
          [
           "Malu"
          ],
          [
           null
          ],
          [
           "RPO"
          ],
          [
           "MAL"
          ],
          [
           null
          ],
          [
           null
          ],
          [
           "H4SH"
          ],
          [
           "ROCK"
          ],
          [
           "SANTO"
          ],
          [
           "GIBS"
          ],
          [
           null
          ],
          [
           "ALoop"
          ],
          [
           "OCTOP"
          ],
          [
           "STADA"
          ],
          [
           "HWSP"
          ],
          [
           null
          ],
          [
           "CCV3"
          ],
          [
           "BLIZZ"
          ],
          [
           "BTADA"
          ],
          [
           "ROG"
          ],
          [
           "JETT2"
          ],
          [
           "XSEC"
          ],
          [
           "WMSY"
          ],
          [
           "SENJU"
          ],
          [
           "SAKE"
          ],
          [
           "FMSP"
          ],
          [
           "SLAV"
          ],
          [
           "FLY"
          ],
          [
           "SNY"
          ],
          [
           "BMP"
          ],
          [
           "CDT"
          ],
          [
           "SOUL"
          ],
          [
           null
          ],
          [
           "ALFA"
          ],
          [
           "MERO"
          ],
          [
           "XMOO"
          ],
          [
           "DOG"
          ],
          [
           "MOEKO"
          ],
          [
           "PPP"
          ],
          [
           "PGWAD"
          ],
          [
           null
          ],
          [
           "TRADE"
          ],
          [
           null
          ],
          [
           "TPSV"
          ],
          [
           "TRUCK"
          ],
          [
           "KIBA"
          ],
          [
           "DAI"
          ],
          [
           null
          ],
          [
           "ADAMI"
          ],
          [
           "ISADA"
          ],
          [
           null
          ],
          [
           "QUBIT"
          ],
          [
           null
          ],
          [
           null
          ],
          [
           "ADPTR"
          ],
          [
           "SOAR"
          ],
          [
           "CCOOP"
          ],
          [
           "RCP"
          ],
          [
           "TEN"
          ],
          [
           "HERO"
          ],
          [
           "CBCP"
          ],
          [
           "GAIN"
          ],
          [
           "HISAI"
          ],
          [
           "SHINE"
          ],
          [
           "BPS"
          ],
          [
           null
          ],
          [
           null
          ],
          [
           null
          ],
          [
           null
          ],
          [
           "CRYPO"
          ],
          [
           null
          ],
          [
           "PINAS"
          ],
          [
           "ARMDA"
          ],
          [
           "ADATH"
          ],
          [
           "WADA"
          ],
          [
           "ECOP"
          ],
          [
           null
          ],
          [
           "MPN"
          ],
          [
           "LANIN"
          ],
          [
           "OZGRN"
          ],
          [
           "KURIS"
          ],
          [
           "JIG01"
          ],
          [
           "GAPL"
          ],
          [
           "MYB"
          ],
          [
           "CANDY"
          ],
          [
           "VVM1"
          ],
          [
           "MOKUM"
          ],
          [
           null
          ],
          [
           "CABAL"
          ],
          [
           "ROSE"
          ],
          [
           "BLKSP"
          ],
          [
           "ZPNG1"
          ],
          [
           "BOS"
          ],
          [
           null
          ],
          [
           "UAE"
          ],
          [
           "METAL"
          ],
          [
           null
          ],
          [
           "ZOHAR"
          ],
          [
           "ANKER"
          ],
          [
           "MERK"
          ],
          [
           "ST4NA"
          ],
          [
           null
          ],
          [
           "KAP"
          ],
          [
           "ABOX"
          ],
          [
           "PILOT"
          ],
          [
           "ZADA"
          ],
          [
           "NUDI"
          ],
          [
           "KTO"
          ],
          [
           "RUBY"
          ],
          [
           "EXPO"
          ],
          [
           "CTUTS"
          ],
          [
           "SECUR"
          ],
          [
           "ADALY"
          ],
          [
           "NKLS"
          ],
          [
           "7SEAS"
          ],
          [
           "FORBP"
          ],
          [
           "ABOBO"
          ],
          [
           "ETO10"
          ],
          [
           "ETO11"
          ],
          [
           "XPPX"
          ],
          [
           "CHOSN"
          ],
          [
           "FAM"
          ],
          [
           "MnM"
          ],
          [
           null
          ],
          [
           "WRHP"
          ],
          [
           "HANOI"
          ],
          [
           "BIDEN"
          ],
          [
           "FIBOT"
          ],
          [
           "BANKA"
          ],
          [
           "T2H"
          ],
          [
           "WAV8"
          ],
          [
           "KNY12"
          ],
          [
           "IHWP"
          ],
          [
           "KNY11"
          ],
          [
           "STUPD"
          ],
          [
           "SGTRS"
          ],
          [
           null
          ],
          [
           "CUAN"
          ],
          [
           "KID"
          ],
          [
           "ANADA"
          ],
          [
           "SIMBA"
          ],
          [
           "REIGN"
          ],
          [
           null
          ],
          [
           "HIPPO"
          ],
          [
           "OSADA"
          ],
          [
           "H3ART"
          ],
          [
           null
          ],
          [
           "PUP"
          ],
          [
           "WAV9"
          ],
          [
           "SCS"
          ],
          [
           "HODLR"
          ],
          [
           "OKYM"
          ],
          [
           null
          ],
          [
           "FADA"
          ],
          [
           "SHARK"
          ],
          [
           "RGDL"
          ],
          [
           null
          ],
          [
           "AMIGO"
          ],
          [
           "FYTO"
          ],
          [
           "NLAP"
          ],
          [
           null
          ],
          [
           "RATIO"
          ],
          [
           "ADAPP"
          ],
          [
           "ANCO"
          ],
          [
           "BURST"
          ],
          [
           "SONLA"
          ],
          [
           "CDINO"
          ],
          [
           "MONK"
          ],
          [
           "BEAR"
          ],
          [
           "SDNET"
          ],
          [
           "VALOR"
          ],
          [
           null
          ],
          [
           "MYLO"
          ],
          [
           "BPOOL"
          ],
          [
           "MTXSG"
          ],
          [
           "SANTA"
          ],
          [
           "CKE"
          ],
          [
           "TIME"
          ],
          [
           null
          ],
          [
           "BOLA1"
          ],
          [
           "NAPPY"
          ],
          [
           "SPIRL"
          ],
          [
           "HUB01"
          ],
          [
           null
          ],
          [
           "NAO"
          ],
          [
           "OLYMP"
          ],
          [
           "NES"
          ],
          [
           "STEVE"
          ],
          [
           "TAM"
          ],
          [
           "ROMEO"
          ],
          [
           "JACK"
          ],
          [
           "pOCC"
          ],
          [
           "TERO"
          ],
          [
           "DRINK"
          ],
          [
           "EMMY"
          ],
          [
           "CVSP"
          ],
          [
           null
          ],
          [
           "MNKIO"
          ],
          [
           "SPS6"
          ],
          [
           "ON1"
          ],
          [
           "IRF"
          ],
          [
           "TCA2"
          ],
          [
           "SIR"
          ],
          [
           "BEAGL"
          ],
          [
           "ATOMC"
          ],
          [
           "CRPL"
          ],
          [
           "CH1"
          ],
          [
           "Hino0"
          ],
          [
           "153F"
          ],
          [
           "MJ23"
          ],
          [
           "VERA"
          ],
          [
           "COFE"
          ],
          [
           "INCA"
          ],
          [
           "ADAUP"
          ],
          [
           "SAIGO"
          ],
          [
           "RELU"
          ],
          [
           null
          ],
          [
           null
          ],
          [
           "SOCAL"
          ],
          [
           "ERGO"
          ],
          [
           "BIDU"
          ],
          [
           "TRALO"
          ],
          [
           "LHS"
          ],
          [
           "CALVA"
          ],
          [
           "HELLO"
          ],
          [
           "TRU"
          ],
          [
           "SYMM"
          ],
          [
           "LEND"
          ],
          [
           "SPCP"
          ],
          [
           "STL"
          ],
          [
           "CPO"
          ],
          [
           "DALI"
          ],
          [
           "SURGE"
          ],
          [
           null
          ],
          [
           "LANKA"
          ],
          [
           "ALP"
          ],
          [
           "EMPR"
          ],
          [
           "NEWS"
          ],
          [
           "ENVY"
          ],
          [
           "INV"
          ],
          [
           "JELLY"
          ],
          [
           "MOONX"
          ],
          [
           "ADPT"
          ],
          [
           "DDP"
          ],
          [
           "WEED"
          ],
          [
           null
          ],
          [
           "ALABS"
          ],
          [
           "ECWB1"
          ],
          [
           null
          ],
          [
           null
          ],
          [
           null
          ],
          [
           null
          ],
          [
           null
          ],
          [
           null
          ],
          [
           null
          ],
          [
           "CDN"
          ],
          [
           "ACP"
          ],
          [
           null
          ],
          [
           "ISLA"
          ],
          [
           "RV64"
          ],
          [
           "deci"
          ],
          [
           null
          ],
          [
           "PIXB"
          ],
          [
           "COW"
          ],
          [
           "PUNKS"
          ],
          [
           "SATS"
          ],
          [
           "BAYC"
          ],
          [
           "MCE"
          ],
          [
           null
          ],
          [
           "MMTR"
          ],
          [
           "RENEW"
          ],
          [
           "VANGO"
          ],
          [
           "UMKR"
          ],
          [
           "MATE"
          ],
          [
           "CRS"
          ],
          [
           "SIGNL"
          ],
          [
           null
          ],
          [
           "READY"
          ],
          [
           "CRYL"
          ],
          [
           "PLRS"
          ],
          [
           "ESQ"
          ],
          [
           "BOARD"
          ],
          [
           "NHD"
          ],
          [
           "EVA"
          ],
          [
           "ZPCT"
          ],
          [
           "HEAVN"
          ],
          [
           "CLCP"
          ],
          [
           null
          ],
          [
           "CHTN"
          ],
          [
           "LAKCV"
          ],
          [
           "APE"
          ],
          [
           "NUKE"
          ],
          [
           "MHGL"
          ],
          [
           "RFTY"
          ],
          [
           "TOAD"
          ],
          [
           "ARDF"
          ],
          [
           "OUYG"
          ],
          [
           "WDHB"
          ],
          [
           "COJR"
          ],
          [
           "PKJN"
          ],
          [
           "BEST"
          ],
          [
           "EVT"
          ],
          [
           "3BBB"
          ],
          [
           "CHOCO"
          ],
          [
           "KIRIN"
          ],
          [
           "001"
          ],
          [
           "PERN"
          ],
          [
           "CECP"
          ],
          [
           "MAP"
          ],
          [
           "TESP🍀"
          ],
          [
           "THCV"
          ],
          [
           "WEP"
          ],
          [
           "NFT"
          ],
          [
           "COIN"
          ],
          [
           "CUBAN"
          ],
          [
           "MUSK"
          ],
          [
           "CHIPI"
          ],
          [
           "ADAFY"
          ],
          [
           "INSP"
          ],
          [
           "GAME"
          ],
          [
           "PHX01"
          ],
          [
           "PBDOT"
          ],
          [
           "GAS"
          ],
          [
           "AIOA"
          ],
          [
           "HOCSP"
          ],
          [
           "ANIM"
          ],
          [
           "HOC"
          ],
          [
           null
          ],
          [
           "STBL3"
          ],
          [
           "STBL2"
          ],
          [
           "STBL1"
          ],
          [
           "NIP"
          ],
          [
           "STACA"
          ],
          [
           "REGEN"
          ],
          [
           "CDTRN"
          ],
          [
           "AROCK"
          ],
          [
           "OSCAR"
          ],
          [
           "RANKT"
          ],
          [
           "WAN"
          ],
          [
           "BOA"
          ],
          [
           "ANIME"
          ],
          [
           null
          ],
          [
           "YACP"
          ],
          [
           null
          ],
          [
           "NEMO"
          ],
          [
           "VISLO"
          ],
          [
           "MIHOP"
          ],
          [
           null
          ],
          [
           "NOAR"
          ],
          [
           "TSURF"
          ],
          [
           null
          ],
          [
           "CIA"
          ],
          [
           "ADAIM"
          ],
          [
           null
          ],
          [
           null
          ],
          [
           "ISPO"
          ],
          [
           "ARGT"
          ],
          [
           "UPSTR"
          ],
          [
           "DODO"
          ],
          [
           "NAM"
          ],
          [
           "JASM"
          ],
          [
           "FIONE"
          ],
          [
           "ONYX"
          ],
          [
           "KUDOS"
          ],
          [
           "ADAIT"
          ],
          [
           "APULR"
          ],
          [
           "VIOBA"
          ],
          [
           null
          ],
          [
           "FAT"
          ],
          [
           "LBC1M"
          ],
          [
           "GRUNT"
          ],
          [
           "GOLD"
          ],
          [
           "KAKEB"
          ],
          [
           null
          ],
          [
           "ALDIA"
          ],
          [
           "JSY"
          ],
          [
           "DROK"
          ],
          [
           "AW1"
          ],
          [
           "ECP"
          ],
          [
           "FATTY"
          ],
          [
           null
          ],
          [
           "VIVA"
          ],
          [
           "MERCY"
          ],
          [
           "SANDA"
          ],
          [
           "REEF"
          ],
          [
           "PETRA"
          ],
          [
           null
          ],
          [
           "BANK"
          ],
          [
           "VETS"
          ],
          [
           "FLAT"
          ],
          [
           "FLUID"
          ],
          [
           "SBR"
          ],
          [
           "SHIFT"
          ],
          [
           "SKY"
          ],
          [
           "SENTI"
          ],
          [
           "VELA"
          ],
          [
           "MONA"
          ],
          [
           "TLV"
          ],
          [
           "CKEYS"
          ],
          [
           "TSC"
          ],
          [
           "DELTA"
          ],
          [
           "CSCS"
          ],
          [
           "BTCS"
          ],
          [
           "BULB"
          ],
          [
           null
          ],
          [
           "PHL"
          ],
          [
           "SAMON"
          ],
          [
           "MASHL"
          ],
          [
           "ETO12"
          ],
          [
           "ETO13"
          ],
          [
           "ETO14"
          ],
          [
           "5CH"
          ],
          [
           "BANTN"
          ],
          [
           "LQJ"
          ],
          [
           "ADACT"
          ],
          [
           "LIA"
          ],
          [
           "BISH"
          ],
          [
           "CZLO"
          ],
          [
           "VERGE"
          ],
          [
           "LCNFT"
          ],
          [
           null
          ],
          [
           "EVOL"
          ],
          [
           "GSS"
          ],
          [
           "VIET"
          ],
          [
           "CNUS"
          ],
          [
           "CONGR"
          ],
          [
           "RAY4"
          ],
          [
           null
          ],
          [
           "RAY5"
          ],
          [
           null
          ],
          [
           "COR"
          ],
          [
           "IVPC"
          ],
          [
           null
          ],
          [
           "DGK"
          ],
          [
           "DEVIO"
          ],
          [
           "IRR"
          ],
          [
           "ADRIA"
          ],
          [
           "US1"
          ],
          [
           "AQN"
          ],
          [
           "GSP"
          ],
          [
           "VET"
          ],
          [
           "URSA"
          ],
          [
           "ARRK"
          ],
          [
           "PETZ"
          ],
          [
           "RPSP"
          ],
          [
           "FLICK"
          ],
          [
           "B58"
          ],
          [
           "STAKY"
          ],
          [
           null
          ],
          [
           "PPDAC"
          ],
          [
           "SOIL"
          ],
          [
           "CHDR"
          ],
          [
           "PERDX"
          ],
          [
           "LCW"
          ],
          [
           "SBX0"
          ],
          [
           "FMS"
          ],
          [
           "CHEF"
          ],
          [
           "TGEM"
          ],
          [
           "DSHIN"
          ],
          [
           "STBL4"
          ],
          [
           "STBL5"
          ],
          [
           null
          ],
          [
           "GARU"
          ],
          [
           null
          ],
          [
           "AGROT"
          ],
          [
           "SIAM"
          ],
          [
           null
          ],
          [
           "ALLIN"
          ],
          [
           "TKHN1"
          ],
          [
           "DIDIT"
          ],
          [
           "SWIFT"
          ],
          [
           "MACH1"
          ],
          [
           "RECY"
          ],
          [
           "UBX1"
          ],
          [
           "TROLL"
          ],
          [
           "TRT"
          ],
          [
           "MAL3"
          ],
          [
           null
          ],
          [
           "GEEK"
          ],
          [
           "TSAR"
          ],
          [
           "BIDA"
          ],
          [
           "0FEES"
          ],
          [
           "NLP"
          ],
          [
           "MORH"
          ],
          [
           null
          ],
          [
           "AEGIS"
          ],
          [
           "BOLD"
          ],
          [
           "EMP1"
          ],
          [
           "EMP2"
          ],
          [
           "BISON"
          ],
          [
           "PAY"
          ],
          [
           "XXX"
          ],
          [
           "666"
          ],
          [
           "1PC"
          ],
          [
           "ABCA"
          ],
          [
           "XRS"
          ],
          [
           "GALT1"
          ],
          [
           null
          ],
          [
           "SNOWY"
          ],
          [
           "4KOMA"
          ],
          [
           "WOOF"
          ],
          [
           "CREAM"
          ],
          [
           "HST"
          ],
          [
           "NETSC"
          ],
          [
           "STK8P"
          ],
          [
           "FUSP"
          ],
          [
           null
          ],
          [
           "FSI"
          ],
          [
           "STAK3"
          ],
          [
           "YOON"
          ],
          [
           "ROUTE"
          ],
          [
           "MAUI"
          ],
          [
           null
          ],
          [
           "NEXT"
          ],
          [
           "BAC"
          ],
          [
           null
          ],
          [
           null
          ],
          [
           "ANTRX"
          ],
          [
           "ADAPL"
          ],
          [
           "ALAM0"
          ],
          [
           "CNFT"
          ],
          [
           "TERM"
          ],
          [
           "MSPN"
          ],
          [
           null
          ],
          [
           "AdaPi"
          ],
          [
           null
          ],
          [
           "BKN"
          ],
          [
           "MAX1"
          ],
          [
           "TILI"
          ],
          [
           "NOMAD"
          ],
          [
           "CIEL"
          ],
          [
           "ERE"
          ],
          [
           "SAPPO"
          ],
          [
           "SHOCK"
          ],
          [
           "TTL"
          ],
          [
           "RUADA"
          ],
          [
           "UPLAY"
          ],
          [
           "SPLR"
          ],
          [
           "TROPC"
          ],
          [
           "ORE"
          ],
          [
           "SIDAN"
          ],
          [
           "GEM"
          ],
          [
           "0AAAA"
          ],
          [
           "DOT5"
          ],
          [
           null
          ],
          [
           "YUMMI"
          ],
          [
           "ELEV8"
          ],
          [
           null
          ],
          [
           "KAERU"
          ],
          [
           null
          ],
          [
           null
          ],
          [
           null
          ],
          [
           null
          ],
          [
           "SSP"
          ],
          [
           "GNERD"
          ],
          [
           "BUSHI"
          ],
          [
           "JGRX"
          ],
          [
           "PERKY"
          ],
          [
           "0BoB"
          ],
          [
           "ADAC"
          ],
          [
           "MDWST"
          ],
          [
           "CHG"
          ],
          [
           "MCRP"
          ],
          [
           null
          ],
          [
           "MAL2"
          ],
          [
           null
          ],
          [
           "XMAL"
          ],
          [
           "ABE"
          ],
          [
           "REX"
          ],
          [
           "SKY3"
          ],
          [
           "5HARE"
          ],
          [
           "KOI"
          ],
          [
           "SKY4"
          ],
          [
           null
          ],
          [
           "BWITS"
          ],
          [
           "PALMA"
          ],
          [
           null
          ],
          [
           "CODEX"
          ],
          [
           "ATEAM"
          ],
          [
           "FUDZ"
          ],
          [
           "ZPNG2"
          ],
          [
           "kowln"
          ],
          [
           "ARRG"
          ],
          [
           "A1STK"
          ],
          [
           "MBT"
          ],
          [
           null
          ],
          [
           "PBG"
          ],
          [
           "WILDR"
          ],
          [
           "GENIE"
          ],
          [
           "HAN"
          ],
          [
           "KYOTO"
          ],
          [
           "NILE"
          ],
          [
           "WOOD"
          ],
          [
           "HOMI"
          ],
          [
           "COCA"
          ],
          [
           "W3C"
          ],
          [
           "SONY"
          ],
          [
           "CUCUM"
          ],
          [
           "PUPPY"
          ],
          [
           "TUX"
          ],
          [
           null
          ],
          [
           "INN"
          ],
          [
           "MATAK"
          ],
          [
           "XWIN"
          ],
          [
           "BRAZL"
          ],
          [
           "SCEZ"
          ],
          [
           "ADMON"
          ],
          [
           null
          ],
          [
           "LAMBO"
          ],
          [
           "AXIES"
          ],
          [
           "MTV"
          ],
          [
           "DOGE"
          ],
          [
           "WINGS"
          ],
          [
           "GPG"
          ],
          [
           "FIXA"
          ],
          [
           "3121"
          ],
          [
           null
          ],
          [
           null
          ],
          [
           "0ZERO"
          ],
          [
           "SWARM"
          ],
          [
           null
          ],
          [
           "ELMPI"
          ],
          [
           "4WARD"
          ],
          [
           "SYN"
          ],
          [
           "FED"
          ],
          [
           "HUTAN"
          ],
          [
           "SNOOP"
          ],
          [
           "JUMP"
          ],
          [
           "BUFF"
          ],
          [
           "MPN"
          ],
          [
           "WIKI"
          ],
          [
           "BEZOS"
          ],
          [
           "ZUCK"
          ],
          [
           "GATES"
          ],
          [
           "QADAO"
          ],
          [
           "GOOD4"
          ],
          [
           null
          ],
          [
           "STLL"
          ],
          [
           null
          ],
          [
           "PNYX"
          ],
          [
           "ADAWN"
          ],
          [
           null
          ],
          [
           "PLANB"
          ],
          [
           "JEDI"
          ],
          [
           "ETH"
          ],
          [
           "ARCH"
          ],
          [
           "PONTA"
          ],
          [
           "CDDPL"
          ],
          [
           "INFTY"
          ],
          [
           "ALGO"
          ],
          [
           "KABL"
          ],
          [
           "RCKSP"
          ],
          [
           "ATAD1"
          ],
          [
           null
          ],
          [
           "TAROT"
          ],
          [
           "SERVE"
          ],
          [
           "IBRA"
          ],
          [
           null
          ],
          [
           "AWY"
          ],
          [
           "C3ETH"
          ],
          [
           "EUR"
          ],
          [
           "TCRPT"
          ],
          [
           "MJB1"
          ],
          [
           "XC0DE"
          ],
          [
           "AIM"
          ],
          [
           "MBX"
          ],
          [
           "RPK"
          ],
          [
           "STONW"
          ],
          [
           "NORTH"
          ],
          [
           "ATARI"
          ],
          [
           "FINN"
          ],
          [
           "IVANA"
          ],
          [
           "PLAY"
          ],
          [
           "YIELD"
          ],
          [
           "LSL"
          ],
          [
           "MTSK"
          ],
          [
           null
          ],
          [
           "INNV"
          ],
          [
           null
          ],
          [
           "RICH"
          ],
          [
           "REYTS"
          ],
          [
           "JPNTP"
          ],
          [
           "GAY"
          ],
          [
           "PLL"
          ],
          [
           "ITC3"
          ],
          [
           "MOKSH"
          ],
          [
           "NERD2"
          ],
          [
           "MOUSE"
          ],
          [
           "ROAM"
          ],
          [
           "BUILD"
          ],
          [
           "NXGN"
          ],
          [
           "ISPO2"
          ],
          [
           "BCSH7"
          ],
          [
           "ALOT"
          ],
          [
           "TERA3"
          ],
          [
           "CCV5"
          ],
          [
           "STI4"
          ],
          [
           "CCV4"
          ],
          [
           "SDADA"
          ],
          [
           "GENS5"
          ],
          [
           "NEDS5"
          ],
          [
           "RAY6"
          ],
          [
           "MRQR2"
          ],
          [
           "AGIX"
          ],
          [
           "Djed"
          ],
          [
           "CPARK"
          ],
          [
           "ATLAS"
          ],
          [
           "REDC"
          ],
          [
           "TNP"
          ],
          [
           "THK"
          ],
          [
           "GENS2"
          ],
          [
           "GENS1"
          ],
          [
           "ADMIN"
          ],
          [
           "NERD3"
          ],
          [
           "BCHEF"
          ],
          [
           "MEOW"
          ],
          [
           "PRAG1"
          ],
          [
           "RIB"
          ],
          [
           "JPN"
          ],
          [
           "Safe"
          ],
          [
           "CRHND"
          ],
          [
           "NORTH"
          ],
          [
           "STAKR"
          ],
          [
           "SCOVE"
          ],
          [
           "IAMX1"
          ],
          [
           "IAMX2"
          ],
          [
           "IAMX3"
          ],
          [
           "LEARN"
          ],
          [
           "SPCRA"
          ],
          [
           "TAMIL"
          ],
          [
           "ANMAL"
          ],
          [
           "3KCLB"
          ],
          [
           "DSHN2"
          ],
          [
           null
          ],
          [
           "STELO"
          ],
          [
           null
          ],
          [
           "RAVEP"
          ],
          [
           "CRF"
          ],
          [
           "EAS"
          ],
          [
           null
          ],
          [
           "SCAM"
          ],
          [
           "SHIOK"
          ],
          [
           null
          ],
          [
           "MPN"
          ],
          [
           "MPN"
          ],
          [
           "MPN"
          ],
          [
           "N2O"
          ],
          [
           "AIRE"
          ],
          [
           "DAFFY"
          ],
          [
           "CNDL"
          ],
          [
           "DRMAL"
          ],
          [
           "RVR"
          ],
          [
           "PLKOZ"
          ],
          [
           "EQN"
          ],
          [
           "CRDN"
          ],
          [
           "GENS3"
          ],
          [
           "GENS4"
          ],
          [
           "DIO"
          ],
          [
           "DIO1"
          ],
          [
           "DIO2"
          ],
          [
           "DIO3"
          ],
          [
           "DIO4"
          ],
          [
           "BTEC1"
          ],
          [
           "ROLL"
          ],
          [
           "SIGMA"
          ],
          [
           "HAPPY"
          ],
          [
           "OKNW"
          ],
          [
           "BEADA"
          ],
          [
           "SOL_1"
          ],
          [
           "DHARM"
          ],
          [
           "NVET"
          ],
          [
           "RKT0"
          ],
          [
           "LMBD"
          ],
          [
           "SPP"
          ],
          [
           "KICKS"
          ],
          [
           "ADR"
          ],
          [
           null
          ],
          [
           "ITC4"
          ],
          [
           "XSP3"
          ],
          [
           "FUNON"
          ],
          [
           "SOCK"
          ],
          [
           "EVOC"
          ],
          [
           "GECKO"
          ],
          [
           "KFC"
          ],
          [
           "ARMN"
          ],
          [
           null
          ],
          [
           null
          ],
          [
           null
          ],
          [
           null
          ],
          [
           "CBITS"
          ],
          [
           "FORTE"
          ],
          [
           null
          ],
          [
           "GETLO"
          ],
          [
           "BEETL"
          ],
          [
           "Moose"
          ],
          [
           "sark"
          ],
          [
           "PFL01"
          ],
          [
           "NIU"
          ],
          [
           "TOXO"
          ],
          [
           "SLOTH"
          ],
          [
           "TAB"
          ],
          [
           "DYNO"
          ],
          [
           "GOOF"
          ],
          [
           "TAX"
          ],
          [
           "SHUA"
          ],
          [
           "MOUNT"
          ],
          [
           "ADSND"
          ],
          [
           "HGK"
          ],
          [
           "GLOW"
          ],
          [
           "GMS"
          ],
          [
           "BEME"
          ],
          [
           "AD1"
          ],
          [
           "ARC"
          ],
          [
           "GAIM1"
          ],
          [
           "TOKEN"
          ],
          [
           "HTB"
          ],
          [
           "SMACH"
          ],
          [
           "HIGER"
          ],
          [
           null
          ],
          [
           "ROOTS"
          ]
         ],
         "hovertemplate": "centralization_value=%{x}<br>number_of_pools=%{marker.size}<br>ticker=%{customdata[0]}<br>multipool_ratio=%{marker.color}<extra></extra>",
         "legendgroup": "",
         "marker": {
          "color": [
           0.03949447077409163,
           0.03949447077409163,
           0.03949447077409163,
           0.03949447077409163,
           0,
           0.11848341232227488,
           0.03949447077409163,
           0.315955766192733,
           0.03949447077409163,
           0.315955766192733,
           0.03949447077409163,
           0.03949447077409163,
           0.03949447077409163,
           0.07898894154818326,
           0.03949447077409163,
           0.1974723538704581,
           0.03949447077409163,
           0.03949447077409163,
           0.03949447077409163,
           0.03949447077409163,
           0.07898894154818326,
           0.03949447077409163,
           0.03949447077409163,
           0.03949447077409163,
           0.03949447077409163,
           0.07898894154818326,
           0.03949447077409163,
           0.03949447077409163,
           0.03949447077409163,
           0.03949447077409163,
           0.03949447077409163,
           0.03949447077409163,
           0.03949447077409163,
           0.03949447077409163,
           0.03949447077409163,
           0.03949447077409163,
           0.03949447077409163,
           0.03949447077409163,
           0.07898894154818326,
           0.03949447077409163,
           0.03949447077409163,
           0.03949447077409163,
           0.07898894154818326,
           0.1974723538704581,
           0.03949447077409163,
           0.07898894154818326,
           0.03949447077409163,
           0.03949447077409163,
           0.07898894154818326,
           0.1974723538704581,
           0.1974723538704581,
           0.03949447077409163,
           0.1974723538704581,
           0.03949447077409163,
           0.1974723538704581,
           0.03949447077409163,
           0,
           0.03949447077409163,
           0.1974723538704581,
           0.1974723538704581,
           0.03949447077409163,
           0.03949447077409163,
           0.03949447077409163,
           0.03949447077409163,
           0.03949447077409163,
           0.03949447077409163,
           0.03949447077409163,
           0.03949447077409163,
           0.1974723538704581,
           0.1579778830963665,
           0.03949447077409163,
           0.1579778830963665,
           0.1974723538704581,
           0.1579778830963665,
           0.1974723538704581,
           0.1579778830963665,
           0.1579778830963665,
           0.1579778830963665,
           0.1579778830963665,
           0.03949447077409163,
           0.03949447077409163,
           0.03949447077409163,
           0.07898894154818326,
           1.1058451816745656,
           0.03949447077409163,
           0.03949447077409163,
           0.03949447077409163,
           0.03949447077409163,
           0.03949447077409163,
           0,
           1.1058451816745656,
           0.03949447077409163,
           0.03949447077409163,
           1.1058451816745656,
           0.03949447077409163,
           0.03949447077409163,
           1.1058451816745656,
           1.1058451816745656,
           1.1058451816745656,
           1.1058451816745656,
           0.03949447077409163,
           1.1058451816745656,
           0.03949447077409163,
           0.03949447077409163,
           1.1058451816745656,
           0.03949447077409163,
           0.03949447077409163,
           0.03949447077409163,
           1.1058451816745656,
           0,
           0.03949447077409163,
           0.03949447077409163,
           1.1058451816745656,
           0.07898894154818326,
           0,
           0.03949447077409163,
           0.03949447077409163,
           0.03949447077409163,
           0.07898894154818326,
           0.03949447077409163,
           0.07898894154818326,
           0.07898894154818326,
           0.03949447077409163,
           0.11848341232227488,
           0.03949447077409163,
           0.03949447077409163,
           0.11848341232227488,
           0.03949447077409163,
           0,
           0.03949447077409163,
           0.03949447077409163,
           0.03949447077409163,
           0.23696682464454977,
           0.03949447077409163,
           0.03949447077409163,
           0,
           0.03949447077409163,
           0.03949447077409163,
           0.315955766192733,
           0.03949447077409163,
           0.03949447077409163,
           0.23696682464454977,
           0.03949447077409163,
           0.03949447077409163,
           0.03949447077409163,
           0.1579778830963665,
           0.11848341232227488,
           0.1579778830963665,
           0.03949447077409163,
           0.03949447077409163,
           0.11848341232227488,
           0.03949447077409163,
           0.03949447077409163,
           0.03949447077409163,
           0.07898894154818326,
           0.03949447077409163,
           0.1579778830963665,
           0.03949447077409163,
           0.03949447077409163,
           0.23696682464454977,
           0.23696682464454977,
           0.23696682464454977,
           0.03949447077409163,
           0.03949447077409163,
           0.03949447077409163,
           0.23696682464454977,
           0.23696682464454977,
           0.11848341232227488,
           0.315955766192733,
           0.03949447077409163,
           0,
           0.03949447077409163,
           0,
           0,
           0,
           0.315955766192733,
           0.03949447077409163,
           0.03949447077409163,
           0.1579778830963665,
           0.315955766192733,
           0.03949447077409163,
           0.315955766192733,
           0.03949447077409163,
           0.03949447077409163,
           0.03949447077409163,
           0.03949447077409163,
           0.03949447077409163,
           0.03949447077409163,
           0.03949447077409163,
           0.03949447077409163,
           0.07898894154818326,
           0.07898894154818326,
           0.03949447077409163,
           0.11848341232227488,
           0.11848341232227488,
           0.03949447077409163,
           0.03949447077409163,
           0.11848341232227488,
           0.03949447077409163,
           0.11848341232227488,
           0.4344391785150079,
           0.03949447077409163,
           0.03949447077409163,
           0.03949447077409163,
           0.23696682464454977,
           0.07898894154818326,
           0.03949447077409163,
           0.03949447077409163,
           0.23696682464454977,
           0.03949447077409163,
           0.03949447077409163,
           0.03949447077409163,
           0.03949447077409163,
           0.03949447077409163,
           0.03949447077409163,
           0.03949447077409163,
           0,
           0.03949447077409163,
           0.03949447077409163,
           0.03949447077409163,
           0.03949447077409163,
           0.03949447077409163,
           0.03949447077409163,
           0.03949447077409163,
           0.03949447077409163,
           0.11848341232227488,
           0.11848341232227488,
           0.03949447077409163,
           0.03949447077409163,
           0.03949447077409163,
           0.03949447077409163,
           0.03949447077409163,
           0.03949447077409163,
           0,
           0.1974723538704581,
           0.03949447077409163,
           0.03949447077409163,
           0.03949447077409163,
           0.07898894154818326,
           0.03949447077409163,
           0.03949447077409163,
           0.03949447077409163,
           0.03949447077409163,
           0.07898894154818326,
           0,
           0.03949447077409163,
           0.11848341232227488,
           0.03949447077409163,
           0.03949447077409163,
           0.07898894154818326,
           0.03949447077409163,
           0.03949447077409163,
           0.03949447077409163,
           0.07898894154818326,
           0.03949447077409163,
           0.03949447077409163,
           0.03949447077409163,
           0.03949447077409163,
           0,
           0.1974723538704581,
           0.03949447077409163,
           0.03949447077409163,
           0.03949447077409163,
           0.1974723538704581,
           0.03949447077409163,
           0,
           0.03949447077409163,
           0.1579778830963665,
           0.03949447077409163,
           0,
           0.03949447077409163,
           0.03949447077409163,
           0.03949447077409163,
           0.03949447077409163,
           0.07898894154818326,
           0.03949447077409163,
           0.03949447077409163,
           0.03949447077409163,
           0.03949447077409163,
           0.03949447077409163,
           0,
           0.11848341232227488,
           0.03949447077409163,
           0.03949447077409163,
           0.03949447077409163,
           0,
           0.03949447077409163,
           0,
           0.315955766192733,
           0.03949447077409163,
           0.1974723538704581,
           0.03949447077409163,
           0.03949447077409163,
           0.03949447077409163,
           0.07898894154818326,
           0.03949447077409163,
           0.03949447077409163,
           0.03949447077409163,
           0.07898894154818326,
           0.03949447077409163,
           0.07898894154818326,
           0.03949447077409163,
           0,
           0,
           0.03949447077409163,
           0.07898894154818326,
           0.03949447077409163,
           0,
           0,
           0.07898894154818326,
           0,
           0.07898894154818326,
           0,
           0,
           0.03949447077409163,
           0.07898894154818326,
           0.03949447077409163,
           0.03949447077409163,
           0.2764612954186414,
           0.2764612954186414,
           0.2764612954186414,
           0.2764612954186414,
           0,
           0.2764612954186414,
           0.2764612954186414,
           0.2764612954186414,
           0.03949447077409163,
           0.1579778830963665,
           0.03949447077409163,
           0.03949447077409163,
           0.03949447077409163,
           0.03949447077409163,
           0.07898894154818326,
           0.07898894154818326,
           0.03949447077409163,
           0.03949447077409163,
           0.03949447077409163,
           0.03949447077409163,
           0.1579778830963665,
           0.03949447077409163,
           0.1579778830963665,
           0.11848341232227488,
           0,
           0.03949447077409163,
           0.03949447077409163,
           0,
           0.03949447077409163,
           0.07898894154818326,
           0.03949447077409163,
           0.03949447077409163,
           0.03949447077409163,
           0.03949447077409163,
           0.03949447077409163,
           0.03949447077409163,
           0,
           0.03949447077409163,
           0,
           0.1579778830963665,
           0.03949447077409163,
           0.03949447077409163,
           0.03949447077409163,
           0.03949447077409163,
           0.03949447077409163,
           0.03949447077409163,
           0.03949447077409163,
           0,
           0,
           0.23696682464454977,
           0.03949447077409163,
           0,
           0.03949447077409163,
           0.03949447077409163,
           0.03949447077409163,
           0.1974723538704581,
           0.03949447077409163,
           0.03949447077409163,
           0.07898894154818326,
           0.07898894154818326,
           0.03949447077409163,
           0,
           0,
           1.3428120063191153,
           0,
           0.07898894154818326,
           0.07898894154818326,
           0.03949447077409163,
           0.03949447077409163,
           0.03949447077409163,
           0.03949447077409163,
           0.03949447077409163,
           0.03949447077409163,
           0,
           0.03949447077409163,
           0.03949447077409163,
           0.03949447077409163,
           0,
           0,
           0.03949447077409163,
           0.03949447077409163,
           0.03949447077409163,
           0.03949447077409163,
           0.03949447077409163,
           0,
           0.03949447077409163,
           0.03949447077409163,
           0.03949447077409163,
           0.03949447077409163,
           0.03949447077409163,
           0.07898894154818326,
           0.03949447077409163,
           0.03949447077409163,
           0,
           0,
           0.03949447077409163,
           0.03949447077409163,
           0.03949447077409163,
           0.03949447077409163,
           0.03949447077409163,
           0.03949447077409163,
           0.03949447077409163,
           0.07898894154818326,
           0,
           0.03949447077409163,
           0,
           0.03949447077409163,
           0.03949447077409163,
           0,
           0.03949447077409163,
           0.03949447077409163,
           0.03949447077409163,
           0.03949447077409163,
           0.03949447077409163,
           0,
           0.03949447077409163,
           0,
           0.03949447077409163,
           0.03949447077409163,
           0.07898894154818326,
           0.07898894154818326,
           0,
           0.03949447077409163,
           0.07898894154818326,
           0.03949447077409163,
           0.07898894154818326,
           0.03949447077409163,
           0.03949447077409163,
           0.07898894154818326,
           0,
           0.03949447077409163,
           0.03949447077409163,
           0.03949447077409163,
           0.03949447077409163,
           0.03949447077409163,
           0,
           0.03949447077409163,
           0.03949447077409163,
           0.03949447077409163,
           0.6714060031595577,
           0.6714060031595577,
           0.6714060031595577,
           0.6714060031595577,
           0.03949447077409163,
           0.03949447077409163,
           0.03949447077409163,
           0.23696682464454977,
           0,
           0.03949447077409163,
           0.23696682464454977,
           0.07898894154818326,
           0.23696682464454977,
           0.23696682464454977,
           0.23696682464454977,
           0.23696682464454977,
           0.3949447077409162,
           0.07898894154818326,
           0.3949447077409162,
           0.3949447077409162,
           0.03949447077409163,
           0.3949447077409162,
           0.3949447077409162,
           0.03949447077409163,
           0.3949447077409162,
           0.3949447077409162,
           0.3949447077409162,
           0.03949447077409163,
           0.03949447077409163,
           0.03949447077409163,
           0.03949447077409163,
           0.03949447077409163,
           0.03949447077409163,
           0.03949447077409163,
           0.03949447077409163,
           0.03949447077409163,
           0.23696682464454977,
           0,
           0.03949447077409163,
           0.3949447077409162,
           0.03949447077409163,
           0.03949447077409163,
           0,
           0.03949447077409163,
           0.03949447077409163,
           0,
           0.03949447077409163,
           0.03949447077409163,
           0,
           0,
           0.07898894154818326,
           0.07898894154818326,
           0.03949447077409163,
           0,
           0,
           0.03949447077409163,
           0.07898894154818326,
           0.07898894154818326,
           0.03949447077409163,
           0.03949447077409163,
           0.03949447077409163,
           0.03949447077409163,
           0.03949447077409163,
           0,
           0,
           0.03949447077409163,
           0.1974723538704581,
           0.1974723538704581,
           0.1974723538704581,
           0.03949447077409163,
           0.3949447077409162,
           0,
           0.3949447077409162,
           0.3949447077409162,
           0,
           0.3949447077409162,
           0.3949447077409162,
           0.03949447077409163,
           0,
           0,
           0.03949447077409163,
           0.315955766192733,
           0.03949447077409163,
           0.03949447077409163,
           0,
           0,
           0.3949447077409162,
           0.3949447077409162,
           0.3949447077409162,
           0.3949447077409162,
           0.03949447077409163,
           0.03949447077409163,
           0.03949447077409163,
           0.03949447077409163,
           0,
           0,
           0.03949447077409163,
           0,
           0,
           0.03949447077409163,
           0.03949447077409163,
           0,
           0.03949447077409163,
           0.03949447077409163,
           0.03949447077409163,
           0,
           0.03949447077409163,
           0.03949447077409163,
           0.07898894154818326,
           0.03949447077409163,
           0,
           0.03949447077409163,
           0,
           0.4344391785150079,
           0.03949447077409163,
           0.03949447077409163,
           0.03949447077409163,
           0.03949447077409163,
           0.03949447077409163,
           0,
           0,
           0.03949447077409163,
           0.03949447077409163,
           0.03949447077409163,
           0.03949447077409163,
           0,
           0.03949447077409163,
           0.03949447077409163,
           0.03949447077409163,
           0.3949447077409162,
           0.03949447077409163,
           0.03949447077409163,
           0.03949447077409163,
           0.07898894154818326,
           0.07898894154818326,
           0,
           0.03949447077409163,
           0.03949447077409163,
           0.1974723538704581,
           0.1974723538704581,
           0,
           0,
           0.03949447077409163,
           0,
           0.07898894154818326,
           0.03949447077409163,
           0.03949447077409163,
           0.03949447077409163,
           0.03949447077409163,
           0.03949447077409163,
           0,
           0.07898894154818326,
           0.07898894154818326,
           0,
           0.07898894154818326,
           0,
           0,
           0.03949447077409163,
           0.07898894154818326,
           0.11848341232227488,
           0.03949447077409163,
           0.03949447077409163,
           0.11848341232227488,
           0,
           0,
           0.07898894154818326,
           0.03949447077409163,
           0.03949447077409163,
           0.03949447077409163,
           0.3949447077409162,
           0.3949447077409162,
           0.03949447077409163,
           0.03949447077409163,
           0.03949447077409163,
           0.3949447077409162,
           0,
           0,
           0.03949447077409163,
           0.03949447077409163,
           0.03949447077409163,
           0.03949447077409163,
           0.03949447077409163,
           0.3949447077409162,
           0.03949447077409163,
           0.03949447077409163,
           0,
           0.03949447077409163,
           0,
           0.03949447077409163,
           0.03949447077409163,
           0.03949447077409163,
           0.03949447077409163,
           0,
           0.03949447077409163,
           0,
           0.03949447077409163,
           0.03949447077409163,
           0.03949447077409163,
           0.03949447077409163,
           0.03949447077409163,
           0.03949447077409163,
           0.03949447077409163,
           0.03949447077409163,
           0.03949447077409163,
           0.1579778830963665,
           0.1579778830963665,
           0,
           0.03949447077409163,
           0.03949447077409163,
           0,
           0.03949447077409163,
           0,
           0.03949447077409163,
           0.03949447077409163,
           0.03949447077409163,
           0.03949447077409163,
           0,
           0,
           0.03949447077409163,
           0.07898894154818326,
           0.03949447077409163,
           0.03949447077409163,
           0.03949447077409163,
           0.07898894154818326,
           0,
           0,
           0.03949447077409163,
           0.03949447077409163,
           0.07898894154818326,
           0,
           0.03949447077409163,
           0.03949447077409163,
           0.03949447077409163,
           0,
           0.03949447077409163,
           0,
           0,
           0,
           0.03949447077409163,
           0.03949447077409163,
           0.03949447077409163,
           0,
           0.03949447077409163,
           0.03949447077409163,
           0.03949447077409163,
           0.03949447077409163,
           0.03949447077409163,
           0.03949447077409163,
           0.03949447077409163,
           0,
           0.03949447077409163,
           0,
           0,
           0.03949447077409163,
           0.11848341232227488,
           0.03949447077409163,
           0.03949447077409163,
           0.03949447077409163,
           0.03949447077409163,
           0,
           0.03949447077409163,
           0,
           0.03949447077409163,
           0.03949447077409163,
           0.03949447077409163,
           0.07898894154818326,
           0,
           0.03949447077409163,
           0.03949447077409163,
           0.07898894154818326,
           0.03949447077409163,
           0,
           0.03949447077409163,
           0.03949447077409163,
           0.03949447077409163,
           0.07898894154818326,
           0.03949447077409163,
           0.1974723538704581,
           0.03949447077409163,
           0,
           0.03949447077409163,
           0.03949447077409163,
           0.03949447077409163,
           0.03949447077409163,
           0.03949447077409163,
           0.03949447077409163,
           0.03949447077409163,
           0.03949447077409163,
           0,
           0.03949447077409163,
           0.03949447077409163,
           0.03949447077409163,
           0.07898894154818326,
           0.03949447077409163,
           0.03949447077409163,
           0,
           0,
           0.03949447077409163,
           0,
           0.03949447077409163,
           0.03949447077409163,
           0.07898894154818326,
           0.03949447077409163,
           0.03949447077409163,
           0.5529225908372828,
           0.5529225908372828,
           0.5529225908372828,
           0,
           0,
           0.03949447077409163,
           0.03949447077409163,
           0.4344391785150079,
           0.03949447077409163,
           0.03949447077409163,
           0,
           0,
           0.03949447077409163,
           0,
           0.03949447077409163,
           0,
           0,
           0.07898894154818326,
           0.03949447077409163,
           0,
           0.03949447077409163,
           0.07898894154818326,
           0.03949447077409163,
           0,
           0.03949447077409163,
           0.03949447077409163,
           0,
           0.03949447077409163,
           0.07898894154818326,
           0,
           0.03949447077409163,
           0.03949447077409163,
           0,
           0,
           0,
           0,
           0.03949447077409163,
           0.03949447077409163,
           0,
           0.07898894154818326,
           0,
           0.03949447077409163,
           0,
           0,
           0,
           0.03949447077409163,
           0.03949447077409163,
           0.03949447077409163,
           0.03949447077409163,
           0.03949447077409163,
           0.03949447077409163,
           0.03949447077409163,
           0,
           0.03949447077409163,
           0.03949447077409163,
           0.03949447077409163,
           0.11848341232227488,
           0.03949447077409163,
           0.03949447077409163,
           0.07898894154818326,
           0.03949447077409163,
           0.03949447077409163,
           0.03949447077409163,
           0,
           0,
           0.03949447077409163,
           0.03949447077409163,
           0.03949447077409163,
           0,
           0,
           0,
           0.03949447077409163,
           0.11848341232227488,
           0,
           0.11848341232227488,
           0.03949447077409163,
           0,
           0.03949447077409163,
           0.03949447077409163,
           0.03949447077409163,
           0.03949447077409163,
           0.07898894154818326,
           0.03949447077409163,
           0.03949447077409163,
           0.03949447077409163,
           0,
           0.03949447077409163,
           0.03949447077409163,
           0.23696682464454977,
           0.03949447077409163,
           0.03949447077409163,
           0,
           0.03949447077409163,
           0.07898894154818326,
           0.07898894154818326,
           0.03949447077409163,
           0.03949447077409163,
           0,
           0.03949447077409163,
           0.07898894154818326,
           2.448657187993681,
           2.448657187993681,
           2.448657187993681,
           2.448657187993681,
           2.448657187993681,
           2.448657187993681,
           2.448657187993681,
           2.448657187993681,
           0,
           2.448657187993681,
           0.03949447077409163,
           0.1974723538704581,
           0,
           0.03949447077409163,
           0.03949447077409163,
           0.03949447077409163,
           0.03949447077409163,
           0.315955766192733,
           0.315955766192733,
           0.315955766192733,
           0.03949447077409163,
           0.23696682464454977,
           0.23696682464454977,
           0.23696682464454977,
           0.03949447077409163,
           0.23696682464454977,
           0.03949447077409163,
           0.23696682464454977,
           0.23696682464454977,
           0.1579778830963665,
           0.1579778830963665,
           0.11848341232227488,
           0.07898894154818326,
           0.11848341232227488,
           0.11848341232227488,
           0.11848341232227488,
           0.03949447077409163,
           0.03949447077409163,
           0.07898894154818326,
           0,
           0.23696682464454977,
           0.11848341232227488,
           0.07898894154818326,
           0.07898894154818326,
           1.1058451816745656,
           1.1058451816745656,
           1.1058451816745656,
           1.1058451816745656,
           1.1058451816745656,
           1.1058451816745656,
           1.1058451816745656,
           1.1058451816745656,
           1.1058451816745656,
           1.1058451816745656,
           1.1058451816745656,
           0,
           0,
           0,
           0.03949447077409163,
           0.07898894154818326,
           0.03949447077409163,
           0,
           0.3949447077409162,
           0.23696682464454977,
           0.03949447077409163,
           0.07898894154818326,
           0.03949447077409163,
           0.1579778830963665,
           0,
           0.11848341232227488,
           0.03949447077409163,
           0.1974723538704581,
           0,
           0,
           0.03949447077409163,
           0.1579778830963665,
           0.03949447077409163,
           0,
           0.1579778830963665,
           0.1579778830963665,
           0.1579778830963665,
           0.1579778830963665,
           0.11848341232227488,
           0.1974723538704581,
           0.03949447077409163,
           0,
           0,
           0,
           0,
           0.1579778830963665,
           0.03949447077409163,
           0,
           0,
           0.03949447077409163,
           0.03949447077409163,
           0.07898894154818326,
           0.23696682464454977,
           0.23696682464454977,
           0.03949447077409163,
           0.23696682464454977,
           0,
           0.03949447077409163,
           0,
           0.03949447077409163,
           0.07898894154818326,
           0.07898894154818326,
           0.03949447077409163,
           0,
           0.03949447077409163,
           0.03949447077409163,
           0.1974723538704581,
           0.1974723538704581,
           0.03949447077409163,
           0.07898894154818326,
           0.23696682464454977,
           0.03949447077409163,
           0.3949447077409162,
           0.3949447077409162,
           0.3949447077409162,
           0.3949447077409162,
           0.3949447077409162,
           0.3949447077409162,
           0.03949447077409163,
           0,
           0.03949447077409163,
           0,
           0.5529225908372828,
           0,
           0.5529225908372828,
           0.03949447077409163,
           0.03949447077409163,
           0.11848341232227488,
           0.11848341232227488,
           0.5529225908372828,
           0.5529225908372828,
           0.5529225908372828,
           0.5529225908372828,
           0,
           0,
           0.07898894154818326,
           0.03949447077409163,
           0.03949447077409163,
           0.6714060031595577,
           0.6714060031595577,
           0.6714060031595577,
           0.6714060031595577,
           0.6714060031595577,
           0.6714060031595577,
           0.6714060031595577,
           0.6714060031595577,
           0.6714060031595577,
           0.03949447077409163,
           0.6714060031595577,
           0.6714060031595577,
           0.6714060031595577,
           0.6714060031595577,
           0.03949447077409163,
           0.03949447077409163,
           0.1579778830963665,
           0,
           0.03949447077409163,
           0,
           0.07898894154818326,
           0.03949447077409163,
           0,
           0.3949447077409162,
           0.03949447077409163,
           0.3949447077409162,
           0.3949447077409162,
           0.3949447077409162,
           0.03949447077409163,
           0.1974723538704581,
           0.03949447077409163,
           0.03949447077409163,
           0.03949447077409163,
           0.11848341232227488,
           0.03949447077409163,
           0.03949447077409163,
           0,
           0.03949447077409163,
           0.07898894154818326,
           0.07898894154818326,
           0.03949447077409163,
           0,
           0.03949447077409163,
           0.03949447077409163,
           0.03949447077409163,
           0.03949447077409163,
           0.11848341232227488,
           0.11848341232227488,
           0.03949447077409163,
           0,
           0.03949447077409163,
           0.23696682464454977,
           0.03949447077409163,
           0.03949447077409163,
           0.03949447077409163,
           0.03949447077409163,
           0.07898894154818326,
           0,
           0.23696682464454977,
           0,
           0.03949447077409163,
           0.07898894154818326,
           0.1974723538704581,
           0,
           0.03949447077409163,
           0.03949447077409163,
           0,
           0,
           0.03949447077409163,
           0,
           0.03949447077409163,
           0,
           0,
           0.03949447077409163,
           1.3428120063191153,
           1.3428120063191153,
           1.3428120063191153,
           1.3428120063191153,
           1.3428120063191153,
           1.3428120063191153,
           1.3428120063191153,
           1.3428120063191153,
           1.3428120063191153,
           1.3428120063191153,
           1.3428120063191153,
           1.3428120063191153,
           1.3428120063191153,
           1.3428120063191153,
           1.3428120063191153,
           1.3428120063191153,
           1.3428120063191153,
           1.3428120063191153,
           1.3428120063191153,
           1.3428120063191153,
           1.3428120063191153,
           1.3428120063191153,
           1.3428120063191153,
           1.3428120063191153,
           1.3428120063191153,
           1.3428120063191153,
           1.3428120063191153,
           1.3428120063191153,
           1.3428120063191153,
           1.3428120063191153,
           1.3428120063191153,
           0.1974723538704581,
           0,
           0.07898894154818326,
           0.07898894154818326,
           0.03949447077409163,
           0.07898894154818326,
           0.03949447077409163,
           0.07898894154818326,
           2.448657187993681,
           1.3428120063191153,
           0,
           2.448657187993681,
           2.448657187993681,
           2.448657187993681,
           2.448657187993681,
           2.448657187993681,
           2.448657187993681,
           2.448657187993681,
           2.448657187993681,
           2.448657187993681,
           2.448657187993681,
           2.448657187993681,
           2.448657187993681,
           2.448657187993681,
           2.448657187993681,
           2.448657187993681,
           0.03949447077409163,
           2.448657187993681,
           0.07898894154818326,
           0,
           0,
           0.03949447077409163,
           0.03949447077409163,
           0.03949447077409163,
           0.03949447077409163,
           0.03949447077409163,
           0,
           2.448657187993681,
           0.23696682464454977,
           0,
           0.03949447077409163,
           0.03949447077409163,
           0.03949447077409163,
           0,
           0.03949447077409163,
           0.1579778830963665,
           0,
           0,
           0.1974723538704581,
           0.03949447077409163,
           0.03949447077409163,
           0.03949447077409163,
           0,
           0.07898894154818326,
           0.03949447077409163,
           0.03949447077409163,
           0.03949447077409163,
           0.03949447077409163,
           0.03949447077409163,
           0,
           0.03949447077409163,
           0,
           0.03949447077409163,
           0.03949447077409163,
           0.03949447077409163,
           0.03949447077409163,
           0.03949447077409163,
           0.03949447077409163,
           0,
           0.03949447077409163,
           0,
           0.03949447077409163,
           0.1579778830963665,
           0.07898894154818326,
           0.03949447077409163,
           0.03949447077409163,
           0,
           0.11848341232227488,
           0.03949447077409163,
           0.03949447077409163,
           0.1974723538704581,
           0.1974723538704581,
           0.07898894154818326,
           0.07898894154818326,
           0.03949447077409163,
           0,
           0.03949447077409163,
           0.03949447077409163,
           0,
           0.03949447077409163,
           0.03949447077409163,
           0.03949447077409163,
           0,
           0,
           0.03949447077409163,
           0.03949447077409163,
           0.03949447077409163,
           0.03949447077409163,
           0.03949447077409163,
           0.03949447077409163,
           0.03949447077409163,
           0.11848341232227488,
           0.03949447077409163,
           0.03949447077409163,
           0.07898894154818326,
           0.03949447077409163,
           0,
           0.03949447077409163,
           0.03949447077409163,
           0.3949447077409162,
           0.03949447077409163,
           0,
           0,
           0.03949447077409163,
           0.11848341232227488,
           0,
           0.03949447077409163,
           0.03949447077409163,
           0.03949447077409163,
           0.03949447077409163,
           0.03949447077409163,
           0.03949447077409163,
           0.03949447077409163,
           0.03949447077409163,
           0.03949447077409163,
           0.03949447077409163,
           0.03949447077409163,
           0.03949447077409163,
           0.03949447077409163,
           0,
           0.07898894154818326,
           0,
           0.03949447077409163,
           2.448657187993681,
           2.448657187993681,
           2.448657187993681,
           2.448657187993681,
           2.448657187993681,
           2.448657187993681,
           2.448657187993681,
           2.448657187993681,
           2.448657187993681,
           2.448657187993681,
           2.448657187993681,
           2.448657187993681,
           2.448657187993681,
           2.448657187993681,
           2.448657187993681,
           0.03949447077409163,
           0.03949447077409163,
           0.03949447077409163,
           0.03949447077409163,
           0.03949447077409163,
           0.23696682464454977,
           0.23696682464454977,
           0.03949447077409163,
           0.03949447077409163,
           0.03949447077409163,
           0,
           0.03949447077409163,
           0,
           0.07898894154818326,
           0.03949447077409163,
           0.07898894154818326,
           0.03949447077409163,
           0,
           0.03949447077409163,
           0.03949447077409163,
           0.07898894154818326,
           0.03949447077409163,
           0.03949447077409163,
           0.07898894154818326,
           0.03949447077409163,
           0.315955766192733,
           0.315955766192733,
           0.315955766192733,
           0,
           0.03949447077409163,
           0.03949447077409163,
           0.03949447077409163,
           0,
           0,
           0,
           0,
           0,
           0,
           0,
           0.23696682464454977,
           0.03949447077409163,
           0,
           0.03949447077409163,
           0,
           0,
           0,
           0,
           0,
           0,
           0.03949447077409163,
           0,
           0,
           0,
           0.03949447077409163,
           0.07898894154818326,
           0.03949447077409163,
           0.03949447077409163,
           0,
           0.1974723538704581,
           0.1974723538704581,
           0.03949447077409163,
           0.03949447077409163,
           0.03949447077409163,
           0.4344391785150079,
           0,
           0.03949447077409163,
           0.03949447077409163,
           1.3428120063191153,
           0.03949447077409163,
           0.03949447077409163,
           0.03949447077409163,
           0.03949447077409163,
           0.07898894154818326,
           0.07898894154818326,
           0.03949447077409163,
           0,
           0.07898894154818326,
           0,
           0,
           0.03949447077409163,
           0.3949447077409162,
           0.03949447077409163,
           0.03949447077409163,
           0.03949447077409163,
           0.03949447077409163,
           0,
           0.03949447077409163,
           0.03949447077409163,
           0.03949447077409163,
           0.03949447077409163,
           0.03949447077409163,
           0,
           0.03949447077409163,
           0.03949447077409163,
           0.03949447077409163,
           0,
           0.03949447077409163,
           0.03949447077409163,
           0.03949447077409163,
           0.03949447077409163,
           0,
           0.03949447077409163,
           0.03949447077409163,
           0.03949447077409163,
           0.03949447077409163,
           0,
           0.03949447077409163,
           0.03949447077409163,
           0.03949447077409163,
           0.03949447077409163,
           0.03949447077409163,
           0,
           0.03949447077409163,
           0.03949447077409163,
           0.03949447077409163,
           0,
           0.03949447077409163,
           0.03949447077409163,
           0.07898894154818326,
           0.23696682464454977,
           0.03949447077409163,
           0.03949447077409163,
           0,
           0.07898894154818326,
           0.23696682464454977,
           0.03949447077409163,
           0.03949447077409163,
           0.03949447077409163,
           0.03949447077409163,
           0.23696682464454977,
           0.23696682464454977,
           0.03949447077409163,
           0.03949447077409163,
           0,
           0.07898894154818326,
           0.03949447077409163,
           0.03949447077409163,
           0.03949447077409163,
           0.03949447077409163,
           0.03949447077409163,
           0.03949447077409163,
           0.07898894154818326,
           0.03949447077409163,
           0.03949447077409163,
           0.03949447077409163,
           0.03949447077409163,
           0.03949447077409163,
           0.03949447077409163,
           0.03949447077409163,
           0.03949447077409163,
           0,
           0.03949447077409163,
           0.07898894154818326,
           0,
           0.03949447077409163,
           0.03949447077409163,
           0.4344391785150079,
           0,
           0.03949447077409163,
           0,
           0.03949447077409163,
           0.03949447077409163,
           0,
           0.03949447077409163,
           0.03949447077409163,
           0.03949447077409163,
           0.03949447077409163,
           0.03949447077409163,
           0,
           0,
           0.03949447077409163,
           0.03949447077409163,
           0.03949447077409163,
           0.07898894154818326,
           0.03949447077409163,
           0.03949447077409163,
           0,
           0.03949447077409163,
           0.03949447077409163,
           0,
           0.11848341232227488,
           0.11848341232227488,
           0.03949447077409163,
           0,
           0.03949447077409163,
           0.03949447077409163,
           0.07898894154818326,
           0.03949447077409163,
           0.1974723538704581,
           0.03949447077409163,
           0,
           0,
           0.07898894154818326,
           0.03949447077409163,
           0.03949447077409163,
           0.03949447077409163,
           0.03949447077409163,
           0,
           0,
           0.03949447077409163,
           0.03949447077409163,
           0.03949447077409163,
           0.03949447077409163,
           0.03949447077409163,
           0.03949447077409163,
           0,
           0.03949447077409163,
           0,
           0.1579778830963665,
           0.03949447077409163,
           0,
           0.03949447077409163,
           0.03949447077409163,
           0.03949447077409163,
           0.03949447077409163,
           0.03949447077409163,
           0.03949447077409163,
           0.03949447077409163,
           0.03949447077409163,
           0.03949447077409163,
           0.03949447077409163,
           0.03949447077409163,
           0.03949447077409163,
           0.03949447077409163,
           0.03949447077409163,
           0.03949447077409163,
           0.03949447077409163,
           0,
           0.03949447077409163,
           0.03949447077409163,
           0.03949447077409163,
           0.03949447077409163,
           0.03949447077409163,
           0.03949447077409163,
           0,
           0.03949447077409163,
           0.03949447077409163,
           0,
           0.03949447077409163,
           0.03949447077409163,
           0.03949447077409163,
           0.03949447077409163,
           0.03949447077409163,
           0.1974723538704581,
           0.03949447077409163,
           0,
           0.03949447077409163,
           0.11848341232227488,
           0.3949447077409162,
           0.03949447077409163,
           0,
           0.03949447077409163,
           0.03949447077409163,
           0.11848341232227488,
           0.03949447077409163,
           0.03949447077409163,
           0,
           0.03949447077409163,
           0.03949447077409163,
           0.07898894154818326,
           0.03949447077409163,
           0.03949447077409163,
           0.3949447077409162,
           0.3949447077409162,
           0.03949447077409163,
           0.03949447077409163,
           0.03949447077409163,
           0.03949447077409163,
           0.03949447077409163,
           0,
           0.03949447077409163,
           0.03949447077409163,
           0.03949447077409163,
           0.03949447077409163,
           0.03949447077409163,
           0.03949447077409163,
           0.03949447077409163,
           0.03949447077409163,
           0.03949447077409163,
           0,
           0.23696682464454977,
           0.03949447077409163,
           0.03949447077409163,
           0.03949447077409163,
           0.03949447077409163,
           0.03949447077409163,
           0.03949447077409163,
           0.03949447077409163,
           0.03949447077409163,
           0.03949447077409163,
           0.03949447077409163,
           0,
           0.03949447077409163,
           0.03949447077409163,
           0.03949447077409163,
           0.03949447077409163,
           0,
           0.07898894154818326,
           0,
           0.03949447077409163,
           0.03949447077409163,
           0,
           0.03949447077409163,
           0.03949447077409163,
           0.03949447077409163,
           0.03949447077409163,
           0,
           0,
           0,
           0,
           0.03949447077409163,
           1.1058451816745656,
           1.1058451816745656,
           1.1058451816745656,
           0.03949447077409163,
           0.03949447077409163,
           0.03949447077409163,
           0.03949447077409163,
           0.03949447077409163,
           0.03949447077409163,
           0.03949447077409163,
           0.03949447077409163,
           0.07898894154818326,
           0.03949447077409163,
           0,
           0.03949447077409163,
           2.448657187993681,
           2.448657187993681,
           2.448657187993681,
           2.448657187993681,
           2.448657187993681,
           2.448657187993681,
           2.448657187993681,
           2.448657187993681,
           2.448657187993681,
           2.448657187993681,
           2.448657187993681,
           2.448657187993681,
           2.448657187993681,
           0.03949447077409163,
           0.03949447077409163,
           0.03949447077409163,
           0,
           0.03949447077409163,
           0.03949447077409163,
           0.03949447077409163,
           0.03949447077409163,
           2.448657187993681,
           0.03949447077409163,
           0.03949447077409163,
           0,
           0,
           1.1058451816745656,
           0.03949447077409163,
           0.11848341232227488,
           0,
           0,
           0.03949447077409163,
           0.03949447077409163,
           0,
           0.03949447077409163,
           0,
           0,
           0.03949447077409163,
           1.1058451816745656,
           1.1058451816745656,
           0.03949447077409163,
           0,
           0.03949447077409163,
           0.03949447077409163,
           0.07898894154818326,
           0.03949447077409163,
           0.03949447077409163,
           0.1579778830963665,
           0.03949447077409163,
           0.1579778830963665,
           0,
           0,
           0.03949447077409163,
           0.03949447077409163,
           0.03949447077409163,
           0.03949447077409163,
           0.03949447077409163,
           0.03949447077409163,
           0.03949447077409163,
           0.07898894154818326,
           0.03949447077409163,
           0.03949447077409163,
           0.03949447077409163,
           0.03949447077409163,
           0.03949447077409163,
           0,
           0.03949447077409163,
           0.03949447077409163,
           0.03949447077409163,
           0.03949447077409163,
           0.07898894154818326,
           0.07898894154818326,
           0.03949447077409163,
           0.03949447077409163,
           0.03949447077409163,
           0.03949447077409163,
           0.03949447077409163,
           0,
           0.03949447077409163,
           0.03949447077409163,
           0.03949447077409163,
           0.03949447077409163,
           0.03949447077409163,
           0.03949447077409163,
           0,
           0.1579778830963665,
           0.1579778830963665,
           0.11848341232227488,
           0.03949447077409163,
           0.03949447077409163,
           0.03949447077409163,
           0.03949447077409163,
           0.03949447077409163,
           0.1974723538704581,
           0.1974723538704581,
           0.03949447077409163,
           0.03949447077409163,
           0.03949447077409163,
           0.11848341232227488,
           0.11848341232227488,
           0,
           0,
           0,
           0,
           0,
           0,
           0.07898894154818326,
           0,
           0.07898894154818326,
           0.03949447077409163,
           0.03949447077409163,
           0.03949447077409163,
           0,
           0.03949447077409163,
           0.03949447077409163,
           0.03949447077409163,
           0.03949447077409163,
           0.03949447077409163,
           0.03949447077409163,
           0.07898894154818326,
           0,
           0.03949447077409163,
           0.03949447077409163,
           0.23696682464454977,
           0.03949447077409163,
           0.03949447077409163,
           0.03949447077409163,
           0.03949447077409163,
           0.07898894154818326,
           0.03949447077409163,
           0.03949447077409163,
           0.03949447077409163,
           0.03949447077409163,
           0.07898894154818326,
           0,
           0.03949447077409163,
           0,
           0.03949447077409163,
           0,
           0.03949447077409163,
           0.03949447077409163,
           0,
           0.03949447077409163,
           0.03949447077409163,
           0.03949447077409163,
           0.03949447077409163,
           0.03949447077409163,
           0.03949447077409163,
           0.03949447077409163,
           0.03949447077409163,
           0.03949447077409163,
           0.03949447077409163,
           0.03949447077409163,
           0.03949447077409163,
           0.03949447077409163,
           0.03949447077409163,
           0.03949447077409163,
           0.03949447077409163,
           0.03949447077409163,
           0.03949447077409163,
           0.03949447077409163,
           0.03949447077409163,
           0.03949447077409163,
           0.03949447077409163,
           0.03949447077409163,
           0.03949447077409163,
           0.03949447077409163,
           0.07898894154818326,
           0.03949447077409163,
           0.03949447077409163,
           0.03949447077409163,
           0.03949447077409163,
           0,
           0.03949447077409163,
           0.03949447077409163,
           0.11848341232227488,
           0.03949447077409163,
           0.03949447077409163,
           0.03949447077409163,
           0.03949447077409163,
           0.03949447077409163,
           0.03949447077409163,
           0.03949447077409163,
           0.03949447077409163,
           0.03949447077409163,
           0.03949447077409163,
           0.03949447077409163,
           0,
           0.03949447077409163,
           0,
           0.03949447077409163,
           0.03949447077409163,
           0,
           0.03949447077409163,
           0.03949447077409163,
           0.07898894154818326,
           0.03949447077409163,
           0.03949447077409163,
           0.03949447077409163,
           0.03949447077409163,
           0.03949447077409163,
           0.03949447077409163,
           0.03949447077409163,
           0.03949447077409163,
           0.23696682464454977,
           0,
           0.03949447077409163,
           0.03949447077409163,
           0,
           0.03949447077409163,
           0.03949447077409163,
           0.03949447077409163,
           0.03949447077409163,
           0.03949447077409163,
           0,
           0.03949447077409163,
           0.03949447077409163,
           0.03949447077409163,
           0.03949447077409163,
           0.03949447077409163,
           0,
           0.03949447077409163,
           0.03949447077409163,
           0.03949447077409163,
           0.03949447077409163,
           0.03949447077409163,
           0.03949447077409163,
           0.03949447077409163,
           0.03949447077409163,
           0.03949447077409163,
           2.448657187993681,
           2.448657187993681,
           2.448657187993681,
           2.448657187993681,
           2.448657187993681,
           0,
           0.03949447077409163,
           0.03949447077409163,
           0.03949447077409163,
           0.03949447077409163,
           0.03949447077409163,
           0.03949447077409163,
           0.03949447077409163,
           0.03949447077409163,
           0.03949447077409163,
           0.03949447077409163,
           0.03949447077409163,
           0.03949447077409163,
           0.03949447077409163,
           0.03949447077409163,
           0,
           0.03949447077409163,
           0.03949447077409163,
           0.03949447077409163,
           0.03949447077409163,
           0.03949447077409163,
           0.03949447077409163,
           0,
           0,
           0.03949447077409163,
           0.03949447077409163,
           0.03949447077409163,
           0.03949447077409163,
           0.03949447077409163,
           0.03949447077409163,
           0.03949447077409163,
           0.03949447077409163,
           0,
           0.11848341232227488,
           0,
           0,
           0.03949447077409163,
           0.03949447077409163,
           0,
           0,
           0.03949447077409163,
           0.03949447077409163,
           0.03949447077409163,
           0.03949447077409163,
           0.03949447077409163,
           0,
           0.03949447077409163,
           0.03949447077409163,
           0.03949447077409163,
           0.03949447077409163,
           0.03949447077409163,
           0.03949447077409163,
           0.03949447077409163,
           0.03949447077409163,
           0.03949447077409163,
           0.03949447077409163,
           0.03949447077409163,
           0.07898894154818326,
           0.03949447077409163,
           0.03949447077409163,
           0.03949447077409163,
           0.03949447077409163,
           0.03949447077409163,
           0.03949447077409163,
           0.03949447077409163,
           0.03949447077409163,
           0.03949447077409163,
           0.03949447077409163,
           0.03949447077409163,
           0,
           0.03949447077409163,
           0,
           0.03949447077409163,
           0.03949447077409163,
           0.03949447077409163,
           0.03949447077409163,
           0,
           0.03949447077409163,
           0.23696682464454977,
           0.23696682464454977,
           0,
           0.03949447077409163,
           0,
           0.3949447077409162,
           0.03949447077409163,
           0.03949447077409163,
           0.03949447077409163,
           0.03949447077409163,
           0.03949447077409163,
           0.03949447077409163,
           0,
           0.03949447077409163,
           0.03949447077409163,
           0,
           0.03949447077409163,
           0.03949447077409163,
           0.4344391785150079,
           0,
           0.03949447077409163,
           0.03949447077409163,
           0.03949447077409163,
           0.03949447077409163,
           0.03949447077409163,
           0.03949447077409163,
           0.03949447077409163,
           0.03949447077409163,
           0.03949447077409163,
           0.07898894154818326,
           0.03949447077409163,
           0.03949447077409163,
           0.03949447077409163,
           0.03949447077409163,
           0.03949447077409163,
           0.03949447077409163,
           0.03949447077409163,
           0.03949447077409163,
           0.03949447077409163,
           0.03949447077409163,
           0.03949447077409163,
           0.03949447077409163,
           0.03949447077409163,
           0.03949447077409163,
           0.03949447077409163,
           0.03949447077409163,
           0.03949447077409163,
           0.03949447077409163,
           0.03949447077409163,
           0.03949447077409163,
           0.03949447077409163,
           0.03949447077409163,
           0.03949447077409163,
           0.03949447077409163,
           0.03949447077409163,
           0.03949447077409163,
           0.03949447077409163,
           0.03949447077409163,
           0.07898894154818326,
           0.03949447077409163,
           0.1579778830963665,
           0.03949447077409163,
           0.03949447077409163,
           0.03949447077409163,
           0.03949447077409163,
           0.03949447077409163,
           0.03949447077409163,
           0.1579778830963665,
           0.03949447077409163,
           0.03949447077409163,
           0,
           0,
           0.03949447077409163,
           0.03949447077409163,
           0.03949447077409163,
           0.03949447077409163,
           0.03949447077409163,
           0.03949447077409163,
           0.03949447077409163,
           0.03949447077409163,
           0.03949447077409163,
           0.03949447077409163,
           0.1579778830963665,
           0.03949447077409163,
           0.03949447077409163,
           0.03949447077409163,
           0.03949447077409163,
           0.03949447077409163,
           0.03949447077409163,
           0.03949447077409163,
           0.03949447077409163,
           0,
           0.03949447077409163,
           0.03949447077409163,
           0.03949447077409163,
           0.03949447077409163,
           0.23696682464454977,
           0.03949447077409163,
           0.03949447077409163,
           0.03949447077409163,
           0.03949447077409163,
           0.03949447077409163,
           0.03949447077409163,
           0.03949447077409163,
           0.03949447077409163,
           0.03949447077409163,
           0.03949447077409163,
           0.03949447077409163,
           0.03949447077409163,
           0.03949447077409163,
           0,
           0.03949447077409163,
           0.03949447077409163,
           0.03949447077409163,
           0,
           0.03949447077409163,
           0.03949447077409163,
           0.03949447077409163,
           0.03949447077409163,
           0,
           0.03949447077409163,
           0.03949447077409163,
           0,
           0.03949447077409163,
           0.03949447077409163,
           0,
           0,
           0.03949447077409163,
           0.03949447077409163,
           0.03949447077409163,
           0,
           0.03949447077409163,
           0.03949447077409163,
           0.03949447077409163,
           0.03949447077409163,
           0.03949447077409163,
           0,
           0.03949447077409163,
           0.07898894154818326,
           0.07898894154818326,
           0.03949447077409163,
           0,
           0.03949447077409163,
           0.03949447077409163,
           0.03949447077409163,
           0.1579778830963665,
           0.23696682464454977,
           0.03949447077409163,
           0.03949447077409163,
           0,
           0.03949447077409163,
           0.03949447077409163,
           0.03949447077409163,
           0.03949447077409163,
           0.03949447077409163,
           0.03949447077409163,
           0,
           0.03949447077409163,
           0.03949447077409163,
           0.03949447077409163,
           0,
           0.03949447077409163,
           0.03949447077409163,
           0,
           0.1579778830963665,
           0.03949447077409163,
           0.1579778830963665,
           0.03949447077409163,
           0.03949447077409163,
           0.03949447077409163,
           0.03949447077409163,
           0.03949447077409163,
           0.03949447077409163,
           0.03949447077409163,
           0.07898894154818326,
           0.03949447077409163,
           0.03949447077409163,
           0.03949447077409163,
           0.03949447077409163,
           0.03949447077409163,
           0,
           0.03949447077409163,
           0.03949447077409163,
           0.03949447077409163,
           0.03949447077409163,
           0.03949447077409163,
           0.03949447077409163,
           0.07898894154818326,
           0.03949447077409163,
           0.03949447077409163,
           0.03949447077409163,
           0.03949447077409163,
           0.03949447077409163,
           0.1579778830963665,
           0,
           0.03949447077409163,
           0.03949447077409163,
           0.03949447077409163,
           0.03949447077409163,
           0.03949447077409163,
           0.03949447077409163,
           0,
           0.03949447077409163,
           0.03949447077409163,
           0.03949447077409163,
           0,
           0.03949447077409163,
           0.4344391785150079,
           0.03949447077409163,
           0,
           0.03949447077409163,
           0.03949447077409163,
           0.03949447077409163,
           0.03949447077409163,
           0.03949447077409163,
           0.03949447077409163,
           0.03949447077409163,
           0.03949447077409163,
           0.03949447077409163,
           0.03949447077409163,
           0.03949447077409163,
           0.03949447077409163,
           0.03949447077409163,
           0.07898894154818326,
           0,
           0.03949447077409163,
           0.07898894154818326,
           0.03949447077409163,
           0,
           0.03949447077409163,
           0.03949447077409163,
           0,
           0.03949447077409163,
           0.03949447077409163,
           0.03949447077409163,
           0.03949447077409163,
           0.03949447077409163,
           0.03949447077409163,
           0.23696682464454977,
           0.03949447077409163,
           0,
           0.03949447077409163,
           0.03949447077409163,
           0.03949447077409163,
           0.03949447077409163,
           0.03949447077409163,
           0.03949447077409163,
           0.03949447077409163,
           0.03949447077409163,
           0.03949447077409163,
           0.03949447077409163,
           0.11848341232227488,
           0,
           0.03949447077409163,
           0,
           0.03949447077409163,
           0.07898894154818326,
           0.03949447077409163,
           0.03949447077409163,
           0.03949447077409163,
           0.03949447077409163,
           0.03949447077409163,
           0.07898894154818326,
           0,
           2.448657187993681,
           0,
           0.03949447077409163,
           0.03949447077409163,
           0.03949447077409163,
           0.03949447077409163,
           0.03949447077409163,
           0.03949447077409163,
           0.03949447077409163,
           0.03949447077409163,
           0.03949447077409163,
           0,
           0.03949447077409163,
           0,
           0.03949447077409163,
           0.03949447077409163,
           0,
           0.03949447077409163,
           0.03949447077409163,
           0.03949447077409163,
           0.03949447077409163,
           0.03949447077409163,
           0.03949447077409163,
           0.03949447077409163,
           0.03949447077409163,
           0.03949447077409163,
           0.03949447077409163,
           0.03949447077409163,
           0.03949447077409163,
           0.07898894154818326,
           0.03949447077409163,
           0.03949447077409163,
           0.03949447077409163,
           0.03949447077409163,
           0.03949447077409163,
           0.03949447077409163,
           0.03949447077409163,
           0.03949447077409163,
           0.03949447077409163,
           0.03949447077409163,
           0.03949447077409163,
           0.03949447077409163,
           0,
           0.1579778830963665,
           0,
           0.23696682464454977,
           0.23696682464454977,
           0.03949447077409163,
           0.03949447077409163,
           0.03949447077409163,
           0.03949447077409163,
           0.03949447077409163,
           0.03949447077409163,
           0.03949447077409163,
           0.03949447077409163,
           0.03949447077409163,
           0,
           0.4344391785150079,
           0,
           0.03949447077409163,
           0.03949447077409163,
           0,
           0.03949447077409163,
           0.23696682464454977,
           0,
           0,
           0.03949447077409163,
           0.03949447077409163,
           0.03949447077409163,
           0.03949447077409163,
           0,
           0.03949447077409163,
           0.03949447077409163,
           0.03949447077409163,
           0.03949447077409163,
           0,
           0.23696682464454977,
           0.03949447077409163,
           0.03949447077409163,
           0.03949447077409163,
           0.07898894154818326,
           0.03949447077409163,
           0.03949447077409163,
           0.03949447077409163,
           0.03949447077409163,
           0.03949447077409163,
           0.03949447077409163,
           0.03949447077409163,
           0.03949447077409163,
           0.03949447077409163,
           0.03949447077409163,
           0.03949447077409163,
           0,
           0.03949447077409163,
           0.03949447077409163,
           0.03949447077409163,
           0.03949447077409163,
           0.03949447077409163,
           0.03949447077409163,
           0.03949447077409163,
           0,
           0.03949447077409163,
           0,
           0.03949447077409163,
           0.03949447077409163,
           0.03949447077409163,
           0.03949447077409163,
           0,
           0.03949447077409163,
           0.03949447077409163,
           0,
           0.03949447077409163,
           0,
           0,
           0.03949447077409163,
           0.03949447077409163,
           0.03949447077409163,
           0.03949447077409163,
           0.03949447077409163,
           0.03949447077409163,
           0.03949447077409163,
           0.03949447077409163,
           0.03949447077409163,
           0.03949447077409163,
           0.03949447077409163,
           0,
           0,
           0,
           0,
           0.03949447077409163,
           0,
           0.03949447077409163,
           0.03949447077409163,
           0.03949447077409163,
           0.03949447077409163,
           0.03949447077409163,
           0,
           0.03949447077409163,
           0.03949447077409163,
           0.03949447077409163,
           0.03949447077409163,
           0.03949447077409163,
           0.03949447077409163,
           0.03949447077409163,
           0.03949447077409163,
           0.03949447077409163,
           0.03949447077409163,
           0,
           0.03949447077409163,
           0.03949447077409163,
           0.03949447077409163,
           0.07898894154818326,
           0.03949447077409163,
           0,
           0.03949447077409163,
           0.03949447077409163,
           0,
           0.03949447077409163,
           0.03949447077409163,
           0.03949447077409163,
           0.03949447077409163,
           0,
           0.03949447077409163,
           0.03949447077409163,
           0.07898894154818326,
           0.03949447077409163,
           0.03949447077409163,
           0.4344391785150079,
           0.03949447077409163,
           0.03949447077409163,
           0.03949447077409163,
           0.1974723538704581,
           0.03949447077409163,
           0.03949447077409163,
           0.03949447077409163,
           0.03949447077409163,
           0.03949447077409163,
           0.5529225908372828,
           0.5529225908372828,
           0.03949447077409163,
           0.11848341232227488,
           0.03949447077409163,
           0.03949447077409163,
           0,
           0.03949447077409163,
           0.03949447077409163,
           0.03949447077409163,
           0.03949447077409163,
           0,
           0.03949447077409163,
           0.23696682464454977,
           0.03949447077409163,
           0.03949447077409163,
           0.03949447077409163,
           0.03949447077409163,
           0.03949447077409163,
           0,
           0.03949447077409163,
           0.03949447077409163,
           0.03949447077409163,
           0.03949447077409163,
           0.03949447077409163,
           0,
           0.03949447077409163,
           0.03949447077409163,
           0.03949447077409163,
           0,
           0.03949447077409163,
           0.23696682464454977,
           0.03949447077409163,
           0.03949447077409163,
           0.03949447077409163,
           0,
           0.03949447077409163,
           0.03949447077409163,
           0.03949447077409163,
           0,
           0.03949447077409163,
           0.03949447077409163,
           0.03949447077409163,
           0,
           0.03949447077409163,
           0.03949447077409163,
           0.03949447077409163,
           0.03949447077409163,
           0.03949447077409163,
           0.03949447077409163,
           0.03949447077409163,
           0.03949447077409163,
           0.03949447077409163,
           0.03949447077409163,
           0,
           0.03949447077409163,
           0.03949447077409163,
           0.03949447077409163,
           0.03949447077409163,
           0.03949447077409163,
           0.03949447077409163,
           0,
           0.03949447077409163,
           0.03949447077409163,
           0.03949447077409163,
           0.03949447077409163,
           0,
           0.03949447077409163,
           0.03949447077409163,
           0.03949447077409163,
           0.03949447077409163,
           0.03949447077409163,
           0.03949447077409163,
           0.03949447077409163,
           0.03949447077409163,
           0.03949447077409163,
           0.03949447077409163,
           0.03949447077409163,
           0.03949447077409163,
           0,
           0.03949447077409163,
           0.23696682464454977,
           0.03949447077409163,
           0.03949447077409163,
           0.03949447077409163,
           0.03949447077409163,
           0.03949447077409163,
           0.03949447077409163,
           0.03949447077409163,
           0.03949447077409163,
           0.03949447077409163,
           0.03949447077409163,
           0,
           0.03949447077409163,
           0.03949447077409163,
           0.03949447077409163,
           0.03949447077409163,
           0.03949447077409163,
           0.03949447077409163,
           0,
           0,
           0.03949447077409163,
           0.03949447077409163,
           0.03949447077409163,
           0.03949447077409163,
           0.03949447077409163,
           0.03949447077409163,
           0.03949447077409163,
           0.03949447077409163,
           0.03949447077409163,
           0.03949447077409163,
           0.03949447077409163,
           0.03949447077409163,
           0.03949447077409163,
           1.066350710900474,
           0.03949447077409163,
           0,
           0.03949447077409163,
           0.03949447077409163,
           0.03949447077409163,
           0.03949447077409163,
           0.03949447077409163,
           0.03949447077409163,
           0.03949447077409163,
           0.03949447077409163,
           0.03949447077409163,
           0.03949447077409163,
           0.03949447077409163,
           0,
           0.03949447077409163,
           0.03949447077409163,
           0,
           0,
           0,
           0,
           0,
           0,
           0,
           0.03949447077409163,
           0.03949447077409163,
           0,
           0.03949447077409163,
           0.03949447077409163,
           0.03949447077409163,
           0,
           0.03949447077409163,
           0.03949447077409163,
           1.066350710900474,
           1.066350710900474,
           1.066350710900474,
           1.066350710900474,
           0,
           0.07898894154818326,
           0.03949447077409163,
           1.066350710900474,
           0.03949447077409163,
           0.03949447077409163,
           0.03949447077409163,
           0.03949447077409163,
           0,
           0.03949447077409163,
           0.03949447077409163,
           0.03949447077409163,
           0.03949447077409163,
           0.03949447077409163,
           0,
           0.03949447077409163,
           0.03949447077409163,
           0.03949447077409163,
           0.03949447077409163,
           0,
           0.03949447077409163,
           0.03949447077409163,
           0.03949447077409163,
           0.03949447077409163,
           0,
           0,
           0.03949447077409163,
           0,
           0,
           0,
           0,
           0,
           0.03949447077409163,
           0.03949447077409163,
           0.03949447077409163,
           0.03949447077409163,
           0.07898894154818326,
           0.03949447077409163,
           0.03949447077409163,
           0.03949447077409163,
           0.03949447077409163,
           0.03949447077409163,
           0.1579778830963665,
           0.03949447077409163,
           1.066350710900474,
           1.066350710900474,
           0,
           1.066350710900474,
           0.03949447077409163,
           0.03949447077409163,
           0.03949447077409163,
           0.03949447077409163,
           0.03949447077409163,
           0.03949447077409163,
           0.03949447077409163,
           0.03949447077409163,
           0.03949447077409163,
           0.03949447077409163,
           0.03949447077409163,
           0,
           0.1974723538704581,
           0.1974723538704581,
           0.1974723538704581,
           0.03949447077409163,
           0.03949447077409163,
           0.03949447077409163,
           0.03949447077409163,
           0.03949447077409163,
           0,
           0.03949447077409163,
           0.03949447077409163,
           0.03949447077409163,
           0.03949447077409163,
           0,
           0.03949447077409163,
           0,
           0.03949447077409163,
           0.03949447077409163,
           0.03949447077409163,
           0,
           0.03949447077409163,
           0.03949447077409163,
           0,
           0.03949447077409163,
           0.03949447077409163,
           0,
           0,
           0.07898894154818326,
           0.03949447077409163,
           0.03949447077409163,
           0.03949447077409163,
           0.03949447077409163,
           0.03949447077409163,
           0.03949447077409163,
           0.1974723538704581,
           0.03949447077409163,
           0.03949447077409163,
           0.03949447077409163,
           0.03949447077409163,
           0,
           0.03949447077409163,
           0.03949447077409163,
           0.03949447077409163,
           0,
           0.03949447077409163,
           0,
           0.03949447077409163,
           0.03949447077409163,
           0.03949447077409163,
           0.03949447077409163,
           0.03949447077409163,
           0.03949447077409163,
           0,
           0.03949447077409163,
           0.03949447077409163,
           0.03949447077409163,
           0.03949447077409163,
           0.03949447077409163,
           0,
           0.03949447077409163,
           0.03949447077409163,
           0.03949447077409163,
           0.03949447077409163,
           0.03949447077409163,
           0.03949447077409163,
           0.03949447077409163,
           0.03949447077409163,
           0.03949447077409163,
           0.03949447077409163,
           0.03949447077409163,
           0.03949447077409163,
           0.03949447077409163,
           0.03949447077409163,
           0.03949447077409163,
           0.07898894154818326,
           0.03949447077409163,
           0,
           0.03949447077409163,
           0.03949447077409163,
           0.03949447077409163,
           0.5529225908372828,
           0.5529225908372828,
           0.5529225908372828,
           0.03949447077409163,
           0.03949447077409163,
           0.03949447077409163,
           0.03949447077409163,
           0.03949447077409163,
           0.03949447077409163,
           0.03949447077409163,
           0.03949447077409163,
           0.03949447077409163,
           0,
           0.03949447077409163,
           0.03949447077409163,
           0.03949447077409163,
           0.03949447077409163,
           0.03949447077409163,
           0.23696682464454977,
           0,
           0.23696682464454977,
           0,
           0.03949447077409163,
           0.03949447077409163,
           0,
           0.03949447077409163,
           0.03949447077409163,
           0.03949447077409163,
           0.03949447077409163,
           0.03949447077409163,
           0.03949447077409163,
           0.03949447077409163,
           0.03949447077409163,
           0.03949447077409163,
           0.03949447077409163,
           0.03949447077409163,
           0.07898894154818326,
           0.03949447077409163,
           0.03949447077409163,
           0.03949447077409163,
           0,
           0.03949447077409163,
           0.03949447077409163,
           0.03949447077409163,
           0.03949447077409163,
           0.03949447077409163,
           0.03949447077409163,
           0.07898894154818326,
           0.03949447077409163,
           0.03949447077409163,
           0.07898894154818326,
           0.1974723538704581,
           0.1974723538704581,
           0,
           0.03949447077409163,
           0,
           0.03949447077409163,
           0.03949447077409163,
           0,
           0.03949447077409163,
           0.03949447077409163,
           0.07898894154818326,
           0.11848341232227488,
           0.03949447077409163,
           0.03949447077409163,
           0.03949447077409163,
           0.03949447077409163,
           0.03949447077409163,
           0.23696682464454977,
           0,
           0.03949447077409163,
           0.03949447077409163,
           0.03949447077409163,
           0.03949447077409163,
           0.03949447077409163,
           0.4344391785150079,
           0,
           0.03949447077409163,
           0.03949447077409163,
           0.07898894154818326,
           0.07898894154818326,
           0.03949447077409163,
           0.11848341232227488,
           0.11848341232227488,
           0.11848341232227488,
           0.03949447077409163,
           0.03949447077409163,
           0.03949447077409163,
           0.03949447077409163,
           0,
           0.03949447077409163,
           0.03949447077409163,
           0.03949447077409163,
           0.03949447077409163,
           0.03949447077409163,
           0.03949447077409163,
           0.03949447077409163,
           0.03949447077409163,
           0,
           0.03949447077409163,
           0.03949447077409163,
           0.03949447077409163,
           0.03949447077409163,
           0.03949447077409163,
           0,
           0.03949447077409163,
           0.03949447077409163,
           0,
           0,
           0.03949447077409163,
           0.03949447077409163,
           0.03949447077409163,
           0.03949447077409163,
           0.03949447077409163,
           0.03949447077409163,
           0,
           0.03949447077409163,
           0,
           0.03949447077409163,
           0.03949447077409163,
           0.03949447077409163,
           0.03949447077409163,
           0.03949447077409163,
           0.03949447077409163,
           0.03949447077409163,
           0.03949447077409163,
           0.03949447077409163,
           0.03949447077409163,
           0.03949447077409163,
           0.03949447077409163,
           0.03949447077409163,
           0.03949447077409163,
           0.03949447077409163,
           0.03949447077409163,
           0.03949447077409163,
           0.03949447077409163,
           0,
           0.03949447077409163,
           0.03949447077409163,
           0,
           0.03949447077409163,
           0,
           0,
           0,
           0,
           0.03949447077409163,
           0.03949447077409163,
           0.03949447077409163,
           0.03949447077409163,
           0.03949447077409163,
           0.03949447077409163,
           0.03949447077409163,
           0.03949447077409163,
           0.03949447077409163,
           0.03949447077409163,
           0,
           0.23696682464454977,
           0,
           0.23696682464454977,
           0.03949447077409163,
           0.03949447077409163,
           0.1579778830963665,
           0.03949447077409163,
           0.03949447077409163,
           0.1579778830963665,
           0,
           0.03949447077409163,
           0.03949447077409163,
           0,
           0.03949447077409163,
           0.03949447077409163,
           0.03949447077409163,
           0.07898894154818326,
           0.03949447077409163,
           0.03949447077409163,
           0.03949447077409163,
           0.03949447077409163,
           0,
           0.03949447077409163,
           0.03949447077409163,
           0.03949447077409163,
           0.03949447077409163,
           0.03949447077409163,
           0.03949447077409163,
           0.03949447077409163,
           0.03949447077409163,
           0.03949447077409163,
           0.03949447077409163,
           0.03949447077409163,
           0.03949447077409163,
           0.03949447077409163,
           0.03949447077409163,
           0,
           0.03949447077409163,
           0.03949447077409163,
           0.03949447077409163,
           0.03949447077409163,
           0.03949447077409163,
           0.03949447077409163,
           0,
           1.066350710900474,
           1.066350710900474,
           1.066350710900474,
           1.066350710900474,
           0.03949447077409163,
           0.03949447077409163,
           0.03949447077409163,
           0.03949447077409163,
           0,
           0,
           0,
           0.03949447077409163,
           0,
           0.03949447077409163,
           0.03949447077409163,
           0.03949447077409163,
           1.066350710900474,
           0.03949447077409163,
           1.066350710900474,
           1.066350710900474,
           1.066350710900474,
           0.03949447077409163,
           1.066350710900474,
           1.066350710900474,
           1.066350710900474,
           1.066350710900474,
           0.03949447077409163,
           0.03949447077409163,
           0,
           0.03949447077409163,
           0,
           0.03949447077409163,
           0.03949447077409163,
           0,
           0,
           0,
           1.066350710900474,
           0.03949447077409163,
           0.03949447077409163,
           0.03949447077409163,
           0.03949447077409163,
           0.03949447077409163,
           0.03949447077409163,
           0.03949447077409163,
           0.11848341232227488,
           0,
           0.03949447077409163,
           0.03949447077409163,
           0.03949447077409163,
           0,
           0.03949447077409163,
           0.03949447077409163,
           0.03949447077409163,
           0.03949447077409163,
           0.03949447077409163,
           0.03949447077409163,
           0.03949447077409163,
           0.03949447077409163,
           0,
           0.03949447077409163,
           0.1974723538704581,
           1.066350710900474,
           1.066350710900474,
           1.066350710900474,
           1.066350710900474,
           1.066350710900474,
           0.03949447077409163,
           0.03949447077409163,
           0,
           0.03949447077409163,
           0,
           0,
           0.03949447077409163,
           0.03949447077409163,
           0.03949447077409163,
           0.03949447077409163,
           0.1579778830963665,
           0.03949447077409163,
           0.11848341232227488,
           0.03949447077409163,
           0.03949447077409163,
           0.03949447077409163,
           0.03949447077409163,
           0.07898894154818326,
           0.315955766192733,
           0.03949447077409163,
           0.11848341232227488,
           0.23696682464454977,
           0.23696682464454977,
           0.23696682464454977,
           0.03949447077409163,
           0.1974723538704581,
           0.1974723538704581,
           0.23696682464454977,
           0.07898894154818326,
           0.03949447077409163,
           0.03949447077409163,
           0.03949447077409163,
           0.07898894154818326,
           0.03949447077409163,
           0.03949447077409163,
           0.03949447077409163,
           0.1974723538704581,
           0.1974723538704581,
           0.03949447077409163,
           0.11848341232227488,
           0.03949447077409163,
           0.03949447077409163,
           0,
           0.03949447077409163,
           0.03949447077409163,
           0.03949447077409163,
           0.03949447077409163,
           0.1974723538704581,
           0.03949447077409163,
           0.03949447077409163,
           0.11848341232227488,
           0.11848341232227488,
           0.11848341232227488,
           0.03949447077409163,
           0.03949447077409163,
           0.03949447077409163,
           0.23696682464454977,
           0.03949447077409163,
           0.07898894154818326,
           0,
           0.03949447077409163,
           0,
           0.03949447077409163,
           0.03949447077409163,
           0.03949447077409163,
           0,
           0.03949447077409163,
           0.03949447077409163,
           0,
           0,
           0.4344391785150079,
           0.03949447077409163,
           0.03949447077409163,
           0.03949447077409163,
           0.03949447077409163,
           0.03949447077409163,
           0.23696682464454977,
           0.03949447077409163,
           0.03949447077409163,
           0.03949447077409163,
           0.1974723538704581,
           0.1974723538704581,
           0.1974723538704581,
           0.1974723538704581,
           0.1974723538704581,
           0.1974723538704581,
           0.1974723538704581,
           0.1974723538704581,
           0.03949447077409163,
           0.03949447077409163,
           0.03949447077409163,
           0.03949447077409163,
           0.03949447077409163,
           0.03949447077409163,
           0.03949447077409163,
           0.03949447077409163,
           0.03949447077409163,
           0.03949447077409163,
           0.03949447077409163,
           0,
           0.03949447077409163,
           0.07898894154818326,
           0,
           0.1579778830963665,
           0.11848341232227488,
           0.03949447077409163,
           0.03949447077409163,
           0.03949447077409163,
           0.03949447077409163,
           0.03949447077409163,
           0.03949447077409163,
           0,
           0,
           0,
           0,
           0.03949447077409163,
           0.03949447077409163,
           0,
           0,
           0.03949447077409163,
           0.03949447077409163,
           0.03949447077409163,
           0.03949447077409163,
           0.03949447077409163,
           0.03949447077409163,
           0.03949447077409163,
           0.03949447077409163,
           0.03949447077409163,
           0.03949447077409163,
           0.03949447077409163,
           0.03949447077409163,
           0.03949447077409163,
           0.03949447077409163,
           0.03949447077409163,
           0.03949447077409163,
           0.03949447077409163,
           0.03949447077409163,
           0.03949447077409163,
           0.03949447077409163,
           0.03949447077409163,
           0.03949447077409163,
           0.03949447077409163,
           0.03949447077409163,
           0.03949447077409163,
           0,
           0.03949447077409163
          ],
          "coloraxis": "coloraxis",
          "size": [
           1,
           1,
           1,
           1,
           1.2472906403940887,
           3,
           1,
           8,
           1,
           8,
           1,
           1,
           1,
           2,
           1,
           5,
           1,
           1,
           1,
           1,
           2,
           1,
           1,
           1,
           1,
           2,
           1,
           1,
           1,
           1,
           1,
           1,
           1,
           1,
           1,
           1,
           1,
           1,
           2,
           1,
           1,
           1,
           2,
           5,
           1,
           2,
           1,
           1,
           2,
           5,
           5,
           1,
           5,
           1,
           5,
           1,
           1.2472906403940887,
           1,
           5,
           5,
           1,
           1,
           1,
           1,
           1,
           1,
           1,
           1,
           5,
           4,
           1,
           4,
           5,
           4,
           5,
           4,
           4,
           4,
           4,
           1,
           1,
           1,
           2,
           28,
           1,
           1,
           1,
           1,
           1,
           1.2472906403940887,
           28,
           1,
           1,
           28,
           1,
           1,
           28,
           28,
           28,
           28,
           1,
           28,
           1,
           1,
           28,
           1,
           1,
           1,
           28,
           1.2472906403940887,
           1,
           1,
           28,
           2,
           1.2472906403940887,
           1,
           1,
           1,
           2,
           1,
           2,
           2,
           1,
           3,
           1,
           1,
           3,
           1,
           1.2472906403940887,
           1,
           1,
           1,
           6,
           1,
           1,
           1.2472906403940887,
           1,
           1,
           8,
           1,
           1,
           6,
           1,
           1,
           1,
           4,
           3,
           4,
           1,
           1,
           3,
           1,
           1,
           1,
           2,
           1,
           4,
           1,
           1,
           6,
           6,
           6,
           1,
           1,
           1,
           6,
           6,
           3,
           8,
           1,
           1.2472906403940887,
           1,
           1.2472906403940887,
           1.2472906403940887,
           1.2472906403940887,
           8,
           1,
           1,
           4,
           8,
           1,
           8,
           1,
           1,
           1,
           1,
           1,
           1,
           1,
           1,
           2,
           2,
           1,
           3,
           3,
           1,
           1,
           3,
           1,
           3,
           11,
           1,
           1,
           1,
           6,
           2,
           1,
           1,
           6,
           1,
           1,
           1,
           1,
           1,
           1,
           1,
           1.2472906403940887,
           1,
           1,
           1,
           1,
           1,
           1,
           1,
           1,
           3,
           3,
           1,
           1,
           1,
           1,
           1,
           1,
           1.2472906403940887,
           5,
           1,
           1,
           1,
           2,
           1,
           1,
           1,
           1,
           2,
           1.2472906403940887,
           1,
           3,
           1,
           1,
           2,
           1,
           1,
           1,
           2,
           1,
           1,
           1,
           1,
           1.2472906403940887,
           5,
           1,
           1,
           1,
           5,
           1,
           1.2472906403940887,
           1,
           4,
           1,
           1.2472906403940887,
           1,
           1,
           1,
           1,
           2,
           1,
           1,
           1,
           1,
           1,
           1.2472906403940887,
           3,
           1,
           1,
           1,
           1.2472906403940887,
           1,
           1.2472906403940887,
           8,
           1,
           5,
           1,
           1,
           1,
           2,
           1,
           1,
           1,
           2,
           1,
           2,
           1,
           1.2472906403940887,
           1.2472906403940887,
           1,
           2,
           1,
           1.2472906403940887,
           1.2472906403940887,
           2,
           1.2472906403940887,
           2,
           1.2472906403940887,
           1.2472906403940887,
           1,
           2,
           1,
           1,
           7,
           7,
           7,
           7,
           1.2472906403940887,
           7,
           7,
           7,
           1,
           4,
           1,
           1,
           1,
           1,
           2,
           2,
           1,
           1,
           1,
           1,
           4,
           1,
           4,
           3,
           1.2472906403940887,
           1,
           1,
           1.2472906403940887,
           1,
           2,
           1,
           1,
           1,
           1,
           1,
           1,
           1.2472906403940887,
           1,
           1.2472906403940887,
           4,
           1,
           1,
           1,
           1,
           1,
           1,
           1,
           1.2472906403940887,
           1.2472906403940887,
           6,
           1,
           1.2472906403940887,
           1,
           1,
           1,
           5,
           1,
           1,
           2,
           2,
           1,
           1.2472906403940887,
           1.2472906403940887,
           34,
           1.2472906403940887,
           2,
           2,
           1,
           1,
           1,
           1,
           1,
           1,
           1.2472906403940887,
           1,
           1,
           1,
           1.2472906403940887,
           1.2472906403940887,
           1,
           1,
           1,
           1,
           1,
           1.2472906403940887,
           1,
           1,
           1,
           1,
           1,
           2,
           1,
           1,
           1.2472906403940887,
           1.2472906403940887,
           1,
           1,
           1,
           1,
           1,
           1,
           1,
           2,
           1.2472906403940887,
           1,
           1.2472906403940887,
           1,
           1,
           1.2472906403940887,
           1,
           1,
           1,
           1,
           1,
           1.2472906403940887,
           1,
           1.2472906403940887,
           1,
           1,
           2,
           2,
           1.2472906403940887,
           1,
           2,
           1,
           2,
           1,
           1,
           2,
           1.2472906403940887,
           1,
           1,
           1,
           1,
           1,
           1.2472906403940887,
           1,
           1,
           1,
           17,
           17,
           17,
           17,
           1,
           1,
           1,
           6,
           1.2472906403940887,
           1,
           6,
           2,
           6,
           6,
           6,
           6,
           10,
           2,
           10,
           10,
           1,
           10,
           10,
           1,
           10,
           10,
           10,
           1,
           1,
           1,
           1,
           1,
           1,
           1,
           1,
           1,
           6,
           1.2472906403940887,
           1,
           10,
           1,
           1,
           1.2472906403940887,
           1,
           1,
           1.2472906403940887,
           1,
           1,
           1.2472906403940887,
           1.2472906403940887,
           2,
           2,
           1,
           1.2472906403940887,
           1.2472906403940887,
           1,
           2,
           2,
           1,
           1,
           1,
           1,
           1,
           1.2472906403940887,
           1.2472906403940887,
           1,
           5,
           5,
           5,
           1,
           10,
           1.2472906403940887,
           10,
           10,
           1.2472906403940887,
           10,
           10,
           1,
           1.2472906403940887,
           1.2472906403940887,
           1,
           8,
           1,
           1,
           1.2472906403940887,
           1.2472906403940887,
           10,
           10,
           10,
           10,
           1,
           1,
           1,
           1,
           1.2472906403940887,
           1.2472906403940887,
           1,
           1.2472906403940887,
           1.2472906403940887,
           1,
           1,
           1.2472906403940887,
           1,
           1,
           1,
           1.2472906403940887,
           1,
           1,
           2,
           1,
           1.2472906403940887,
           1,
           1.2472906403940887,
           11,
           1,
           1,
           1,
           1,
           1,
           1.2472906403940887,
           1.2472906403940887,
           1,
           1,
           1,
           1,
           1.2472906403940887,
           1,
           1,
           1,
           10,
           1,
           1,
           1,
           2,
           2,
           1.2472906403940887,
           1,
           1,
           5,
           5,
           1.2472906403940887,
           1.2472906403940887,
           1,
           1.2472906403940887,
           2,
           1,
           1,
           1,
           1,
           1,
           1.2472906403940887,
           2,
           2,
           1.2472906403940887,
           2,
           1.2472906403940887,
           1.2472906403940887,
           1,
           2,
           3,
           1,
           1,
           3,
           1.2472906403940887,
           1.2472906403940887,
           2,
           1,
           1,
           1,
           10,
           10,
           1,
           1,
           1,
           10,
           1.2472906403940887,
           1.2472906403940887,
           1,
           1,
           1,
           1,
           1,
           10,
           1,
           1,
           1.2472906403940887,
           1,
           1.2472906403940887,
           1,
           1,
           1,
           1,
           1.2472906403940887,
           1,
           1.2472906403940887,
           1,
           1,
           1,
           1,
           1,
           1,
           1,
           1,
           1,
           4,
           4,
           1.2472906403940887,
           1,
           1,
           1.2472906403940887,
           1,
           1.2472906403940887,
           1,
           1,
           1,
           1,
           1.2472906403940887,
           1.2472906403940887,
           1,
           2,
           1,
           1,
           1,
           2,
           1.2472906403940887,
           1.2472906403940887,
           1,
           1,
           2,
           1.2472906403940887,
           1,
           1,
           1,
           1.2472906403940887,
           1,
           1.2472906403940887,
           1.2472906403940887,
           1.2472906403940887,
           1,
           1,
           1,
           1.2472906403940887,
           1,
           1,
           1,
           1,
           1,
           1,
           1,
           1.2472906403940887,
           1,
           1.2472906403940887,
           1.2472906403940887,
           1,
           3,
           1,
           1,
           1,
           1,
           1.2472906403940887,
           1,
           1.2472906403940887,
           1,
           1,
           1,
           2,
           1.2472906403940887,
           1,
           1,
           2,
           1,
           1.2472906403940887,
           1,
           1,
           1,
           2,
           1,
           5,
           1,
           1.2472906403940887,
           1,
           1,
           1,
           1,
           1,
           1,
           1,
           1,
           1.2472906403940887,
           1,
           1,
           1,
           2,
           1,
           1,
           1.2472906403940887,
           1.2472906403940887,
           1,
           1.2472906403940887,
           1,
           1,
           2,
           1,
           1,
           14,
           14,
           14,
           1.2472906403940887,
           1.2472906403940887,
           1,
           1,
           11,
           1,
           1,
           1.2472906403940887,
           1.2472906403940887,
           1,
           1.2472906403940887,
           1,
           1.2472906403940887,
           1.2472906403940887,
           2,
           1,
           1.2472906403940887,
           1,
           2,
           1,
           1.2472906403940887,
           1,
           1,
           1.2472906403940887,
           1,
           2,
           1.2472906403940887,
           1,
           1,
           1.2472906403940887,
           1.2472906403940887,
           1.2472906403940887,
           1.2472906403940887,
           1,
           1,
           1.2472906403940887,
           2,
           1.2472906403940887,
           1,
           1.2472906403940887,
           1.2472906403940887,
           1.2472906403940887,
           1,
           1,
           1,
           1,
           1,
           1,
           1,
           1.2472906403940887,
           1,
           1,
           1,
           3,
           1,
           1,
           2,
           1,
           1,
           1,
           1.2472906403940887,
           1.2472906403940887,
           1,
           1,
           1,
           1.2472906403940887,
           1.2472906403940887,
           1.2472906403940887,
           1,
           3,
           1.2472906403940887,
           3,
           1,
           1.2472906403940887,
           1,
           1,
           1,
           1,
           2,
           1,
           1,
           1,
           1.2472906403940887,
           1,
           1,
           6,
           1,
           1,
           1.2472906403940887,
           1,
           2,
           2,
           1,
           1,
           1.2472906403940887,
           1,
           2,
           62,
           62,
           62,
           62,
           62,
           62,
           62,
           62,
           1.2472906403940887,
           62,
           1,
           5,
           1.2472906403940887,
           1,
           1,
           1,
           1,
           8,
           8,
           8,
           1,
           6,
           6,
           6,
           1,
           6,
           1,
           6,
           6,
           4,
           4,
           3,
           2,
           3,
           3,
           3,
           1,
           1,
           2,
           1.2472906403940887,
           6,
           3,
           2,
           2,
           28,
           28,
           28,
           28,
           28,
           28,
           28,
           28,
           28,
           28,
           28,
           1.2472906403940887,
           1.2472906403940887,
           1.2472906403940887,
           1,
           2,
           1,
           1.2472906403940887,
           10,
           6,
           1,
           2,
           1,
           4,
           1.2472906403940887,
           3,
           1,
           5,
           1.2472906403940887,
           1.2472906403940887,
           1,
           4,
           1,
           1.2472906403940887,
           4,
           4,
           4,
           4,
           3,
           5,
           1,
           1.2472906403940887,
           1.2472906403940887,
           1.2472906403940887,
           1.2472906403940887,
           4,
           1,
           1.2472906403940887,
           1.2472906403940887,
           1,
           1,
           2,
           6,
           6,
           1,
           6,
           1.2472906403940887,
           1,
           1.2472906403940887,
           1,
           2,
           2,
           1,
           1.2472906403940887,
           1,
           1,
           5,
           5,
           1,
           2,
           6,
           1,
           10,
           10,
           10,
           10,
           10,
           10,
           1,
           1.2472906403940887,
           1,
           1.2472906403940887,
           14,
           1.2472906403940887,
           14,
           1,
           1,
           3,
           3,
           14,
           14,
           14,
           14,
           1.2472906403940887,
           1.2472906403940887,
           2,
           1,
           1,
           17,
           17,
           17,
           17,
           17,
           17,
           17,
           17,
           17,
           1,
           17,
           17,
           17,
           17,
           1,
           1,
           4,
           1.2472906403940887,
           1,
           1.2472906403940887,
           2,
           1,
           1.2472906403940887,
           10,
           1,
           10,
           10,
           10,
           1,
           5,
           1,
           1,
           1,
           3,
           1,
           1,
           1.2472906403940887,
           1,
           2,
           2,
           1,
           1.2472906403940887,
           1,
           1,
           1,
           1,
           3,
           3,
           1,
           1.2472906403940887,
           1,
           6,
           1,
           1,
           1,
           1,
           2,
           1.2472906403940887,
           6,
           1.2472906403940887,
           1,
           2,
           5,
           1.2472906403940887,
           1,
           1,
           1.2472906403940887,
           1.2472906403940887,
           1,
           1.2472906403940887,
           1,
           1.2472906403940887,
           1.2472906403940887,
           1,
           34,
           34,
           34,
           34,
           34,
           34,
           34,
           34,
           34,
           34,
           34,
           34,
           34,
           34,
           34,
           34,
           34,
           34,
           34,
           34,
           34,
           34,
           34,
           34,
           34,
           34,
           34,
           34,
           34,
           34,
           34,
           5,
           1.2472906403940887,
           2,
           2,
           1,
           2,
           1,
           2,
           62,
           34,
           1.2472906403940887,
           62,
           62,
           62,
           62,
           62,
           62,
           62,
           62,
           62,
           62,
           62,
           62,
           62,
           62,
           62,
           1,
           62,
           2,
           1.2472906403940887,
           1.2472906403940887,
           1,
           1,
           1,
           1,
           1,
           1.2472906403940887,
           62,
           6,
           1.2472906403940887,
           1,
           1,
           1,
           1.2472906403940887,
           1,
           4,
           1.2472906403940887,
           1.2472906403940887,
           5,
           1,
           1,
           1,
           1.2472906403940887,
           2,
           1,
           1,
           1,
           1,
           1,
           1.2472906403940887,
           1,
           1.2472906403940887,
           1,
           1,
           1,
           1,
           1,
           1,
           1.2472906403940887,
           1,
           1.2472906403940887,
           1,
           4,
           2,
           1,
           1,
           1.2472906403940887,
           3,
           1,
           1,
           5,
           5,
           2,
           2,
           1,
           1.2472906403940887,
           1,
           1,
           1.2472906403940887,
           1,
           1,
           1,
           1.2472906403940887,
           1.2472906403940887,
           1,
           1,
           1,
           1,
           1,
           1,
           1,
           3,
           1,
           1,
           2,
           1,
           1.2472906403940887,
           1,
           1,
           10,
           1,
           1.2472906403940887,
           1.2472906403940887,
           1,
           3,
           1.2472906403940887,
           1,
           1,
           1,
           1,
           1,
           1,
           1,
           1,
           1,
           1,
           1,
           1,
           1,
           1.2472906403940887,
           2,
           1.2472906403940887,
           1,
           62,
           62,
           62,
           62,
           62,
           62,
           62,
           62,
           62,
           62,
           62,
           62,
           62,
           62,
           62,
           1,
           1,
           1,
           1,
           1,
           6,
           6,
           1,
           1,
           1,
           1.2472906403940887,
           1,
           1.2472906403940887,
           2,
           1,
           2,
           1,
           1.2472906403940887,
           1,
           1,
           2,
           1,
           1,
           2,
           1,
           8,
           8,
           8,
           1.2472906403940887,
           1,
           1,
           1,
           1.2472906403940887,
           1.2472906403940887,
           1.2472906403940887,
           1.2472906403940887,
           1.2472906403940887,
           1.2472906403940887,
           1.2472906403940887,
           6,
           1,
           1.2472906403940887,
           1,
           1.2472906403940887,
           1.2472906403940887,
           1.2472906403940887,
           1.2472906403940887,
           1.2472906403940887,
           1.2472906403940887,
           1,
           1.2472906403940887,
           1.2472906403940887,
           1.2472906403940887,
           1,
           2,
           1,
           1,
           1.2472906403940887,
           5,
           5,
           1,
           1,
           1,
           11,
           1.2472906403940887,
           1,
           1,
           34,
           1,
           1,
           1,
           1,
           2,
           2,
           1,
           1.2472906403940887,
           2,
           1.2472906403940887,
           1.2472906403940887,
           1,
           10,
           1,
           1,
           1,
           1,
           1.2472906403940887,
           1,
           1,
           1,
           1,
           1,
           1.2472906403940887,
           1,
           1,
           1,
           1.2472906403940887,
           1,
           1,
           1,
           1,
           1.2472906403940887,
           1,
           1,
           1,
           1,
           1.2472906403940887,
           1,
           1,
           1,
           1,
           1,
           1.2472906403940887,
           1,
           1,
           1,
           1.2472906403940887,
           1,
           1,
           2,
           6,
           1,
           1,
           1.2472906403940887,
           2,
           6,
           1,
           1,
           1,
           1,
           6,
           6,
           1,
           1,
           1.2472906403940887,
           2,
           1,
           1,
           1,
           1,
           1,
           1,
           2,
           1,
           1,
           1,
           1,
           1,
           1,
           1,
           1,
           1.2472906403940887,
           1,
           2,
           1.2472906403940887,
           1,
           1,
           11,
           1.2472906403940887,
           1,
           1.2472906403940887,
           1,
           1,
           1.2472906403940887,
           1,
           1,
           1,
           1,
           1,
           1.2472906403940887,
           1.2472906403940887,
           1,
           1,
           1,
           2,
           1,
           1,
           1.2472906403940887,
           1,
           1,
           1.2472906403940887,
           3,
           3,
           1,
           1.2472906403940887,
           1,
           1,
           2,
           1,
           5,
           1,
           1.2472906403940887,
           1.2472906403940887,
           2,
           1,
           1,
           1,
           1,
           1.2472906403940887,
           1.2472906403940887,
           1,
           1,
           1,
           1,
           1,
           1,
           1.2472906403940887,
           1,
           1.2472906403940887,
           4,
           1,
           1.2472906403940887,
           1,
           1,
           1,
           1,
           1,
           1,
           1,
           1,
           1,
           1,
           1,
           1,
           1,
           1,
           1,
           1,
           1.2472906403940887,
           1,
           1,
           1,
           1,
           1,
           1,
           1.2472906403940887,
           1,
           1,
           1.2472906403940887,
           1,
           1,
           1,
           1,
           1,
           5,
           1,
           1.2472906403940887,
           1,
           3,
           10,
           1,
           1.2472906403940887,
           1,
           1,
           3,
           1,
           1,
           1.2472906403940887,
           1,
           1,
           2,
           1,
           1,
           10,
           10,
           1,
           1,
           1,
           1,
           1,
           1.2472906403940887,
           1,
           1,
           1,
           1,
           1,
           1,
           1,
           1,
           1,
           1.2472906403940887,
           6,
           1,
           1,
           1,
           1,
           1,
           1,
           1,
           1,
           1,
           1,
           1.2472906403940887,
           1,
           1,
           1,
           1,
           1.2472906403940887,
           2,
           1.2472906403940887,
           1,
           1,
           1.2472906403940887,
           1,
           1,
           1,
           1,
           1.2472906403940887,
           1.2472906403940887,
           1.2472906403940887,
           1.2472906403940887,
           1,
           28,
           28,
           28,
           1,
           1,
           1,
           1,
           1,
           1,
           1,
           1,
           2,
           1,
           1.2472906403940887,
           1,
           62,
           62,
           62,
           62,
           62,
           62,
           62,
           62,
           62,
           62,
           62,
           62,
           62,
           1,
           1,
           1,
           1.2472906403940887,
           1,
           1,
           1,
           1,
           62,
           1,
           1,
           1.2472906403940887,
           1.2472906403940887,
           28,
           1,
           3,
           1.2472906403940887,
           1.2472906403940887,
           1,
           1,
           1.2472906403940887,
           1,
           1.2472906403940887,
           1.2472906403940887,
           1,
           28,
           28,
           1,
           1.2472906403940887,
           1,
           1,
           2,
           1,
           1,
           4,
           1,
           4,
           1.2472906403940887,
           1.2472906403940887,
           1,
           1,
           1,
           1,
           1,
           1,
           1,
           2,
           1,
           1,
           1,
           1,
           1,
           1.2472906403940887,
           1,
           1,
           1,
           1,
           2,
           2,
           1,
           1,
           1,
           1,
           1,
           1.2472906403940887,
           1,
           1,
           1,
           1,
           1,
           1,
           1.2472906403940887,
           4,
           4,
           3,
           1,
           1,
           1,
           1,
           1,
           5,
           5,
           1,
           1,
           1,
           3,
           3,
           1.2472906403940887,
           1.2472906403940887,
           1.2472906403940887,
           1.2472906403940887,
           1.2472906403940887,
           1.2472906403940887,
           2,
           1.2472906403940887,
           2,
           1,
           1,
           1,
           1.2472906403940887,
           1,
           1,
           1,
           1,
           1,
           1,
           2,
           1.2472906403940887,
           1,
           1,
           6,
           1,
           1,
           1,
           1,
           2,
           1,
           1,
           1,
           1,
           2,
           1.2472906403940887,
           1,
           1.2472906403940887,
           1,
           1.2472906403940887,
           1,
           1,
           1.2472906403940887,
           1,
           1,
           1,
           1,
           1,
           1,
           1,
           1,
           1,
           1,
           1,
           1,
           1,
           1,
           1,
           1,
           1,
           1,
           1,
           1,
           1,
           1,
           1,
           1,
           1,
           2,
           1,
           1,
           1,
           1,
           1.2472906403940887,
           1,
           1,
           3,
           1,
           1,
           1,
           1,
           1,
           1,
           1,
           1,
           1,
           1,
           1,
           1.2472906403940887,
           1,
           1.2472906403940887,
           1,
           1,
           1.2472906403940887,
           1,
           1,
           2,
           1,
           1,
           1,
           1,
           1,
           1,
           1,
           1,
           6,
           1.2472906403940887,
           1,
           1,
           1.2472906403940887,
           1,
           1,
           1,
           1,
           1,
           1.2472906403940887,
           1,
           1,
           1,
           1,
           1,
           1.2472906403940887,
           1,
           1,
           1,
           1,
           1,
           1,
           1,
           1,
           1,
           62,
           62,
           62,
           62,
           62,
           1.2472906403940887,
           1,
           1,
           1,
           1,
           1,
           1,
           1,
           1,
           1,
           1,
           1,
           1,
           1,
           1,
           1.2472906403940887,
           1,
           1,
           1,
           1,
           1,
           1,
           1.2472906403940887,
           1.2472906403940887,
           1,
           1,
           1,
           1,
           1,
           1,
           1,
           1,
           1.2472906403940887,
           3,
           1.2472906403940887,
           1.2472906403940887,
           1,
           1,
           1.2472906403940887,
           1.2472906403940887,
           1,
           1,
           1,
           1,
           1,
           1.2472906403940887,
           1,
           1,
           1,
           1,
           1,
           1,
           1,
           1,
           1,
           1,
           1,
           2,
           1,
           1,
           1,
           1,
           1,
           1,
           1,
           1,
           1,
           1,
           1,
           1.2472906403940887,
           1,
           1.2472906403940887,
           1,
           1,
           1,
           1,
           1.2472906403940887,
           1,
           6,
           6,
           1.2472906403940887,
           1,
           1.2472906403940887,
           10,
           1,
           1,
           1,
           1,
           1,
           1,
           1.2472906403940887,
           1,
           1,
           1.2472906403940887,
           1,
           1,
           11,
           1.2472906403940887,
           1,
           1,
           1,
           1,
           1,
           1,
           1,
           1,
           1,
           2,
           1,
           1,
           1,
           1,
           1,
           1,
           1,
           1,
           1,
           1,
           1,
           1,
           1,
           1,
           1,
           1,
           1,
           1,
           1,
           1,
           1,
           1,
           1,
           1,
           1,
           1,
           1,
           1,
           2,
           1,
           4,
           1,
           1,
           1,
           1,
           1,
           1,
           4,
           1,
           1,
           1.2472906403940887,
           1.2472906403940887,
           1,
           1,
           1,
           1,
           1,
           1,
           1,
           1,
           1,
           1,
           4,
           1,
           1,
           1,
           1,
           1,
           1,
           1,
           1,
           1.2472906403940887,
           1,
           1,
           1,
           1,
           6,
           1,
           1,
           1,
           1,
           1,
           1,
           1,
           1,
           1,
           1,
           1,
           1,
           1,
           1.2472906403940887,
           1,
           1,
           1,
           1.2472906403940887,
           1,
           1,
           1,
           1,
           1.2472906403940887,
           1,
           1,
           1.2472906403940887,
           1,
           1,
           1.2472906403940887,
           1.2472906403940887,
           1,
           1,
           1,
           1.2472906403940887,
           1,
           1,
           1,
           1,
           1,
           1.2472906403940887,
           1,
           2,
           2,
           1,
           1.2472906403940887,
           1,
           1,
           1,
           4,
           6,
           1,
           1,
           1.2472906403940887,
           1,
           1,
           1,
           1,
           1,
           1,
           1.2472906403940887,
           1,
           1,
           1,
           1.2472906403940887,
           1,
           1,
           1.2472906403940887,
           4,
           1,
           4,
           1,
           1,
           1,
           1,
           1,
           1,
           1,
           2,
           1,
           1,
           1,
           1,
           1,
           1.2472906403940887,
           1,
           1,
           1,
           1,
           1,
           1,
           2,
           1,
           1,
           1,
           1,
           1,
           4,
           1.2472906403940887,
           1,
           1,
           1,
           1,
           1,
           1,
           1.2472906403940887,
           1,
           1,
           1,
           1.2472906403940887,
           1,
           11,
           1,
           1.2472906403940887,
           1,
           1,
           1,
           1,
           1,
           1,
           1,
           1,
           1,
           1,
           1,
           1,
           1,
           2,
           1.2472906403940887,
           1,
           2,
           1,
           1.2472906403940887,
           1,
           1,
           1.2472906403940887,
           1,
           1,
           1,
           1,
           1,
           1,
           6,
           1,
           1.2472906403940887,
           1,
           1,
           1,
           1,
           1,
           1,
           1,
           1,
           1,
           1,
           3,
           1.2472906403940887,
           1,
           1.2472906403940887,
           1,
           2,
           1,
           1,
           1,
           1,
           1,
           2,
           1.2472906403940887,
           62,
           1.2472906403940887,
           1,
           1,
           1,
           1,
           1,
           1,
           1,
           1,
           1,
           1.2472906403940887,
           1,
           1.2472906403940887,
           1,
           1,
           1.2472906403940887,
           1,
           1,
           1,
           1,
           1,
           1,
           1,
           1,
           1,
           1,
           1,
           1,
           2,
           1,
           1,
           1,
           1,
           1,
           1,
           1,
           1,
           1,
           1,
           1,
           1,
           1.2472906403940887,
           4,
           1.2472906403940887,
           6,
           6,
           1,
           1,
           1,
           1,
           1,
           1,
           1,
           1,
           1,
           1.2472906403940887,
           11,
           1.2472906403940887,
           1,
           1,
           1.2472906403940887,
           1,
           6,
           1.2472906403940887,
           1.2472906403940887,
           1,
           1,
           1,
           1,
           1.2472906403940887,
           1,
           1,
           1,
           1,
           1.2472906403940887,
           6,
           1,
           1,
           1,
           2,
           1,
           1,
           1,
           1,
           1,
           1,
           1,
           1,
           1,
           1,
           1,
           1.2472906403940887,
           1,
           1,
           1,
           1,
           1,
           1,
           1,
           1.2472906403940887,
           1,
           1.2472906403940887,
           1,
           1,
           1,
           1,
           1.2472906403940887,
           1,
           1,
           1.2472906403940887,
           1,
           1.2472906403940887,
           1.2472906403940887,
           1,
           1,
           1,
           1,
           1,
           1,
           1,
           1,
           1,
           1,
           1,
           1.2472906403940887,
           1.2472906403940887,
           1.2472906403940887,
           1.2472906403940887,
           1,
           1.2472906403940887,
           1,
           1,
           1,
           1,
           1,
           1.2472906403940887,
           1,
           1,
           1,
           1,
           1,
           1,
           1,
           1,
           1,
           1,
           1.2472906403940887,
           1,
           1,
           1,
           2,
           1,
           1.2472906403940887,
           1,
           1,
           1.2472906403940887,
           1,
           1,
           1,
           1,
           1.2472906403940887,
           1,
           1,
           2,
           1,
           1,
           11,
           1,
           1,
           1,
           5,
           1,
           1,
           1,
           1,
           1,
           14,
           14,
           1,
           3,
           1,
           1,
           1.2472906403940887,
           1,
           1,
           1,
           1,
           1.2472906403940887,
           1,
           6,
           1,
           1,
           1,
           1,
           1,
           1.2472906403940887,
           1,
           1,
           1,
           1,
           1,
           1.2472906403940887,
           1,
           1,
           1,
           1.2472906403940887,
           1,
           6,
           1,
           1,
           1,
           1.2472906403940887,
           1,
           1,
           1,
           1.2472906403940887,
           1,
           1,
           1,
           1.2472906403940887,
           1,
           1,
           1,
           1,
           1,
           1,
           1,
           1,
           1,
           1,
           1.2472906403940887,
           1,
           1,
           1,
           1,
           1,
           1,
           1.2472906403940887,
           1,
           1,
           1,
           1,
           1.2472906403940887,
           1,
           1,
           1,
           1,
           1,
           1,
           1,
           1,
           1,
           1,
           1,
           1,
           1.2472906403940887,
           1,
           6,
           1,
           1,
           1,
           1,
           1,
           1,
           1,
           1,
           1,
           1,
           1.2472906403940887,
           1,
           1,
           1,
           1,
           1,
           1,
           1.2472906403940887,
           1.2472906403940887,
           1,
           1,
           1,
           1,
           1,
           1,
           1,
           1,
           1,
           1,
           1,
           1,
           1,
           27,
           1,
           1.2472906403940887,
           1,
           1,
           1,
           1,
           1,
           1,
           1,
           1,
           1,
           1,
           1,
           1.2472906403940887,
           1,
           1,
           1.2472906403940887,
           1.2472906403940887,
           1.2472906403940887,
           1.2472906403940887,
           1.2472906403940887,
           1.2472906403940887,
           1.2472906403940887,
           1,
           1,
           1.2472906403940887,
           1,
           1,
           1,
           1.2472906403940887,
           1,
           1,
           27,
           27,
           27,
           27,
           1.2472906403940887,
           2,
           1,
           27,
           1,
           1,
           1,
           1,
           1.2472906403940887,
           1,
           1,
           1,
           1,
           1,
           1.2472906403940887,
           1,
           1,
           1,
           1,
           1.2472906403940887,
           1,
           1,
           1,
           1,
           1.2472906403940887,
           1.2472906403940887,
           1,
           1.2472906403940887,
           1.2472906403940887,
           1.2472906403940887,
           1.2472906403940887,
           1.2472906403940887,
           1,
           1,
           1,
           1,
           2,
           1,
           1,
           1,
           1,
           1,
           4,
           1,
           27,
           27,
           1.2472906403940887,
           27,
           1,
           1,
           1,
           1,
           1,
           1,
           1,
           1,
           1,
           1,
           1,
           1.2472906403940887,
           5,
           5,
           5,
           1,
           1,
           1,
           1,
           1,
           1.2472906403940887,
           1,
           1,
           1,
           1,
           1.2472906403940887,
           1,
           1.2472906403940887,
           1,
           1,
           1,
           1.2472906403940887,
           1,
           1,
           1.2472906403940887,
           1,
           1,
           1.2472906403940887,
           1.2472906403940887,
           2,
           1,
           1,
           1,
           1,
           1,
           1,
           5,
           1,
           1,
           1,
           1,
           1.2472906403940887,
           1,
           1,
           1,
           1.2472906403940887,
           1,
           1.2472906403940887,
           1,
           1,
           1,
           1,
           1,
           1,
           1.2472906403940887,
           1,
           1,
           1,
           1,
           1,
           1.2472906403940887,
           1,
           1,
           1,
           1,
           1,
           1,
           1,
           1,
           1,
           1,
           1,
           1,
           1,
           1,
           1,
           2,
           1,
           1.2472906403940887,
           1,
           1,
           1,
           14,
           14,
           14,
           1,
           1,
           1,
           1,
           1,
           1,
           1,
           1,
           1,
           1.2472906403940887,
           1,
           1,
           1,
           1,
           1,
           6,
           1.2472906403940887,
           6,
           1.2472906403940887,
           1,
           1,
           1.2472906403940887,
           1,
           1,
           1,
           1,
           1,
           1,
           1,
           1,
           1,
           1,
           1,
           2,
           1,
           1,
           1,
           1.2472906403940887,
           1,
           1,
           1,
           1,
           1,
           1,
           2,
           1,
           1,
           2,
           5,
           5,
           1.2472906403940887,
           1,
           1.2472906403940887,
           1,
           1,
           1.2472906403940887,
           1,
           1,
           2,
           3,
           1,
           1,
           1,
           1,
           1,
           6,
           1.2472906403940887,
           1,
           1,
           1,
           1,
           1,
           11,
           1.2472906403940887,
           1,
           1,
           2,
           2,
           1,
           3,
           3,
           3,
           1,
           1,
           1,
           1,
           1.2472906403940887,
           1,
           1,
           1,
           1,
           1,
           1,
           1,
           1,
           1.2472906403940887,
           1,
           1,
           1,
           1,
           1,
           1.2472906403940887,
           1,
           1,
           1.2472906403940887,
           1.2472906403940887,
           1,
           1,
           1,
           1,
           1,
           1,
           1.2472906403940887,
           1,
           1.2472906403940887,
           1,
           1,
           1,
           1,
           1,
           1,
           1,
           1,
           1,
           1,
           1,
           1,
           1,
           1,
           1,
           1,
           1,
           1,
           1.2472906403940887,
           1,
           1,
           1.2472906403940887,
           1,
           1.2472906403940887,
           1.2472906403940887,
           1.2472906403940887,
           1.2472906403940887,
           1,
           1,
           1,
           1,
           1,
           1,
           1,
           1,
           1,
           1,
           1.2472906403940887,
           6,
           1.2472906403940887,
           6,
           1,
           1,
           4,
           1,
           1,
           4,
           1.2472906403940887,
           1,
           1,
           1.2472906403940887,
           1,
           1,
           1,
           2,
           1,
           1,
           1,
           1,
           1.2472906403940887,
           1,
           1,
           1,
           1,
           1,
           1,
           1,
           1,
           1,
           1,
           1,
           1,
           1,
           1,
           1.2472906403940887,
           1,
           1,
           1,
           1,
           1,
           1,
           1.2472906403940887,
           27,
           27,
           27,
           27,
           1,
           1,
           1,
           1,
           1.2472906403940887,
           1.2472906403940887,
           1.2472906403940887,
           1,
           1.2472906403940887,
           1,
           1,
           1,
           27,
           1,
           27,
           27,
           27,
           1,
           27,
           27,
           27,
           27,
           1,
           1,
           1.2472906403940887,
           1,
           1.2472906403940887,
           1,
           1,
           1.2472906403940887,
           1.2472906403940887,
           1.2472906403940887,
           27,
           1,
           1,
           1,
           1,
           1,
           1,
           1,
           3,
           1.2472906403940887,
           1,
           1,
           1,
           1.2472906403940887,
           1,
           1,
           1,
           1,
           1,
           1,
           1,
           1,
           1.2472906403940887,
           1,
           5,
           27,
           27,
           27,
           27,
           27,
           1,
           1,
           1.2472906403940887,
           1,
           1.2472906403940887,
           1.2472906403940887,
           1,
           1,
           1,
           1,
           4,
           1,
           3,
           1,
           1,
           1,
           1,
           2,
           8,
           1,
           3,
           6,
           6,
           6,
           1,
           5,
           5,
           6,
           2,
           1,
           1,
           1,
           2,
           1,
           1,
           1,
           5,
           5,
           1,
           3,
           1,
           1,
           1.2472906403940887,
           1,
           1,
           1,
           1,
           5,
           1,
           1,
           3,
           3,
           3,
           1,
           1,
           1,
           6,
           1,
           2,
           1.2472906403940887,
           1,
           1.2472906403940887,
           1,
           1,
           1,
           1.2472906403940887,
           1,
           1,
           1.2472906403940887,
           1.2472906403940887,
           11,
           1,
           1,
           1,
           1,
           1,
           6,
           1,
           1,
           1,
           5,
           5,
           5,
           5,
           5,
           5,
           5,
           5,
           1,
           1,
           1,
           1,
           1,
           1,
           1,
           1,
           1,
           1,
           1,
           1.2472906403940887,
           1,
           2,
           1.2472906403940887,
           4,
           3,
           1,
           1,
           1,
           1,
           1,
           1,
           1.2472906403940887,
           1.2472906403940887,
           1.2472906403940887,
           1.2472906403940887,
           1,
           1,
           1.2472906403940887,
           1.2472906403940887,
           1,
           1,
           1,
           1,
           1,
           1,
           1,
           1,
           1,
           1,
           1,
           1,
           1,
           1,
           1,
           1,
           1,
           1,
           1,
           1,
           1,
           1,
           1,
           1,
           1,
           1.2472906403940887,
           1
          ],
          "sizemode": "area",
          "sizeref": 0.155,
          "symbol": "circle"
         },
         "mode": "markers",
         "name": "",
         "showlegend": false,
         "type": "scattergl",
         "x": [
          0.0016104714676052705,
          0.00842757421243927,
          0.0038923718780761053,
          0.006757805376653981,
          0.00003304821432531411,
          0.03753660151779271,
          0.020181859077628428,
          0.006273009144005377,
          0.0008182154772437754,
          0.007404624689403634,
          0.004799557226144292,
          0.02071069827190161,
          0.006185533441049951,
          0.008997632929913261,
          0.0016865705086221976,
          0.008714991348435307,
          0.004218068871582781,
          0.0024515047221412623,
          0.020172135113434145,
          0.0022685326958253507,
          0.010105979717984366,
          0.000015395137968692722,
          0.0010269121367859919,
          0.01783067629210955,
          0.014695317928197789,
          0.009133707743297829,
          0.015478801559118774,
          0.013750413360661141,
          0.009338606153240428,
          0.014466496529431197,
          0.019866526651195204,
          0.0031804356447654755,
          0.017691490428717076,
          0.0008143497702609005,
          0.015635033208633343,
          0.0177522716094161,
          0.00525340248514198,
          0.0007003898075361813,
          0.008404989752756324,
          0.0008612848942018252,
          0.002402676242933799,
          0.002501845537620169,
          0.00694319945345252,
          0.0918495909749507,
          0.006238545379072906,
          0.004114473759926026,
          0.0021450529623266924,
          0.004936391431911138,
          0.004346554982082307,
          0.0009393141865889404,
          0.0009245549451711644,
          0.00556267234788051,
          0.000954803605681215,
          0.007488404013653497,
          0.001001690782851236,
          0.0014882332416365131,
          0.003605291394984637,
          0.01658085188132626,
          0.0009519365450169357,
          0.0011247404764430297,
          0.04478648107815083,
          0.011594261967910552,
          0.01723382396633245,
          0.020558932577337923,
          0.011510509037610523,
          0.007741733664018454,
          0.019817227989044506,
          0.024731096454119673,
          0.0010391604321365443,
          0.0010030481451980787,
          0.000008545257317335801,
          0.0009984790831181923,
          0.0009431675156076041,
          0.0009620377919731598,
          0.0010328262239534996,
          0.0009391777582430865,
          0.0008881039128652684,
          0.0009203054783747147,
          0.0013519228237495835,
          0.02519802716401127,
          0.00865898180554988,
          0.0007952697731356285,
          0.0025178764801995373,
          0.002894382392882692,
          0.002399531517476331,
          0.0007986636341125972,
          0.004669084398063193,
          0.0007882658684063156,
          0.018846294214212314,
          0.0005158273529053596,
          0.0018160403075304934,
          0.004782455574242949,
          0.00005584154561525912,
          0.0043960366626620475,
          0.000052454054205497136,
          0.0003806093726925238,
          0.0020392799911027474,
          0.0019252992482137162,
          0.002029221726462303,
          0.0032405638802163886,
          0.0030124853343616565,
          0.005833053445346677,
          0.0008744297798639407,
          0.024596691265340427,
          0.0016483314896936817,
          0.027168145955489532,
          0.013040848374983587,
          0.010556377755831283,
          0.002669258706646225,
          0.004152015530444823,
          0.007762793447129994,
          0.003028558553999533,
          0.002389979961739101,
          0.005423659578536337,
          0.00006904409604487955,
          0.0074384715044432,
          0.007723765535720969,
          0.002498476597828225,
          0.004038933674762145,
          0.0008732462849637947,
          0.00424484523608417,
          0.008358370725368922,
          0.007731067035627315,
          0.01603963924980688,
          0.006317577305186136,
          0.004877322576041377,
          0.00828738316134526,
          0.0017047340178457354,
          0.007972584391922125,
          0.0006600138091923129,
          0.014566551036574867,
          0.0017392441755971337,
          0.0001864737255116811,
          0.015440441288429446,
          0.00017535511169876255,
          0.003660628168047165,
          0.03949008441606368,
          0.0018956953869497973,
          0.005866673249673809,
          0.016788837853946387,
          0.022719456755922175,
          0.000194275623690078,
          0.039393727043631865,
          0.002494056723173033,
          0.01970375037738178,
          0.04395382439470988,
          0.00033634565188845076,
          0.000926267322609499,
          0.0008494402811443721,
          0.020114497785792558,
          0.004286568705437628,
          0.004477185651642174,
          0.020005558067847488,
          0.016756053703070165,
          0.019996525079656286,
          0.020090423970081848,
          0.013072516433668763,
          0.03933269852078793,
          0.008444487110102754,
          0.003937554115933086,
          0.0052179707860177,
          0.004383962633289003,
          0.004736495404079465,
          0.02594414702007935,
          0.00464933198530196,
          0.004557840326253738,
          0.004557301456857624,
          0.0037223095924519634,
          0.006129874439088936,
          0.002563326493712883,
          0.00012229451278542922,
          0.001780611024252969,
          1.4880770092535921e-9,
          0.000056316480725361605,
          0.000010337827888797121,
          0.0057519712001959785,
          0.00017261449119274365,
          0.011456632166139444,
          0.013477608387617189,
          0.006021190903468631,
          0.018226585109696127,
          0.005499190560441243,
          0.023514781856517106,
          0.0026738449677093544,
          0.002528755202840811,
          0.0004629821124558322,
          0.018767341229912943,
          0.0019422857094809304,
          0.003313853238509443,
          0.005014479675939199,
          0.002664139973780097,
          0.0026103198787757217,
          1.7728315186491498e-8,
          0.0009312887659955008,
          0.0028477959462481777,
          0.000022189304460699884,
          0.002959312999868594,
          0.009367780453318581,
          0.007626299054682811,
          0.006205539190094325,
          0.03627531825387225,
          0.010325595195989292,
          0.004623116926616064,
          0.002399577179432208,
          0.017085678384128514,
          0.008153445622637983,
          0.0028662134209670254,
          0.0031118025352728285,
          0.0027851297979383616,
          0.0024652198649600054,
          0.00002202767928290022,
          0.00017775319975618523,
          0.011453878970678661,
          0.019401285536470428,
          0.004011538102295864,
          0.013322885249798145,
          8.930921645824815e-9,
          0.014065559691569685,
          0.035665204417592654,
          0.0005450259042490707,
          0.0027961243166713906,
          0.0021333809116870664,
          0.0048903417659333735,
          0.004304787418814416,
          0.007778291003541996,
          0.0010706269394132552,
          0.0008368251899172373,
          0.019669743951749714,
          0.002931707653632972,
          0.01677116056478679,
          0.004206494748372752,
          0.00001982446093918628,
          0.0010558863334987098,
          0.0000014925494638466934,
          0.0018241507366911233,
          0.003148149795403626,
          0.02036597704961458,
          0.01868278467727505,
          0.016086719796251987,
          0.023379339390491322,
          0.017337623163035182,
          0.023433882085908343,
          0.010078065388517623,
          0.013457650093060974,
          0,
          0.018885537190163608,
          0.013055361976616334,
          0.02680885908138531,
          0.002540936492429431,
          0.007961487350135587,
          0.003861186958584206,
          0.0034272349286770067,
          0.0001867639007485303,
          0.0016742663258831907,
          0.0014356970212757972,
          0.005415789565940425,
          0.004279976525431004,
          0.00482562623006927,
          0,
          0.00999082032883671,
          0.004061263172940356,
          0.016742105446084475,
          0.00760610189661309,
          0.008968671474403061,
          0.025593922667338172,
          2.2421910446274284e-7,
          0.019568690174237336,
          0.008398733696224677,
          0.012012627283296691,
          0.0004471639840057125,
          0.019962425244695384,
          0.021075843122331604,
          0.000380344950350999,
          0.011827298950017977,
          0.030418727059744053,
          0.012593181184239697,
          0.0016490807541265859,
          0.01972072517947565,
          0.018470452537509757,
          0.0031785731829824557,
          0.000004742835742832467,
          0.006637147841253617,
          0.007035403686089606,
          0.009569677314999078,
          0.008917885884563567,
          1.1945876612605632e-8,
          0.001031078833764879,
          0,
          0.02273145368796958,
          4.536444463992129e-8,
          0.017740137402567746,
          0.001400188359314052,
          0.0008371581627137182,
          0.016071833430499,
          0.0024093737323186916,
          0.03949447077409163,
          0.012148628899366649,
          0.008327991310996138,
          0.01165093551596301,
          0.00892319514411162,
          0.03949447077409163,
          0.0028080552601426547,
          0.00002790388230943145,
          0.0013869285634194042,
          0.016009685597329768,
          0.0027826787917442147,
          0.01462890570502475,
          0.0000014561500353339288,
          7.712354960414523e-8,
          0.016387218554779922,
          0,
          0.021517236092975973,
          0,
          0,
          0.003300427271581829,
          0.002475771199459542,
          0.016396181687027007,
          0.007579793766693995,
          0.03397212307950285,
          0.03400410511977997,
          0.033721660480672884,
          0.02970597794074387,
          0,
          0.03427595046333722,
          0.03391831961317972,
          0.03411135566819501,
          0.005022202325037064,
          0.0009516205685966628,
          0.005218782525627054,
          3.587148755940451e-8,
          0.01346368117486811,
          0.03949447077409163,
          0.000990814235510314,
          0.004590883044815458,
          0.0008619236479984582,
          0.011811609914293609,
          0.010785426846044638,
          0.0012925569798679357,
          0.025896676053811112,
          0.01877595685341514,
          0.025857974559402398,
          0.008204548861270708,
          0.0005453592682957856,
          0.008226744770500031,
          0.019774526243410032,
          0.00007745998312622315,
          0.019766537791207017,
          0.028393713787610485,
          0.009438538075118694,
          0.004425793775794471,
          0.000015768868343434167,
          0.0010258593326634142,
          0.03949360803835744,
          0.00875380445748554,
          6.65863961945472e-7,
          0.003176707481549695,
          0,
          0.0010707607598198921,
          0.024497640650243596,
          0.00040943061690238114,
          0.006934434842283672,
          0.020042798411367378,
          0.017917232086979377,
          0.0004032511730629478,
          0.019087169773209622,
          1.0269076441264483e-7,
          0,
          0.01810494286003365,
          0.004032967751069961,
          9.630146640211617e-8,
          0.0006964332231173446,
          0.03940454816284255,
          0.0008269048159880577,
          0.001998770213411728,
          0.0041050369760012705,
          0.03592541093904693,
          0.014212980711222074,
          0.039480183996402844,
          0.021973559974318446,
          0,
          0.0005202641040525049,
          0.047377057427900326,
          0,
          2.716302099909941e-7,
          0.00003987058179409928,
          0.011343807431620508,
          0.01960162425174659,
          0.0008049401786326042,
          0.0011665364847217301,
          0.006398691678179019,
          0.01633012334091924,
          7.944939251455816e-8,
          0.018172143643880798,
          0.004914110558355736,
          0.002669317602116035,
          3.486744307997454e-8,
          0,
          0.016686035242690564,
          0.0010538304756996229,
          0.0008698905043736089,
          0.026314808246837112,
          0.017601599249553658,
          0.0013755784838968476,
          0.0035774338509471887,
          0.03647588656948992,
          0.016043568783510837,
          0.02036936906939014,
          0.013312468012361607,
          0.00004978248442729082,
          0.014807619650767236,
          0.007792078695929087,
          0.0000011615167805783305,
          2.4532772021889742e-8,
          0.002501311229084888,
          0.03939908749202745,
          0.012736929218425912,
          0.000561182093713442,
          0.01858571416877086,
          0.026845593229521132,
          0.011711231564526864,
          0.000019537017092725523,
          0.000006673298221902638,
          0.01846659940936153,
          0.0000010169012507610092,
          0.009158109599783096,
          0.0032577174996766783,
          5.32692432272929e-8,
          0.0011385376351663707,
          0.02630556939107878,
          0.03874933526871728,
          0.017142755189124274,
          0.0012577254161112697,
          0.00039338833486289007,
          0.039292339737466354,
          0.0000010653695798577147,
          0.010337957755009963,
          0.010568319636531312,
          0.017244917234205424,
          0.010437312722456658,
          0.00030287051332212835,
          0.009938111980615415,
          0.0035112202796599924,
          0.003027314660716828,
          0.022474798640013886,
          0.0036509570559510904,
          0.014218434779672889,
          0.007805797782559857,
          0.0000037996730447378316,
          0.009559634306845404,
          0.01944158732031727,
          0.006320890114817056,
          0.0033961115024469346,
          0.009398382122260985,
          7.713120354759e-7,
          0.0060232793611424956,
          0.007942426999711328,
          0.005699120484162695,
          0.005200201367417212,
          0.0008357190383531762,
          0.006916774762408285,
          0.0008083596214725988,
          0.00047006516267564474,
          0.0008679549860185804,
          0.00008649802212554331,
          0.01818829768299683,
          0.00028829588626045786,
          0.007368765710177629,
          0.009593502222589834,
          0.00218219052272767,
          0.03488400036018378,
          0.03309674237390956,
          0.011322445188385735,
          0.03475330561276513,
          0.02193146755391511,
          0.005593602288572633,
          0.010010391775296942,
          0.0021847546431274043,
          0.001370539452458516,
          0.009457006204680509,
          0.010362013224846561,
          0.0033442956216759275,
          0.009758045863159263,
          0.002210939607996777,
          0.011741105042813076,
          0.001322083845861965,
          0.00008991329155631843,
          0.019070839695121147,
          0.012337057088499236,
          0.039494465789653106,
          0.0106288209861198,
          0.0036020323778693437,
          0.004191666981232974,
          0.010773415475880104,
          0.0172564695952082,
          1.2797859549162128e-7,
          0.0020193778573061247,
          0.0021394484498969977,
          0.005984197409679824,
          0.033390519892166605,
          1.4923791135445615e-9,
          0.008716010257833504,
          0.01990936005274081,
          0,
          0.009777764952201281,
          0.01942388679094647,
          0.0022169258332009104,
          1.4907012868688443e-8,
          0.002258612400457851,
          0.04356309456966743,
          0.03824354945357433,
          0.00044719278513805425,
          0.000004567393709105738,
          0.039489276821264095,
          0.00494348627237601,
          0.008650479173527197,
          0.015728192803659564,
          0.0026895772154845185,
          0.002464784563554891,
          0.005330898612894962,
          0.023988062690334964,
          2.9707722587059594e-8,
          0,
          0.011349981878874961,
          0.0033352401550018258,
          0.00184862509861815,
          0.0020469457504919556,
          0.004599616839955009,
          0.0014005013469900037,
          0.0000033565030975602353,
          0.0010728704471722236,
          0.0011122906572053777,
          0.0007436228930299135,
          0.0014913202871166674,
          0.00033914655061562744,
          0.01595258842945064,
          0.0007443314872452131,
          0.001170769930414397,
          0.03949447077409163,
          0.04212315556219558,
          0.012427855029099304,
          0.0722044191851065,
          0.00413223187308593,
          2.5168456686553345e-7,
          0.03506999158952949,
          0.03241458389957711,
          0.030285922591892205,
          0.012969165900824482,
          0.03949447077409163,
          0.0010846358405261958,
          0.0028750624533087593,
          0.0010290250829632207,
          0.000773861499488852,
          1.490700428292692e-8,
          0.03933369638488533,
          0.000005414166073205811,
          1.1761400237330738e-7,
          0.029143714974616812,
          0.011132857046170744,
          0.00003414971213878444,
          0.0000395707511351493,
          0.015005853228543498,
          0.0006555335023607662,
          9.460098327192864e-7,
          0.003979457436311988,
          0.013115179252669501,
          0.02041036043048743,
          0.002527313000902945,
          0,
          0.017327620270788643,
          0,
          0.03949447077409163,
          0.0013962419304440247,
          0.03949447077409163,
          0.00000677701717447998,
          0.0020613665956875707,
          0.022361166756029827,
          0.000012863305213250907,
          0.0000010788500184083922,
          0.006360449610476427,
          0.01130246174403066,
          0.0034357239865096356,
          0.01722222781276398,
          0.000004592120827416645,
          0.0037725267255850742,
          0.002380655818953368,
          0.012115751264303205,
          0.002026986012235482,
          0.00010182006013788081,
          0.010424571560662814,
          0.03949447077409163,
          0.03945131840115967,
          0.015264578517889416,
          0,
          0.00012131613446968907,
          0.0017558404868394536,
          0.016767027674531504,
          0.018510306289033024,
          0,
          0,
          0.0008805747184408628,
          0,
          0.01944995956899826,
          0.0027585425369666006,
          0.01983443016140397,
          0.01583662049602559,
          0.01309640818497095,
          0.0034087421044828713,
          0.0016988630725335483,
          0.023940040955816186,
          0.019551329683039263,
          0.00021777465271235894,
          0.014608538924631393,
          0.0000023605498430970397,
          0.000005549634750805708,
          0.0055493928946675364,
          0.015633954575436464,
          0.000004272876567590558,
          0.016932565469580926,
          5.011926958326897e-8,
          0.019176317483184803,
          0,
          0,
          0.01810461383349357,
          0.022680393863069335,
          0.001315666747432859,
          0.03949424205301365,
          0.002223926326166128,
          0.0020967476185697717,
          1.8788574578675393e-9,
          0.008203006961827417,
          0.0039894092092153865,
          0.00212480248955463,
          0.00007237878200896516,
          0.00044315569064057845,
          0.018998015248191558,
          0.0016078817139723877,
          0.01648382182100979,
          0.019648817821474727,
          0.017588656081682308,
          0.0021204296140511923,
          0.006075524433343534,
          0.039485012200664575,
          0,
          0.006087213087187165,
          0.0000011934198396701891,
          0.0011443843993464145,
          0.02239375771088808,
          0.019726882696750603,
          0.037407944184587524,
          1.4680952562683663e-9,
          0.010104476480414772,
          0.0029513366619209184,
          0.011119998923718209,
          0.0005867571610749914,
          0.016497393015939877,
          0.0036789761658322117,
          0.019971381778812095,
          0.03948782965053638,
          0.039494090733184294,
          0.0013080913086163217,
          0.0009751993019258341,
          0.024053033132865,
          0.023939894406868736,
          0.0000010551008611646746,
          0.001838986973189158,
          0.01706706383801223,
          0.0000034689563242294406,
          0.0000011935433274756014,
          0.00000541467985983525,
          0.002874719344058835,
          0.002683566837941365,
          0.026470237015126394,
          0.01495320680547422,
          0.000001921206846350023,
          0.0001550441507803245,
          1.6300909425676796e-9,
          0.007857781706054457,
          0.018553726847603823,
          0.0016352365326046839,
          0.005066456546502343,
          0.000004488029798960279,
          0,
          0.000004804670468329196,
          0.0012084838149125268,
          0.00010324585854618456,
          0.009089668392293764,
          0.0000014922814258893,
          0.0036118864416279225,
          0.004413731118617312,
          0.0038131750740762888,
          5.498933104317711e-8,
          0.0022426926930203712,
          0.000001795529810761469,
          6.672496429163926e-7,
          0.0000033770751245786343,
          0.002020957977731394,
          0.0009978068115910055,
          0.003943754773592079,
          1.9070099695211757e-7,
          0.0019167666951808739,
          0.018369553243763548,
          0.03949447077409163,
          0.044252434205800814,
          0.019705656375375826,
          0.03949347394889836,
          0.013045750365489217,
          1.1945796825054624e-8,
          0.0008652343406580992,
          6.515530422669593e-7,
          0,
          0.037571028131097486,
          0.0019952805419317468,
          0.019753980136633396,
          0.017827418581487717,
          0.03949447077409163,
          0.0010149851924585386,
          0,
          0.0194399267961343,
          0.00044693746503319767,
          0.012656946452079997,
          0.03949447077409163,
          0.01920227434447762,
          0.00048690379309455537,
          0.000005828476424396533,
          0.0032117575611772466,
          0.031194060234903384,
          0.03949447077409163,
          0.009545281619690916,
          0.00034102641064242216,
          0.01678387151934643,
          0.0005382109305114309,
          0.014311028707704962,
          0.02509078397154254,
          0.012601960347043197,
          0.001813043535578646,
          0.006403338527400974,
          4.995362266967778e-8,
          0.0009308711217348226,
          0.004957978035831929,
          0.0018818925622037406,
          0.017622673425044255,
          0.012392607467546507,
          0.001891517785475256,
          0.00003767743223408154,
          0.02848226229532572,
          2.7056805934302703e-7,
          0.0003467812144812736,
          0.0010287263957522684,
          0.0012071735994216197,
          0.012526278979343308,
          0.004476926371833154,
          0.00421603124418002,
          0.0000012160804185963696,
          1.4206894935681767e-9,
          0.03948537019590349,
          0.002071426220862268,
          0.03949447077409163,
          0.005423918120435524,
          0.0017219868125313228,
          0.014210883427994044,
          0.03945519331108364,
          2.343195132100557e-9,
          2.3432076628726057e-9,
          0.03949447077409163,
          0.00029827776129049294,
          0,
          0.0007272347768441253,
          0.04016217078442006,
          0.03949447077409163,
          0.019185939717300683,
          0.004188325182135946,
          0,
          0,
          0.021825948047679237,
          0,
          0.013214388016486186,
          0,
          0,
          0.032513220344045385,
          0.002771179833866913,
          0,
          0.03910344767800133,
          0.00006226592010689734,
          0.0065008922553716755,
          1.0495543157254559e-8,
          0.02192236981377048,
          0.0018860918321842977,
          0,
          0.013404005050389058,
          0.07770029940663613,
          0,
          0.0012779725260972398,
          0.03949447077409163,
          0,
          2.4524980274032337e-8,
          1.6575727115420896e-7,
          7.990399074032698e-8,
          0.03949447077409163,
          0.01035584601768092,
          0.0000025564956131462183,
          0.008530968612952794,
          2.540179196794232e-7,
          0.001422575174472464,
          8.946857131277549e-8,
          0,
          0.000989382425178424,
          0.018213660036276145,
          0.0011355412538710398,
          0.01972238868448379,
          0.001652453008035352,
          0.000018829246922397008,
          0.010292027943157997,
          0.00008279258429002643,
          0.000001966963045491405,
          0.00032258135208101566,
          0.03729655599130384,
          0.0007991637814771768,
          0.0005744779858211966,
          0.005061217100769892,
          0.020971085511363115,
          0.008214529682114653,
          0.0006551357812708797,
          0.002079861425340203,
          0.006409443028227162,
          0.010889355054709858,
          1.3427482599677572e-8,
          0.011979948841455665,
          0.03910776351701056,
          0.005497893940042738,
          0.00009516338601141154,
          0,
          0.0000013337643464027113,
          0.02521810009723792,
          0.028182880954721996,
          3.591767872143491e-8,
          0.01602200316765521,
          0.03529241262058876,
          2.319746925834079e-7,
          0.015526794941689188,
          0.02419175280772234,
          0.002057998611830096,
          0.005269722032209235,
          0.0027785282184517963,
          0.0005967124990715287,
          0.0032775733954578013,
          0.01559945379583612,
          0,
          0.01704142161423649,
          0.03949447077409163,
          0.0045788054943115344,
          0.0016241933245773187,
          0.03949447077409163,
          0,
          0.009318030561694553,
          0.03949447077409163,
          0.03949447077409163,
          0.0023238978036090774,
          0.0349779087903935,
          0,
          0.010066559396816591,
          0.02094472947496618,
          0.0000018076075225046421,
          0.00000197417155833074,
          0.0000019120754951947316,
          0.0000017406299272911194,
          0.0000014714844481608619,
          0.0000016988420052022166,
          0.0000018795326604922245,
          0.016816368488333282,
          0,
          0.0021470876858671675,
          0.0010387447428774348,
          0.0092774701664549,
          1.4280215830938665e-8,
          0.010723075735484592,
          0.03661182986403913,
          0.02544684031585822,
          0.03949447077409163,
          0.0036751752247165316,
          0.006279221530074962,
          0.008229066279180465,
          0.0021654230715841332,
          0.003939132137859961,
          0.005401712582559398,
          0.004108996099605988,
          0.020039310669485225,
          0.000021328660932141502,
          0.0052439949936427905,
          0.000020583651150025937,
          0.000020698242229706397,
          0.001849943404824301,
          0.0009729682432107218,
          0.0000016887114321588172,
          0.022157388704268106,
          0.010292600819129642,
          0.008632836094646278,
          0.014601886039234457,
          0.008388082111776399,
          0.010438928036053887,
          0.023537255990276666,
          0,
          0.0026491159462395057,
          0.0015993441598535192,
          0.0016204629934245302,
          2.5587880191919996e-8,
          0.00902321098463528,
          0.0019546532802657496,
          0.0017037490317047183,
          0.008589545904137536,
          0.0037525170322167283,
          0.0016462367746057703,
          0.009574273655645048,
          0.0070375201452993015,
          0.0017167469625315645,
          0.0036252042305963492,
          0.009503063812001522,
          0.00044749451071435226,
          0.00044712726469149807,
          7.669231543386958e-7,
          0.005955313096467053,
          0.00018444898648635555,
          0.03802837514283707,
          0.00014922539008541266,
          0.000023598438507005362,
          0.018923166878442366,
          0.028785912259409914,
          0.016211859129222208,
          0.004489942958439193,
          0.000004564848357425404,
          0.0001390998019337754,
          0.0008398268926883558,
          0.0008650392492101773,
          0.0011311840480908268,
          0,
          0,
          0.017415571532248052,
          0.004911981914371375,
          0.023173953835580997,
          0,
          0.03949447077409163,
          0.03949447077409163,
          0.03949447077409163,
          0.03949447077409163,
          0.0014748059033140356,
          0.06288274059335687,
          0.03949447077409163,
          0.00001490723162594802,
          0.000008157524699237916,
          0.0000075401575333514385,
          0.000008157287779249983,
          0.000006004537009799763,
          0.0000016306717056558422,
          0.00037062829118369534,
          6.553069985077344e-7,
          0.007091009968258965,
          0.01103677089479531,
          0.00013697927766907956,
          0.019083693270664552,
          0.017397303433081098,
          0.008399731752097519,
          0.017762878239709644,
          0.000014925175204429781,
          0.0010416643613204372,
          0.0000012494136924082453,
          0.0030190995268467302,
          0.025447107225309188,
          0.011950553119512682,
          0.0049418939741444805,
          1.492411030561198e-9,
          0.0008560635674385987,
          0.002458288487891876,
          0.0006577165152690477,
          0.006513611068510111,
          0.019487365062560266,
          0.0008681732748699113,
          0.004686939178530292,
          0.0015176365475763859,
          0.0006488505230463584,
          0.000647917524709088,
          0.0006493187756193651,
          0.00002338971146757509,
          0.000023840709440747904,
          0.000022120597000139863,
          0.009036287884500461,
          0.000008096207801091992,
          0.027130653955352052,
          0.00044724106339921033,
          0.03949447077409163,
          0.0000011956884234708193,
          2.406927256529766e-9,
          0.008702220746270082,
          0.0008565598279179879,
          0.0000030659489713639743,
          0.000009371577422743987,
          2.583976847525511e-9,
          3.545362458787737e-9,
          2.3688193913916533e-9,
          2.3726223716517494e-9,
          1.1945509450092859e-8,
          1.1945509450092859e-8,
          0.0022127506928481477,
          0.000528355236895128,
          0.011611969660961664,
          0.000028327290709275363,
          0.000028328896275699224,
          0.000028325692165716514,
          0.00002832871864503465,
          0.000028327642181199214,
          0.000028327114317679876,
          0.000055644811245722974,
          0.036288328686755245,
          0.036288328686755245,
          0.005129972590994421,
          0.036288328686755245,
          0.036288328686755245,
          0.03595755016106829,
          0.036288328686755245,
          0.00377637318731114,
          0.023299807741735654,
          0.0018425757540879134,
          0.0000010379059210258096,
          0.03934512604226259,
          4.6181657635043776e-7,
          0.01652163898577928,
          0.011421541800105597,
          0.014514555462094177,
          0.0014498500228723782,
          0.0014846870346109302,
          0.001451983481799161,
          0.0014782386358555956,
          0.001649517492615652,
          0.010352121957251123,
          0.06340242392090426,
          0.012991091806822166,
          0.014354168825125625,
          0.00989629507443322,
          0.0008375784159772346,
          0.017824396929744333,
          0.0030760027585763797,
          0.001315542638783956,
          0.008395446576430612,
          0.0013582560780436715,
          0.002541042299653811,
          0.001160401655920684,
          0.0004472892657347624,
          0.00017830556976578907,
          0.008322918408609353,
          0.012646776631746666,
          0.01154926321567452,
          0.036345787192576286,
          0.00021327001349447688,
          0.01934893644032211,
          0,
          0.0012796826891903722,
          0.017256854119704713,
          0.01018134843644089,
          0.0018723712393530821,
          0.014739636143117529,
          0.02131111505169094,
          0.012006686953599341,
          0.002822006556078977,
          0.000018825771762718484,
          0.000001113675978785787,
          0.028482352351900126,
          0.0183687552325076,
          0.017603477343250733,
          1.1945254110957209e-8,
          0.0011257547353056754,
          0.02941092272322657,
          0.00003979604769910692,
          0.0001463580887119249,
          0.015587516090398972,
          3.0702667521488947e-8,
          0.021085942761202358,
          1.4919727777392678e-9,
          8.102027455326617e-7,
          0.03949447077409163,
          0.06578901879266136,
          0.06578901665390767,
          0.06578901665390767,
          0.03949447139720272,
          0.03949447244888646,
          0.03949447139720272,
          0.039494472006280146,
          0.039494472006280146,
          0.03949447077409163,
          0.03949447077409163,
          0.03949447077409163,
          0.03949447077409163,
          0.03949447077409163,
          0.03949447077409163,
          0.03949447077409163,
          0.03949447077409163,
          0.03949447077409163,
          0.03949447077409163,
          0.03949447077409163,
          0.03949447077409163,
          0.03949447077409163,
          0.03949447077409163,
          0.03949447077409163,
          0.03949447077409163,
          0.03949447077409163,
          0.03949447077409163,
          0.03949447077409163,
          0.03949447077409163,
          0.03949447077409163,
          0.03949447077409163,
          0.03949447077409163,
          0.005247382334242569,
          2.8264913683885e-8,
          0.005095868217963499,
          0.001849401055425106,
          2.5294560904687116e-8,
          0.00042316538519989014,
          0.001734235298001998,
          0.00751496447314197,
          1.0306980817985675e-7,
          0.03949447077409163,
          1.3161954480923653e-7,
          1.0287026652914264e-7,
          1.0296563246874386e-7,
          1.0301629289607519e-7,
          1.0297086190131764e-7,
          1.029401412782083e-7,
          1.0301056907836258e-7,
          1.0299724339588474e-7,
          1.0305018399921058e-7,
          1.0296507679489806e-7,
          1.0302784258226522e-7,
          1.030671255883548e-7,
          3.7097013835902954e-7,
          0.03949447077409163,
          0.03949447077409163,
          0.03949447077409163,
          1.5420474209021819e-9,
          5.154545281295188e-9,
          0.000017202404396033023,
          9.461503411319774e-8,
          0.00044746179284518904,
          0.013156131987598125,
          0.0003223232329129018,
          0.006881934655717706,
          0.01952016997986041,
          1.6275877872242842e-7,
          0.000006032721806997479,
          1.0298928793378464e-7,
          0.000008777704690418048,
          0.0000031974745733101825,
          0.008034357074678894,
          0.03949083714036242,
          0.003914630873432582,
          1.4925576444849128e-9,
          0.019071688185737866,
          0.008451005287080654,
          0.017937727392188168,
          0.0000011933397538526274,
          0.002704009433743947,
          0.004112161293423886,
          0.006207278447226279,
          0.0015938280839178202,
          2.4738143338307023e-8,
          0.0002587022891038982,
          0.002600906768759087,
          0.004372915539323194,
          0.023659690080713443,
          0.0018420453537563288,
          0.008054131257727378,
          8.110484396201821e-7,
          0.005093749060557542,
          0,
          0.0145534260459446,
          0.013051597756025565,
          0.03944790637070248,
          0.0018059499185432847,
          0.0012341568239299027,
          0.01662616292396197,
          0.0004471904295574375,
          0.0011343355603011965,
          1.0137424781853158e-8,
          0.016002733318075384,
          0.03201429024294346,
          0.0033593212516750447,
          0.03769266570346979,
          0.00037545436233204116,
          2.1243029431864863e-8,
          0.0036277647546668255,
          0.0076576742003920655,
          0.009719736182006963,
          0.00019149138042000527,
          0.0001812468290624678,
          0.013012265920900773,
          0.02461448834461458,
          0.0001700673717300878,
          8.469525171986556e-7,
          0.014235144722275956,
          0.037606142866971594,
          0,
          0.0005965104966564167,
          0.010398235261560447,
          0.013841251944677002,
          0.0000033472997924324258,
          0.00044730386794645047,
          0.0022621266587575946,
          0.002148081860396885,
          0.022229346690821633,
          0.0012487617410409432,
          0.02440592375458986,
          0.012985123357087796,
          0.0032394968007521028,
          0.024341416528943255,
          0.03949447077409163,
          0.006961988868445032,
          0.025505133412898534,
          0.010652797028371493,
          1.4925576433311683e-9,
          0.0008917906874100595,
          0.01956127188140634,
          0.000023368963606454965,
          0.022198908061031038,
          0,
          6.899657576806512e-7,
          0.00020123670559679942,
          0.0000016813135112530846,
          0.00014713184826416033,
          0.0000075807375216878595,
          0.07084823380035192,
          0.021835708996273864,
          0.039124548002421385,
          0.00174967312533607,
          0.006694641501324722,
          0.01972074505651922,
          0.00026600852759925956,
          0.01633430966633784,
          0.010061434393161052,
          0.007141757463910583,
          0.008705656438853362,
          0.010576804269446469,
          1.193333208128181e-8,
          0.07534174364972783,
          0,
          0.00048267002563513186,
          1.6407171608810428e-7,
          1.0300021991337251e-7,
          1.0296776467971262e-7,
          1.0297971054954089e-7,
          1.0288633446726522e-7,
          1.0297774388470262e-7,
          1.0298869772632072e-7,
          1.0296159465441193e-7,
          1.0284841910500766e-7,
          1.0289916694891226e-7,
          1.0293412639548023e-7,
          1.0291157659843807e-7,
          1.0293278364878054e-7,
          1.0294827916356807e-7,
          1.0291308350764773e-7,
          0.010145598512524898,
          0.02660298421079165,
          0.03798608738293352,
          0.016412537756532567,
          0.00042376092233580124,
          0.009308517776718052,
          0.020119323156834682,
          0.005434644779404293,
          0.002041978925734356,
          1.1233458924786591e-7,
          0.00044749759959496384,
          0.00008579872921862878,
          0.0000012351937154320918,
          0.027376072203267248,
          0.018895902453376266,
          0.0022759697399711335,
          0.00026756887043555153,
          2.493341390422765e-8,
          0.019167805109001082,
          0.027994200297094034,
          0.03949267048479502,
          0.01612177381395689,
          0.007143623729743953,
          0.013602083229617045,
          0.00925276885130665,
          0.04121671545491517,
          0.04138876897332869,
          0.025684992623304967,
          0,
          1.1325326374318451e-7,
          0.03949447077409163,
          0.0005737946242734535,
          0.0005506830294625026,
          1.4925576432015326e-9,
          1.4925576431230248e-9,
          1.49255764306505e-9,
          1.4925576431901704e-9,
          1.4925576431197389e-9,
          1.4925576432593986e-9,
          0.006628368583853909,
          0.026452685555882913,
          1.4925576432369193e-9,
          0.03943590232970792,
          1.492557643271771e-9,
          1.4925576433084194e-9,
          1.4925576600883255e-9,
          1.4925576600717687e-9,
          1.492557643350696e-9,
          1.47369662390418e-9,
          0.0002567636550065944,
          1.4925576430848037e-9,
          1.4925035172704962e-9,
          1.4227331211872444e-9,
          0.003054215719107489,
          0.00000811356757155286,
          0.002569697568509794,
          0.0006660415784954964,
          0.00018627330902945915,
          0.049802334879829574,
          0.05824940510121063,
          0.03949447077409163,
          0.0009653612613063752,
          0.0007784288995569841,
          0.02169867907062879,
          0.0004482977769476768,
          0.013030181764337132,
          0.01974783517112511,
          0.03949447077409163,
          0.009507557892707208,
          0.004527305092620759,
          0.003408238654722603,
          0.0020663305660607503,
          0.0007423852445611852,
          0.000016647082638972744,
          0.000659515040418018,
          0,
          0.0032455396832071163,
          0,
          0.00000384374458515501,
          0.004815038779516891,
          0.000019523300452843797,
          0.002610669573014624,
          0.000002273091136506047,
          0.0005037460161563257,
          0.0018151648994723978,
          0,
          0.01657743750462902,
          0.0009597403231513514,
          0.0011635754220480161,
          0.003836241008689847,
          0.01382586827398285,
          0.0000011939120843024483,
          0.009448398037240478,
          0.00263667133104929,
          0.03946572141703009,
          6.193913334779233e-8,
          0.01849190286515724,
          0.0009429002732558159,
          0.0014566061568333877,
          0.0019214052490010335,
          0.00014819302260767037,
          0.03287496362712002,
          0.01222107194966191,
          0.013592172323334503,
          0.0031961790244461486,
          0.000743123594112392,
          0.0030391567442501987,
          0.004943442604460905,
          0.002592569035256473,
          0.00229070320320277,
          0.014182848472478308,
          0,
          0.0017748255881395757,
          0.015459837666966986,
          0.006010327507166268,
          7.119515208515378e-7,
          0.019747310037045815,
          0.01404030167600128,
          0.0008535743013075717,
          0.03497982808652644,
          0.00462476567036143,
          0.0014989675121596488,
          0.0004474087930781583,
          0.03949447077409163,
          0.002399289868622843,
          0.03865302081626903,
          0.013703062745135167,
          0.01195436873245646,
          0.014596323076677907,
          0.0018301004224802852,
          0.0023571040395508848,
          0.014450069990723208,
          0.020681142162160274,
          0.0008636335058026372,
          0.018224324198243186,
          0.00008935754519647002,
          0.00003857735155450256,
          0.01580599191094655,
          0.01653013392163784,
          0.03944651029672913,
          0.039455776827614496,
          0.004621833046961132,
          0.01089058774566437,
          0.000014906346753800342,
          0.015881129901297256,
          0.022200748200172992,
          0.0009005525302219315,
          0.006290446541375114,
          0.012699812470013812,
          0.0000371847764158646,
          3.166595351170484e-8,
          0.011595965154808307,
          0.01026013252948929,
          1.5791465510623726e-8,
          0.007568089874831046,
          0.003319736302925781,
          0.03930992599769864,
          0.0000055602890386179954,
          0.016555678106445273,
          6.641775537045157e-7,
          0.01807905150136435,
          0.001408586349589383,
          0.0007249974369967396,
          0.006177697548803732,
          0.0010896890197622125,
          0.00042557258688639445,
          0.006105870521078392,
          0.0009343859353913954,
          0.000004918574308256127,
          1.0646007666721132e-7,
          0.006978686708408279,
          0.018223112836284673,
          0.01873761039124141,
          0.030718639574461547,
          0.002095519410020806,
          0.012876610439374743,
          0.000440210179779041,
          0.0015237514094099515,
          0.0006824284309182233,
          0,
          0.027890414191313027,
          0.03358135589906245,
          0.018359291090023083,
          1.2261224964731877e-7,
          0.014280624614519863,
          0.018151083862801377,
          0.00003242526564012875,
          0.00579088160721994,
          0.017882331840083917,
          0.017012118342407536,
          5.245052073318561e-8,
          0.0003659386013103338,
          0.01592658257542912,
          0.01972663483709525,
          0.003930279842203562,
          0.000056637425475561765,
          0.006882633219914307,
          0.013249044672543477,
          0,
          0.019658390712946346,
          0.03507354142142518,
          0.014025671955535935,
          0.002676290865405712,
          0.012450992964173737,
          0.013139546882191745,
          1.4925576541845429e-9,
          0.00011945570805339382,
          1.421052883023056e-9,
          0.006815810759410571,
          0.002274591632054805,
          0.00010065955746993697,
          0.000022332595297278142,
          0.015247729442778565,
          0.00013160840521956533,
          0.014458158656024131,
          0.0006725968123051827,
          0.005239395081183114,
          0.0016577407370385567,
          0.00480535471828973,
          0.008744223122633444,
          0.0002738693428025811,
          0.0005361187182020468,
          0.001744457014902967,
          0.009563765012420898,
          0.00025656387808342494,
          0.019747981687045814,
          0.000012857567325996027,
          1.4575487772472092e-9,
          0.009470845949150337,
          0.008661587887789968,
          0.00024463795818694604,
          0.00717565485360649,
          0.015254279558389516,
          0.01878999545350337,
          0.0001353168887868699,
          0.014308581085708169,
          0.01905370909410281,
          0.00015166643786709727,
          0.015562670607212462,
          0.00014926692141868582,
          0.018459524229649214,
          0.007531981165096499,
          0.019725128621995408,
          0.005251621666604774,
          0.0015485097255290715,
          0.000012823553274860047,
          0.018383987956669196,
          0.02556911709710409,
          0.000024027318803633126,
          0.01879632961614258,
          0.000006953152761229911,
          0.014855014314114129,
          0.019764039075299444,
          0.015876421248341474,
          0.01948809864826571,
          0.0010121354057944876,
          0.00014867485182490728,
          0.007944248198623126,
          0.019811163368826365,
          0.0016337933118304008,
          0.00027489202834356295,
          0.01187226130635779,
          0.0000225967275991157,
          0.000023873969550104074,
          0.036616634452882324,
          0.0020011585057120723,
          0.0022888924992958137,
          0.0064538980348070405,
          0.03724971453133876,
          0,
          0.0007480472081853473,
          0.0004178375969638382,
          0.0066460897829920635,
          0.03949447077409163,
          0.019596416766535854,
          0.0032225600101860284,
          0.005920725688477989,
          0.0006481560595387387,
          0.0005985773010891051,
          1.1936322774394939e-8,
          0.000039687501538286814,
          0.018946600997293794,
          0.011143515371753015,
          0.008777191455568843,
          0.00006112078337136227,
          0.00034164593416358455,
          0.01662265608285992,
          0.007880890971017095,
          0.007926082308446745,
          0.01319828530561301,
          0.019679767938086404,
          0.00003425554637937362,
          0.019752181216433396,
          0.026566857603001724,
          0.03748986629731262,
          0.013592816167823579,
          0.00005019883347114861,
          0.0017818183381437828,
          0.00024341416746683062,
          0.0010528456982083227,
          0.012441982226082336,
          0.000006641597544936432,
          0.0070615097712470485,
          0.0005953715149768432,
          0.019970551155100075,
          0.0387862019714602,
          0.000033890983410620077,
          0,
          0,
          2.6316409873563067e-7,
          0.008356373445009672,
          0.0017300176254053088,
          0.008915157127949496,
          0.0017409220042189962,
          0.0014490133222859742,
          0.007779112574456243,
          0.017294296416754226,
          0.013579513255017363,
          0.01419030293742578,
          0.019755492736747662,
          0.0005247589541021602,
          0.03783958702213922,
          0.0005066789610854056,
          0.00895972433705698,
          6.722836764178998e-7,
          0.014455807859192876,
          1.0294558088215898e-7,
          1.0298202992264956e-7,
          1.0294966380892487e-7,
          1.0304834284270747e-7,
          1.0298177664483988e-7,
          1.0162388005487306e-7,
          1.0292776688742412e-7,
          1.0292640901354247e-7,
          1.0298496903606084e-7,
          1.0298610326413864e-7,
          1.0292770301486114e-7,
          1.0295751728664111e-7,
          1.0292227717135251e-7,
          0.019569116307283238,
          0.0018853249445373774,
          0.0006584175676515592,
          0,
          0.0014572628575017191,
          0.003800561989460746,
          0.013019706711768117,
          0.01967685383491697,
          1.0299643546006374e-7,
          0.008645607067146214,
          0.013040757867898248,
          0.000006483128646110343,
          7.025996716353808e-8,
          0.0017298614095420098,
          0.018260755378633767,
          0.022417753387781625,
          1.2860314196831492e-7,
          0.00044726594185753047,
          0.01805044412935601,
          0.018740382981977607,
          0.000001414179119940752,
          0.00028911366119535164,
          0.000029843590606448088,
          3.121688324820336e-8,
          0.0000021458133315492035,
          0.008977706904846297,
          0.002702652019489278,
          0.0025155893317573095,
          0,
          0.0048513905635273824,
          0.01570146211813398,
          0.013205024646148455,
          0.005007957157491089,
          0.015049805145351461,
          0.023784396257399087,
          0.03902831423375057,
          0.011317757475932723,
          0.00044291952132767374,
          0.000007357620305698197,
          0.003942630263778249,
          0.008197195932153591,
          0.0038874012573927555,
          0.004663992612486221,
          0.0040612628547979455,
          0.006986656543892982,
          0.013248343629948228,
          0.01320511050624164,
          0.002885165258274249,
          0.01482380457061808,
          0.0016726427270519592,
          0.010438260778320666,
          0.006796115536400468,
          6.686683018849098e-7,
          0.0008754680542414613,
          0.021865632799467793,
          0.011739567835782803,
          0.012023790770812151,
          0.038647785594028726,
          1.8363813232148407e-9,
          0.00260973788882003,
          0.019533324489342592,
          0.01618386475293452,
          0.0291436735779376,
          0.01884838626034674,
          0.00007627120479377286,
          0.017511843312097524,
          0.0387855003169379,
          0.012011809963542081,
          0.01972658697448342,
          0.005338314933907222,
          0.013313631227746871,
          0.000034204582873293434,
          0.000013011997138290153,
          0.000012979768479411754,
          0.02895981387954394,
          0.010468627021266837,
          0.03608901284262642,
          0.0000791262041878883,
          0.01842009277665892,
          0.018035846259041213,
          0.01955852337194799,
          0.02590727356737267,
          0.0002877032448051068,
          0.03949447077409163,
          0.021368992288586894,
          0.0004265019222636602,
          0.03200214928294472,
          0.000014924453962354657,
          0.000014925230463628613,
          0.000014925231842566277,
          0.000014925231806980834,
          0.000014925231871373763,
          0.000014925278553294344,
          0.00026744206612180243,
          0.000005222917699942987,
          0.0022152188231658104,
          7.605925487708123e-8,
          0.011056262529966167,
          0.023361184511855607,
          0,
          0.01695599539019479,
          0.0006795686711383261,
          0.03856321856996735,
          0.0009314659560311063,
          0.019806716755890297,
          0.012920778417936471,
          0.03946082829646385,
          1.226203072888187e-7,
          0.0000013053507082043748,
          0.01940566407681432,
          0.001840700978938876,
          0.003778973554061779,
          0.011611788544969269,
          0.0007761513026910763,
          0.0016352770496274374,
          0.015595865304842613,
          0.01924692452187089,
          0.012747815210771075,
          0.016339479907060524,
          0.019447335137274042,
          0.03942197248377659,
          1.4890111933237967e-9,
          0.01279851651141728,
          0,
          0.019253942357993957,
          6.113799386424676e-8,
          0.002866986805955481,
          0.03454447851987726,
          0.000003143565697617781,
          0.037138508907439034,
          0.01974765926001586,
          0.017351779102548547,
          0.012462473737278287,
          0.011489923496138707,
          0.006269782714491024,
          0.0009358810792744939,
          0.0007765163103878629,
          0.015277421384232548,
          0.011730142690741588,
          0.00741063431600451,
          0.00223869742786516,
          0.00039926292408240706,
          0.02352199996693118,
          0.00031835253505149377,
          0.03949447077409163,
          0.012995238469691101,
          0.022461817122789666,
          1.6500083102971856e-9,
          0.0009469784942509457,
          0.013613957744432232,
          0.014693390884939997,
          0.0004332118803053729,
          0.0020343030467556214,
          0.018759568131857318,
          0.000024422730947741415,
          0.004160157747974704,
          0.0013087237242479467,
          0.03939756930525532,
          0.004752083449255416,
          0.0001787679433526352,
          0.005784352291199047,
          0.0038632223422282713,
          0.000343236056540519,
          0.03910849102446578,
          0.018410317714062797,
          0.014872949268611093,
          0.014063362069876014,
          0.015715052921937662,
          0.0195419330573474,
          0.01288246855134395,
          0.0191483295689336,
          0.0010425713093269898,
          0.006259969976479447,
          0.01576017204470554,
          0.0004986384677588812,
          0.00022824430738604693,
          0.0000700687188361625,
          0.018226975057221758,
          0.018342860746013583,
          0.000003347984229505683,
          0.03949447077409163,
          0.007954401205591873,
          6.828812692595314e-7,
          0.004448558079148081,
          0.0064582318218508435,
          0.0005069715129842687,
          0.009564877315587347,
          0.00039197370335886464,
          0.03949447077409163,
          0.012360221120878204,
          0.00065958491281881,
          0.017165707037616135,
          0.00003874618345807499,
          0.010112496505775209,
          0.005130978203636356,
          0.00016788310410064886,
          0.039425413029936775,
          0.01916666396713505,
          0.0015244586009714167,
          0.006716917582373669,
          0.0006587202828455061,
          0.000005744109162106869,
          0.019277127135718792,
          0.012664706559059892,
          0.009468572332085883,
          0.004034984688095497,
          0.010055090164523264,
          0.0000036821332745756458,
          0.0034802620175849713,
          0.012702210592045063,
          0.0027656244721197968,
          0.001049739539302741,
          0.0182931138930281,
          0.011512674059083829,
          0.022084229516786406,
          0.011841292487435828,
          0.0022755293296293716,
          0.03457596141564725,
          0.03457596141564725,
          0.03457596141564725,
          0.03457596141564725,
          0.03457596141564725,
          1.4778736688876828e-9,
          0.012114571614662305,
          0.019728856619110353,
          0.03395859826730433,
          0.005922845235877295,
          0.0006594233793402615,
          0.011470891214430604,
          0.0006371362479223734,
          0.024254034834650152,
          0.0029267738155054767,
          0.03918072298381664,
          0.034551803895199434,
          0.00027511307891342224,
          0.0011629644189546484,
          0.011770949046690569,
          0.00007121686113303726,
          0.002077101740989173,
          0.01522334615211269,
          0.014684565765122571,
          0.019718578938641845,
          0.03949447077409163,
          0.0011427157850240476,
          0.000051525732199094194,
          0.000001528501106345026,
          0.0032144493232968,
          0.01960497837467506,
          0.03612333209355146,
          0.019027096480441215,
          0.014028220568100911,
          0.03780779232691215,
          0.0010043179652713245,
          0.01052676061127896,
          0.000445870371212193,
          0.03949447077409163,
          0.000008861416662938744,
          0.00020097381764935365,
          0.013209643868883049,
          0.007885195989985985,
          2.2178223540390303e-7,
          0.0000014924338585354448,
          0.000666128002407779,
          0.022751899929621976,
          0.01959785250397604,
          0.0036420132957198995,
          0.019709687624441297,
          1.4898598458602152e-9,
          0.0197317812728185,
          0.018764230523044483,
          0.03949447077409163,
          0.001757076941744039,
          0.012779460527526397,
          0.004313612915213914,
          0.019153106229577506,
          0.019738223141350056,
          0.03830976935131075,
          0.03857991980501369,
          0.0008714481318226731,
          0.01187696392996912,
          0.003755191431318789,
          0.017733499963535567,
          0.011943070184313785,
          0.019362816200950383,
          0.018890654011882165,
          0.019321114618132976,
          0.012863480469009782,
          0.00041745366093631965,
          0.008119860052051326,
          0.014277043663784364,
          0.03949447077409163,
          1.4925575924146042e-9,
          0.027728476053943647,
          2.0844098979126593e-7,
          0.0035614194668645836,
          0.0018730832500188938,
          0.01948654689577936,
          0.009712051115877442,
          1.4564655093594958e-8,
          0.00873042781044559,
          0.1749275420937154,
          0.0395027798895611,
          0,
          0.03949447077409163,
          0,
          0.0006556976586296429,
          0.0069543319909866706,
          0.0035242630857743084,
          0.039447216502639326,
          0.0006616394986914588,
          0.005987480221590761,
          0.0036588298017672014,
          0.008803268020192575,
          0.017519729632867877,
          0.0006508700321595687,
          0.000589198225506237,
          0.004798704307804391,
          0.0018555878635117778,
          0.035213422595843286,
          0.00000958416771197297,
          0.03948730007503348,
          0.01922020055835173,
          0.018023819951587056,
          0.004582269328473009,
          0.017546357619626286,
          0.0031438041395791937,
          0.008509398101695298,
          0.011238405220343122,
          0.01958668619946921,
          0.024668187075851822,
          0.0010331022030785687,
          0.0176642486809901,
          0.012182009017689593,
          0.020021802790155963,
          0.00014817630839768895,
          0.018798123747457266,
          0.000573733212958313,
          0.019757724702528352,
          0.000568068087436677,
          0.0011637359126890816,
          0.00894412624898272,
          0.00036191804198595716,
          0.01173401349839605,
          0.03949447077409163,
          0.011563799875900858,
          0.0012866905359150134,
          0.004355794369740871,
          0.013147774160573646,
          0.03945536803693179,
          0.0002932204806069271,
          0.01087960117918014,
          0.001842221791226118,
          0.0033210720148011616,
          0.019326425090993023,
          0.001543862817094352,
          0.007590149478257163,
          0.005223031421783479,
          0.0030483496004179993,
          0.0012798890688304175,
          0.02282665255447463,
          0.008036149427156986,
          0.012401592100383585,
          0.005306246705129942,
          0.019876898134659957,
          0.00992491821168284,
          0.0003489231612145741,
          0.49686783269104695,
          0.0017280249737029703,
          0.013552076107848202,
          0.014480256515232678,
          1.4922432252849137e-9,
          0.0014800805696184814,
          0.01602862052499031,
          0.000024293353752642843,
          0.00000680539926697738,
          0.002312091049499043,
          0.0007991007367685216,
          0.001128949624249082,
          0.017625568379178728,
          0.010214746634736795,
          0.0053271940347256385,
          0.007144565416603503,
          0.01032466387485574,
          0.017813958889155115,
          0.001924325370141396,
          0.000001496051018820122,
          0.001586009701458307,
          4.844538355118466e-7,
          0.009110489810573654,
          0.03928286069259231,
          0.006858027341279183,
          0.00003465677378833497,
          0.0030047901053307214,
          0.000043563924566547816,
          0.01887574786851971,
          0.011984220731789553,
          0.0018686061775135356,
          0.012902567430875709,
          0.0002651495925185366,
          0.01292380398992549,
          0.014053583596560601,
          0.0002982870553659906,
          0.013383018424961084,
          0.0014296306334949497,
          0.0070418223121241665,
          0.013339077707516763,
          0.0048777818885249275,
          0.005043722274432665,
          0.005234457400489109,
          0.01306958905033974,
          0.00006786384330122298,
          0.001704275842285657,
          0.017652039154037437,
          0.0015097371897436582,
          0,
          0.002987023582241744,
          0.03852579269259215,
          0.009007987445195154,
          0.010256944725643345,
          5.7716190687435224e-8,
          0.0007871709526445789,
          0.003091283877062178,
          0.000003320125487856935,
          0.0007850959182814658,
          0.0003163526069628475,
          1.4906603230809472e-9,
          0.000003661813721777556,
          0.03949447077409163,
          1.8076976679595285e-9,
          0.01421802736774928,
          1.492558043493041e-14,
          0.0001492586678158678,
          0.032546308992333274,
          0.001785610386779524,
          0.004878610132308337,
          0.018989973941917426,
          0.00020049010824883644,
          0.016251189890232384,
          0.0003222574975380624,
          2.1234076806865535e-9,
          0.0026343146810352326,
          0.0001635205509488493,
          0.012308554833472088,
          0.0009184466666102504,
          0.00542312816577312,
          0.03949447077409163,
          0.04362629542850829,
          0.020157803605253058,
          0.0033300968198821217,
          0.000002680192651805925,
          0.018125537154734174,
          0.006723313544824471,
          0.0026201335869504763,
          0.012980808094429796,
          0.015071475098664853,
          1.4836195817329222e-10,
          7.53131527885064e-7,
          0.0034695362283350835,
          0.03948867009759358,
          0.00006624309017908222,
          0.000004090800797711342,
          0.0013123883711201618,
          0.0017604477356373566,
          1.3780849377563032e-7,
          0.03949447077409163,
          0.0001372457585934771,
          0.03949447077409163,
          0.00872043124392095,
          0.005867505734497022,
          0.0007667537108175048,
          0.01981375624604122,
          0.009991438398847977,
          0.0064683080666038326,
          0.0001300761525036758,
          0.000011515259566308184,
          2.8056673234019043e-8,
          0.0025399397328742753,
          0.005031073099883762,
          0.03948658835642034,
          0.00003150607453535834,
          1.25977489514472e-8,
          0.018046344397984256,
          0.03942881684642797,
          0.0018815618403921221,
          0.00037367711535140865,
          0.004639384056309613,
          0.015785101853040235,
          0.0002531341161408175,
          0.0000022620845786564447,
          0.01786968641327579,
          0.0008049924836853338,
          0.003424836858588744,
          0.006557879367282315,
          0.03949447077409163,
          0.0000014170992402465278,
          0.00039572673718575455,
          0.005994615353396056,
          0.018662278167853746,
          0.01951926413002557,
          0.0076458480560385915,
          0.005199602560674755,
          0.0000013984124487741797,
          0.0015448807139040262,
          0.002670763173432481,
          0.004520865979329302,
          0,
          0.011690135433908752,
          0.027193274923634114,
          0.015454218119886629,
          0.000014925196439737644,
          0.019642066167910137,
          0.00032278970874119976,
          0.006764816585012958,
          0.000003405778166622886,
          0.019668873620653345,
          0.005693764709216572,
          0.003061555890846343,
          0.018158386815893972,
          0.01868731659046424,
          0.01447372062960714,
          0.0014293316760244231,
          0.019372214135699964,
          0.008976152113191069,
          0.00989310172102197,
          1.3760722751113355e-8,
          0.0002481764806118443,
          0.0003063072166387091,
          0.015015601225089152,
          0.0000010411588958056583,
          0.008142466125501499,
          0.03727371198528876,
          2.4050584545598202e-8,
          0.012629083924345313,
          0.008726456670497287,
          0.017575555259275955,
          0.00018728531379961187,
          0.0021203618722571162,
          0.011898250659903721,
          0.0018872895758121925,
          0.0007767228447957471,
          0.000004229333858914748,
          0.006429138496850668,
          0.0002879701348524342,
          0.01972730428759938,
          0.002527777155612638,
          0.0009705910536348835,
          0.005220041991874098,
          0.0011003953795507013,
          0.001560170917025528,
          0.012108755427014154,
          0.010184229405268369,
          0.007862817923965437,
          0.000006833295493632609,
          0.008544156236106602,
          0.000018311072108943272,
          0.0002695273591931916,
          0.0026479144571229163,
          0.007514605894101696,
          0.011608816589008652,
          0.01777873168029829,
          0.03949447077409163,
          0.01298188518504209,
          0.007964089833176733,
          0.0003294065546992361,
          0.021166430963987504,
          7.243738303877758e-7,
          0.018303676406439158,
          0.017266397480277387,
          0.03893418074543883,
          0.03742895539931351,
          0.01725798116924157,
          0.00842898658485537,
          0.03949447077409163,
          0.014283913785838242,
          0.006884669194485981,
          0.0017104460689366335,
          0.017106129100803225,
          0,
          0.019738653056877997,
          0.007730265082406848,
          0.0007638809384112303,
          0.00011386275100259222,
          0.000701571300061618,
          0.0032526684425910808,
          0.015331837568145629,
          8.079751209549989e-8,
          0.019502198750062972,
          0.012205788191843262,
          0.0019384208527787304,
          0.038583710128232133,
          0.03949447077409163,
          0.0006349361142778699,
          0.010594736476328933,
          0.01205024788607673,
          0.0196942892358018,
          0.005768503474871933,
          0.005853388654330435,
          0.013384313737262513,
          0.0020759753176962407,
          0.018841793864297122,
          0.015068788128691916,
          0.003550208118036089,
          0.0047717418396063145,
          0.0048931290359023405,
          0.01010579320759124,
          0.025401241206360625,
          0.000010149915288792531,
          0.001729327593031261,
          3.667112649737261e-8,
          0.000020508531056358062,
          0.000022047050870938434,
          0.000017474211960431526,
          0.001895794093727089,
          1.0106843323673556e-7,
          0.0000033485270390567586,
          0.03949447077409163,
          0.004427083114154464,
          0.000010666043313178877,
          0.002353698406538093,
          0.003803660476116774,
          0.0000010923233599129425,
          0.03937040885379007,
          2.4291072806197726e-8,
          0.008524159318782103,
          0.0006140475790909678,
          0.000068948806461101,
          0.013293164091573415,
          0.0002238172476784504,
          0.00013184450991978944,
          0.000003415878733083452,
          0.0028594188822160787,
          0.002938697177750155,
          0.00019732380393608327,
          0.019522694532579855,
          0.0000291031011751488,
          0.014131372484597296,
          0.038877682289728877,
          0.016587478673360738,
          0.009665095611683284,
          0.0001686045577939811,
          0.0018720705704295998,
          0.00002210434607370151,
          0.00001873361579651962,
          0.0025232692665691434,
          0.02633811031017123,
          0.007222789548064489,
          0.00926737218888468,
          0.00021668283047557253,
          0.0015225778911085294,
          0.019152203957454733,
          0.005835808150692973,
          0.02713624709871108,
          0.00660980529009733,
          0.00036405200350247643,
          0.0009311971880811758,
          0.027621232037175144,
          0.0000540323866998564,
          0.012243553716901574,
          0.004790235609317918,
          0.016633735247277872,
          0.0027314621391853664,
          0.0034258133950965963,
          0.014621864542787655,
          0.00008033764996032098,
          0.00004535999381870344,
          0.019601726810131198,
          0,
          0.002991961103993856,
          0.007804439617145263,
          0.00019491350840978731,
          0.00004414055194179425,
          0.000014908492961899554,
          0.03933925829527815,
          0.01570352084943399,
          0.00015994224479533545,
          0.0038569579014319593,
          0.0000014853175681111178,
          3.1932070386800415e-8,
          0.018187710354317488,
          0.01623426523206507,
          0.03949447077409163,
          0.006408261825295106,
          0.006456482263832,
          0.0024386932687884668,
          0.012988448580841206,
          0.01971321468004811,
          0.0000016967338241755724,
          0.00008863837283760035,
          0.004397487746093121,
          0.0000013677661350419026,
          0.000014013648475487527,
          0.00001053335905885409,
          0,
          0.0005762295836303479,
          6.878672296295231e-7,
          0.03669737897221285,
          0.00011663963419642986,
          0.0023864851208199238,
          0.011890147099314461,
          0.005662547705642106,
          9.668758233474803e-7,
          0.004294087458514627,
          0.007300741641425476,
          0.004081458522012127,
          0.0000020925387756173155,
          0.02012894760864022,
          0.016543543058398013,
          0.000024809319012198083,
          0.000251369811329366,
          0.014944867805450405,
          0.009331677508760778,
          0.000006676891867550629,
          0.03949447077409163,
          0.0019998418960481667,
          0.0044047164931735345,
          0.00005643583104020175,
          0.00005321012070719217,
          0,
          0.01976598412548226,
          0.005684357434144593,
          0.0000014924065886548186,
          0.0001021996385265692,
          0.03762002550967322,
          0.01804092720748752,
          0.00022185981441997892,
          0.00019028912276824675,
          0.00974646407751601,
          0.015231593245910875,
          0.006738106332746233,
          0.03602896712913883,
          0.0015190184584828368,
          0.03319405204230701,
          0.01153737610598219,
          0.0004913772351454277,
          0.033890586053415515,
          0.000001939059306244889,
          0.0005245507721565351,
          0.018634432109129982,
          0.013270854217648962,
          0.000013741051929962144,
          0.013350251270933965,
          2.343242748628902e-9,
          2.343207438345089e-9,
          0.015045815998889017,
          0.0066826348866278985,
          0.019327647988343195,
          0.017966383900011623,
          7.096801344804003e-7,
          0.01403138479851426,
          0.01921768520277766,
          0.013520810189964974,
          0.019798988901387628,
          0.00019761812674790294,
          0.017277302297555627,
          0.021152779652285084,
          0.000001808684660348476,
          0.000005071138887377405,
          0.0000017729476788246657,
          0.003801734641578594,
          0.00002702594449600086,
          0.000006771004418660717,
          0.012535853089384394,
          0.004496203961907915,
          0.001978256717155709,
          0.018109577329245237,
          0.020717487967928928,
          0.000011714661013349791,
          0.01851454388314215,
          0.0007916112409140105,
          0.00035941143225708767,
          0.00004465568130276609,
          0.010967463863966123,
          0.00000187136610532424,
          0.00003806991726029526,
          0.005872868361991642,
          0.000025474976901499694,
          2.1426080925697878e-8,
          0.01617384390335527,
          0.01590824458467991,
          1.8862332875634423e-9,
          0.000006406409326216914,
          0.019270801357628355,
          0.0011028096048752943,
          0.019534732923032434,
          0.001448280206506206,
          0.004654373637351974,
          0.0007418597249715086,
          0.019221653963100296,
          0.0098679401442274,
          0.01993105176151677,
          0.00021064581408364433,
          0.022886910516281736,
          0.03948311424617349,
          0.014169660258213661,
          0.000774782882204925,
          0.0000041691803417253825,
          0.0006454920586673595,
          0.0023355398335344235,
          0.016591579719402096,
          0.0194431822324414,
          0.01235998394685445,
          0.00006678400613754088,
          0.00013170235165071832,
          0.00010870416512400329,
          0.000007473718974295329,
          0.03596204452299187,
          0.02115888076262455,
          0.00001332154516929154,
          0.00012324056368091498,
          0.0002640896149705617,
          0.0000033219362192902978,
          0.000008434726191438491,
          0.00003537451902810704,
          0.010121920871189433,
          0.0006617667322292895,
          1.6012747297491403e-9,
          0.004831271067744373,
          0.017311907062028037,
          0.01950487802353518,
          0.0012110667997292687,
          9.15047614657709e-7,
          0.017907770409097367,
          0.0026213277053654996,
          0.000023098783149402233,
          0.00911750808700151,
          0.013678957671562424,
          0.018670632390227104,
          0.01728240290111661,
          0.0029323529839197244,
          0.0159086665495685,
          0.02348774287012911,
          0.0007408676852358572,
          0.019314909152799868,
          0.00011304245599958176,
          0.0000026300934535000526,
          0.009569876691413544,
          0.010831939336659524,
          5.027287587609658e-8,
          0.01996870218832,
          0.0011201879304732426,
          0,
          0.00005393089383582808,
          0.012299513112068467,
          0.0007562531115888158,
          0.019658889401604745,
          0.01860597526056649,
          0.010842065764029853,
          0.00021464688245170712,
          0.013315086130320432,
          0.018975683623606004,
          0.01857263684746299,
          0.017916338743460096,
          0.0016638148697094527,
          0.019699530025252238,
          0.0029668157924300055,
          0.034052773804871775,
          0.0107347936349471,
          0.0000018458047269446499,
          0.011722784820656407,
          0.000130962948068428,
          0.01959565008753241,
          0.018880998577811198,
          0.008946100031574684,
          0.000025203656297063427,
          0.011233488747300522,
          0.0000019308295058721047,
          0.01617210653582806,
          0.019708822646940384,
          0.00023229511893792517,
          0.000011895202742501654,
          0.005633585277353791,
          0.016995655045044425,
          0.00001077603471486883,
          0.000016617876898734053,
          0.000009932364673994279,
          0,
          0.000013238998114440691,
          0.000007010321823946293,
          0.000004269880595634285,
          0.013621658177856601,
          0.01921296765992511,
          1.4925573741932954e-8,
          0.002580060221413064,
          0.010003254539560231,
          0.006416387847696715,
          0.000005646956211961244,
          0.023253281816623544,
          0.036029184055482756,
          0.0012837174811327547,
          0.038059736291792434,
          0.002153132949151278,
          0.0005177056846715577,
          0.0000276247516664933,
          0.000005270331539676994,
          0.007126985635527484,
          0.0002597528062731775,
          0.01555310946653399,
          0.009847774316089698,
          0.008750573155491832,
          0.01878719278760371,
          0.000066548963003164,
          0.005623418067199169,
          0.014379325794372944,
          0.018752128928297796,
          0.018835808814574754,
          0.018042496513994807,
          0.000007459748560873695,
          0.00006497887609525522,
          0.016291413089789798,
          0.031455990629794206,
          0.000002087334597314699,
          0.000004772508431959067,
          0.019611375443958953,
          0.0010710226501624523,
          0.0005169287589223336,
          0.01977389690361243,
          1.3859529149651393e-9,
          1.4925565147233924e-9,
          0.000014275541477090157,
          1.3859529149651393e-9,
          1.3859529149651393e-9,
          1.3859529149651393e-9,
          1.3859529149651393e-9,
          1.3859529149651393e-9,
          0.0013304670643950658,
          0.00000540484382967299,
          0.005514524708004023,
          0.00024044134494995877,
          0.004335656043454948,
          0.008646191309040078,
          0.0010934965984145696,
          0.017997666356955867,
          0.000004094848051945956,
          0.0006279473920060098,
          0.005355197397637497,
          0.0008342686085848971,
          0.03730805806694487,
          0.03748022345695035,
          0.00001677661873849064,
          0.038059736865565186,
          0.004495396057855829,
          0.0117405474931428,
          0.03884487530098046,
          0.00011474469242623416,
          0.01961054976336157,
          0.018348449891866393,
          0.014970590744020707,
          0.011292606307139944,
          0.015976240661288728,
          0.020468403790313085,
          0.00006386400641262718,
          0.00001148530379053627,
          0.01022697612925278,
          0.011229949470694438,
          0.004991895705875792,
          0.0024893474389269653,
          0.0009657315908847753,
          0.003287246698491392,
          0.01936384098302907,
          0.007801094550977809,
          8.537892436013766e-7,
          0.00035069235277321043,
          0.013152515563554061,
          0.01011758705703437,
          0.006437393091639253,
          0.0000014074275357491514,
          0.03949447077409163,
          9.885589735936393e-7,
          0.0249190321299084,
          0.003689248805626774,
          0.008552085086146877,
          0.000011839033435786271,
          0.01968632112771107,
          0.014651385521481123,
          0.000006813797475409521,
          0.010595688991041864,
          0.00005999101825830372,
          0,
          0.000010582358369659143,
          0.0003418412416318452,
          0.011551688869616009,
          0.015132278634975176,
          0.00034911544930618036,
          0.016140920538789037,
          0.0027731231327202126,
          0.01277340007106053,
          0.03293693494507635,
          0.018432040456305403,
          0.019686321343428306,
          0.004812867353287897,
          0.018451988466780214,
          0.00021136634818090072,
          0.018497340688633995,
          0.007010544375146459,
          0.006851057830996909,
          0.0014815193455501741,
          0.01823808672565645,
          0.0011598074754417113,
          2.8578964478797185e-9,
          0.0015494092593644191,
          0.019636230910222627,
          0.00818951034957292,
          0.004512255796094818,
          0.005600678086634411,
          0.00000209101398029179,
          0.018290245153042225,
          0.0007182254727998895,
          0.019795858769887136,
          0.0036561334141148043,
          0.0185728038514031,
          5.054649853304944e-7,
          0.007089716255337765,
          0.0029587604252026807,
          0.016712716660117102,
          0.01411736204703226,
          0.018839539391149678,
          0.0008748500626315186,
          0.001579556198558199,
          0.0001669449688210512,
          0.013450947292549193,
          0.01951351412616264,
          0.000006042887092314603,
          0.0012566812192875564,
          0.00017009341966025437,
          0.0022919550976669314,
          0.0029058563001363737,
          0.0000018229275323136513,
          0.016944288385831372,
          8.598180849037232e-8,
          0.005328404772762026,
          0.0004845368727483891,
          0.00858911404304552,
          4.496506441646812e-9,
          8.750259937216518e-8,
          1.3051868136489937e-8,
          0.0003566580367166627,
          0.01265880294929326,
          0.019533711118551674,
          0.004619396434775737,
          0.005712029831648493,
          0.016154636805434715,
          0.00002043674378126647,
          0.012411964404827634,
          0.0009229402756572362,
          0.0000028715797350242917,
          0.019746616576434832,
          0.006640915337776102,
          0.000016313981175576213,
          0.0008814065078119005,
          0.004717865002580912,
          0.00017737134131078503,
          0.000009972782910738188,
          0.0017482882530216008,
          0.00003561614034713569,
          0.00955476915885064,
          0.008840175974810882,
          0.000004421701958640597,
          0.0015977296189143792,
          0.019670072879253972,
          0.018156012468080747,
          0.015866067118566588,
          0.0019156517323093414,
          0.00661566869258624,
          0.015215576639927262,
          0.007229452524023365,
          0.0038489455417072905,
          0.0009191597077464445,
          0.0004884111742472913,
          2.3961316252898465e-8,
          0.00018956568807685135,
          0.0016266957737269432,
          0.00040061161912738694,
          0.00029688692046626116,
          0.0000963770545637385,
          0.01834887021259447,
          0.018032101374405238,
          0.0011640296364129894,
          0.0005169289162059999,
          0.018653377277645822,
          0.007830251793055779,
          0.0018001841319597578,
          0.00003748849213545103,
          0.0000425628612828193,
          1.821103152264235e-9,
          1.9838915741439085e-9,
          0,
          0.019627716516625114,
          0.000006868570757952717,
          0.018323172916109787,
          0.01335695005093288,
          1.487819999659892e-9,
          0.00020200500525718667,
          2.7894168685466806e-7,
          0.024238928355759748,
          0.02835337933895897,
          0.017948027146494874,
          0.00003681786194992313,
          1.842725116864051e-8,
          0.000009194558346588843,
          0.00024534111899802155,
          0.0030714949623765796,
          0.000029392362729578554,
          0.01721314901942404,
          0.018820185328246128,
          0.008730005942273281,
          0.0003295917370512859,
          0.0000034600694340113524,
          0.00691170150257609,
          0.000001284222788418713,
          0.02007232615840909,
          0.006293547148462335,
          1.9737960760660096e-8,
          2.7610705704805306e-8,
          3.905936882112507e-7,
          0.029468951136417083,
          0.029468706069434518,
          0.029468706069434518,
          0.001242762313527593,
          0.004494588977402384,
          0.01714337958897125,
          0.00957659666913819,
          0.000008799208918005935,
          0.009956999945154215,
          0.00001890031062792939,
          0.012679317372587606,
          0.006850448218567513,
          0.0072918896050029845,
          0.01992189974209064,
          0.004427647459420874,
          0.00017217911790696054,
          0.0002907521819927337,
          0.039471889418894915,
          0.019097784328878493,
          0.0004541739575747751,
          0.009820472235067464,
          0.0006948287643562233,
          0.00007336442153649536,
          0.019646528397784694,
          0.0007007613309276522,
          9.110954689286658e-7,
          0.00006483604938080779,
          0.003950946181769051,
          0.00018082274235874766,
          0.013864485545204985,
          0.0001379094952164976,
          0.04214483054912512,
          0.018922330738141133,
          0.000018769505331648348,
          0.019740635333433582,
          2.7049567228643943e-8,
          0.007848487654235651,
          0.0001221394782095169,
          0.010502120126213335,
          0.0004383095121081676,
          0.0034310542066107396,
          0.005563836844309277,
          0.0021811878843412892,
          0.01919869093355285,
          0.019896926091960518,
          0.000354289841437772,
          0.015269481963394062,
          0.0032993510593590453,
          0.019680347075104368,
          0.009685018227334362,
          0.017230973396312698,
          0.019736077827229238,
          0.003815660831420438,
          0.007882653577838957,
          0.00004779572131066036,
          0.00039326685025674763,
          9.494952258677753e-7,
          0.0000045324185198837425,
          0.019705948394242747,
          0.44051730087386176,
          0.4406767959073744,
          0.44063990537817327,
          0.44051019352018334,
          0.0031605310181826067,
          0.005181062935161564,
          0.0003164096045562828,
          0.010012682412685043,
          0.019617398104536537,
          0.010388757128980394,
          0.01834344728653456,
          0.00007047809724219829,
          0.0017489393831931585,
          0.005321688670305368,
          0,
          0.00035590089384589084,
          0.000006923952676457336,
          0.0002013534386806051,
          0.00837267374849242,
          0.0006682873020149157,
          0.055305086858950095,
          0.0023196517535731616,
          0.0010863990111288483,
          0.05617129892342487,
          0.0000022976799698057296,
          0.019601714982614014,
          0.003034996494518799,
          0.0000012084281470994945,
          0.00006245269300922025,
          0.003337287371817624,
          0.00004376831245532263,
          0.00004263667867738905,
          0.001348389124417887,
          0.018850236396251416,
          0.01050243332496627,
          0.013893827592824154,
          0.000002610409825372776,
          0.000837026034255926,
          0.012938592998579041,
          0.0007112987208911435,
          0.000009459703069009265,
          0.01941280309873742,
          0.019725400624086262,
          0.0007624365195775618,
          0.00872993533108807,
          0.00001696128091090822,
          0.03836378106557468,
          0.01939325853477979,
          0.007141421365852876,
          0.0197227610605306,
          0.00596901586739214,
          0,
          0.01960555268081473,
          0.01930074369145517,
          0.000016266747276285952,
          0.01267303011402776,
          0.016263047571290667,
          0.000005423965017390562,
          0.00013411822100446995,
          0.03795618304621271,
          0.03795618340288191,
          0.037956182689543524,
          0.037956185542897244,
          0.001044940287923364,
          0.006898410780691866,
          0.0007640482540906605,
          0.01578684623517858,
          0.000014726739559191554,
          1.484142479569197e-7,
          1.4924554472745175e-9,
          0.008169876123040504,
          0.00003267835652734243,
          0.000009335828294476011,
          0.011391265778560745,
          0.018581264176073243,
          0.037956186256235744,
          0.01939748769350448,
          0.03795618696957427,
          0.03795618661290501,
          0.03795618661290501,
          0.015526722552634473,
          0.03795618696957427,
          0.03795618696957427,
          0.03795618661290501,
          0.03795618696957427,
          0.016015064662821238,
          0.011681404696483199,
          0.000007076621490519989,
          0.0013755412779474577,
          0.00006796147019340012,
          0.019286480905678804,
          0.00020961147370216276,
          1.4921598112810372e-9,
          0.000003488551610705229,
          0.0000034885510864127373,
          0.037956186256235744,
          0.019565801724803687,
          0.0000019419327885628567,
          0.014369442902029638,
          0.0033628111273349037,
          0.012612182345812996,
          0.016821891402573848,
          0.016468881800373758,
          0.00015343927919065237,
          0.000013339901934263138,
          0.004779019403989017,
          0.004650224495083264,
          0.0019065137159687863,
          7.760680158148231e-7,
          0.000026514279724855845,
          0.017761960532340564,
          0.016618890694207307,
          0.00028116842763233963,
          0.007245910259147196,
          0.003464691104656253,
          0.003542852274148946,
          0.020100353399164106,
          7.450645141478172e-8,
          0.0006252168212002483,
          0.0020525586204890364,
          0.0379556635624843,
          0.0379561883962514,
          0.0379561887529207,
          0.037955663324711356,
          0.0379561887529207,
          0.0003526277325805235,
          0.00009538918192203915,
          0.00002109290288113761,
          0.019539505250667975,
          7.443178192366992e-8,
          7.506471222477043e-8,
          0.00396976418658633,
          0.017500118348660665,
          0.01509394412308854,
          0.0020730082792312127,
          0.0017363450777021345,
          0.02850597378221672,
          0.00007740439802607646,
          0.004895956882822738,
          0.0020388485665073066,
          0.017973634994794204,
          0.00036355641663625703,
          0.0029748148463713225,
          0.035046604133051856,
          0.0016991006963559343,
          0.0000017112562255432623,
          0.013551115666126292,
          0.03378436587044005,
          0.0009990993521652807,
          0.00044012142665083247,
          0.028213642734358106,
          0.027305025832560843,
          0.01702350457986032,
          0.001091893788507528,
          0.0007808029502723742,
          0.011179252136859478,
          0.00014606166071122394,
          0.002328722744089545,
          0.003454613520665864,
          0.01966640306207035,
          0.013854252341748802,
          0.00041129065422883915,
          0.00018302459796222832,
          0.019765822713691636,
          0.027633230090235078,
          0.014922646945598758,
          0.01649681132092901,
          1.4939667650932167e-14,
          0.01287806625925871,
          0.00034547640601217494,
          0.019121808499686622,
          0.003105104317758757,
          0.03318064007492785,
          0.008199522006874484,
          0.013086844231648105,
          0.0192143535583347,
          0.017813916792022218,
          0.02526667976588875,
          0.002951863841235199,
          0.019765892337045815,
          0.007831697343198314,
          0.00020599230838160658,
          0.0041348693029059705,
          5.521235780076055e-9,
          6.906276035069373e-7,
          0.004804225154223823,
          0.00006844231511869609,
          0.0000422317175938949,
          0.013457152870328656,
          0.005644436189260033,
          1.492456536297068e-9,
          0.002968115270403399,
          0.0014167897083896366,
          0.000005989206630590392,
          8.880319208828898e-7,
          0.03500455257006513,
          0.020311927513071284,
          0.0016247182117805927,
          0.019170674915664748,
          0.018686638137652787,
          0.002798500910877592,
          0.000020855893925871036,
          0.01296925821357811,
          0.00005076898013411505,
          0.01000062453618982,
          0.0011109185350937228,
          0.00018785138944172458,
          0.0002270868765548523,
          0.0009958389619649328,
          0.032914546578409684,
          0.032914546578409684,
          0.032914546578409684,
          0.030392587966532623,
          0.0057132808139044484,
          0.01481009910780867,
          0.007480157270034635,
          0.017956057956051038,
          0.019819480404198675,
          0.01970940286718756,
          0.0002140253608324457,
          0.0006135334292451453,
          0.018986258999924576,
          0.01533130544302851,
          0.0000074826085864801785,
          0.00014916968166742741,
          0.0035133318130368294,
          0.004079610037918953,
          0.000003392150084648108,
          0.005567118425758216,
          0.019086851381508656,
          1.030511154179958e-8,
          0.0042803422411734305,
          0.000019842334328542397,
          0.013263621574118766,
          0.008649402815645258,
          0.004769370497295615,
          0.0000014907407631430335,
          9.146859554078359e-7,
          9.146862052644723e-7,
          9.146862052644723e-7,
          0.0029145274758766663,
          0.00016425497793627703,
          9.395306130455052e-7,
          0.0003389463712182974,
          0.01709530064574895,
          0.018511791344816873,
          0.0012522712697948539,
          0.024761150950764792,
          0.006261888395935257,
          0.0000070447408702927955,
          0.01952669671204101,
          0.00002660709444865941,
          0.011345059903588221,
          0.014297690671804928,
          0.016961345446669256,
          0.02011796959065241,
          0.004014954267396711,
          0.019299718153489003,
          0.015213212157477235,
          0.019124224395629125,
          0.03949447077409163,
          0.016757106041040106,
          0.016629918640493874,
          0.017412780312234748,
          0.018842924957400833,
          0.0002645652925600756,
          0.000004115093016076425,
          0.016886458901723776,
          0.01975447788677734,
          2.398118631011993e-8,
          0.018744869465636308
         ],
         "xaxis": "x",
         "y": [
          1,
          1,
          1,
          1,
          1.2472906403940887,
          3,
          1,
          8,
          1,
          8,
          1,
          1,
          1,
          2,
          1,
          5,
          1,
          1,
          1,
          1,
          2,
          1,
          1,
          1,
          1,
          2,
          1,
          1,
          1,
          1,
          1,
          1,
          1,
          1,
          1,
          1,
          1,
          1,
          2,
          1,
          1,
          1,
          2,
          5,
          1,
          2,
          1,
          1,
          2,
          5,
          5,
          1,
          5,
          1,
          5,
          1,
          1.2472906403940887,
          1,
          5,
          5,
          1,
          1,
          1,
          1,
          1,
          1,
          1,
          1,
          5,
          4,
          1,
          4,
          5,
          4,
          5,
          4,
          4,
          4,
          4,
          1,
          1,
          1,
          2,
          28,
          1,
          1,
          1,
          1,
          1,
          1.2472906403940887,
          28,
          1,
          1,
          28,
          1,
          1,
          28,
          28,
          28,
          28,
          1,
          28,
          1,
          1,
          28,
          1,
          1,
          1,
          28,
          1.2472906403940887,
          1,
          1,
          28,
          2,
          1.2472906403940887,
          1,
          1,
          1,
          2,
          1,
          2,
          2,
          1,
          3,
          1,
          1,
          3,
          1,
          1.2472906403940887,
          1,
          1,
          1,
          6,
          1,
          1,
          1.2472906403940887,
          1,
          1,
          8,
          1,
          1,
          6,
          1,
          1,
          1,
          4,
          3,
          4,
          1,
          1,
          3,
          1,
          1,
          1,
          2,
          1,
          4,
          1,
          1,
          6,
          6,
          6,
          1,
          1,
          1,
          6,
          6,
          3,
          8,
          1,
          1.2472906403940887,
          1,
          1.2472906403940887,
          1.2472906403940887,
          1.2472906403940887,
          8,
          1,
          1,
          4,
          8,
          1,
          8,
          1,
          1,
          1,
          1,
          1,
          1,
          1,
          1,
          2,
          2,
          1,
          3,
          3,
          1,
          1,
          3,
          1,
          3,
          11,
          1,
          1,
          1,
          6,
          2,
          1,
          1,
          6,
          1,
          1,
          1,
          1,
          1,
          1,
          1,
          1.2472906403940887,
          1,
          1,
          1,
          1,
          1,
          1,
          1,
          1,
          3,
          3,
          1,
          1,
          1,
          1,
          1,
          1,
          1.2472906403940887,
          5,
          1,
          1,
          1,
          2,
          1,
          1,
          1,
          1,
          2,
          1.2472906403940887,
          1,
          3,
          1,
          1,
          2,
          1,
          1,
          1,
          2,
          1,
          1,
          1,
          1,
          1.2472906403940887,
          5,
          1,
          1,
          1,
          5,
          1,
          1.2472906403940887,
          1,
          4,
          1,
          1.2472906403940887,
          1,
          1,
          1,
          1,
          2,
          1,
          1,
          1,
          1,
          1,
          1.2472906403940887,
          3,
          1,
          1,
          1,
          1.2472906403940887,
          1,
          1.2472906403940887,
          8,
          1,
          5,
          1,
          1,
          1,
          2,
          1,
          1,
          1,
          2,
          1,
          2,
          1,
          1.2472906403940887,
          1.2472906403940887,
          1,
          2,
          1,
          1.2472906403940887,
          1.2472906403940887,
          2,
          1.2472906403940887,
          2,
          1.2472906403940887,
          1.2472906403940887,
          1,
          2,
          1,
          1,
          7,
          7,
          7,
          7,
          1.2472906403940887,
          7,
          7,
          7,
          1,
          4,
          1,
          1,
          1,
          1,
          2,
          2,
          1,
          1,
          1,
          1,
          4,
          1,
          4,
          3,
          1.2472906403940887,
          1,
          1,
          1.2472906403940887,
          1,
          2,
          1,
          1,
          1,
          1,
          1,
          1,
          1.2472906403940887,
          1,
          1.2472906403940887,
          4,
          1,
          1,
          1,
          1,
          1,
          1,
          1,
          1.2472906403940887,
          1.2472906403940887,
          6,
          1,
          1.2472906403940887,
          1,
          1,
          1,
          5,
          1,
          1,
          2,
          2,
          1,
          1.2472906403940887,
          1.2472906403940887,
          34,
          1.2472906403940887,
          2,
          2,
          1,
          1,
          1,
          1,
          1,
          1,
          1.2472906403940887,
          1,
          1,
          1,
          1.2472906403940887,
          1.2472906403940887,
          1,
          1,
          1,
          1,
          1,
          1.2472906403940887,
          1,
          1,
          1,
          1,
          1,
          2,
          1,
          1,
          1.2472906403940887,
          1.2472906403940887,
          1,
          1,
          1,
          1,
          1,
          1,
          1,
          2,
          1.2472906403940887,
          1,
          1.2472906403940887,
          1,
          1,
          1.2472906403940887,
          1,
          1,
          1,
          1,
          1,
          1.2472906403940887,
          1,
          1.2472906403940887,
          1,
          1,
          2,
          2,
          1.2472906403940887,
          1,
          2,
          1,
          2,
          1,
          1,
          2,
          1.2472906403940887,
          1,
          1,
          1,
          1,
          1,
          1.2472906403940887,
          1,
          1,
          1,
          17,
          17,
          17,
          17,
          1,
          1,
          1,
          6,
          1.2472906403940887,
          1,
          6,
          2,
          6,
          6,
          6,
          6,
          10,
          2,
          10,
          10,
          1,
          10,
          10,
          1,
          10,
          10,
          10,
          1,
          1,
          1,
          1,
          1,
          1,
          1,
          1,
          1,
          6,
          1.2472906403940887,
          1,
          10,
          1,
          1,
          1.2472906403940887,
          1,
          1,
          1.2472906403940887,
          1,
          1,
          1.2472906403940887,
          1.2472906403940887,
          2,
          2,
          1,
          1.2472906403940887,
          1.2472906403940887,
          1,
          2,
          2,
          1,
          1,
          1,
          1,
          1,
          1.2472906403940887,
          1.2472906403940887,
          1,
          5,
          5,
          5,
          1,
          10,
          1.2472906403940887,
          10,
          10,
          1.2472906403940887,
          10,
          10,
          1,
          1.2472906403940887,
          1.2472906403940887,
          1,
          8,
          1,
          1,
          1.2472906403940887,
          1.2472906403940887,
          10,
          10,
          10,
          10,
          1,
          1,
          1,
          1,
          1.2472906403940887,
          1.2472906403940887,
          1,
          1.2472906403940887,
          1.2472906403940887,
          1,
          1,
          1.2472906403940887,
          1,
          1,
          1,
          1.2472906403940887,
          1,
          1,
          2,
          1,
          1.2472906403940887,
          1,
          1.2472906403940887,
          11,
          1,
          1,
          1,
          1,
          1,
          1.2472906403940887,
          1.2472906403940887,
          1,
          1,
          1,
          1,
          1.2472906403940887,
          1,
          1,
          1,
          10,
          1,
          1,
          1,
          2,
          2,
          1.2472906403940887,
          1,
          1,
          5,
          5,
          1.2472906403940887,
          1.2472906403940887,
          1,
          1.2472906403940887,
          2,
          1,
          1,
          1,
          1,
          1,
          1.2472906403940887,
          2,
          2,
          1.2472906403940887,
          2,
          1.2472906403940887,
          1.2472906403940887,
          1,
          2,
          3,
          1,
          1,
          3,
          1.2472906403940887,
          1.2472906403940887,
          2,
          1,
          1,
          1,
          10,
          10,
          1,
          1,
          1,
          10,
          1.2472906403940887,
          1.2472906403940887,
          1,
          1,
          1,
          1,
          1,
          10,
          1,
          1,
          1.2472906403940887,
          1,
          1.2472906403940887,
          1,
          1,
          1,
          1,
          1.2472906403940887,
          1,
          1.2472906403940887,
          1,
          1,
          1,
          1,
          1,
          1,
          1,
          1,
          1,
          4,
          4,
          1.2472906403940887,
          1,
          1,
          1.2472906403940887,
          1,
          1.2472906403940887,
          1,
          1,
          1,
          1,
          1.2472906403940887,
          1.2472906403940887,
          1,
          2,
          1,
          1,
          1,
          2,
          1.2472906403940887,
          1.2472906403940887,
          1,
          1,
          2,
          1.2472906403940887,
          1,
          1,
          1,
          1.2472906403940887,
          1,
          1.2472906403940887,
          1.2472906403940887,
          1.2472906403940887,
          1,
          1,
          1,
          1.2472906403940887,
          1,
          1,
          1,
          1,
          1,
          1,
          1,
          1.2472906403940887,
          1,
          1.2472906403940887,
          1.2472906403940887,
          1,
          3,
          1,
          1,
          1,
          1,
          1.2472906403940887,
          1,
          1.2472906403940887,
          1,
          1,
          1,
          2,
          1.2472906403940887,
          1,
          1,
          2,
          1,
          1.2472906403940887,
          1,
          1,
          1,
          2,
          1,
          5,
          1,
          1.2472906403940887,
          1,
          1,
          1,
          1,
          1,
          1,
          1,
          1,
          1.2472906403940887,
          1,
          1,
          1,
          2,
          1,
          1,
          1.2472906403940887,
          1.2472906403940887,
          1,
          1.2472906403940887,
          1,
          1,
          2,
          1,
          1,
          14,
          14,
          14,
          1.2472906403940887,
          1.2472906403940887,
          1,
          1,
          11,
          1,
          1,
          1.2472906403940887,
          1.2472906403940887,
          1,
          1.2472906403940887,
          1,
          1.2472906403940887,
          1.2472906403940887,
          2,
          1,
          1.2472906403940887,
          1,
          2,
          1,
          1.2472906403940887,
          1,
          1,
          1.2472906403940887,
          1,
          2,
          1.2472906403940887,
          1,
          1,
          1.2472906403940887,
          1.2472906403940887,
          1.2472906403940887,
          1.2472906403940887,
          1,
          1,
          1.2472906403940887,
          2,
          1.2472906403940887,
          1,
          1.2472906403940887,
          1.2472906403940887,
          1.2472906403940887,
          1,
          1,
          1,
          1,
          1,
          1,
          1,
          1.2472906403940887,
          1,
          1,
          1,
          3,
          1,
          1,
          2,
          1,
          1,
          1,
          1.2472906403940887,
          1.2472906403940887,
          1,
          1,
          1,
          1.2472906403940887,
          1.2472906403940887,
          1.2472906403940887,
          1,
          3,
          1.2472906403940887,
          3,
          1,
          1.2472906403940887,
          1,
          1,
          1,
          1,
          2,
          1,
          1,
          1,
          1.2472906403940887,
          1,
          1,
          6,
          1,
          1,
          1.2472906403940887,
          1,
          2,
          2,
          1,
          1,
          1.2472906403940887,
          1,
          2,
          62,
          62,
          62,
          62,
          62,
          62,
          62,
          62,
          1.2472906403940887,
          62,
          1,
          5,
          1.2472906403940887,
          1,
          1,
          1,
          1,
          8,
          8,
          8,
          1,
          6,
          6,
          6,
          1,
          6,
          1,
          6,
          6,
          4,
          4,
          3,
          2,
          3,
          3,
          3,
          1,
          1,
          2,
          1.2472906403940887,
          6,
          3,
          2,
          2,
          28,
          28,
          28,
          28,
          28,
          28,
          28,
          28,
          28,
          28,
          28,
          1.2472906403940887,
          1.2472906403940887,
          1.2472906403940887,
          1,
          2,
          1,
          1.2472906403940887,
          10,
          6,
          1,
          2,
          1,
          4,
          1.2472906403940887,
          3,
          1,
          5,
          1.2472906403940887,
          1.2472906403940887,
          1,
          4,
          1,
          1.2472906403940887,
          4,
          4,
          4,
          4,
          3,
          5,
          1,
          1.2472906403940887,
          1.2472906403940887,
          1.2472906403940887,
          1.2472906403940887,
          4,
          1,
          1.2472906403940887,
          1.2472906403940887,
          1,
          1,
          2,
          6,
          6,
          1,
          6,
          1.2472906403940887,
          1,
          1.2472906403940887,
          1,
          2,
          2,
          1,
          1.2472906403940887,
          1,
          1,
          5,
          5,
          1,
          2,
          6,
          1,
          10,
          10,
          10,
          10,
          10,
          10,
          1,
          1.2472906403940887,
          1,
          1.2472906403940887,
          14,
          1.2472906403940887,
          14,
          1,
          1,
          3,
          3,
          14,
          14,
          14,
          14,
          1.2472906403940887,
          1.2472906403940887,
          2,
          1,
          1,
          17,
          17,
          17,
          17,
          17,
          17,
          17,
          17,
          17,
          1,
          17,
          17,
          17,
          17,
          1,
          1,
          4,
          1.2472906403940887,
          1,
          1.2472906403940887,
          2,
          1,
          1.2472906403940887,
          10,
          1,
          10,
          10,
          10,
          1,
          5,
          1,
          1,
          1,
          3,
          1,
          1,
          1.2472906403940887,
          1,
          2,
          2,
          1,
          1.2472906403940887,
          1,
          1,
          1,
          1,
          3,
          3,
          1,
          1.2472906403940887,
          1,
          6,
          1,
          1,
          1,
          1,
          2,
          1.2472906403940887,
          6,
          1.2472906403940887,
          1,
          2,
          5,
          1.2472906403940887,
          1,
          1,
          1.2472906403940887,
          1.2472906403940887,
          1,
          1.2472906403940887,
          1,
          1.2472906403940887,
          1.2472906403940887,
          1,
          34,
          34,
          34,
          34,
          34,
          34,
          34,
          34,
          34,
          34,
          34,
          34,
          34,
          34,
          34,
          34,
          34,
          34,
          34,
          34,
          34,
          34,
          34,
          34,
          34,
          34,
          34,
          34,
          34,
          34,
          34,
          5,
          1.2472906403940887,
          2,
          2,
          1,
          2,
          1,
          2,
          62,
          34,
          1.2472906403940887,
          62,
          62,
          62,
          62,
          62,
          62,
          62,
          62,
          62,
          62,
          62,
          62,
          62,
          62,
          62,
          1,
          62,
          2,
          1.2472906403940887,
          1.2472906403940887,
          1,
          1,
          1,
          1,
          1,
          1.2472906403940887,
          62,
          6,
          1.2472906403940887,
          1,
          1,
          1,
          1.2472906403940887,
          1,
          4,
          1.2472906403940887,
          1.2472906403940887,
          5,
          1,
          1,
          1,
          1.2472906403940887,
          2,
          1,
          1,
          1,
          1,
          1,
          1.2472906403940887,
          1,
          1.2472906403940887,
          1,
          1,
          1,
          1,
          1,
          1,
          1.2472906403940887,
          1,
          1.2472906403940887,
          1,
          4,
          2,
          1,
          1,
          1.2472906403940887,
          3,
          1,
          1,
          5,
          5,
          2,
          2,
          1,
          1.2472906403940887,
          1,
          1,
          1.2472906403940887,
          1,
          1,
          1,
          1.2472906403940887,
          1.2472906403940887,
          1,
          1,
          1,
          1,
          1,
          1,
          1,
          3,
          1,
          1,
          2,
          1,
          1.2472906403940887,
          1,
          1,
          10,
          1,
          1.2472906403940887,
          1.2472906403940887,
          1,
          3,
          1.2472906403940887,
          1,
          1,
          1,
          1,
          1,
          1,
          1,
          1,
          1,
          1,
          1,
          1,
          1,
          1.2472906403940887,
          2,
          1.2472906403940887,
          1,
          62,
          62,
          62,
          62,
          62,
          62,
          62,
          62,
          62,
          62,
          62,
          62,
          62,
          62,
          62,
          1,
          1,
          1,
          1,
          1,
          6,
          6,
          1,
          1,
          1,
          1.2472906403940887,
          1,
          1.2472906403940887,
          2,
          1,
          2,
          1,
          1.2472906403940887,
          1,
          1,
          2,
          1,
          1,
          2,
          1,
          8,
          8,
          8,
          1.2472906403940887,
          1,
          1,
          1,
          1.2472906403940887,
          1.2472906403940887,
          1.2472906403940887,
          1.2472906403940887,
          1.2472906403940887,
          1.2472906403940887,
          1.2472906403940887,
          6,
          1,
          1.2472906403940887,
          1,
          1.2472906403940887,
          1.2472906403940887,
          1.2472906403940887,
          1.2472906403940887,
          1.2472906403940887,
          1.2472906403940887,
          1,
          1.2472906403940887,
          1.2472906403940887,
          1.2472906403940887,
          1,
          2,
          1,
          1,
          1.2472906403940887,
          5,
          5,
          1,
          1,
          1,
          11,
          1.2472906403940887,
          1,
          1,
          34,
          1,
          1,
          1,
          1,
          2,
          2,
          1,
          1.2472906403940887,
          2,
          1.2472906403940887,
          1.2472906403940887,
          1,
          10,
          1,
          1,
          1,
          1,
          1.2472906403940887,
          1,
          1,
          1,
          1,
          1,
          1.2472906403940887,
          1,
          1,
          1,
          1.2472906403940887,
          1,
          1,
          1,
          1,
          1.2472906403940887,
          1,
          1,
          1,
          1,
          1.2472906403940887,
          1,
          1,
          1,
          1,
          1,
          1.2472906403940887,
          1,
          1,
          1,
          1.2472906403940887,
          1,
          1,
          2,
          6,
          1,
          1,
          1.2472906403940887,
          2,
          6,
          1,
          1,
          1,
          1,
          6,
          6,
          1,
          1,
          1.2472906403940887,
          2,
          1,
          1,
          1,
          1,
          1,
          1,
          2,
          1,
          1,
          1,
          1,
          1,
          1,
          1,
          1,
          1.2472906403940887,
          1,
          2,
          1.2472906403940887,
          1,
          1,
          11,
          1.2472906403940887,
          1,
          1.2472906403940887,
          1,
          1,
          1.2472906403940887,
          1,
          1,
          1,
          1,
          1,
          1.2472906403940887,
          1.2472906403940887,
          1,
          1,
          1,
          2,
          1,
          1,
          1.2472906403940887,
          1,
          1,
          1.2472906403940887,
          3,
          3,
          1,
          1.2472906403940887,
          1,
          1,
          2,
          1,
          5,
          1,
          1.2472906403940887,
          1.2472906403940887,
          2,
          1,
          1,
          1,
          1,
          1.2472906403940887,
          1.2472906403940887,
          1,
          1,
          1,
          1,
          1,
          1,
          1.2472906403940887,
          1,
          1.2472906403940887,
          4,
          1,
          1.2472906403940887,
          1,
          1,
          1,
          1,
          1,
          1,
          1,
          1,
          1,
          1,
          1,
          1,
          1,
          1,
          1,
          1,
          1.2472906403940887,
          1,
          1,
          1,
          1,
          1,
          1,
          1.2472906403940887,
          1,
          1,
          1.2472906403940887,
          1,
          1,
          1,
          1,
          1,
          5,
          1,
          1.2472906403940887,
          1,
          3,
          10,
          1,
          1.2472906403940887,
          1,
          1,
          3,
          1,
          1,
          1.2472906403940887,
          1,
          1,
          2,
          1,
          1,
          10,
          10,
          1,
          1,
          1,
          1,
          1,
          1.2472906403940887,
          1,
          1,
          1,
          1,
          1,
          1,
          1,
          1,
          1,
          1.2472906403940887,
          6,
          1,
          1,
          1,
          1,
          1,
          1,
          1,
          1,
          1,
          1,
          1.2472906403940887,
          1,
          1,
          1,
          1,
          1.2472906403940887,
          2,
          1.2472906403940887,
          1,
          1,
          1.2472906403940887,
          1,
          1,
          1,
          1,
          1.2472906403940887,
          1.2472906403940887,
          1.2472906403940887,
          1.2472906403940887,
          1,
          28,
          28,
          28,
          1,
          1,
          1,
          1,
          1,
          1,
          1,
          1,
          2,
          1,
          1.2472906403940887,
          1,
          62,
          62,
          62,
          62,
          62,
          62,
          62,
          62,
          62,
          62,
          62,
          62,
          62,
          1,
          1,
          1,
          1.2472906403940887,
          1,
          1,
          1,
          1,
          62,
          1,
          1,
          1.2472906403940887,
          1.2472906403940887,
          28,
          1,
          3,
          1.2472906403940887,
          1.2472906403940887,
          1,
          1,
          1.2472906403940887,
          1,
          1.2472906403940887,
          1.2472906403940887,
          1,
          28,
          28,
          1,
          1.2472906403940887,
          1,
          1,
          2,
          1,
          1,
          4,
          1,
          4,
          1.2472906403940887,
          1.2472906403940887,
          1,
          1,
          1,
          1,
          1,
          1,
          1,
          2,
          1,
          1,
          1,
          1,
          1,
          1.2472906403940887,
          1,
          1,
          1,
          1,
          2,
          2,
          1,
          1,
          1,
          1,
          1,
          1.2472906403940887,
          1,
          1,
          1,
          1,
          1,
          1,
          1.2472906403940887,
          4,
          4,
          3,
          1,
          1,
          1,
          1,
          1,
          5,
          5,
          1,
          1,
          1,
          3,
          3,
          1.2472906403940887,
          1.2472906403940887,
          1.2472906403940887,
          1.2472906403940887,
          1.2472906403940887,
          1.2472906403940887,
          2,
          1.2472906403940887,
          2,
          1,
          1,
          1,
          1.2472906403940887,
          1,
          1,
          1,
          1,
          1,
          1,
          2,
          1.2472906403940887,
          1,
          1,
          6,
          1,
          1,
          1,
          1,
          2,
          1,
          1,
          1,
          1,
          2,
          1.2472906403940887,
          1,
          1.2472906403940887,
          1,
          1.2472906403940887,
          1,
          1,
          1.2472906403940887,
          1,
          1,
          1,
          1,
          1,
          1,
          1,
          1,
          1,
          1,
          1,
          1,
          1,
          1,
          1,
          1,
          1,
          1,
          1,
          1,
          1,
          1,
          1,
          1,
          1,
          2,
          1,
          1,
          1,
          1,
          1.2472906403940887,
          1,
          1,
          3,
          1,
          1,
          1,
          1,
          1,
          1,
          1,
          1,
          1,
          1,
          1,
          1.2472906403940887,
          1,
          1.2472906403940887,
          1,
          1,
          1.2472906403940887,
          1,
          1,
          2,
          1,
          1,
          1,
          1,
          1,
          1,
          1,
          1,
          6,
          1.2472906403940887,
          1,
          1,
          1.2472906403940887,
          1,
          1,
          1,
          1,
          1,
          1.2472906403940887,
          1,
          1,
          1,
          1,
          1,
          1.2472906403940887,
          1,
          1,
          1,
          1,
          1,
          1,
          1,
          1,
          1,
          62,
          62,
          62,
          62,
          62,
          1.2472906403940887,
          1,
          1,
          1,
          1,
          1,
          1,
          1,
          1,
          1,
          1,
          1,
          1,
          1,
          1,
          1.2472906403940887,
          1,
          1,
          1,
          1,
          1,
          1,
          1.2472906403940887,
          1.2472906403940887,
          1,
          1,
          1,
          1,
          1,
          1,
          1,
          1,
          1.2472906403940887,
          3,
          1.2472906403940887,
          1.2472906403940887,
          1,
          1,
          1.2472906403940887,
          1.2472906403940887,
          1,
          1,
          1,
          1,
          1,
          1.2472906403940887,
          1,
          1,
          1,
          1,
          1,
          1,
          1,
          1,
          1,
          1,
          1,
          2,
          1,
          1,
          1,
          1,
          1,
          1,
          1,
          1,
          1,
          1,
          1,
          1.2472906403940887,
          1,
          1.2472906403940887,
          1,
          1,
          1,
          1,
          1.2472906403940887,
          1,
          6,
          6,
          1.2472906403940887,
          1,
          1.2472906403940887,
          10,
          1,
          1,
          1,
          1,
          1,
          1,
          1.2472906403940887,
          1,
          1,
          1.2472906403940887,
          1,
          1,
          11,
          1.2472906403940887,
          1,
          1,
          1,
          1,
          1,
          1,
          1,
          1,
          1,
          2,
          1,
          1,
          1,
          1,
          1,
          1,
          1,
          1,
          1,
          1,
          1,
          1,
          1,
          1,
          1,
          1,
          1,
          1,
          1,
          1,
          1,
          1,
          1,
          1,
          1,
          1,
          1,
          1,
          2,
          1,
          4,
          1,
          1,
          1,
          1,
          1,
          1,
          4,
          1,
          1,
          1.2472906403940887,
          1.2472906403940887,
          1,
          1,
          1,
          1,
          1,
          1,
          1,
          1,
          1,
          1,
          4,
          1,
          1,
          1,
          1,
          1,
          1,
          1,
          1,
          1.2472906403940887,
          1,
          1,
          1,
          1,
          6,
          1,
          1,
          1,
          1,
          1,
          1,
          1,
          1,
          1,
          1,
          1,
          1,
          1,
          1.2472906403940887,
          1,
          1,
          1,
          1.2472906403940887,
          1,
          1,
          1,
          1,
          1.2472906403940887,
          1,
          1,
          1.2472906403940887,
          1,
          1,
          1.2472906403940887,
          1.2472906403940887,
          1,
          1,
          1,
          1.2472906403940887,
          1,
          1,
          1,
          1,
          1,
          1.2472906403940887,
          1,
          2,
          2,
          1,
          1.2472906403940887,
          1,
          1,
          1,
          4,
          6,
          1,
          1,
          1.2472906403940887,
          1,
          1,
          1,
          1,
          1,
          1,
          1.2472906403940887,
          1,
          1,
          1,
          1.2472906403940887,
          1,
          1,
          1.2472906403940887,
          4,
          1,
          4,
          1,
          1,
          1,
          1,
          1,
          1,
          1,
          2,
          1,
          1,
          1,
          1,
          1,
          1.2472906403940887,
          1,
          1,
          1,
          1,
          1,
          1,
          2,
          1,
          1,
          1,
          1,
          1,
          4,
          1.2472906403940887,
          1,
          1,
          1,
          1,
          1,
          1,
          1.2472906403940887,
          1,
          1,
          1,
          1.2472906403940887,
          1,
          11,
          1,
          1.2472906403940887,
          1,
          1,
          1,
          1,
          1,
          1,
          1,
          1,
          1,
          1,
          1,
          1,
          1,
          2,
          1.2472906403940887,
          1,
          2,
          1,
          1.2472906403940887,
          1,
          1,
          1.2472906403940887,
          1,
          1,
          1,
          1,
          1,
          1,
          6,
          1,
          1.2472906403940887,
          1,
          1,
          1,
          1,
          1,
          1,
          1,
          1,
          1,
          1,
          3,
          1.2472906403940887,
          1,
          1.2472906403940887,
          1,
          2,
          1,
          1,
          1,
          1,
          1,
          2,
          1.2472906403940887,
          62,
          1.2472906403940887,
          1,
          1,
          1,
          1,
          1,
          1,
          1,
          1,
          1,
          1.2472906403940887,
          1,
          1.2472906403940887,
          1,
          1,
          1.2472906403940887,
          1,
          1,
          1,
          1,
          1,
          1,
          1,
          1,
          1,
          1,
          1,
          1,
          2,
          1,
          1,
          1,
          1,
          1,
          1,
          1,
          1,
          1,
          1,
          1,
          1,
          1.2472906403940887,
          4,
          1.2472906403940887,
          6,
          6,
          1,
          1,
          1,
          1,
          1,
          1,
          1,
          1,
          1,
          1.2472906403940887,
          11,
          1.2472906403940887,
          1,
          1,
          1.2472906403940887,
          1,
          6,
          1.2472906403940887,
          1.2472906403940887,
          1,
          1,
          1,
          1,
          1.2472906403940887,
          1,
          1,
          1,
          1,
          1.2472906403940887,
          6,
          1,
          1,
          1,
          2,
          1,
          1,
          1,
          1,
          1,
          1,
          1,
          1,
          1,
          1,
          1,
          1.2472906403940887,
          1,
          1,
          1,
          1,
          1,
          1,
          1,
          1.2472906403940887,
          1,
          1.2472906403940887,
          1,
          1,
          1,
          1,
          1.2472906403940887,
          1,
          1,
          1.2472906403940887,
          1,
          1.2472906403940887,
          1.2472906403940887,
          1,
          1,
          1,
          1,
          1,
          1,
          1,
          1,
          1,
          1,
          1,
          1.2472906403940887,
          1.2472906403940887,
          1.2472906403940887,
          1.2472906403940887,
          1,
          1.2472906403940887,
          1,
          1,
          1,
          1,
          1,
          1.2472906403940887,
          1,
          1,
          1,
          1,
          1,
          1,
          1,
          1,
          1,
          1,
          1.2472906403940887,
          1,
          1,
          1,
          2,
          1,
          1.2472906403940887,
          1,
          1,
          1.2472906403940887,
          1,
          1,
          1,
          1,
          1.2472906403940887,
          1,
          1,
          2,
          1,
          1,
          11,
          1,
          1,
          1,
          5,
          1,
          1,
          1,
          1,
          1,
          14,
          14,
          1,
          3,
          1,
          1,
          1.2472906403940887,
          1,
          1,
          1,
          1,
          1.2472906403940887,
          1,
          6,
          1,
          1,
          1,
          1,
          1,
          1.2472906403940887,
          1,
          1,
          1,
          1,
          1,
          1.2472906403940887,
          1,
          1,
          1,
          1.2472906403940887,
          1,
          6,
          1,
          1,
          1,
          1.2472906403940887,
          1,
          1,
          1,
          1.2472906403940887,
          1,
          1,
          1,
          1.2472906403940887,
          1,
          1,
          1,
          1,
          1,
          1,
          1,
          1,
          1,
          1,
          1.2472906403940887,
          1,
          1,
          1,
          1,
          1,
          1,
          1.2472906403940887,
          1,
          1,
          1,
          1,
          1.2472906403940887,
          1,
          1,
          1,
          1,
          1,
          1,
          1,
          1,
          1,
          1,
          1,
          1,
          1.2472906403940887,
          1,
          6,
          1,
          1,
          1,
          1,
          1,
          1,
          1,
          1,
          1,
          1,
          1.2472906403940887,
          1,
          1,
          1,
          1,
          1,
          1,
          1.2472906403940887,
          1.2472906403940887,
          1,
          1,
          1,
          1,
          1,
          1,
          1,
          1,
          1,
          1,
          1,
          1,
          1,
          27,
          1,
          1.2472906403940887,
          1,
          1,
          1,
          1,
          1,
          1,
          1,
          1,
          1,
          1,
          1,
          1.2472906403940887,
          1,
          1,
          1.2472906403940887,
          1.2472906403940887,
          1.2472906403940887,
          1.2472906403940887,
          1.2472906403940887,
          1.2472906403940887,
          1.2472906403940887,
          1,
          1,
          1.2472906403940887,
          1,
          1,
          1,
          1.2472906403940887,
          1,
          1,
          27,
          27,
          27,
          27,
          1.2472906403940887,
          2,
          1,
          27,
          1,
          1,
          1,
          1,
          1.2472906403940887,
          1,
          1,
          1,
          1,
          1,
          1.2472906403940887,
          1,
          1,
          1,
          1,
          1.2472906403940887,
          1,
          1,
          1,
          1,
          1.2472906403940887,
          1.2472906403940887,
          1,
          1.2472906403940887,
          1.2472906403940887,
          1.2472906403940887,
          1.2472906403940887,
          1.2472906403940887,
          1,
          1,
          1,
          1,
          2,
          1,
          1,
          1,
          1,
          1,
          4,
          1,
          27,
          27,
          1.2472906403940887,
          27,
          1,
          1,
          1,
          1,
          1,
          1,
          1,
          1,
          1,
          1,
          1,
          1.2472906403940887,
          5,
          5,
          5,
          1,
          1,
          1,
          1,
          1,
          1.2472906403940887,
          1,
          1,
          1,
          1,
          1.2472906403940887,
          1,
          1.2472906403940887,
          1,
          1,
          1,
          1.2472906403940887,
          1,
          1,
          1.2472906403940887,
          1,
          1,
          1.2472906403940887,
          1.2472906403940887,
          2,
          1,
          1,
          1,
          1,
          1,
          1,
          5,
          1,
          1,
          1,
          1,
          1.2472906403940887,
          1,
          1,
          1,
          1.2472906403940887,
          1,
          1.2472906403940887,
          1,
          1,
          1,
          1,
          1,
          1,
          1.2472906403940887,
          1,
          1,
          1,
          1,
          1,
          1.2472906403940887,
          1,
          1,
          1,
          1,
          1,
          1,
          1,
          1,
          1,
          1,
          1,
          1,
          1,
          1,
          1,
          2,
          1,
          1.2472906403940887,
          1,
          1,
          1,
          14,
          14,
          14,
          1,
          1,
          1,
          1,
          1,
          1,
          1,
          1,
          1,
          1.2472906403940887,
          1,
          1,
          1,
          1,
          1,
          6,
          1.2472906403940887,
          6,
          1.2472906403940887,
          1,
          1,
          1.2472906403940887,
          1,
          1,
          1,
          1,
          1,
          1,
          1,
          1,
          1,
          1,
          1,
          2,
          1,
          1,
          1,
          1.2472906403940887,
          1,
          1,
          1,
          1,
          1,
          1,
          2,
          1,
          1,
          2,
          5,
          5,
          1.2472906403940887,
          1,
          1.2472906403940887,
          1,
          1,
          1.2472906403940887,
          1,
          1,
          2,
          3,
          1,
          1,
          1,
          1,
          1,
          6,
          1.2472906403940887,
          1,
          1,
          1,
          1,
          1,
          11,
          1.2472906403940887,
          1,
          1,
          2,
          2,
          1,
          3,
          3,
          3,
          1,
          1,
          1,
          1,
          1.2472906403940887,
          1,
          1,
          1,
          1,
          1,
          1,
          1,
          1,
          1.2472906403940887,
          1,
          1,
          1,
          1,
          1,
          1.2472906403940887,
          1,
          1,
          1.2472906403940887,
          1.2472906403940887,
          1,
          1,
          1,
          1,
          1,
          1,
          1.2472906403940887,
          1,
          1.2472906403940887,
          1,
          1,
          1,
          1,
          1,
          1,
          1,
          1,
          1,
          1,
          1,
          1,
          1,
          1,
          1,
          1,
          1,
          1,
          1.2472906403940887,
          1,
          1,
          1.2472906403940887,
          1,
          1.2472906403940887,
          1.2472906403940887,
          1.2472906403940887,
          1.2472906403940887,
          1,
          1,
          1,
          1,
          1,
          1,
          1,
          1,
          1,
          1,
          1.2472906403940887,
          6,
          1.2472906403940887,
          6,
          1,
          1,
          4,
          1,
          1,
          4,
          1.2472906403940887,
          1,
          1,
          1.2472906403940887,
          1,
          1,
          1,
          2,
          1,
          1,
          1,
          1,
          1.2472906403940887,
          1,
          1,
          1,
          1,
          1,
          1,
          1,
          1,
          1,
          1,
          1,
          1,
          1,
          1,
          1.2472906403940887,
          1,
          1,
          1,
          1,
          1,
          1,
          1.2472906403940887,
          27,
          27,
          27,
          27,
          1,
          1,
          1,
          1,
          1.2472906403940887,
          1.2472906403940887,
          1.2472906403940887,
          1,
          1.2472906403940887,
          1,
          1,
          1,
          27,
          1,
          27,
          27,
          27,
          1,
          27,
          27,
          27,
          27,
          1,
          1,
          1.2472906403940887,
          1,
          1.2472906403940887,
          1,
          1,
          1.2472906403940887,
          1.2472906403940887,
          1.2472906403940887,
          27,
          1,
          1,
          1,
          1,
          1,
          1,
          1,
          3,
          1.2472906403940887,
          1,
          1,
          1,
          1.2472906403940887,
          1,
          1,
          1,
          1,
          1,
          1,
          1,
          1,
          1.2472906403940887,
          1,
          5,
          27,
          27,
          27,
          27,
          27,
          1,
          1,
          1.2472906403940887,
          1,
          1.2472906403940887,
          1.2472906403940887,
          1,
          1,
          1,
          1,
          4,
          1,
          3,
          1,
          1,
          1,
          1,
          2,
          8,
          1,
          3,
          6,
          6,
          6,
          1,
          5,
          5,
          6,
          2,
          1,
          1,
          1,
          2,
          1,
          1,
          1,
          5,
          5,
          1,
          3,
          1,
          1,
          1.2472906403940887,
          1,
          1,
          1,
          1,
          5,
          1,
          1,
          3,
          3,
          3,
          1,
          1,
          1,
          6,
          1,
          2,
          1.2472906403940887,
          1,
          1.2472906403940887,
          1,
          1,
          1,
          1.2472906403940887,
          1,
          1,
          1.2472906403940887,
          1.2472906403940887,
          11,
          1,
          1,
          1,
          1,
          1,
          6,
          1,
          1,
          1,
          5,
          5,
          5,
          5,
          5,
          5,
          5,
          5,
          1,
          1,
          1,
          1,
          1,
          1,
          1,
          1,
          1,
          1,
          1,
          1.2472906403940887,
          1,
          2,
          1.2472906403940887,
          4,
          3,
          1,
          1,
          1,
          1,
          1,
          1,
          1.2472906403940887,
          1.2472906403940887,
          1.2472906403940887,
          1.2472906403940887,
          1,
          1,
          1.2472906403940887,
          1.2472906403940887,
          1,
          1,
          1,
          1,
          1,
          1,
          1,
          1,
          1,
          1,
          1,
          1,
          1,
          1,
          1,
          1,
          1,
          1,
          1,
          1,
          1,
          1,
          1,
          1,
          1,
          1.2472906403940887,
          1
         ],
         "yaxis": "y"
        }
       ],
       "layout": {
        "coloraxis": {
         "colorbar": {
          "title": {
           "text": "multipool_ratio"
          }
         },
         "colorscale": [
          [
           0,
           "#0d0887"
          ],
          [
           0.1111111111111111,
           "#46039f"
          ],
          [
           0.2222222222222222,
           "#7201a8"
          ],
          [
           0.3333333333333333,
           "#9c179e"
          ],
          [
           0.4444444444444444,
           "#bd3786"
          ],
          [
           0.5555555555555556,
           "#d8576b"
          ],
          [
           0.6666666666666666,
           "#ed7953"
          ],
          [
           0.7777777777777778,
           "#fb9f3a"
          ],
          [
           0.8888888888888888,
           "#fdca26"
          ],
          [
           1,
           "#f0f921"
          ]
         ]
        },
        "legend": {
         "itemsizing": "constant",
         "tracegroupgap": 0
        },
        "margin": {
         "t": 60
        },
        "template": {
         "data": {
          "bar": [
           {
            "error_x": {
             "color": "#2a3f5f"
            },
            "error_y": {
             "color": "#2a3f5f"
            },
            "marker": {
             "line": {
              "color": "#E5ECF6",
              "width": 0.5
             },
             "pattern": {
              "fillmode": "overlay",
              "size": 10,
              "solidity": 0.2
             }
            },
            "type": "bar"
           }
          ],
          "barpolar": [
           {
            "marker": {
             "line": {
              "color": "#E5ECF6",
              "width": 0.5
             },
             "pattern": {
              "fillmode": "overlay",
              "size": 10,
              "solidity": 0.2
             }
            },
            "type": "barpolar"
           }
          ],
          "carpet": [
           {
            "aaxis": {
             "endlinecolor": "#2a3f5f",
             "gridcolor": "white",
             "linecolor": "white",
             "minorgridcolor": "white",
             "startlinecolor": "#2a3f5f"
            },
            "baxis": {
             "endlinecolor": "#2a3f5f",
             "gridcolor": "white",
             "linecolor": "white",
             "minorgridcolor": "white",
             "startlinecolor": "#2a3f5f"
            },
            "type": "carpet"
           }
          ],
          "choropleth": [
           {
            "colorbar": {
             "outlinewidth": 0,
             "ticks": ""
            },
            "type": "choropleth"
           }
          ],
          "contour": [
           {
            "colorbar": {
             "outlinewidth": 0,
             "ticks": ""
            },
            "colorscale": [
             [
              0,
              "#0d0887"
             ],
             [
              0.1111111111111111,
              "#46039f"
             ],
             [
              0.2222222222222222,
              "#7201a8"
             ],
             [
              0.3333333333333333,
              "#9c179e"
             ],
             [
              0.4444444444444444,
              "#bd3786"
             ],
             [
              0.5555555555555556,
              "#d8576b"
             ],
             [
              0.6666666666666666,
              "#ed7953"
             ],
             [
              0.7777777777777778,
              "#fb9f3a"
             ],
             [
              0.8888888888888888,
              "#fdca26"
             ],
             [
              1,
              "#f0f921"
             ]
            ],
            "type": "contour"
           }
          ],
          "contourcarpet": [
           {
            "colorbar": {
             "outlinewidth": 0,
             "ticks": ""
            },
            "type": "contourcarpet"
           }
          ],
          "heatmap": [
           {
            "colorbar": {
             "outlinewidth": 0,
             "ticks": ""
            },
            "colorscale": [
             [
              0,
              "#0d0887"
             ],
             [
              0.1111111111111111,
              "#46039f"
             ],
             [
              0.2222222222222222,
              "#7201a8"
             ],
             [
              0.3333333333333333,
              "#9c179e"
             ],
             [
              0.4444444444444444,
              "#bd3786"
             ],
             [
              0.5555555555555556,
              "#d8576b"
             ],
             [
              0.6666666666666666,
              "#ed7953"
             ],
             [
              0.7777777777777778,
              "#fb9f3a"
             ],
             [
              0.8888888888888888,
              "#fdca26"
             ],
             [
              1,
              "#f0f921"
             ]
            ],
            "type": "heatmap"
           }
          ],
          "heatmapgl": [
           {
            "colorbar": {
             "outlinewidth": 0,
             "ticks": ""
            },
            "colorscale": [
             [
              0,
              "#0d0887"
             ],
             [
              0.1111111111111111,
              "#46039f"
             ],
             [
              0.2222222222222222,
              "#7201a8"
             ],
             [
              0.3333333333333333,
              "#9c179e"
             ],
             [
              0.4444444444444444,
              "#bd3786"
             ],
             [
              0.5555555555555556,
              "#d8576b"
             ],
             [
              0.6666666666666666,
              "#ed7953"
             ],
             [
              0.7777777777777778,
              "#fb9f3a"
             ],
             [
              0.8888888888888888,
              "#fdca26"
             ],
             [
              1,
              "#f0f921"
             ]
            ],
            "type": "heatmapgl"
           }
          ],
          "histogram": [
           {
            "marker": {
             "pattern": {
              "fillmode": "overlay",
              "size": 10,
              "solidity": 0.2
             }
            },
            "type": "histogram"
           }
          ],
          "histogram2d": [
           {
            "colorbar": {
             "outlinewidth": 0,
             "ticks": ""
            },
            "colorscale": [
             [
              0,
              "#0d0887"
             ],
             [
              0.1111111111111111,
              "#46039f"
             ],
             [
              0.2222222222222222,
              "#7201a8"
             ],
             [
              0.3333333333333333,
              "#9c179e"
             ],
             [
              0.4444444444444444,
              "#bd3786"
             ],
             [
              0.5555555555555556,
              "#d8576b"
             ],
             [
              0.6666666666666666,
              "#ed7953"
             ],
             [
              0.7777777777777778,
              "#fb9f3a"
             ],
             [
              0.8888888888888888,
              "#fdca26"
             ],
             [
              1,
              "#f0f921"
             ]
            ],
            "type": "histogram2d"
           }
          ],
          "histogram2dcontour": [
           {
            "colorbar": {
             "outlinewidth": 0,
             "ticks": ""
            },
            "colorscale": [
             [
              0,
              "#0d0887"
             ],
             [
              0.1111111111111111,
              "#46039f"
             ],
             [
              0.2222222222222222,
              "#7201a8"
             ],
             [
              0.3333333333333333,
              "#9c179e"
             ],
             [
              0.4444444444444444,
              "#bd3786"
             ],
             [
              0.5555555555555556,
              "#d8576b"
             ],
             [
              0.6666666666666666,
              "#ed7953"
             ],
             [
              0.7777777777777778,
              "#fb9f3a"
             ],
             [
              0.8888888888888888,
              "#fdca26"
             ],
             [
              1,
              "#f0f921"
             ]
            ],
            "type": "histogram2dcontour"
           }
          ],
          "mesh3d": [
           {
            "colorbar": {
             "outlinewidth": 0,
             "ticks": ""
            },
            "type": "mesh3d"
           }
          ],
          "parcoords": [
           {
            "line": {
             "colorbar": {
              "outlinewidth": 0,
              "ticks": ""
             }
            },
            "type": "parcoords"
           }
          ],
          "pie": [
           {
            "automargin": true,
            "type": "pie"
           }
          ],
          "scatter": [
           {
            "marker": {
             "colorbar": {
              "outlinewidth": 0,
              "ticks": ""
             }
            },
            "type": "scatter"
           }
          ],
          "scatter3d": [
           {
            "line": {
             "colorbar": {
              "outlinewidth": 0,
              "ticks": ""
             }
            },
            "marker": {
             "colorbar": {
              "outlinewidth": 0,
              "ticks": ""
             }
            },
            "type": "scatter3d"
           }
          ],
          "scattercarpet": [
           {
            "marker": {
             "colorbar": {
              "outlinewidth": 0,
              "ticks": ""
             }
            },
            "type": "scattercarpet"
           }
          ],
          "scattergeo": [
           {
            "marker": {
             "colorbar": {
              "outlinewidth": 0,
              "ticks": ""
             }
            },
            "type": "scattergeo"
           }
          ],
          "scattergl": [
           {
            "marker": {
             "colorbar": {
              "outlinewidth": 0,
              "ticks": ""
             }
            },
            "type": "scattergl"
           }
          ],
          "scattermapbox": [
           {
            "marker": {
             "colorbar": {
              "outlinewidth": 0,
              "ticks": ""
             }
            },
            "type": "scattermapbox"
           }
          ],
          "scatterpolar": [
           {
            "marker": {
             "colorbar": {
              "outlinewidth": 0,
              "ticks": ""
             }
            },
            "type": "scatterpolar"
           }
          ],
          "scatterpolargl": [
           {
            "marker": {
             "colorbar": {
              "outlinewidth": 0,
              "ticks": ""
             }
            },
            "type": "scatterpolargl"
           }
          ],
          "scatterternary": [
           {
            "marker": {
             "colorbar": {
              "outlinewidth": 0,
              "ticks": ""
             }
            },
            "type": "scatterternary"
           }
          ],
          "surface": [
           {
            "colorbar": {
             "outlinewidth": 0,
             "ticks": ""
            },
            "colorscale": [
             [
              0,
              "#0d0887"
             ],
             [
              0.1111111111111111,
              "#46039f"
             ],
             [
              0.2222222222222222,
              "#7201a8"
             ],
             [
              0.3333333333333333,
              "#9c179e"
             ],
             [
              0.4444444444444444,
              "#bd3786"
             ],
             [
              0.5555555555555556,
              "#d8576b"
             ],
             [
              0.6666666666666666,
              "#ed7953"
             ],
             [
              0.7777777777777778,
              "#fb9f3a"
             ],
             [
              0.8888888888888888,
              "#fdca26"
             ],
             [
              1,
              "#f0f921"
             ]
            ],
            "type": "surface"
           }
          ],
          "table": [
           {
            "cells": {
             "fill": {
              "color": "#EBF0F8"
             },
             "line": {
              "color": "white"
             }
            },
            "header": {
             "fill": {
              "color": "#C8D4E3"
             },
             "line": {
              "color": "white"
             }
            },
            "type": "table"
           }
          ]
         },
         "layout": {
          "annotationdefaults": {
           "arrowcolor": "#2a3f5f",
           "arrowhead": 0,
           "arrowwidth": 1
          },
          "autotypenumbers": "strict",
          "coloraxis": {
           "colorbar": {
            "outlinewidth": 0,
            "ticks": ""
           }
          },
          "colorscale": {
           "diverging": [
            [
             0,
             "#8e0152"
            ],
            [
             0.1,
             "#c51b7d"
            ],
            [
             0.2,
             "#de77ae"
            ],
            [
             0.3,
             "#f1b6da"
            ],
            [
             0.4,
             "#fde0ef"
            ],
            [
             0.5,
             "#f7f7f7"
            ],
            [
             0.6,
             "#e6f5d0"
            ],
            [
             0.7,
             "#b8e186"
            ],
            [
             0.8,
             "#7fbc41"
            ],
            [
             0.9,
             "#4d9221"
            ],
            [
             1,
             "#276419"
            ]
           ],
           "sequential": [
            [
             0,
             "#0d0887"
            ],
            [
             0.1111111111111111,
             "#46039f"
            ],
            [
             0.2222222222222222,
             "#7201a8"
            ],
            [
             0.3333333333333333,
             "#9c179e"
            ],
            [
             0.4444444444444444,
             "#bd3786"
            ],
            [
             0.5555555555555556,
             "#d8576b"
            ],
            [
             0.6666666666666666,
             "#ed7953"
            ],
            [
             0.7777777777777778,
             "#fb9f3a"
            ],
            [
             0.8888888888888888,
             "#fdca26"
            ],
            [
             1,
             "#f0f921"
            ]
           ],
           "sequentialminus": [
            [
             0,
             "#0d0887"
            ],
            [
             0.1111111111111111,
             "#46039f"
            ],
            [
             0.2222222222222222,
             "#7201a8"
            ],
            [
             0.3333333333333333,
             "#9c179e"
            ],
            [
             0.4444444444444444,
             "#bd3786"
            ],
            [
             0.5555555555555556,
             "#d8576b"
            ],
            [
             0.6666666666666666,
             "#ed7953"
            ],
            [
             0.7777777777777778,
             "#fb9f3a"
            ],
            [
             0.8888888888888888,
             "#fdca26"
            ],
            [
             1,
             "#f0f921"
            ]
           ]
          },
          "colorway": [
           "#636efa",
           "#EF553B",
           "#00cc96",
           "#ab63fa",
           "#FFA15A",
           "#19d3f3",
           "#FF6692",
           "#B6E880",
           "#FF97FF",
           "#FECB52"
          ],
          "font": {
           "color": "#2a3f5f"
          },
          "geo": {
           "bgcolor": "white",
           "lakecolor": "white",
           "landcolor": "#E5ECF6",
           "showlakes": true,
           "showland": true,
           "subunitcolor": "white"
          },
          "hoverlabel": {
           "align": "left"
          },
          "hovermode": "closest",
          "mapbox": {
           "style": "light"
          },
          "paper_bgcolor": "white",
          "plot_bgcolor": "#E5ECF6",
          "polar": {
           "angularaxis": {
            "gridcolor": "white",
            "linecolor": "white",
            "ticks": ""
           },
           "bgcolor": "#E5ECF6",
           "radialaxis": {
            "gridcolor": "white",
            "linecolor": "white",
            "ticks": ""
           }
          },
          "scene": {
           "xaxis": {
            "backgroundcolor": "#E5ECF6",
            "gridcolor": "white",
            "gridwidth": 2,
            "linecolor": "white",
            "showbackground": true,
            "ticks": "",
            "zerolinecolor": "white"
           },
           "yaxis": {
            "backgroundcolor": "#E5ECF6",
            "gridcolor": "white",
            "gridwidth": 2,
            "linecolor": "white",
            "showbackground": true,
            "ticks": "",
            "zerolinecolor": "white"
           },
           "zaxis": {
            "backgroundcolor": "#E5ECF6",
            "gridcolor": "white",
            "gridwidth": 2,
            "linecolor": "white",
            "showbackground": true,
            "ticks": "",
            "zerolinecolor": "white"
           }
          },
          "shapedefaults": {
           "line": {
            "color": "#2a3f5f"
           }
          },
          "ternary": {
           "aaxis": {
            "gridcolor": "white",
            "linecolor": "white",
            "ticks": ""
           },
           "baxis": {
            "gridcolor": "white",
            "linecolor": "white",
            "ticks": ""
           },
           "bgcolor": "#E5ECF6",
           "caxis": {
            "gridcolor": "white",
            "linecolor": "white",
            "ticks": ""
           }
          },
          "title": {
           "x": 0.05
          },
          "xaxis": {
           "automargin": true,
           "gridcolor": "white",
           "linecolor": "white",
           "ticks": "",
           "title": {
            "standoff": 15
           },
           "zerolinecolor": "white",
           "zerolinewidth": 2
          },
          "yaxis": {
           "automargin": true,
           "gridcolor": "white",
           "linecolor": "white",
           "ticks": "",
           "title": {
            "standoff": 15
           },
           "zerolinecolor": "white",
           "zerolinewidth": 2
          }
         }
        },
        "xaxis": {
         "anchor": "y",
         "domain": [
          0,
          1
         ],
         "title": {
          "text": "centralization_value"
         }
        },
        "yaxis": {
         "anchor": "x",
         "domain": [
          0,
          1
         ],
         "title": {
          "text": "number_of_pools"
         }
        }
       }
      }
     },
     "metadata": {},
     "output_type": "display_data"
    }
   ],
   "source": [
    "fig = px.scatter(df_copy, x='centralization_value', y='number_of_pools', color='multipool_ratio', size='number_of_pools', hover_data=['ticker'])\n",
    "fig.show()"
   ]
  },
  {
   "cell_type": "code",
   "execution_count": null,
   "metadata": {},
   "outputs": [],
   "source": []
  }
 ],
 "metadata": {
  "interpreter": {
   "hash": "71a871210673e5e8ba97a6a6f585f3f24a608c94c27748339ca3a612499a60e8"
  },
  "kernelspec": {
   "display_name": "Python 3.9.7 64-bit ('base': conda)",
   "language": "python",
   "name": "python3"
  },
  "language_info": {
   "codemirror_mode": {
    "name": "ipython",
    "version": 3
   },
   "file_extension": ".py",
   "mimetype": "text/x-python",
   "name": "python",
   "nbconvert_exporter": "python",
   "pygments_lexer": "ipython3",
   "version": "3.9.7"
  },
  "orig_nbformat": 4
 },
 "nbformat": 4,
 "nbformat_minor": 2
}
